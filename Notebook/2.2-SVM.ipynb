{
 "cells": [
  {
   "cell_type": "markdown",
   "id": "intensive-factory",
   "metadata": {},
   "source": [
    "# Model Selection : Support Vector Machine (SVM) Classifier\n",
    "\n",
    "Consists of creating an hyperplane that divides the instances in space.\n",
    "\n",
    "This method is effective with highly dimentional problems."
   ]
  },
  {
   "cell_type": "code",
   "execution_count": 1,
   "id": "hazardous-resource",
   "metadata": {},
   "outputs": [],
   "source": [
    "library(e1071)\n",
    "training_set <- read.csv(\"../Data/PreProcess/processed_training_data_split.csv\")\n",
    "validation_set <- read.csv(\"../Data/PreProcess/processed_verification_data_split.csv\")"
   ]
  },
  {
   "cell_type": "code",
   "execution_count": 2,
   "id": "christian-advantage",
   "metadata": {},
   "outputs": [],
   "source": [
    "column_to_drop<-c(\"X.1\",\"X\")\n",
    "training_set<-training_set[,!(names(training_set) %in% column_to_drop)] # drop the desired columns\n",
    "validation_set<-validation_set[,!(names(validation_set) %in% column_to_drop)] # drop the desired columns"
   ]
  },
  {
   "cell_type": "code",
   "execution_count": 3,
   "id": "warming-harris",
   "metadata": {},
   "outputs": [
    {
     "data": {
      "text/html": [
       "<table class=\"dataframe\">\n",
       "<caption>A data.frame: 47289 × 84</caption>\n",
       "<thead>\n",
       "\t<tr><th scope=col>id</th><th scope=col>population</th><th scope=col>permit</th><th scope=col>construction_year</th><th scope=col>quality_group</th><th scope=col>quantity</th><th scope=col>Internal</th><th scope=col>Lake.Nyasa</th><th scope=col>Lake.Rukwa</th><th scope=col>Lake.Tanganyika</th><th scope=col>⋯</th><th scope=col>X18</th><th scope=col>X19</th><th scope=col>X20</th><th scope=col>X21</th><th scope=col>X24</th><th scope=col>X40</th><th scope=col>X60</th><th scope=col>X80</th><th scope=col>X90</th><th scope=col>X99</th></tr>\n",
       "\t<tr><th scope=col>&lt;fct&gt;</th><th scope=col>&lt;dbl&gt;</th><th scope=col>&lt;dbl&gt;</th><th scope=col>&lt;dbl&gt;</th><th scope=col>&lt;dbl&gt;</th><th scope=col>&lt;dbl&gt;</th><th scope=col>&lt;int&gt;</th><th scope=col>&lt;int&gt;</th><th scope=col>&lt;int&gt;</th><th scope=col>&lt;int&gt;</th><th scope=col>⋯</th><th scope=col>&lt;int&gt;</th><th scope=col>&lt;int&gt;</th><th scope=col>&lt;int&gt;</th><th scope=col>&lt;int&gt;</th><th scope=col>&lt;int&gt;</th><th scope=col>&lt;int&gt;</th><th scope=col>&lt;int&gt;</th><th scope=col>&lt;int&gt;</th><th scope=col>&lt;int&gt;</th><th scope=col>&lt;int&gt;</th></tr>\n",
       "</thead>\n",
       "<tbody>\n",
       "\t<tr><td>functional             </td><td>-0.07262067</td><td> 0.6889358</td><td>-1.2105682</td><td> 0.3440186</td><td> 0.81768317</td><td>0</td><td>0</td><td>0</td><td>0</td><td>⋯</td><td>0</td><td>0</td><td>0</td><td>1</td><td>0</td><td>0</td><td>0</td><td>0</td><td>0</td><td>0</td></tr>\n",
       "\t<tr><td>functional             </td><td>-0.08339009</td><td> 0.6889358</td><td> 0.0000000</td><td> 0.3440186</td><td>-0.08578228</td><td>0</td><td>0</td><td>0</td><td>0</td><td>⋯</td><td>1</td><td>0</td><td>0</td><td>0</td><td>0</td><td>0</td><td>0</td><td>0</td><td>0</td><td>0</td></tr>\n",
       "\t<tr><td>functional             </td><td>-0.61825111</td><td> 0.6889358</td><td>-1.2105682</td><td>-3.1172670</td><td> 0.81768317</td><td>0</td><td>0</td><td>0</td><td>0</td><td>⋯</td><td>0</td><td>0</td><td>0</td><td>0</td><td>0</td><td>0</td><td>0</td><td>0</td><td>0</td><td>0</td></tr>\n",
       "\t<tr><td>non functional         </td><td>-0.07624876</td><td> 0.6889358</td><td> 0.0000000</td><td> 0.3440186</td><td> 0.81768317</td><td>1</td><td>0</td><td>0</td><td>0</td><td>⋯</td><td>0</td><td>0</td><td>0</td><td>0</td><td>0</td><td>0</td><td>0</td><td>0</td><td>0</td><td>0</td></tr>\n",
       "\t<tr><td>non functional         </td><td>-0.07624876</td><td> 0.6889358</td><td> 0.0000000</td><td>-0.8097433</td><td> 0.81768317</td><td>0</td><td>0</td><td>0</td><td>1</td><td>⋯</td><td>0</td><td>0</td><td>0</td><td>0</td><td>0</td><td>0</td><td>0</td><td>0</td><td>0</td><td>0</td></tr>\n",
       "\t<tr><td>non functional         </td><td> 0.48793255</td><td> 0.6889358</td><td> 0.0000000</td><td>-3.1172670</td><td>-0.08578228</td><td>0</td><td>0</td><td>0</td><td>1</td><td>⋯</td><td>0</td><td>0</td><td>0</td><td>0</td><td>0</td><td>0</td><td>0</td><td>0</td><td>0</td><td>0</td></tr>\n",
       "\t<tr><td>functional             </td><td>-0.08339009</td><td> 0.6889358</td><td> 0.0000000</td><td> 0.3440186</td><td> 0.81768317</td><td>0</td><td>0</td><td>0</td><td>0</td><td>⋯</td><td>1</td><td>0</td><td>0</td><td>0</td><td>0</td><td>0</td><td>0</td><td>0</td><td>0</td><td>0</td></tr>\n",
       "\t<tr><td>functional             </td><td> 0.13555158</td><td>-1.5302158</td><td>-1.4092612</td><td>-3.1172670</td><td> 0.81768317</td><td>0</td><td>0</td><td>0</td><td>0</td><td>⋯</td><td>0</td><td>0</td><td>0</td><td>0</td><td>0</td><td>0</td><td>1</td><td>0</td><td>0</td><td>0</td></tr>\n",
       "\t<tr><td>functional             </td><td>-0.07262067</td><td>-1.5302158</td><td> 0.9750546</td><td> 0.3440186</td><td>-0.98924773</td><td>0</td><td>1</td><td>0</td><td>0</td><td>⋯</td><td>0</td><td>0</td><td>0</td><td>0</td><td>0</td><td>0</td><td>0</td><td>0</td><td>0</td><td>0</td></tr>\n",
       "\t<tr><td>functional             </td><td>-0.61825111</td><td> 0.6889358</td><td>-1.2105682</td><td> 0.3440186</td><td> 0.81768317</td><td>0</td><td>0</td><td>0</td><td>0</td><td>⋯</td><td>0</td><td>0</td><td>0</td><td>0</td><td>0</td><td>0</td><td>0</td><td>0</td><td>0</td><td>0</td></tr>\n",
       "\t<tr><td>functional             </td><td>-0.07624876</td><td> 0.6889358</td><td> 0.0000000</td><td> 0.3440186</td><td> 0.81768317</td><td>1</td><td>0</td><td>0</td><td>0</td><td>⋯</td><td>0</td><td>0</td><td>0</td><td>0</td><td>0</td><td>0</td><td>0</td><td>0</td><td>0</td><td>0</td></tr>\n",
       "\t<tr><td>non functional         </td><td>-0.51087805</td><td> 0.6889358</td><td> 1.8691730</td><td> 0.3440186</td><td>-1.89271317</td><td>0</td><td>0</td><td>0</td><td>0</td><td>⋯</td><td>0</td><td>0</td><td>0</td><td>0</td><td>0</td><td>0</td><td>0</td><td>0</td><td>0</td><td>0</td></tr>\n",
       "\t<tr><td>functional needs repair</td><td> 1.57084450</td><td> 0.6889358</td><td>-0.2171033</td><td>-0.8097433</td><td>-0.98924773</td><td>0</td><td>0</td><td>0</td><td>0</td><td>⋯</td><td>0</td><td>1</td><td>0</td><td>0</td><td>0</td><td>0</td><td>0</td><td>0</td><td>0</td><td>0</td></tr>\n",
       "\t<tr><td>functional             </td><td>-0.61825111</td><td> 0.6889358</td><td> 0.4783221</td><td> 0.3440186</td><td> 0.81768317</td><td>0</td><td>1</td><td>0</td><td>0</td><td>⋯</td><td>0</td><td>0</td><td>0</td><td>0</td><td>0</td><td>0</td><td>0</td><td>0</td><td>0</td><td>0</td></tr>\n",
       "\t<tr><td>functional             </td><td>-0.07624876</td><td>-1.5302158</td><td> 0.0000000</td><td> 0.0000000</td><td> 0.00000000</td><td>0</td><td>0</td><td>0</td><td>0</td><td>⋯</td><td>0</td><td>0</td><td>0</td><td>0</td><td>0</td><td>0</td><td>0</td><td>0</td><td>0</td><td>0</td></tr>\n",
       "\t<tr><td>functional             </td><td>-0.27860164</td><td> 0.6889358</td><td>-1.2105682</td><td> 0.3440186</td><td> 0.81768317</td><td>0</td><td>0</td><td>0</td><td>1</td><td>⋯</td><td>0</td><td>0</td><td>0</td><td>0</td><td>0</td><td>0</td><td>0</td><td>0</td><td>0</td><td>0</td></tr>\n",
       "\t<tr><td>functional needs repair</td><td>-0.31366223</td><td> 0.6889358</td><td> 2.2665590</td><td> 0.3440186</td><td> 0.81768317</td><td>0</td><td>0</td><td>0</td><td>0</td><td>⋯</td><td>0</td><td>0</td><td>0</td><td>0</td><td>0</td><td>0</td><td>0</td><td>0</td><td>0</td><td>0</td></tr>\n",
       "\t<tr><td>functional             </td><td>-0.05070781</td><td>-1.5302158</td><td>-1.4092612</td><td> 0.3440186</td><td> 0.81768317</td><td>0</td><td>0</td><td>0</td><td>0</td><td>⋯</td><td>0</td><td>0</td><td>0</td><td>0</td><td>0</td><td>0</td><td>0</td><td>1</td><td>0</td><td>0</td></tr>\n",
       "\t<tr><td>non functional         </td><td>-0.61825111</td><td> 0.6889358</td><td>-0.3164498</td><td> 0.3440186</td><td>-0.98924773</td><td>0</td><td>0</td><td>0</td><td>0</td><td>⋯</td><td>0</td><td>0</td><td>0</td><td>0</td><td>0</td><td>0</td><td>0</td><td>0</td><td>0</td><td>0</td></tr>\n",
       "\t<tr><td>functional             </td><td>-0.35555295</td><td> 0.6889358</td><td> 0.0000000</td><td> 0.3440186</td><td>-0.98924773</td><td>0</td><td>0</td><td>0</td><td>0</td><td>⋯</td><td>0</td><td>0</td><td>0</td><td>0</td><td>0</td><td>0</td><td>0</td><td>0</td><td>0</td><td>0</td></tr>\n",
       "\t<tr><td>functional needs repair</td><td>-0.22601076</td><td> 0.6889358</td><td> 2.4652519</td><td> 0.3440186</td><td>-0.98924773</td><td>0</td><td>0</td><td>0</td><td>0</td><td>⋯</td><td>0</td><td>0</td><td>0</td><td>0</td><td>0</td><td>0</td><td>0</td><td>0</td><td>0</td><td>0</td></tr>\n",
       "\t<tr><td>functional             </td><td>-0.46705232</td><td>-1.5302158</td><td> 0.4783221</td><td> 0.3440186</td><td>-0.08578228</td><td>0</td><td>1</td><td>0</td><td>0</td><td>⋯</td><td>0</td><td>0</td><td>0</td><td>0</td><td>0</td><td>0</td><td>0</td><td>0</td><td>0</td><td>0</td></tr>\n",
       "\t<tr><td>functional             </td><td>-0.40131371</td><td>-1.5302158</td><td> 0.0000000</td><td>-3.1172670</td><td> 0.81768317</td><td>0</td><td>0</td><td>0</td><td>0</td><td>⋯</td><td>0</td><td>0</td><td>0</td><td>0</td><td>0</td><td>0</td><td>1</td><td>0</td><td>0</td><td>0</td></tr>\n",
       "\t<tr><td>non functional         </td><td> 0.20251462</td><td> 0.6889358</td><td> 0.0000000</td><td> 0.3440186</td><td>-1.89271317</td><td>0</td><td>1</td><td>0</td><td>0</td><td>⋯</td><td>0</td><td>0</td><td>0</td><td>0</td><td>0</td><td>0</td><td>0</td><td>0</td><td>0</td><td>0</td></tr>\n",
       "\t<tr><td>functional             </td><td>-0.35555295</td><td>-1.5302158</td><td> 0.0000000</td><td> 0.3440186</td><td> 0.81768317</td><td>1</td><td>0</td><td>0</td><td>0</td><td>⋯</td><td>0</td><td>0</td><td>0</td><td>0</td><td>0</td><td>0</td><td>0</td><td>0</td><td>0</td><td>0</td></tr>\n",
       "\t<tr><td>non functional         </td><td>-0.11644641</td><td>-1.5302158</td><td>-0.5151428</td><td> 0.3440186</td><td>-0.08578228</td><td>0</td><td>0</td><td>0</td><td>1</td><td>⋯</td><td>0</td><td>0</td><td>0</td><td>0</td><td>0</td><td>0</td><td>0</td><td>0</td><td>0</td><td>0</td></tr>\n",
       "\t<tr><td>functional             </td><td>-0.51087805</td><td> 0.6889358</td><td>-1.1112217</td><td> 0.3440186</td><td> 0.81768317</td><td>0</td><td>0</td><td>0</td><td>0</td><td>⋯</td><td>0</td><td>0</td><td>0</td><td>0</td><td>0</td><td>0</td><td>0</td><td>0</td><td>0</td><td>0</td></tr>\n",
       "\t<tr><td>functional             </td><td>-0.38871844</td><td>-1.5302158</td><td> 1.0744011</td><td> 0.3440186</td><td> 0.81768317</td><td>0</td><td>1</td><td>0</td><td>0</td><td>⋯</td><td>0</td><td>0</td><td>0</td><td>0</td><td>0</td><td>0</td><td>0</td><td>0</td><td>0</td><td>0</td></tr>\n",
       "\t<tr><td>functional             </td><td>-0.07262067</td><td> 0.6889358</td><td>-1.4092612</td><td> 0.3440186</td><td> 0.81768317</td><td>0</td><td>0</td><td>0</td><td>0</td><td>⋯</td><td>0</td><td>0</td><td>0</td><td>0</td><td>0</td><td>0</td><td>0</td><td>0</td><td>0</td><td>0</td></tr>\n",
       "\t<tr><td>functional needs repair</td><td>-0.40131371</td><td> 0.6889358</td><td>-0.3164498</td><td> 0.3440186</td><td>-0.98924773</td><td>0</td><td>0</td><td>0</td><td>0</td><td>⋯</td><td>0</td><td>0</td><td>0</td><td>0</td><td>0</td><td>0</td><td>0</td><td>0</td><td>0</td><td>0</td></tr>\n",
       "\t<tr><td>⋮</td><td>⋮</td><td>⋮</td><td>⋮</td><td>⋮</td><td>⋮</td><td>⋮</td><td>⋮</td><td>⋮</td><td>⋮</td><td>⋱</td><td>⋮</td><td>⋮</td><td>⋮</td><td>⋮</td><td>⋮</td><td>⋮</td><td>⋮</td><td>⋮</td><td>⋮</td><td>⋮</td></tr>\n",
       "\t<tr><td>functional    </td><td>-0.48896519</td><td>-1.5302158</td><td>-1.0118752</td><td> 0.3440186</td><td>-0.9892477</td><td>0</td><td>1</td><td>0</td><td>0</td><td>⋯</td><td>0</td><td>0</td><td>0</td><td>0</td><td>0</td><td>0</td><td>0</td><td>0</td><td>0</td><td>0</td></tr>\n",
       "\t<tr><td>functional    </td><td>-0.35748797</td><td> 0.6889358</td><td>-1.4092612</td><td> 0.3440186</td><td> 0.8176832</td><td>1</td><td>0</td><td>0</td><td>0</td><td>⋯</td><td>0</td><td>0</td><td>0</td><td>0</td><td>0</td><td>0</td><td>0</td><td>0</td><td>0</td><td>0</td></tr>\n",
       "\t<tr><td>functional    </td><td>-0.08339009</td><td> 0.6889358</td><td> 0.0000000</td><td> 0.3440186</td><td> 0.8176832</td><td>0</td><td>0</td><td>0</td><td>0</td><td>⋯</td><td>1</td><td>0</td><td>0</td><td>0</td><td>0</td><td>0</td><td>0</td><td>0</td><td>0</td><td>0</td></tr>\n",
       "\t<tr><td>functional    </td><td>-0.18218502</td><td> 0.0000000</td><td>-0.3164498</td><td> 0.3440186</td><td>-0.9892477</td><td>1</td><td>0</td><td>0</td><td>0</td><td>⋯</td><td>0</td><td>0</td><td>0</td><td>0</td><td>0</td><td>0</td><td>0</td><td>0</td><td>0</td><td>0</td></tr>\n",
       "\t<tr><td>functional    </td><td>-0.38871844</td><td>-1.5302158</td><td> 2.0678660</td><td> 0.3440186</td><td> 0.8176832</td><td>0</td><td>1</td><td>0</td><td>0</td><td>⋯</td><td>0</td><td>0</td><td>0</td><td>0</td><td>0</td><td>0</td><td>0</td><td>0</td><td>0</td><td>0</td></tr>\n",
       "\t<tr><td>functional    </td><td>-0.35555295</td><td> 0.6889358</td><td> 0.0000000</td><td> 0.3440186</td><td> 0.8176832</td><td>0</td><td>0</td><td>0</td><td>0</td><td>⋯</td><td>0</td><td>0</td><td>0</td><td>0</td><td>0</td><td>0</td><td>0</td><td>0</td><td>0</td><td>0</td></tr>\n",
       "\t<tr><td>functional    </td><td> 0.20251462</td><td>-1.5302158</td><td> 0.0000000</td><td> 0.3440186</td><td> 0.8176832</td><td>0</td><td>1</td><td>0</td><td>0</td><td>⋯</td><td>0</td><td>0</td><td>0</td><td>0</td><td>0</td><td>0</td><td>0</td><td>0</td><td>0</td><td>0</td></tr>\n",
       "\t<tr><td>functional    </td><td>-0.61825111</td><td>-1.5302158</td><td> 0.0000000</td><td> 0.0000000</td><td> 0.0000000</td><td>0</td><td>0</td><td>0</td><td>1</td><td>⋯</td><td>0</td><td>0</td><td>0</td><td>0</td><td>0</td><td>0</td><td>0</td><td>0</td><td>0</td><td>0</td></tr>\n",
       "\t<tr><td>non functional</td><td>-0.07624876</td><td>-1.5302158</td><td> 0.0000000</td><td> 0.3440186</td><td> 0.8176832</td><td>0</td><td>0</td><td>0</td><td>0</td><td>⋯</td><td>0</td><td>0</td><td>0</td><td>0</td><td>0</td><td>0</td><td>0</td><td>0</td><td>0</td><td>0</td></tr>\n",
       "\t<tr><td>non functional</td><td> 0.48793255</td><td> 0.6889358</td><td> 0.0000000</td><td>-3.1172670</td><td>-0.9892477</td><td>0</td><td>0</td><td>0</td><td>1</td><td>⋯</td><td>0</td><td>0</td><td>0</td><td>0</td><td>0</td><td>0</td><td>0</td><td>0</td><td>0</td><td>0</td></tr>\n",
       "\t<tr><td>functional    </td><td>-0.41007886</td><td> 0.6889358</td><td> 0.8757081</td><td> 0.3440186</td><td> 0.8176832</td><td>0</td><td>0</td><td>1</td><td>0</td><td>⋯</td><td>0</td><td>0</td><td>0</td><td>0</td><td>0</td><td>0</td><td>0</td><td>0</td><td>0</td><td>0</td></tr>\n",
       "\t<tr><td>functional    </td><td>-0.07624876</td><td>-1.5302158</td><td> 0.0000000</td><td> 0.3440186</td><td> 0.8176832</td><td>0</td><td>0</td><td>0</td><td>0</td><td>⋯</td><td>0</td><td>0</td><td>0</td><td>0</td><td>0</td><td>0</td><td>0</td><td>0</td><td>0</td><td>0</td></tr>\n",
       "\t<tr><td>functional    </td><td> 0.71405132</td><td> 0.6889358</td><td>-0.8131823</td><td> 0.3440186</td><td> 0.8176832</td><td>0</td><td>0</td><td>0</td><td>0</td><td>⋯</td><td>0</td><td>0</td><td>0</td><td>0</td><td>0</td><td>0</td><td>0</td><td>0</td><td>0</td><td>0</td></tr>\n",
       "\t<tr><td>non functional</td><td> 0.48793255</td><td>-1.5302158</td><td> 0.0000000</td><td> 0.3440186</td><td>-0.9892477</td><td>1</td><td>0</td><td>0</td><td>0</td><td>⋯</td><td>0</td><td>0</td><td>0</td><td>0</td><td>0</td><td>0</td><td>0</td><td>0</td><td>0</td><td>0</td></tr>\n",
       "\t<tr><td>functional    </td><td>-0.54155607</td><td> 0.6889358</td><td>-1.1112217</td><td> 0.3440186</td><td> 0.8176832</td><td>0</td><td>0</td><td>0</td><td>0</td><td>⋯</td><td>0</td><td>0</td><td>0</td><td>0</td><td>0</td><td>0</td><td>0</td><td>0</td><td>0</td><td>0</td></tr>\n",
       "\t<tr><td>functional    </td><td>-0.08339009</td><td> 0.6889358</td><td> 0.0000000</td><td> 0.3440186</td><td> 0.8176832</td><td>0</td><td>0</td><td>0</td><td>0</td><td>⋯</td><td>1</td><td>0</td><td>0</td><td>0</td><td>0</td><td>0</td><td>0</td><td>0</td><td>0</td><td>0</td></tr>\n",
       "\t<tr><td>non functional</td><td>-0.51087805</td><td>-1.5302158</td><td>-0.2171033</td><td> 0.3440186</td><td>-1.8927132</td><td>0</td><td>1</td><td>0</td><td>0</td><td>⋯</td><td>0</td><td>0</td><td>0</td><td>0</td><td>0</td><td>0</td><td>0</td><td>0</td><td>0</td><td>0</td></tr>\n",
       "\t<tr><td>non functional</td><td> 0.16842088</td><td> 0.6889358</td><td> 0.4783221</td><td> 0.3440186</td><td>-0.9892477</td><td>0</td><td>0</td><td>0</td><td>0</td><td>⋯</td><td>0</td><td>0</td><td>0</td><td>0</td><td>0</td><td>0</td><td>0</td><td>0</td><td>0</td><td>0</td></tr>\n",
       "\t<tr><td>non functional</td><td>-0.61825111</td><td> 0.6889358</td><td>-1.1112217</td><td> 0.3440186</td><td> 0.8176832</td><td>0</td><td>0</td><td>0</td><td>0</td><td>⋯</td><td>0</td><td>0</td><td>0</td><td>0</td><td>0</td><td>0</td><td>0</td><td>0</td><td>0</td><td>0</td></tr>\n",
       "\t<tr><td>functional    </td><td> 1.13258712</td><td> 0.6889358</td><td>-1.1112217</td><td> 0.3440186</td><td> 0.8176832</td><td>0</td><td>0</td><td>0</td><td>0</td><td>⋯</td><td>0</td><td>0</td><td>0</td><td>0</td><td>0</td><td>0</td><td>0</td><td>1</td><td>0</td><td>0</td></tr>\n",
       "\t<tr><td>functional    </td><td> 1.57084450</td><td>-1.5302158</td><td>-1.2105682</td><td> 0.3440186</td><td> 0.8176832</td><td>0</td><td>0</td><td>1</td><td>0</td><td>⋯</td><td>0</td><td>0</td><td>0</td><td>0</td><td>0</td><td>0</td><td>0</td><td>0</td><td>0</td><td>0</td></tr>\n",
       "\t<tr><td>functional    </td><td> 0.47520105</td><td> 0.6889358</td><td> 0.1802826</td><td> 0.3440186</td><td>-0.9892477</td><td>0</td><td>0</td><td>0</td><td>1</td><td>⋯</td><td>0</td><td>0</td><td>0</td><td>0</td><td>0</td><td>0</td><td>0</td><td>0</td><td>0</td><td>0</td></tr>\n",
       "\t<tr><td>functional    </td><td> 2.66648795</td><td>-1.5302158</td><td>-1.2105682</td><td> 0.3440186</td><td> 0.8176832</td><td>0</td><td>0</td><td>0</td><td>1</td><td>⋯</td><td>0</td><td>0</td><td>0</td><td>0</td><td>0</td><td>0</td><td>0</td><td>0</td><td>0</td><td>0</td></tr>\n",
       "\t<tr><td>functional    </td><td>-0.29174936</td><td>-1.5302158</td><td> 0.5776686</td><td> 0.3440186</td><td>-0.9892477</td><td>0</td><td>0</td><td>0</td><td>1</td><td>⋯</td><td>0</td><td>0</td><td>0</td><td>0</td><td>0</td><td>0</td><td>0</td><td>0</td><td>0</td><td>0</td></tr>\n",
       "\t<tr><td>non functional</td><td>-0.16027215</td><td> 0.6889358</td><td> 2.9619844</td><td> 0.3440186</td><td> 0.8176832</td><td>0</td><td>0</td><td>0</td><td>0</td><td>⋯</td><td>0</td><td>0</td><td>0</td><td>0</td><td>0</td><td>0</td><td>0</td><td>0</td><td>0</td><td>0</td></tr>\n",
       "\t<tr><td>non functional</td><td> 0.20251462</td><td> 0.6889358</td><td> 0.0000000</td><td> 0.3440186</td><td> 0.8176832</td><td>0</td><td>0</td><td>1</td><td>0</td><td>⋯</td><td>0</td><td>0</td><td>0</td><td>0</td><td>0</td><td>0</td><td>0</td><td>0</td><td>0</td><td>0</td></tr>\n",
       "\t<tr><td>functional    </td><td> 0.48793255</td><td>-1.5302158</td><td> 0.0000000</td><td> 0.3440186</td><td>-0.9892477</td><td>1</td><td>0</td><td>0</td><td>0</td><td>⋯</td><td>0</td><td>0</td><td>0</td><td>0</td><td>0</td><td>0</td><td>0</td><td>0</td><td>0</td><td>0</td></tr>\n",
       "\t<tr><td>functional    </td><td>-0.34653154</td><td> 0.6889358</td><td>-0.2171033</td><td> 0.3440186</td><td> 0.8176832</td><td>0</td><td>0</td><td>0</td><td>0</td><td>⋯</td><td>0</td><td>0</td><td>0</td><td>0</td><td>0</td><td>0</td><td>0</td><td>0</td><td>0</td><td>0</td></tr>\n",
       "\t<tr><td>functional    </td><td> 0.20251462</td><td>-1.5302158</td><td> 0.0000000</td><td> 1.4977804</td><td> 0.8176832</td><td>0</td><td>0</td><td>0</td><td>0</td><td>⋯</td><td>0</td><td>0</td><td>0</td><td>0</td><td>0</td><td>0</td><td>0</td><td>0</td><td>0</td><td>0</td></tr>\n",
       "\t<tr><td>functional    </td><td>-0.35555295</td><td> 0.6889358</td><td> 0.0000000</td><td> 0.3440186</td><td>-0.9892477</td><td>0</td><td>0</td><td>0</td><td>0</td><td>⋯</td><td>0</td><td>0</td><td>0</td><td>0</td><td>0</td><td>0</td><td>0</td><td>0</td><td>0</td><td>0</td></tr>\n",
       "</tbody>\n",
       "</table>\n"
      ],
      "text/latex": [
       "A data.frame: 47289 × 84\n",
       "\\begin{tabular}{lllllllllllllllllllll}\n",
       " id & population & permit & construction\\_year & quality\\_group & quantity & Internal & Lake.Nyasa & Lake.Rukwa & Lake.Tanganyika & ⋯ & X18 & X19 & X20 & X21 & X24 & X40 & X60 & X80 & X90 & X99\\\\\n",
       " <fct> & <dbl> & <dbl> & <dbl> & <dbl> & <dbl> & <int> & <int> & <int> & <int> & ⋯ & <int> & <int> & <int> & <int> & <int> & <int> & <int> & <int> & <int> & <int>\\\\\n",
       "\\hline\n",
       "\t functional              & -0.07262067 &  0.6889358 & -1.2105682 &  0.3440186 &  0.81768317 & 0 & 0 & 0 & 0 & ⋯ & 0 & 0 & 0 & 1 & 0 & 0 & 0 & 0 & 0 & 0\\\\\n",
       "\t functional              & -0.08339009 &  0.6889358 &  0.0000000 &  0.3440186 & -0.08578228 & 0 & 0 & 0 & 0 & ⋯ & 1 & 0 & 0 & 0 & 0 & 0 & 0 & 0 & 0 & 0\\\\\n",
       "\t functional              & -0.61825111 &  0.6889358 & -1.2105682 & -3.1172670 &  0.81768317 & 0 & 0 & 0 & 0 & ⋯ & 0 & 0 & 0 & 0 & 0 & 0 & 0 & 0 & 0 & 0\\\\\n",
       "\t non functional          & -0.07624876 &  0.6889358 &  0.0000000 &  0.3440186 &  0.81768317 & 1 & 0 & 0 & 0 & ⋯ & 0 & 0 & 0 & 0 & 0 & 0 & 0 & 0 & 0 & 0\\\\\n",
       "\t non functional          & -0.07624876 &  0.6889358 &  0.0000000 & -0.8097433 &  0.81768317 & 0 & 0 & 0 & 1 & ⋯ & 0 & 0 & 0 & 0 & 0 & 0 & 0 & 0 & 0 & 0\\\\\n",
       "\t non functional          &  0.48793255 &  0.6889358 &  0.0000000 & -3.1172670 & -0.08578228 & 0 & 0 & 0 & 1 & ⋯ & 0 & 0 & 0 & 0 & 0 & 0 & 0 & 0 & 0 & 0\\\\\n",
       "\t functional              & -0.08339009 &  0.6889358 &  0.0000000 &  0.3440186 &  0.81768317 & 0 & 0 & 0 & 0 & ⋯ & 1 & 0 & 0 & 0 & 0 & 0 & 0 & 0 & 0 & 0\\\\\n",
       "\t functional              &  0.13555158 & -1.5302158 & -1.4092612 & -3.1172670 &  0.81768317 & 0 & 0 & 0 & 0 & ⋯ & 0 & 0 & 0 & 0 & 0 & 0 & 1 & 0 & 0 & 0\\\\\n",
       "\t functional              & -0.07262067 & -1.5302158 &  0.9750546 &  0.3440186 & -0.98924773 & 0 & 1 & 0 & 0 & ⋯ & 0 & 0 & 0 & 0 & 0 & 0 & 0 & 0 & 0 & 0\\\\\n",
       "\t functional              & -0.61825111 &  0.6889358 & -1.2105682 &  0.3440186 &  0.81768317 & 0 & 0 & 0 & 0 & ⋯ & 0 & 0 & 0 & 0 & 0 & 0 & 0 & 0 & 0 & 0\\\\\n",
       "\t functional              & -0.07624876 &  0.6889358 &  0.0000000 &  0.3440186 &  0.81768317 & 1 & 0 & 0 & 0 & ⋯ & 0 & 0 & 0 & 0 & 0 & 0 & 0 & 0 & 0 & 0\\\\\n",
       "\t non functional          & -0.51087805 &  0.6889358 &  1.8691730 &  0.3440186 & -1.89271317 & 0 & 0 & 0 & 0 & ⋯ & 0 & 0 & 0 & 0 & 0 & 0 & 0 & 0 & 0 & 0\\\\\n",
       "\t functional needs repair &  1.57084450 &  0.6889358 & -0.2171033 & -0.8097433 & -0.98924773 & 0 & 0 & 0 & 0 & ⋯ & 0 & 1 & 0 & 0 & 0 & 0 & 0 & 0 & 0 & 0\\\\\n",
       "\t functional              & -0.61825111 &  0.6889358 &  0.4783221 &  0.3440186 &  0.81768317 & 0 & 1 & 0 & 0 & ⋯ & 0 & 0 & 0 & 0 & 0 & 0 & 0 & 0 & 0 & 0\\\\\n",
       "\t functional              & -0.07624876 & -1.5302158 &  0.0000000 &  0.0000000 &  0.00000000 & 0 & 0 & 0 & 0 & ⋯ & 0 & 0 & 0 & 0 & 0 & 0 & 0 & 0 & 0 & 0\\\\\n",
       "\t functional              & -0.27860164 &  0.6889358 & -1.2105682 &  0.3440186 &  0.81768317 & 0 & 0 & 0 & 1 & ⋯ & 0 & 0 & 0 & 0 & 0 & 0 & 0 & 0 & 0 & 0\\\\\n",
       "\t functional needs repair & -0.31366223 &  0.6889358 &  2.2665590 &  0.3440186 &  0.81768317 & 0 & 0 & 0 & 0 & ⋯ & 0 & 0 & 0 & 0 & 0 & 0 & 0 & 0 & 0 & 0\\\\\n",
       "\t functional              & -0.05070781 & -1.5302158 & -1.4092612 &  0.3440186 &  0.81768317 & 0 & 0 & 0 & 0 & ⋯ & 0 & 0 & 0 & 0 & 0 & 0 & 0 & 1 & 0 & 0\\\\\n",
       "\t non functional          & -0.61825111 &  0.6889358 & -0.3164498 &  0.3440186 & -0.98924773 & 0 & 0 & 0 & 0 & ⋯ & 0 & 0 & 0 & 0 & 0 & 0 & 0 & 0 & 0 & 0\\\\\n",
       "\t functional              & -0.35555295 &  0.6889358 &  0.0000000 &  0.3440186 & -0.98924773 & 0 & 0 & 0 & 0 & ⋯ & 0 & 0 & 0 & 0 & 0 & 0 & 0 & 0 & 0 & 0\\\\\n",
       "\t functional needs repair & -0.22601076 &  0.6889358 &  2.4652519 &  0.3440186 & -0.98924773 & 0 & 0 & 0 & 0 & ⋯ & 0 & 0 & 0 & 0 & 0 & 0 & 0 & 0 & 0 & 0\\\\\n",
       "\t functional              & -0.46705232 & -1.5302158 &  0.4783221 &  0.3440186 & -0.08578228 & 0 & 1 & 0 & 0 & ⋯ & 0 & 0 & 0 & 0 & 0 & 0 & 0 & 0 & 0 & 0\\\\\n",
       "\t functional              & -0.40131371 & -1.5302158 &  0.0000000 & -3.1172670 &  0.81768317 & 0 & 0 & 0 & 0 & ⋯ & 0 & 0 & 0 & 0 & 0 & 0 & 1 & 0 & 0 & 0\\\\\n",
       "\t non functional          &  0.20251462 &  0.6889358 &  0.0000000 &  0.3440186 & -1.89271317 & 0 & 1 & 0 & 0 & ⋯ & 0 & 0 & 0 & 0 & 0 & 0 & 0 & 0 & 0 & 0\\\\\n",
       "\t functional              & -0.35555295 & -1.5302158 &  0.0000000 &  0.3440186 &  0.81768317 & 1 & 0 & 0 & 0 & ⋯ & 0 & 0 & 0 & 0 & 0 & 0 & 0 & 0 & 0 & 0\\\\\n",
       "\t non functional          & -0.11644641 & -1.5302158 & -0.5151428 &  0.3440186 & -0.08578228 & 0 & 0 & 0 & 1 & ⋯ & 0 & 0 & 0 & 0 & 0 & 0 & 0 & 0 & 0 & 0\\\\\n",
       "\t functional              & -0.51087805 &  0.6889358 & -1.1112217 &  0.3440186 &  0.81768317 & 0 & 0 & 0 & 0 & ⋯ & 0 & 0 & 0 & 0 & 0 & 0 & 0 & 0 & 0 & 0\\\\\n",
       "\t functional              & -0.38871844 & -1.5302158 &  1.0744011 &  0.3440186 &  0.81768317 & 0 & 1 & 0 & 0 & ⋯ & 0 & 0 & 0 & 0 & 0 & 0 & 0 & 0 & 0 & 0\\\\\n",
       "\t functional              & -0.07262067 &  0.6889358 & -1.4092612 &  0.3440186 &  0.81768317 & 0 & 0 & 0 & 0 & ⋯ & 0 & 0 & 0 & 0 & 0 & 0 & 0 & 0 & 0 & 0\\\\\n",
       "\t functional needs repair & -0.40131371 &  0.6889358 & -0.3164498 &  0.3440186 & -0.98924773 & 0 & 0 & 0 & 0 & ⋯ & 0 & 0 & 0 & 0 & 0 & 0 & 0 & 0 & 0 & 0\\\\\n",
       "\t ⋮ & ⋮ & ⋮ & ⋮ & ⋮ & ⋮ & ⋮ & ⋮ & ⋮ & ⋮ & ⋱ & ⋮ & ⋮ & ⋮ & ⋮ & ⋮ & ⋮ & ⋮ & ⋮ & ⋮ & ⋮\\\\\n",
       "\t functional     & -0.48896519 & -1.5302158 & -1.0118752 &  0.3440186 & -0.9892477 & 0 & 1 & 0 & 0 & ⋯ & 0 & 0 & 0 & 0 & 0 & 0 & 0 & 0 & 0 & 0\\\\\n",
       "\t functional     & -0.35748797 &  0.6889358 & -1.4092612 &  0.3440186 &  0.8176832 & 1 & 0 & 0 & 0 & ⋯ & 0 & 0 & 0 & 0 & 0 & 0 & 0 & 0 & 0 & 0\\\\\n",
       "\t functional     & -0.08339009 &  0.6889358 &  0.0000000 &  0.3440186 &  0.8176832 & 0 & 0 & 0 & 0 & ⋯ & 1 & 0 & 0 & 0 & 0 & 0 & 0 & 0 & 0 & 0\\\\\n",
       "\t functional     & -0.18218502 &  0.0000000 & -0.3164498 &  0.3440186 & -0.9892477 & 1 & 0 & 0 & 0 & ⋯ & 0 & 0 & 0 & 0 & 0 & 0 & 0 & 0 & 0 & 0\\\\\n",
       "\t functional     & -0.38871844 & -1.5302158 &  2.0678660 &  0.3440186 &  0.8176832 & 0 & 1 & 0 & 0 & ⋯ & 0 & 0 & 0 & 0 & 0 & 0 & 0 & 0 & 0 & 0\\\\\n",
       "\t functional     & -0.35555295 &  0.6889358 &  0.0000000 &  0.3440186 &  0.8176832 & 0 & 0 & 0 & 0 & ⋯ & 0 & 0 & 0 & 0 & 0 & 0 & 0 & 0 & 0 & 0\\\\\n",
       "\t functional     &  0.20251462 & -1.5302158 &  0.0000000 &  0.3440186 &  0.8176832 & 0 & 1 & 0 & 0 & ⋯ & 0 & 0 & 0 & 0 & 0 & 0 & 0 & 0 & 0 & 0\\\\\n",
       "\t functional     & -0.61825111 & -1.5302158 &  0.0000000 &  0.0000000 &  0.0000000 & 0 & 0 & 0 & 1 & ⋯ & 0 & 0 & 0 & 0 & 0 & 0 & 0 & 0 & 0 & 0\\\\\n",
       "\t non functional & -0.07624876 & -1.5302158 &  0.0000000 &  0.3440186 &  0.8176832 & 0 & 0 & 0 & 0 & ⋯ & 0 & 0 & 0 & 0 & 0 & 0 & 0 & 0 & 0 & 0\\\\\n",
       "\t non functional &  0.48793255 &  0.6889358 &  0.0000000 & -3.1172670 & -0.9892477 & 0 & 0 & 0 & 1 & ⋯ & 0 & 0 & 0 & 0 & 0 & 0 & 0 & 0 & 0 & 0\\\\\n",
       "\t functional     & -0.41007886 &  0.6889358 &  0.8757081 &  0.3440186 &  0.8176832 & 0 & 0 & 1 & 0 & ⋯ & 0 & 0 & 0 & 0 & 0 & 0 & 0 & 0 & 0 & 0\\\\\n",
       "\t functional     & -0.07624876 & -1.5302158 &  0.0000000 &  0.3440186 &  0.8176832 & 0 & 0 & 0 & 0 & ⋯ & 0 & 0 & 0 & 0 & 0 & 0 & 0 & 0 & 0 & 0\\\\\n",
       "\t functional     &  0.71405132 &  0.6889358 & -0.8131823 &  0.3440186 &  0.8176832 & 0 & 0 & 0 & 0 & ⋯ & 0 & 0 & 0 & 0 & 0 & 0 & 0 & 0 & 0 & 0\\\\\n",
       "\t non functional &  0.48793255 & -1.5302158 &  0.0000000 &  0.3440186 & -0.9892477 & 1 & 0 & 0 & 0 & ⋯ & 0 & 0 & 0 & 0 & 0 & 0 & 0 & 0 & 0 & 0\\\\\n",
       "\t functional     & -0.54155607 &  0.6889358 & -1.1112217 &  0.3440186 &  0.8176832 & 0 & 0 & 0 & 0 & ⋯ & 0 & 0 & 0 & 0 & 0 & 0 & 0 & 0 & 0 & 0\\\\\n",
       "\t functional     & -0.08339009 &  0.6889358 &  0.0000000 &  0.3440186 &  0.8176832 & 0 & 0 & 0 & 0 & ⋯ & 1 & 0 & 0 & 0 & 0 & 0 & 0 & 0 & 0 & 0\\\\\n",
       "\t non functional & -0.51087805 & -1.5302158 & -0.2171033 &  0.3440186 & -1.8927132 & 0 & 1 & 0 & 0 & ⋯ & 0 & 0 & 0 & 0 & 0 & 0 & 0 & 0 & 0 & 0\\\\\n",
       "\t non functional &  0.16842088 &  0.6889358 &  0.4783221 &  0.3440186 & -0.9892477 & 0 & 0 & 0 & 0 & ⋯ & 0 & 0 & 0 & 0 & 0 & 0 & 0 & 0 & 0 & 0\\\\\n",
       "\t non functional & -0.61825111 &  0.6889358 & -1.1112217 &  0.3440186 &  0.8176832 & 0 & 0 & 0 & 0 & ⋯ & 0 & 0 & 0 & 0 & 0 & 0 & 0 & 0 & 0 & 0\\\\\n",
       "\t functional     &  1.13258712 &  0.6889358 & -1.1112217 &  0.3440186 &  0.8176832 & 0 & 0 & 0 & 0 & ⋯ & 0 & 0 & 0 & 0 & 0 & 0 & 0 & 1 & 0 & 0\\\\\n",
       "\t functional     &  1.57084450 & -1.5302158 & -1.2105682 &  0.3440186 &  0.8176832 & 0 & 0 & 1 & 0 & ⋯ & 0 & 0 & 0 & 0 & 0 & 0 & 0 & 0 & 0 & 0\\\\\n",
       "\t functional     &  0.47520105 &  0.6889358 &  0.1802826 &  0.3440186 & -0.9892477 & 0 & 0 & 0 & 1 & ⋯ & 0 & 0 & 0 & 0 & 0 & 0 & 0 & 0 & 0 & 0\\\\\n",
       "\t functional     &  2.66648795 & -1.5302158 & -1.2105682 &  0.3440186 &  0.8176832 & 0 & 0 & 0 & 1 & ⋯ & 0 & 0 & 0 & 0 & 0 & 0 & 0 & 0 & 0 & 0\\\\\n",
       "\t functional     & -0.29174936 & -1.5302158 &  0.5776686 &  0.3440186 & -0.9892477 & 0 & 0 & 0 & 1 & ⋯ & 0 & 0 & 0 & 0 & 0 & 0 & 0 & 0 & 0 & 0\\\\\n",
       "\t non functional & -0.16027215 &  0.6889358 &  2.9619844 &  0.3440186 &  0.8176832 & 0 & 0 & 0 & 0 & ⋯ & 0 & 0 & 0 & 0 & 0 & 0 & 0 & 0 & 0 & 0\\\\\n",
       "\t non functional &  0.20251462 &  0.6889358 &  0.0000000 &  0.3440186 &  0.8176832 & 0 & 0 & 1 & 0 & ⋯ & 0 & 0 & 0 & 0 & 0 & 0 & 0 & 0 & 0 & 0\\\\\n",
       "\t functional     &  0.48793255 & -1.5302158 &  0.0000000 &  0.3440186 & -0.9892477 & 1 & 0 & 0 & 0 & ⋯ & 0 & 0 & 0 & 0 & 0 & 0 & 0 & 0 & 0 & 0\\\\\n",
       "\t functional     & -0.34653154 &  0.6889358 & -0.2171033 &  0.3440186 &  0.8176832 & 0 & 0 & 0 & 0 & ⋯ & 0 & 0 & 0 & 0 & 0 & 0 & 0 & 0 & 0 & 0\\\\\n",
       "\t functional     &  0.20251462 & -1.5302158 &  0.0000000 &  1.4977804 &  0.8176832 & 0 & 0 & 0 & 0 & ⋯ & 0 & 0 & 0 & 0 & 0 & 0 & 0 & 0 & 0 & 0\\\\\n",
       "\t functional     & -0.35555295 &  0.6889358 &  0.0000000 &  0.3440186 & -0.9892477 & 0 & 0 & 0 & 0 & ⋯ & 0 & 0 & 0 & 0 & 0 & 0 & 0 & 0 & 0 & 0\\\\\n",
       "\\end{tabular}\n"
      ],
      "text/markdown": [
       "\n",
       "A data.frame: 47289 × 84\n",
       "\n",
       "| id &lt;fct&gt; | population &lt;dbl&gt; | permit &lt;dbl&gt; | construction_year &lt;dbl&gt; | quality_group &lt;dbl&gt; | quantity &lt;dbl&gt; | Internal &lt;int&gt; | Lake.Nyasa &lt;int&gt; | Lake.Rukwa &lt;int&gt; | Lake.Tanganyika &lt;int&gt; | ⋯ ⋯ | X18 &lt;int&gt; | X19 &lt;int&gt; | X20 &lt;int&gt; | X21 &lt;int&gt; | X24 &lt;int&gt; | X40 &lt;int&gt; | X60 &lt;int&gt; | X80 &lt;int&gt; | X90 &lt;int&gt; | X99 &lt;int&gt; |\n",
       "|---|---|---|---|---|---|---|---|---|---|---|---|---|---|---|---|---|---|---|---|---|\n",
       "| functional              | -0.07262067 |  0.6889358 | -1.2105682 |  0.3440186 |  0.81768317 | 0 | 0 | 0 | 0 | ⋯ | 0 | 0 | 0 | 1 | 0 | 0 | 0 | 0 | 0 | 0 |\n",
       "| functional              | -0.08339009 |  0.6889358 |  0.0000000 |  0.3440186 | -0.08578228 | 0 | 0 | 0 | 0 | ⋯ | 1 | 0 | 0 | 0 | 0 | 0 | 0 | 0 | 0 | 0 |\n",
       "| functional              | -0.61825111 |  0.6889358 | -1.2105682 | -3.1172670 |  0.81768317 | 0 | 0 | 0 | 0 | ⋯ | 0 | 0 | 0 | 0 | 0 | 0 | 0 | 0 | 0 | 0 |\n",
       "| non functional          | -0.07624876 |  0.6889358 |  0.0000000 |  0.3440186 |  0.81768317 | 1 | 0 | 0 | 0 | ⋯ | 0 | 0 | 0 | 0 | 0 | 0 | 0 | 0 | 0 | 0 |\n",
       "| non functional          | -0.07624876 |  0.6889358 |  0.0000000 | -0.8097433 |  0.81768317 | 0 | 0 | 0 | 1 | ⋯ | 0 | 0 | 0 | 0 | 0 | 0 | 0 | 0 | 0 | 0 |\n",
       "| non functional          |  0.48793255 |  0.6889358 |  0.0000000 | -3.1172670 | -0.08578228 | 0 | 0 | 0 | 1 | ⋯ | 0 | 0 | 0 | 0 | 0 | 0 | 0 | 0 | 0 | 0 |\n",
       "| functional              | -0.08339009 |  0.6889358 |  0.0000000 |  0.3440186 |  0.81768317 | 0 | 0 | 0 | 0 | ⋯ | 1 | 0 | 0 | 0 | 0 | 0 | 0 | 0 | 0 | 0 |\n",
       "| functional              |  0.13555158 | -1.5302158 | -1.4092612 | -3.1172670 |  0.81768317 | 0 | 0 | 0 | 0 | ⋯ | 0 | 0 | 0 | 0 | 0 | 0 | 1 | 0 | 0 | 0 |\n",
       "| functional              | -0.07262067 | -1.5302158 |  0.9750546 |  0.3440186 | -0.98924773 | 0 | 1 | 0 | 0 | ⋯ | 0 | 0 | 0 | 0 | 0 | 0 | 0 | 0 | 0 | 0 |\n",
       "| functional              | -0.61825111 |  0.6889358 | -1.2105682 |  0.3440186 |  0.81768317 | 0 | 0 | 0 | 0 | ⋯ | 0 | 0 | 0 | 0 | 0 | 0 | 0 | 0 | 0 | 0 |\n",
       "| functional              | -0.07624876 |  0.6889358 |  0.0000000 |  0.3440186 |  0.81768317 | 1 | 0 | 0 | 0 | ⋯ | 0 | 0 | 0 | 0 | 0 | 0 | 0 | 0 | 0 | 0 |\n",
       "| non functional          | -0.51087805 |  0.6889358 |  1.8691730 |  0.3440186 | -1.89271317 | 0 | 0 | 0 | 0 | ⋯ | 0 | 0 | 0 | 0 | 0 | 0 | 0 | 0 | 0 | 0 |\n",
       "| functional needs repair |  1.57084450 |  0.6889358 | -0.2171033 | -0.8097433 | -0.98924773 | 0 | 0 | 0 | 0 | ⋯ | 0 | 1 | 0 | 0 | 0 | 0 | 0 | 0 | 0 | 0 |\n",
       "| functional              | -0.61825111 |  0.6889358 |  0.4783221 |  0.3440186 |  0.81768317 | 0 | 1 | 0 | 0 | ⋯ | 0 | 0 | 0 | 0 | 0 | 0 | 0 | 0 | 0 | 0 |\n",
       "| functional              | -0.07624876 | -1.5302158 |  0.0000000 |  0.0000000 |  0.00000000 | 0 | 0 | 0 | 0 | ⋯ | 0 | 0 | 0 | 0 | 0 | 0 | 0 | 0 | 0 | 0 |\n",
       "| functional              | -0.27860164 |  0.6889358 | -1.2105682 |  0.3440186 |  0.81768317 | 0 | 0 | 0 | 1 | ⋯ | 0 | 0 | 0 | 0 | 0 | 0 | 0 | 0 | 0 | 0 |\n",
       "| functional needs repair | -0.31366223 |  0.6889358 |  2.2665590 |  0.3440186 |  0.81768317 | 0 | 0 | 0 | 0 | ⋯ | 0 | 0 | 0 | 0 | 0 | 0 | 0 | 0 | 0 | 0 |\n",
       "| functional              | -0.05070781 | -1.5302158 | -1.4092612 |  0.3440186 |  0.81768317 | 0 | 0 | 0 | 0 | ⋯ | 0 | 0 | 0 | 0 | 0 | 0 | 0 | 1 | 0 | 0 |\n",
       "| non functional          | -0.61825111 |  0.6889358 | -0.3164498 |  0.3440186 | -0.98924773 | 0 | 0 | 0 | 0 | ⋯ | 0 | 0 | 0 | 0 | 0 | 0 | 0 | 0 | 0 | 0 |\n",
       "| functional              | -0.35555295 |  0.6889358 |  0.0000000 |  0.3440186 | -0.98924773 | 0 | 0 | 0 | 0 | ⋯ | 0 | 0 | 0 | 0 | 0 | 0 | 0 | 0 | 0 | 0 |\n",
       "| functional needs repair | -0.22601076 |  0.6889358 |  2.4652519 |  0.3440186 | -0.98924773 | 0 | 0 | 0 | 0 | ⋯ | 0 | 0 | 0 | 0 | 0 | 0 | 0 | 0 | 0 | 0 |\n",
       "| functional              | -0.46705232 | -1.5302158 |  0.4783221 |  0.3440186 | -0.08578228 | 0 | 1 | 0 | 0 | ⋯ | 0 | 0 | 0 | 0 | 0 | 0 | 0 | 0 | 0 | 0 |\n",
       "| functional              | -0.40131371 | -1.5302158 |  0.0000000 | -3.1172670 |  0.81768317 | 0 | 0 | 0 | 0 | ⋯ | 0 | 0 | 0 | 0 | 0 | 0 | 1 | 0 | 0 | 0 |\n",
       "| non functional          |  0.20251462 |  0.6889358 |  0.0000000 |  0.3440186 | -1.89271317 | 0 | 1 | 0 | 0 | ⋯ | 0 | 0 | 0 | 0 | 0 | 0 | 0 | 0 | 0 | 0 |\n",
       "| functional              | -0.35555295 | -1.5302158 |  0.0000000 |  0.3440186 |  0.81768317 | 1 | 0 | 0 | 0 | ⋯ | 0 | 0 | 0 | 0 | 0 | 0 | 0 | 0 | 0 | 0 |\n",
       "| non functional          | -0.11644641 | -1.5302158 | -0.5151428 |  0.3440186 | -0.08578228 | 0 | 0 | 0 | 1 | ⋯ | 0 | 0 | 0 | 0 | 0 | 0 | 0 | 0 | 0 | 0 |\n",
       "| functional              | -0.51087805 |  0.6889358 | -1.1112217 |  0.3440186 |  0.81768317 | 0 | 0 | 0 | 0 | ⋯ | 0 | 0 | 0 | 0 | 0 | 0 | 0 | 0 | 0 | 0 |\n",
       "| functional              | -0.38871844 | -1.5302158 |  1.0744011 |  0.3440186 |  0.81768317 | 0 | 1 | 0 | 0 | ⋯ | 0 | 0 | 0 | 0 | 0 | 0 | 0 | 0 | 0 | 0 |\n",
       "| functional              | -0.07262067 |  0.6889358 | -1.4092612 |  0.3440186 |  0.81768317 | 0 | 0 | 0 | 0 | ⋯ | 0 | 0 | 0 | 0 | 0 | 0 | 0 | 0 | 0 | 0 |\n",
       "| functional needs repair | -0.40131371 |  0.6889358 | -0.3164498 |  0.3440186 | -0.98924773 | 0 | 0 | 0 | 0 | ⋯ | 0 | 0 | 0 | 0 | 0 | 0 | 0 | 0 | 0 | 0 |\n",
       "| ⋮ | ⋮ | ⋮ | ⋮ | ⋮ | ⋮ | ⋮ | ⋮ | ⋮ | ⋮ | ⋱ | ⋮ | ⋮ | ⋮ | ⋮ | ⋮ | ⋮ | ⋮ | ⋮ | ⋮ | ⋮ |\n",
       "| functional     | -0.48896519 | -1.5302158 | -1.0118752 |  0.3440186 | -0.9892477 | 0 | 1 | 0 | 0 | ⋯ | 0 | 0 | 0 | 0 | 0 | 0 | 0 | 0 | 0 | 0 |\n",
       "| functional     | -0.35748797 |  0.6889358 | -1.4092612 |  0.3440186 |  0.8176832 | 1 | 0 | 0 | 0 | ⋯ | 0 | 0 | 0 | 0 | 0 | 0 | 0 | 0 | 0 | 0 |\n",
       "| functional     | -0.08339009 |  0.6889358 |  0.0000000 |  0.3440186 |  0.8176832 | 0 | 0 | 0 | 0 | ⋯ | 1 | 0 | 0 | 0 | 0 | 0 | 0 | 0 | 0 | 0 |\n",
       "| functional     | -0.18218502 |  0.0000000 | -0.3164498 |  0.3440186 | -0.9892477 | 1 | 0 | 0 | 0 | ⋯ | 0 | 0 | 0 | 0 | 0 | 0 | 0 | 0 | 0 | 0 |\n",
       "| functional     | -0.38871844 | -1.5302158 |  2.0678660 |  0.3440186 |  0.8176832 | 0 | 1 | 0 | 0 | ⋯ | 0 | 0 | 0 | 0 | 0 | 0 | 0 | 0 | 0 | 0 |\n",
       "| functional     | -0.35555295 |  0.6889358 |  0.0000000 |  0.3440186 |  0.8176832 | 0 | 0 | 0 | 0 | ⋯ | 0 | 0 | 0 | 0 | 0 | 0 | 0 | 0 | 0 | 0 |\n",
       "| functional     |  0.20251462 | -1.5302158 |  0.0000000 |  0.3440186 |  0.8176832 | 0 | 1 | 0 | 0 | ⋯ | 0 | 0 | 0 | 0 | 0 | 0 | 0 | 0 | 0 | 0 |\n",
       "| functional     | -0.61825111 | -1.5302158 |  0.0000000 |  0.0000000 |  0.0000000 | 0 | 0 | 0 | 1 | ⋯ | 0 | 0 | 0 | 0 | 0 | 0 | 0 | 0 | 0 | 0 |\n",
       "| non functional | -0.07624876 | -1.5302158 |  0.0000000 |  0.3440186 |  0.8176832 | 0 | 0 | 0 | 0 | ⋯ | 0 | 0 | 0 | 0 | 0 | 0 | 0 | 0 | 0 | 0 |\n",
       "| non functional |  0.48793255 |  0.6889358 |  0.0000000 | -3.1172670 | -0.9892477 | 0 | 0 | 0 | 1 | ⋯ | 0 | 0 | 0 | 0 | 0 | 0 | 0 | 0 | 0 | 0 |\n",
       "| functional     | -0.41007886 |  0.6889358 |  0.8757081 |  0.3440186 |  0.8176832 | 0 | 0 | 1 | 0 | ⋯ | 0 | 0 | 0 | 0 | 0 | 0 | 0 | 0 | 0 | 0 |\n",
       "| functional     | -0.07624876 | -1.5302158 |  0.0000000 |  0.3440186 |  0.8176832 | 0 | 0 | 0 | 0 | ⋯ | 0 | 0 | 0 | 0 | 0 | 0 | 0 | 0 | 0 | 0 |\n",
       "| functional     |  0.71405132 |  0.6889358 | -0.8131823 |  0.3440186 |  0.8176832 | 0 | 0 | 0 | 0 | ⋯ | 0 | 0 | 0 | 0 | 0 | 0 | 0 | 0 | 0 | 0 |\n",
       "| non functional |  0.48793255 | -1.5302158 |  0.0000000 |  0.3440186 | -0.9892477 | 1 | 0 | 0 | 0 | ⋯ | 0 | 0 | 0 | 0 | 0 | 0 | 0 | 0 | 0 | 0 |\n",
       "| functional     | -0.54155607 |  0.6889358 | -1.1112217 |  0.3440186 |  0.8176832 | 0 | 0 | 0 | 0 | ⋯ | 0 | 0 | 0 | 0 | 0 | 0 | 0 | 0 | 0 | 0 |\n",
       "| functional     | -0.08339009 |  0.6889358 |  0.0000000 |  0.3440186 |  0.8176832 | 0 | 0 | 0 | 0 | ⋯ | 1 | 0 | 0 | 0 | 0 | 0 | 0 | 0 | 0 | 0 |\n",
       "| non functional | -0.51087805 | -1.5302158 | -0.2171033 |  0.3440186 | -1.8927132 | 0 | 1 | 0 | 0 | ⋯ | 0 | 0 | 0 | 0 | 0 | 0 | 0 | 0 | 0 | 0 |\n",
       "| non functional |  0.16842088 |  0.6889358 |  0.4783221 |  0.3440186 | -0.9892477 | 0 | 0 | 0 | 0 | ⋯ | 0 | 0 | 0 | 0 | 0 | 0 | 0 | 0 | 0 | 0 |\n",
       "| non functional | -0.61825111 |  0.6889358 | -1.1112217 |  0.3440186 |  0.8176832 | 0 | 0 | 0 | 0 | ⋯ | 0 | 0 | 0 | 0 | 0 | 0 | 0 | 0 | 0 | 0 |\n",
       "| functional     |  1.13258712 |  0.6889358 | -1.1112217 |  0.3440186 |  0.8176832 | 0 | 0 | 0 | 0 | ⋯ | 0 | 0 | 0 | 0 | 0 | 0 | 0 | 1 | 0 | 0 |\n",
       "| functional     |  1.57084450 | -1.5302158 | -1.2105682 |  0.3440186 |  0.8176832 | 0 | 0 | 1 | 0 | ⋯ | 0 | 0 | 0 | 0 | 0 | 0 | 0 | 0 | 0 | 0 |\n",
       "| functional     |  0.47520105 |  0.6889358 |  0.1802826 |  0.3440186 | -0.9892477 | 0 | 0 | 0 | 1 | ⋯ | 0 | 0 | 0 | 0 | 0 | 0 | 0 | 0 | 0 | 0 |\n",
       "| functional     |  2.66648795 | -1.5302158 | -1.2105682 |  0.3440186 |  0.8176832 | 0 | 0 | 0 | 1 | ⋯ | 0 | 0 | 0 | 0 | 0 | 0 | 0 | 0 | 0 | 0 |\n",
       "| functional     | -0.29174936 | -1.5302158 |  0.5776686 |  0.3440186 | -0.9892477 | 0 | 0 | 0 | 1 | ⋯ | 0 | 0 | 0 | 0 | 0 | 0 | 0 | 0 | 0 | 0 |\n",
       "| non functional | -0.16027215 |  0.6889358 |  2.9619844 |  0.3440186 |  0.8176832 | 0 | 0 | 0 | 0 | ⋯ | 0 | 0 | 0 | 0 | 0 | 0 | 0 | 0 | 0 | 0 |\n",
       "| non functional |  0.20251462 |  0.6889358 |  0.0000000 |  0.3440186 |  0.8176832 | 0 | 0 | 1 | 0 | ⋯ | 0 | 0 | 0 | 0 | 0 | 0 | 0 | 0 | 0 | 0 |\n",
       "| functional     |  0.48793255 | -1.5302158 |  0.0000000 |  0.3440186 | -0.9892477 | 1 | 0 | 0 | 0 | ⋯ | 0 | 0 | 0 | 0 | 0 | 0 | 0 | 0 | 0 | 0 |\n",
       "| functional     | -0.34653154 |  0.6889358 | -0.2171033 |  0.3440186 |  0.8176832 | 0 | 0 | 0 | 0 | ⋯ | 0 | 0 | 0 | 0 | 0 | 0 | 0 | 0 | 0 | 0 |\n",
       "| functional     |  0.20251462 | -1.5302158 |  0.0000000 |  1.4977804 |  0.8176832 | 0 | 0 | 0 | 0 | ⋯ | 0 | 0 | 0 | 0 | 0 | 0 | 0 | 0 | 0 | 0 |\n",
       "| functional     | -0.35555295 |  0.6889358 |  0.0000000 |  0.3440186 | -0.9892477 | 0 | 0 | 0 | 0 | ⋯ | 0 | 0 | 0 | 0 | 0 | 0 | 0 | 0 | 0 | 0 |\n",
       "\n"
      ],
      "text/plain": [
       "      id                      population  permit     construction_year\n",
       "1     functional              -0.07262067  0.6889358 -1.2105682       \n",
       "2     functional              -0.08339009  0.6889358  0.0000000       \n",
       "3     functional              -0.61825111  0.6889358 -1.2105682       \n",
       "4     non functional          -0.07624876  0.6889358  0.0000000       \n",
       "5     non functional          -0.07624876  0.6889358  0.0000000       \n",
       "6     non functional           0.48793255  0.6889358  0.0000000       \n",
       "7     functional              -0.08339009  0.6889358  0.0000000       \n",
       "8     functional               0.13555158 -1.5302158 -1.4092612       \n",
       "9     functional              -0.07262067 -1.5302158  0.9750546       \n",
       "10    functional              -0.61825111  0.6889358 -1.2105682       \n",
       "11    functional              -0.07624876  0.6889358  0.0000000       \n",
       "12    non functional          -0.51087805  0.6889358  1.8691730       \n",
       "13    functional needs repair  1.57084450  0.6889358 -0.2171033       \n",
       "14    functional              -0.61825111  0.6889358  0.4783221       \n",
       "15    functional              -0.07624876 -1.5302158  0.0000000       \n",
       "16    functional              -0.27860164  0.6889358 -1.2105682       \n",
       "17    functional needs repair -0.31366223  0.6889358  2.2665590       \n",
       "18    functional              -0.05070781 -1.5302158 -1.4092612       \n",
       "19    non functional          -0.61825111  0.6889358 -0.3164498       \n",
       "20    functional              -0.35555295  0.6889358  0.0000000       \n",
       "21    functional needs repair -0.22601076  0.6889358  2.4652519       \n",
       "22    functional              -0.46705232 -1.5302158  0.4783221       \n",
       "23    functional              -0.40131371 -1.5302158  0.0000000       \n",
       "24    non functional           0.20251462  0.6889358  0.0000000       \n",
       "25    functional              -0.35555295 -1.5302158  0.0000000       \n",
       "26    non functional          -0.11644641 -1.5302158 -0.5151428       \n",
       "27    functional              -0.51087805  0.6889358 -1.1112217       \n",
       "28    functional              -0.38871844 -1.5302158  1.0744011       \n",
       "29    functional              -0.07262067  0.6889358 -1.4092612       \n",
       "30    functional needs repair -0.40131371  0.6889358 -0.3164498       \n",
       "⋮     ⋮                       ⋮           ⋮          ⋮                \n",
       "47260 functional              -0.48896519 -1.5302158 -1.0118752       \n",
       "47261 functional              -0.35748797  0.6889358 -1.4092612       \n",
       "47262 functional              -0.08339009  0.6889358  0.0000000       \n",
       "47263 functional              -0.18218502  0.0000000 -0.3164498       \n",
       "47264 functional              -0.38871844 -1.5302158  2.0678660       \n",
       "47265 functional              -0.35555295  0.6889358  0.0000000       \n",
       "47266 functional               0.20251462 -1.5302158  0.0000000       \n",
       "47267 functional              -0.61825111 -1.5302158  0.0000000       \n",
       "47268 non functional          -0.07624876 -1.5302158  0.0000000       \n",
       "47269 non functional           0.48793255  0.6889358  0.0000000       \n",
       "47270 functional              -0.41007886  0.6889358  0.8757081       \n",
       "47271 functional              -0.07624876 -1.5302158  0.0000000       \n",
       "47272 functional               0.71405132  0.6889358 -0.8131823       \n",
       "47273 non functional           0.48793255 -1.5302158  0.0000000       \n",
       "47274 functional              -0.54155607  0.6889358 -1.1112217       \n",
       "47275 functional              -0.08339009  0.6889358  0.0000000       \n",
       "47276 non functional          -0.51087805 -1.5302158 -0.2171033       \n",
       "47277 non functional           0.16842088  0.6889358  0.4783221       \n",
       "47278 non functional          -0.61825111  0.6889358 -1.1112217       \n",
       "47279 functional               1.13258712  0.6889358 -1.1112217       \n",
       "47280 functional               1.57084450 -1.5302158 -1.2105682       \n",
       "47281 functional               0.47520105  0.6889358  0.1802826       \n",
       "47282 functional               2.66648795 -1.5302158 -1.2105682       \n",
       "47283 functional              -0.29174936 -1.5302158  0.5776686       \n",
       "47284 non functional          -0.16027215  0.6889358  2.9619844       \n",
       "47285 non functional           0.20251462  0.6889358  0.0000000       \n",
       "47286 functional               0.48793255 -1.5302158  0.0000000       \n",
       "47287 functional              -0.34653154  0.6889358 -0.2171033       \n",
       "47288 functional               0.20251462 -1.5302158  0.0000000       \n",
       "47289 functional              -0.35555295  0.6889358  0.0000000       \n",
       "      quality_group quantity    Internal Lake.Nyasa Lake.Rukwa Lake.Tanganyika\n",
       "1      0.3440186     0.81768317 0        0          0          0              \n",
       "2      0.3440186    -0.08578228 0        0          0          0              \n",
       "3     -3.1172670     0.81768317 0        0          0          0              \n",
       "4      0.3440186     0.81768317 1        0          0          0              \n",
       "5     -0.8097433     0.81768317 0        0          0          1              \n",
       "6     -3.1172670    -0.08578228 0        0          0          1              \n",
       "7      0.3440186     0.81768317 0        0          0          0              \n",
       "8     -3.1172670     0.81768317 0        0          0          0              \n",
       "9      0.3440186    -0.98924773 0        1          0          0              \n",
       "10     0.3440186     0.81768317 0        0          0          0              \n",
       "11     0.3440186     0.81768317 1        0          0          0              \n",
       "12     0.3440186    -1.89271317 0        0          0          0              \n",
       "13    -0.8097433    -0.98924773 0        0          0          0              \n",
       "14     0.3440186     0.81768317 0        1          0          0              \n",
       "15     0.0000000     0.00000000 0        0          0          0              \n",
       "16     0.3440186     0.81768317 0        0          0          1              \n",
       "17     0.3440186     0.81768317 0        0          0          0              \n",
       "18     0.3440186     0.81768317 0        0          0          0              \n",
       "19     0.3440186    -0.98924773 0        0          0          0              \n",
       "20     0.3440186    -0.98924773 0        0          0          0              \n",
       "21     0.3440186    -0.98924773 0        0          0          0              \n",
       "22     0.3440186    -0.08578228 0        1          0          0              \n",
       "23    -3.1172670     0.81768317 0        0          0          0              \n",
       "24     0.3440186    -1.89271317 0        1          0          0              \n",
       "25     0.3440186     0.81768317 1        0          0          0              \n",
       "26     0.3440186    -0.08578228 0        0          0          1              \n",
       "27     0.3440186     0.81768317 0        0          0          0              \n",
       "28     0.3440186     0.81768317 0        1          0          0              \n",
       "29     0.3440186     0.81768317 0        0          0          0              \n",
       "30     0.3440186    -0.98924773 0        0          0          0              \n",
       "⋮     ⋮             ⋮           ⋮        ⋮          ⋮          ⋮              \n",
       "47260  0.3440186    -0.9892477  0        1          0          0              \n",
       "47261  0.3440186     0.8176832  1        0          0          0              \n",
       "47262  0.3440186     0.8176832  0        0          0          0              \n",
       "47263  0.3440186    -0.9892477  1        0          0          0              \n",
       "47264  0.3440186     0.8176832  0        1          0          0              \n",
       "47265  0.3440186     0.8176832  0        0          0          0              \n",
       "47266  0.3440186     0.8176832  0        1          0          0              \n",
       "47267  0.0000000     0.0000000  0        0          0          1              \n",
       "47268  0.3440186     0.8176832  0        0          0          0              \n",
       "47269 -3.1172670    -0.9892477  0        0          0          1              \n",
       "47270  0.3440186     0.8176832  0        0          1          0              \n",
       "47271  0.3440186     0.8176832  0        0          0          0              \n",
       "47272  0.3440186     0.8176832  0        0          0          0              \n",
       "47273  0.3440186    -0.9892477  1        0          0          0              \n",
       "47274  0.3440186     0.8176832  0        0          0          0              \n",
       "47275  0.3440186     0.8176832  0        0          0          0              \n",
       "47276  0.3440186    -1.8927132  0        1          0          0              \n",
       "47277  0.3440186    -0.9892477  0        0          0          0              \n",
       "47278  0.3440186     0.8176832  0        0          0          0              \n",
       "47279  0.3440186     0.8176832  0        0          0          0              \n",
       "47280  0.3440186     0.8176832  0        0          1          0              \n",
       "47281  0.3440186    -0.9892477  0        0          0          1              \n",
       "47282  0.3440186     0.8176832  0        0          0          1              \n",
       "47283  0.3440186    -0.9892477  0        0          0          1              \n",
       "47284  0.3440186     0.8176832  0        0          0          0              \n",
       "47285  0.3440186     0.8176832  0        0          1          0              \n",
       "47286  0.3440186    -0.9892477  1        0          0          0              \n",
       "47287  0.3440186     0.8176832  0        0          0          0              \n",
       "47288  1.4977804     0.8176832  0        0          0          0              \n",
       "47289  0.3440186    -0.9892477  0        0          0          0              \n",
       "      ⋯ X18 X19 X20 X21 X24 X40 X60 X80 X90 X99\n",
       "1     ⋯ 0   0   0   1   0   0   0   0   0   0  \n",
       "2     ⋯ 1   0   0   0   0   0   0   0   0   0  \n",
       "3     ⋯ 0   0   0   0   0   0   0   0   0   0  \n",
       "4     ⋯ 0   0   0   0   0   0   0   0   0   0  \n",
       "5     ⋯ 0   0   0   0   0   0   0   0   0   0  \n",
       "6     ⋯ 0   0   0   0   0   0   0   0   0   0  \n",
       "7     ⋯ 1   0   0   0   0   0   0   0   0   0  \n",
       "8     ⋯ 0   0   0   0   0   0   1   0   0   0  \n",
       "9     ⋯ 0   0   0   0   0   0   0   0   0   0  \n",
       "10    ⋯ 0   0   0   0   0   0   0   0   0   0  \n",
       "11    ⋯ 0   0   0   0   0   0   0   0   0   0  \n",
       "12    ⋯ 0   0   0   0   0   0   0   0   0   0  \n",
       "13    ⋯ 0   1   0   0   0   0   0   0   0   0  \n",
       "14    ⋯ 0   0   0   0   0   0   0   0   0   0  \n",
       "15    ⋯ 0   0   0   0   0   0   0   0   0   0  \n",
       "16    ⋯ 0   0   0   0   0   0   0   0   0   0  \n",
       "17    ⋯ 0   0   0   0   0   0   0   0   0   0  \n",
       "18    ⋯ 0   0   0   0   0   0   0   1   0   0  \n",
       "19    ⋯ 0   0   0   0   0   0   0   0   0   0  \n",
       "20    ⋯ 0   0   0   0   0   0   0   0   0   0  \n",
       "21    ⋯ 0   0   0   0   0   0   0   0   0   0  \n",
       "22    ⋯ 0   0   0   0   0   0   0   0   0   0  \n",
       "23    ⋯ 0   0   0   0   0   0   1   0   0   0  \n",
       "24    ⋯ 0   0   0   0   0   0   0   0   0   0  \n",
       "25    ⋯ 0   0   0   0   0   0   0   0   0   0  \n",
       "26    ⋯ 0   0   0   0   0   0   0   0   0   0  \n",
       "27    ⋯ 0   0   0   0   0   0   0   0   0   0  \n",
       "28    ⋯ 0   0   0   0   0   0   0   0   0   0  \n",
       "29    ⋯ 0   0   0   0   0   0   0   0   0   0  \n",
       "30    ⋯ 0   0   0   0   0   0   0   0   0   0  \n",
       "⋮     ⋱ ⋮   ⋮   ⋮   ⋮   ⋮   ⋮   ⋮   ⋮   ⋮   ⋮  \n",
       "47260 ⋯ 0   0   0   0   0   0   0   0   0   0  \n",
       "47261 ⋯ 0   0   0   0   0   0   0   0   0   0  \n",
       "47262 ⋯ 1   0   0   0   0   0   0   0   0   0  \n",
       "47263 ⋯ 0   0   0   0   0   0   0   0   0   0  \n",
       "47264 ⋯ 0   0   0   0   0   0   0   0   0   0  \n",
       "47265 ⋯ 0   0   0   0   0   0   0   0   0   0  \n",
       "47266 ⋯ 0   0   0   0   0   0   0   0   0   0  \n",
       "47267 ⋯ 0   0   0   0   0   0   0   0   0   0  \n",
       "47268 ⋯ 0   0   0   0   0   0   0   0   0   0  \n",
       "47269 ⋯ 0   0   0   0   0   0   0   0   0   0  \n",
       "47270 ⋯ 0   0   0   0   0   0   0   0   0   0  \n",
       "47271 ⋯ 0   0   0   0   0   0   0   0   0   0  \n",
       "47272 ⋯ 0   0   0   0   0   0   0   0   0   0  \n",
       "47273 ⋯ 0   0   0   0   0   0   0   0   0   0  \n",
       "47274 ⋯ 0   0   0   0   0   0   0   0   0   0  \n",
       "47275 ⋯ 1   0   0   0   0   0   0   0   0   0  \n",
       "47276 ⋯ 0   0   0   0   0   0   0   0   0   0  \n",
       "47277 ⋯ 0   0   0   0   0   0   0   0   0   0  \n",
       "47278 ⋯ 0   0   0   0   0   0   0   0   0   0  \n",
       "47279 ⋯ 0   0   0   0   0   0   0   1   0   0  \n",
       "47280 ⋯ 0   0   0   0   0   0   0   0   0   0  \n",
       "47281 ⋯ 0   0   0   0   0   0   0   0   0   0  \n",
       "47282 ⋯ 0   0   0   0   0   0   0   0   0   0  \n",
       "47283 ⋯ 0   0   0   0   0   0   0   0   0   0  \n",
       "47284 ⋯ 0   0   0   0   0   0   0   0   0   0  \n",
       "47285 ⋯ 0   0   0   0   0   0   0   0   0   0  \n",
       "47286 ⋯ 0   0   0   0   0   0   0   0   0   0  \n",
       "47287 ⋯ 0   0   0   0   0   0   0   0   0   0  \n",
       "47288 ⋯ 0   0   0   0   0   0   0   0   0   0  \n",
       "47289 ⋯ 0   0   0   0   0   0   0   0   0   0  "
      ]
     },
     "metadata": {},
     "output_type": "display_data"
    }
   ],
   "source": [
    "training_set$id <- factor(training_set$id)\n",
    "training_set"
   ]
  },
  {
   "cell_type": "markdown",
   "id": "positive-great",
   "metadata": {},
   "source": [
    "## SVM Hyperparameters\n",
    "\n",
    "The svm classifier has multiples parameters such as:\n",
    "\n",
    "* Kernel type, linear, polynomial, radial_based, sigmoid. Changes the shape of the diving surface\n",
    "* Degree, needed if polynomial.\n",
    "* Gamma, affects the shape of the surface, needed if not linear\n",
    "* coef0, needed in polynomial and sigmoid\n",
    "* cost, cost of constraint violation\n",
    "\n",
    "The SVM classifier is trainined on the training set, accuracy is then measured with the validation set."
   ]
  },
  {
   "cell_type": "code",
   "execution_count": null,
   "id": "figured-talent",
   "metadata": {},
   "outputs": [],
   "source": [
    "svm_model <- svm(id ~ ., data=training_set, kernel=\"linear\", cost=10, scale=FALSE)  # No need to scale as data is already processed\n",
    "print(svm_model)"
   ]
  },
  {
   "cell_type": "markdown",
   "id": "fifth-adventure",
   "metadata": {},
   "source": [
    "## Training set accuracy"
   ]
  },
  {
   "cell_type": "code",
   "execution_count": null,
   "id": "early-chase",
   "metadata": {},
   "outputs": [],
   "source": [
    "svm.predict <- predict(svm_model, training_set[1:100,])"
   ]
  },
  {
   "cell_type": "code",
   "execution_count": null,
   "id": "driving-journal",
   "metadata": {},
   "outputs": [],
   "source": [
    "classAgreement(table(pred=svm.predict, true=training_set$id[1:100]))"
   ]
  },
  {
   "cell_type": "markdown",
   "id": "regulation-cradle",
   "metadata": {},
   "source": [
    "## Validation set accuracy"
   ]
  },
  {
   "cell_type": "code",
   "execution_count": null,
   "id": "distinct-delivery",
   "metadata": {},
   "outputs": [],
   "source": [
    "svm.predict <- predict(svm_model, validation_set)"
   ]
  },
  {
   "cell_type": "code",
   "execution_count": null,
   "id": "vital-thing",
   "metadata": {},
   "outputs": [],
   "source": [
    "classAgreement(table(pred=svm.predict, true=validation_set$id[-1]))"
   ]
  },
  {
   "cell_type": "markdown",
   "id": "continental-diamond",
   "metadata": {},
   "source": [
    "## Testing with polynomial SVM"
   ]
  },
  {
   "cell_type": "code",
   "execution_count": 4,
   "id": "coated-original",
   "metadata": {},
   "outputs": [],
   "source": [
    "svm_model_poly <- svm(id ~ ., data=training_set, kernel=\"polynomial\", cost=20, scale=FALSE)"
   ]
  },
  {
   "cell_type": "code",
   "execution_count": 5,
   "id": "diverse-horror",
   "metadata": {},
   "outputs": [
    {
     "data": {
      "text/html": [
       "<dl>\n",
       "\t<dt>$diag</dt>\n",
       "\t\t<dd>0.72</dd>\n",
       "\t<dt>$kappa</dt>\n",
       "\t\t<dd>0.467842481374487</dd>\n",
       "\t<dt>$rand</dt>\n",
       "\t\t<dd>0.621266533066132</dd>\n",
       "\t<dt>$crand</dt>\n",
       "\t\t<dd>0.262615229130319</dd>\n",
       "</dl>\n"
      ],
      "text/latex": [
       "\\begin{description}\n",
       "\\item[\\$diag] 0.72\n",
       "\\item[\\$kappa] 0.467842481374487\n",
       "\\item[\\$rand] 0.621266533066132\n",
       "\\item[\\$crand] 0.262615229130319\n",
       "\\end{description}\n"
      ],
      "text/markdown": [
       "$diag\n",
       ":   0.72\n",
       "$kappa\n",
       ":   0.467842481374487\n",
       "$rand\n",
       ":   0.621266533066132\n",
       "$crand\n",
       ":   0.262615229130319\n",
       "\n",
       "\n"
      ],
      "text/plain": [
       "$diag\n",
       "[1] 0.72\n",
       "\n",
       "$kappa\n",
       "[1] 0.4678425\n",
       "\n",
       "$rand\n",
       "[1] 0.6212665\n",
       "\n",
       "$crand\n",
       "[1] 0.2626152\n"
      ]
     },
     "metadata": {},
     "output_type": "display_data"
    }
   ],
   "source": [
    "svm.predict <- predict(svm_model_poly, training_set[1:500,])\n",
    "classAgreement(table(pred=svm.predict, true=training_set$id[1:500]))"
   ]
  },
  {
   "cell_type": "code",
   "execution_count": 6,
   "id": "secret-jordan",
   "metadata": {},
   "outputs": [
    {
     "data": {
      "text/html": [
       "<dl>\n",
       "\t<dt>$diag</dt>\n",
       "\t\t<dd>0.664574731626755</dd>\n",
       "\t<dt>$kappa</dt>\n",
       "\t\t<dd>0.33160634560917</dd>\n",
       "\t<dt>$rand</dt>\n",
       "\t\t<dd>0.561255821144014</dd>\n",
       "\t<dt>$crand</dt>\n",
       "\t\t<dd>0.143566429958629</dd>\n",
       "</dl>\n"
      ],
      "text/latex": [
       "\\begin{description}\n",
       "\\item[\\$diag] 0.664574731626755\n",
       "\\item[\\$kappa] 0.33160634560917\n",
       "\\item[\\$rand] 0.561255821144014\n",
       "\\item[\\$crand] 0.143566429958629\n",
       "\\end{description}\n"
      ],
      "text/markdown": [
       "$diag\n",
       ":   0.664574731626755\n",
       "$kappa\n",
       ":   0.33160634560917\n",
       "$rand\n",
       ":   0.561255821144014\n",
       "$crand\n",
       ":   0.143566429958629\n",
       "\n",
       "\n"
      ],
      "text/plain": [
       "$diag\n",
       "[1] 0.6645747\n",
       "\n",
       "$kappa\n",
       "[1] 0.3316063\n",
       "\n",
       "$rand\n",
       "[1] 0.5612558\n",
       "\n",
       "$crand\n",
       "[1] 0.1435664\n"
      ]
     },
     "metadata": {},
     "output_type": "display_data"
    }
   ],
   "source": [
    "svm.predict <- predict(svm_model_poly, validation_set)\n",
    "classAgreement(table(pred=svm.predict, true=validation_set$id[-1]))"
   ]
  },
  {
   "cell_type": "markdown",
   "id": "upper-serve",
   "metadata": {},
   "source": [
    "Increasing cost increases the accuracy of both training and validation set, but also increases overfitting.\n",
    "* With cost=20, training_accuracy = 72% & validation_accuracy=66%"
   ]
  },
  {
   "cell_type": "markdown",
   "id": "dominant-cattle",
   "metadata": {},
   "source": [
    "## Testing with radial basis SVM "
   ]
  },
  {
   "cell_type": "code",
   "execution_count": 7,
   "id": "built-traffic",
   "metadata": {},
   "outputs": [],
   "source": [
    "svm_model_poly <- svm(id ~ ., data=training_set, kernel=\"radial\", cost=10, scale=FALSE)"
   ]
  },
  {
   "cell_type": "code",
   "execution_count": 8,
   "id": "outdoor-munich",
   "metadata": {},
   "outputs": [
    {
     "data": {
      "text/html": [
       "<dl>\n",
       "\t<dt>$diag</dt>\n",
       "\t\t<dd>0.742</dd>\n",
       "\t<dt>$kappa</dt>\n",
       "\t\t<dd>0.516274186290685</dd>\n",
       "\t<dt>$rand</dt>\n",
       "\t\t<dd>0.649803607214429</dd>\n",
       "\t<dt>$crand</dt>\n",
       "\t\t<dd>0.310461196165117</dd>\n",
       "</dl>\n"
      ],
      "text/latex": [
       "\\begin{description}\n",
       "\\item[\\$diag] 0.742\n",
       "\\item[\\$kappa] 0.516274186290685\n",
       "\\item[\\$rand] 0.649803607214429\n",
       "\\item[\\$crand] 0.310461196165117\n",
       "\\end{description}\n"
      ],
      "text/markdown": [
       "$diag\n",
       ":   0.742\n",
       "$kappa\n",
       ":   0.516274186290685\n",
       "$rand\n",
       ":   0.649803607214429\n",
       "$crand\n",
       ":   0.310461196165117\n",
       "\n",
       "\n"
      ],
      "text/plain": [
       "$diag\n",
       "[1] 0.742\n",
       "\n",
       "$kappa\n",
       "[1] 0.5162742\n",
       "\n",
       "$rand\n",
       "[1] 0.6498036\n",
       "\n",
       "$crand\n",
       "[1] 0.3104612\n"
      ]
     },
     "metadata": {},
     "output_type": "display_data"
    }
   ],
   "source": [
    "svm.predict <- predict(svm_model_poly, training_set[1:500,])\n",
    "classAgreement(table(pred=svm.predict, true=training_set$id[1:500]))"
   ]
  },
  {
   "cell_type": "code",
   "execution_count": 9,
   "id": "square-consistency",
   "metadata": {},
   "outputs": [
    {
     "data": {
      "text/html": [
       "<dl>\n",
       "\t<dt>$diag</dt>\n",
       "\t\t<dd>0.666308835672997</dd>\n",
       "\t<dt>$kappa</dt>\n",
       "\t\t<dd>0.345860809517417</dd>\n",
       "\t<dt>$rand</dt>\n",
       "\t\t<dd>0.570058413124551</dd>\n",
       "\t<dt>$crand</dt>\n",
       "\t\t<dd>0.153385001721335</dd>\n",
       "</dl>\n"
      ],
      "text/latex": [
       "\\begin{description}\n",
       "\\item[\\$diag] 0.666308835672997\n",
       "\\item[\\$kappa] 0.345860809517417\n",
       "\\item[\\$rand] 0.570058413124551\n",
       "\\item[\\$crand] 0.153385001721335\n",
       "\\end{description}\n"
      ],
      "text/markdown": [
       "$diag\n",
       ":   0.666308835672997\n",
       "$kappa\n",
       ":   0.345860809517417\n",
       "$rand\n",
       ":   0.570058413124551\n",
       "$crand\n",
       ":   0.153385001721335\n",
       "\n",
       "\n"
      ],
      "text/plain": [
       "$diag\n",
       "[1] 0.6663088\n",
       "\n",
       "$kappa\n",
       "[1] 0.3458608\n",
       "\n",
       "$rand\n",
       "[1] 0.5700584\n",
       "\n",
       "$crand\n",
       "[1] 0.153385\n"
      ]
     },
     "metadata": {},
     "output_type": "display_data"
    }
   ],
   "source": [
    "svm.predict <- predict(svm_model_poly, validation_set)\n",
    "classAgreement(table(pred=svm.predict, true=validation_set$id[-1]))"
   ]
  },
  {
   "cell_type": "markdown",
   "id": "pressed-tradition",
   "metadata": {},
   "source": [
    "## Fixing multiclass classification with SVM"
   ]
  },
  {
   "cell_type": "code",
   "execution_count": 10,
   "id": "widespread-environment",
   "metadata": {},
   "outputs": [],
   "source": [
    "svm_model_poly <- svm(id ~ ., data=training_set, kernel=\"polynomial\", cost=10, scale=FALSE, probability=TRUE)"
   ]
  },
  {
   "cell_type": "code",
   "execution_count": 11,
   "id": "whole-incidence",
   "metadata": {},
   "outputs": [],
   "source": [
    "svm.predict <- predict(svm_model_poly, validation_set, probability=TRUE, decision.values=TRUE)"
   ]
  },
  {
   "cell_type": "code",
   "execution_count": 12,
   "id": "imported-buyer",
   "metadata": {},
   "outputs": [
    {
     "data": {
      "text/html": [
       "<dl>\n",
       "\t<dt>$diag</dt>\n",
       "\t\t<dd>0.664822460776218</dd>\n",
       "\t<dt>$kappa</dt>\n",
       "\t\t<dd>0.34256407645906</dd>\n",
       "\t<dt>$rand</dt>\n",
       "\t\t<dd>0.569641623679871</dd>\n",
       "\t<dt>$crand</dt>\n",
       "\t\t<dd>0.153144488003755</dd>\n",
       "</dl>\n"
      ],
      "text/latex": [
       "\\begin{description}\n",
       "\\item[\\$diag] 0.664822460776218\n",
       "\\item[\\$kappa] 0.34256407645906\n",
       "\\item[\\$rand] 0.569641623679871\n",
       "\\item[\\$crand] 0.153144488003755\n",
       "\\end{description}\n"
      ],
      "text/markdown": [
       "$diag\n",
       ":   0.664822460776218\n",
       "$kappa\n",
       ":   0.34256407645906\n",
       "$rand\n",
       ":   0.569641623679871\n",
       "$crand\n",
       ":   0.153144488003755\n",
       "\n",
       "\n"
      ],
      "text/plain": [
       "$diag\n",
       "[1] 0.6648225\n",
       "\n",
       "$kappa\n",
       "[1] 0.3425641\n",
       "\n",
       "$rand\n",
       "[1] 0.5696416\n",
       "\n",
       "$crand\n",
       "[1] 0.1531445\n"
      ]
     },
     "metadata": {},
     "output_type": "display_data"
    }
   ],
   "source": [
    "classAgreement(table(pred=svm.predict, true=validation_set$id[-1]))"
   ]
  },
  {
   "cell_type": "code",
   "execution_count": 13,
   "id": "cosmetic-kitchen",
   "metadata": {},
   "outputs": [
    {
     "name": "stderr",
     "output_type": "stream",
     "text": [
      "Loading required package: lattice\n",
      "\n",
      "Loading required package: ggplot2\n",
      "\n"
     ]
    },
    {
     "data": {
      "text/plain": [
       "Confusion Matrix and Statistics\n",
       "\n",
       "                         Reference\n",
       "Prediction                functional functional needs repair non functional\n",
       "  functional                    5557                     706           2183\n",
       "  functional needs repair         30                      31             24\n",
       "  non functional                 936                     180           2463\n",
       "\n",
       "Overall Statistics\n",
       "                                          \n",
       "               Accuracy : 0.6648          \n",
       "                 95% CI : (0.6563, 0.6732)\n",
       "    No Information Rate : 0.5386          \n",
       "    P-Value [Acc > NIR] : < 2.2e-16       \n",
       "                                          \n",
       "                  Kappa : 0.3426          \n",
       "                                          \n",
       " Mcnemar's Test P-Value : < 2.2e-16       \n",
       "\n",
       "Statistics by Class:\n",
       "\n",
       "                     Class: functional Class: functional needs repair\n",
       "Sensitivity                     0.8519                       0.033806\n",
       "Specificity                     0.4829                       0.995176\n",
       "Pos Pred Value                  0.6579                       0.364706\n",
       "Neg Pred Value                  0.7364                       0.926320\n",
       "Prevalence                      0.5386                       0.075723\n",
       "Detection Rate                  0.4589                       0.002560\n",
       "Detection Prevalence            0.6974                       0.007019\n",
       "Balanced Accuracy               0.6674                       0.514491\n",
       "                     Class: non functional\n",
       "Sensitivity                         0.5274\n",
       "Specificity                         0.8500\n",
       "Pos Pred Value                      0.6882\n",
       "Neg Pred Value                      0.7413\n",
       "Prevalence                          0.3856\n",
       "Detection Rate                      0.2034\n",
       "Detection Prevalence                0.2955\n",
       "Balanced Accuracy                   0.6887"
      ]
     },
     "metadata": {},
     "output_type": "display_data"
    }
   ],
   "source": [
    "library(caret)\n",
    "confusionMatrix(data=svm.predict, reference=factor(validation_set$id[-1]))"
   ]
  },
  {
   "cell_type": "markdown",
   "id": "chief-integral",
   "metadata": {},
   "source": [
    "Multiclass classification is now working, but only few instances are classifier as \"functional need repairs\""
   ]
  },
  {
   "cell_type": "markdown",
   "id": "exceptional-nepal",
   "metadata": {},
   "source": [
    "## Performing Grid search for the best parameters of the SVM with polynormial kernel"
   ]
  },
  {
   "cell_type": "code",
   "execution_count": 14,
   "id": "ethical-prefix",
   "metadata": {},
   "outputs": [
    {
     "name": "stdout",
     "output_type": "stream",
     "text": [
      "[1] 0.6244426\n",
      "[1] 0.5388935\n",
      "[1] 0.5388935\n",
      "[1] 0.6542527\n",
      "[1] 0.5480595\n",
      "[1] 0.5388935\n",
      "[1] 0.6624277\n",
      "[1] 0.5575557\n",
      "[1] 0.5391412\n"
     ]
    },
    {
     "data": {
      "text/html": [
       "<table class=\"dataframe\">\n",
       "<caption>A matrix: 3 × 3 of type dbl</caption>\n",
       "<thead>\n",
       "\t<tr><th></th><th scope=col>1</th><th scope=col>5</th><th scope=col>10</th></tr>\n",
       "</thead>\n",
       "<tbody>\n",
       "\t<tr><th scope=row>3</th><td>0.6244426</td><td>0.6542527</td><td>0.6624277</td></tr>\n",
       "\t<tr><th scope=row>5</th><td>0.5388935</td><td>0.5480595</td><td>0.5575557</td></tr>\n",
       "\t<tr><th scope=row>7</th><td>0.5388935</td><td>0.5388935</td><td>0.5391412</td></tr>\n",
       "</tbody>\n",
       "</table>\n"
      ],
      "text/latex": [
       "A matrix: 3 × 3 of type dbl\n",
       "\\begin{tabular}{r|lll}\n",
       "  & 1 & 5 & 10\\\\\n",
       "\\hline\n",
       "\t3 & 0.6244426 & 0.6542527 & 0.6624277\\\\\n",
       "\t5 & 0.5388935 & 0.5480595 & 0.5575557\\\\\n",
       "\t7 & 0.5388935 & 0.5388935 & 0.5391412\\\\\n",
       "\\end{tabular}\n"
      ],
      "text/markdown": [
       "\n",
       "A matrix: 3 × 3 of type dbl\n",
       "\n",
       "| <!--/--> | 1 | 5 | 10 |\n",
       "|---|---|---|---|\n",
       "| 3 | 0.6244426 | 0.6542527 | 0.6624277 |\n",
       "| 5 | 0.5388935 | 0.5480595 | 0.5575557 |\n",
       "| 7 | 0.5388935 | 0.5388935 | 0.5391412 |\n",
       "\n"
      ],
      "text/plain": [
       "  1         5         10       \n",
       "3 0.6244426 0.6542527 0.6624277\n",
       "5 0.5388935 0.5480595 0.5575557\n",
       "7 0.5388935 0.5388935 0.5391412"
      ]
     },
     "metadata": {},
     "output_type": "display_data"
    }
   ],
   "source": [
    "cost_list <- c(1, 5, 10)  # Too much overfitting after 10\n",
    "#coef0_list <- c(0.0, 1.0) # turn that off to start with\n",
    "degree_list <- c(3, 5, 7)  # Coefficient degrees -> too much overfitting can happen\n",
    "accuracy_matrix <- matrix(0, ncol=3, nrow=3, dimnames=list(degree_list, cost_list))\n",
    "\n",
    "for (i in 1:length(cost_list)) {\n",
    "    for (j in 1:length(degree_list)) {\n",
    "        cost_ <- cost_list[i]\n",
    "        deg_ <- degree_list[j]\n",
    "        svm_model_poly <- svm(id ~ ., data=training_set, kernel=\"polynomial\", cost=cost_, degree=deg_, scale=FALSE)\n",
    "        svm.predict <- predict(svm_model_poly, validation_set)\n",
    "        ag <- classAgreement(table(pred=svm.predict, true=validation_set$id[-1]))\n",
    "        accuracy_matrix[j, i] <- ag$diag\n",
    "        print(ag$diag)\n",
    "    }\n",
    "}\n",
    "\n",
    "accuracy_matrix"
   ]
  },
  {
   "cell_type": "code",
   "execution_count": 15,
   "id": "fifteen-arrest",
   "metadata": {},
   "outputs": [],
   "source": [
    "save(svm_model_poly, file=\"4-Models/svm_poly_classifier.RData\")"
   ]
  },
  {
   "cell_type": "code",
   "execution_count": null,
   "id": "breathing-sheet",
   "metadata": {},
   "outputs": [],
   "source": []
  }
 ],
 "metadata": {
  "kernelspec": {
   "display_name": "R",
   "language": "R",
   "name": "ir"
  },
  "language_info": {
   "codemirror_mode": "r",
   "file_extension": ".r",
   "mimetype": "text/x-r-source",
   "name": "R",
   "pygments_lexer": "r",
   "version": "4.0.3"
  }
 },
 "nbformat": 4,
 "nbformat_minor": 5
}

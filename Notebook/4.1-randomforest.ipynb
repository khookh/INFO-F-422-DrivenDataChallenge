{
 "cells": [
  {
   "cell_type": "markdown",
   "metadata": {},
   "source": [
    "# Model Selection : Random Forest\n",
    "This part aims to assess the performances of the random forest model"
   ]
  },
  {
   "cell_type": "code",
   "execution_count": 3,
   "metadata": {},
   "outputs": [],
   "source": [
    "library(randomForest)\n",
    "training_set <- read.csv(\"../Data/PreProcess/processed_training_data_split.csv\")\n",
    "validation_set <- read.csv(\"../Data/PreProcess/processed_verification_data_split.csv\")"
   ]
  },
  {
   "cell_type": "code",
   "execution_count": 68,
   "metadata": {},
   "outputs": [],
   "source": [
    "column_to_drop<-c(\"X.1\",\"X\")\n",
    "training_set<-training_set[,!(names(training_set) %in% column_to_drop)] # drop the desired columns\n",
    "validation_set<-validation_set[,!(names(validation_set) %in% column_to_drop)] # drop the desired columns"
   ]
  },
  {
   "cell_type": "markdown",
   "metadata": {},
   "source": []
  },
  {
   "cell_type": "code",
   "execution_count": 70,
   "metadata": {
    "scrolled": true
   },
   "outputs": [],
   "source": [
    "training_set$id = factor(training_set$id) \n",
    "pump_classifier = randomForest(id ~ ., data=training_set, ntree=250,  mtry=28, importance=TRUE)\n",
    "#bench (funder, installer, ward dropped)\n",
    "#tree : 100 , split : 8 , error rate : 22.36% -> ~90% error rate at functional needs repair (worst class) (77% accuracy on val set)\n",
    "#tree : 200 , split : 8 , error rate : 22.43%\n",
    "#tree : 80 , split : 8, error rate : 22.49%\n",
    "#tree : 100 , split : 10, error rate : 21.84%\n",
    "#tree : 120 , split : 10, error rate : 21.82% \n",
    "#tree : 150 , split : 12, error rate : 21.47%  -> ~83% error rate ..... (78% acc. on val. set)\n",
    "#tree : 120 , split : 15, error rate : 21.35% -> ~80% error rate at functional needs repair \n",
    "#tree : 250, split : 15, error rate : 21.35% -> ~80% error rate at functional needs repair \n",
    "#tree : 250, split : 8, error rate : 22.26% -> ~90% error rate at functional needs repair\n",
    "#tree : 120, split : 20, error rate : 21.21% -> ~77% error rate at functional needs repair\n",
    "#tree : 120, split : 35, error rate : 21.59% -> ~75% error rate at functional needs repair (78% accuracy on validation set)\n",
    "#tree : 200, split : 25, error rate : 21.13% -> ~75% error rate at functional needs repair (78% acc. on val. set-)\n",
    "#tree : 250, split : 28, error rate : 21.12% -> ~75% error rate at functional needs repair (78% acc. on val. set-)\n",
    "#tree : 500, split : 25, error rate : 21.2% -> ~76% error rate at functional needs repair (78 % acc. on val. set-)\n",
    "#(error rate = OOB)\n",
    "\n",
    "# increasing tree number decreases the variance and keeps the bias constant -> good way to avoid overfitting\n",
    "\n",
    "\n"
   ]
  },
  {
   "cell_type": "markdown",
   "metadata": {},
   "source": [
    "## For now : best parameters are at 250 trees and 28 random features per tree\n",
    "### results -> 78% accuracy on validation set BUT still 75% of error rate for the 'functional needs repair' class\n",
    "\n",
    "## Model Performances (OOB) :"
   ]
  },
  {
   "cell_type": "code",
   "execution_count": 71,
   "metadata": {},
   "outputs": [
    {
     "data": {
      "text/plain": [
       "\n",
       "Call:\n",
       " randomForest(formula = id ~ ., data = training_set, ntree = 250,      mtry = 28, importance = TRUE) \n",
       "               Type of random forest: classification\n",
       "                     Number of trees: 250\n",
       "No. of variables tried at each split: 28\n",
       "\n",
       "        OOB estimate of  error rate: 21.12%\n",
       "Confusion matrix:\n",
       "                        functional functional needs repair non functional\n",
       "functional                   22847                     449           2439\n",
       "functional needs repair       1952                     836            612\n",
       "non functional                4300                     237          13617\n",
       "                        class.error\n",
       "functional                0.1122207\n",
       "functional needs repair   0.7541176\n",
       "non functional            0.2499174"
      ]
     },
     "metadata": {},
     "output_type": "display_data"
    },
    {
     "data": {
      "image/png": "[encoded data removed]",
      "text/plain": [
       "plot without title"
      ]
     },
     "metadata": {
      "image/png": {
       "height": 420,
       "width": 420
      }
     },
     "output_type": "display_data"
    }
   ],
   "source": [
    "pump_classifier\n",
    "varImpPlot(pump_classifier, n.var=min(25, nrow(pump_classifier$importance)))\n",
    "# --> high mean decrease accuracy = variable having a high impact on accuracy"
   ]
  },
  {
   "cell_type": "markdown",
   "metadata": {},
   "source": [
    "### The variables having the highest (positive) impact on model performances are : *quantity*, *construction_year*, *population* and *permit*"
   ]
  },
  {
   "cell_type": "markdown",
   "metadata": {},
   "source": [
    "## Confusion Matrix on Validation Set :"
   ]
  },
  {
   "cell_type": "code",
   "execution_count": 72,
   "metadata": {},
   "outputs": [
    {
     "data": {
      "text/html": [
       "<style>\n",
       ".list-inline {list-style: none; margin:0; padding: 0}\n",
       ".list-inline>li {display: inline-block}\n",
       ".list-inline>li:not(:last-child)::after {content: \"\\00b7\"; padding: 0 .5ex}\n",
       "</style>\n",
       "<ol class=list-inline><li>12111</li><li>81</li></ol>\n"
      ],
      "text/latex": [
       "\\begin{enumerate*}\n",
       "\\item 12111\n",
       "\\item 81\n",
       "\\end{enumerate*}\n"
      ],
      "text/markdown": [
       "1. 12111\n",
       "2. 81\n",
       "\n",
       "\n"
      ],
      "text/plain": [
       "[1] 12111    81"
      ]
     },
     "metadata": {},
     "output_type": "display_data"
    },
    {
     "data": {
      "text/plain": [
       "                         predicted\n",
       "observed                  functional functional needs repair non functional\n",
       "  functional                    5747                     152            624\n",
       "  functional needs repair        537                     237            143\n",
       "  non functional                1146                      53           3471"
      ]
     },
     "metadata": {},
     "output_type": "display_data"
    }
   ],
   "source": [
    "library(ROCR)\n",
    "pred <- predict(pump_classifier,validation_set) # Model prediction on validation set\n",
    "dim(validation_set)\n",
    "table(observed=validation_set$id,predicted=pred) # CONFUSION MATRIX ON VALIDATION SET"
   ]
  },
  {
   "cell_type": "code",
   "execution_count": null,
   "metadata": {},
   "outputs": [],
   "source": []
  }
 ],
 "metadata": {
  "kernelspec": {
   "display_name": "R",
   "language": "R",
   "name": "ir"
  },
  "language_info": {
   "codemirror_mode": "r",
   "file_extension": ".r",
   "mimetype": "text/x-r-source",
   "name": "R",
   "pygments_lexer": "r",
   "version": "4.0.5"
  }
 },
 "nbformat": 4,
 "nbformat_minor": 4
}

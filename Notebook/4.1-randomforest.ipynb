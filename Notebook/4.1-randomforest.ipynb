{
 "cells": [
  {
   "cell_type": "markdown",
   "metadata": {},
   "source": [
    "# Model Selection : Random Forest\n",
    "This part aims to assess the performances of the random forest model"
   ]
  },
  {
   "cell_type": "code",
   "execution_count": 1,
   "metadata": {},
   "outputs": [],
   "source": [
    "library(randomForest)\n",
    "training_set <- read.csv(\"../Data/PreProcess/processed_training_data_split.csv\")\n",
    "validation_set <- read.csv(\"../Data/PreProcess/processed_verification_data_split.csv\") # load training and validation sets"
   ]
  },
  {
   "cell_type": "code",
   "execution_count": 2,
   "metadata": {},
   "outputs": [],
   "source": [
    "column_to_drop<-c(\"X.1\",\"X\",\"wind.powered\",\"dam\",\"None\",\"X40\")\n",
    "# Dropped \"X.1\",\"X\" because they just represent the row number\n",
    "# Also dropped \"wind.powered\",\"dam\",\"None\" and \"X40\" because they mean decrease accuracy was 0\n",
    "training_set<-training_set[,!(names(training_set) %in% column_to_drop)] # drop the desired columns on training set\n",
    "validation_set<-validation_set[,!(names(validation_set) %in% column_to_drop)] # drop the desired columns on validation set"
   ]
  },
  {
   "cell_type": "markdown",
   "metadata": {},
   "source": [
    "## Model Setting and Training : "
   ]
  },
  {
   "cell_type": "code",
   "execution_count": null,
   "metadata": {
    "scrolled": true
   },
   "outputs": [],
   "source": [
    "training_set$id = factor(training_set$id) \n",
    "classifierRF = randomForest(id ~ ., data=training_set, ntree=450,  mtry=17, importance=TRUE)\n",
    "save(classifierRF,file = \"4-Models/random_forest.RData\")\n",
    "#bench (funder, installer and  ward dropped)\n",
    "#tree : 100 , split : 8 , error rate : 22.36% -> ~90% error rate at functional needs repair (worst class) (77% accuracy on val set)\n",
    "#tree : 200 , split : 8 , error rate : 22.43%\n",
    "#tree : 80 , split : 8, error rate : 22.49%  \n",
    "#tree : 100 , split : 10, error rate : 21.84%\n",
    "#tree : 120 , split : 10, error rate : 21.82%\n",
    "#tree : 150 , split : 12, error rate : 21.47%  -> ~83% error rate ..... (78% acc. on val. set)\n",
    "#tree : 120 , split : 15, error rate : 21.35% -> ~80% error rate at functional needs repair \n",
    "#tree : 250, split : 15, error rate : 21.35% -> ~80% error rate at functional needs repair \n",
    "#tree : 250, split : 8, error rate : 22.26% -> ~90% error rate at functional needs repair\n",
    "#tree : 120, split : 20, error rate : 21.21% -> ~77% error rate at functional needs repair\n",
    "#tree : 120, split : 35, error rate : 21.59% -> ~75% error rate at functional needs repair (78% accuracy on validation set)\n",
    "#tree : 200, split : 25, error rate : 21.13% -> ~75% error rate at functional needs repair (78% acc. on val. set-)\n",
    "#tree : 250, split : 28, error rate : 21.12% -> ~75% error rate at functional needs repair (78% acc. on val. set-)\n",
    "#tree : 500, split : 25, error rate : 21.2% -> ~76% error rate at functional needs repair (78 % acc. on val. set-)\n",
    "#(error rate = OOB)\n",
    "\n",
    "# increasing tree number decreases the variance and keeps the bias constant -> good way to avoid overfitting\n",
    "\n",
    "# bench with classified funder (big/small):\n",
    "#tree : 450, split : 20, error rate : 20.99% -> 76% error rate at functional needs repair (78.4% acc. on val. set-)\n",
    "#tree : 600, split : 18, error rate : 20.94% ->77 % error rate at functional needs repair (78.3% acc. on val. set-)\n",
    "#tree : 450, split : 18, error rate : 20.88% -> 77% error rate at functional needs repair (78.52% acc. on val. set-)\n",
    "#tree : 350, split : 18, error rate : 21% ->77 % error rate at functional needs repair (78.48% acc. on val. set-)\n",
    "#tree : 350, split : 20, error rate : 21% ->76 % error rate at functional needs repair (78.4% acc. on val. set-)\n",
    "#tree : 350, split : 23, error rate : 21.07% ->75.2 % error rate at functional needs repair (78.4% acc. on val. set-)\n",
    "#tree : 350, split : 25, error rate : 21.1% -> 74.5% error rate at functional needs repair (78% acc. on val. set-)\n",
    "#tree : 350, split : 29, error rate : 21.24% -> 73.5% error rate at functional needs repair (78.3% acc. on val. set-)\n",
    "#tree : 350, split : 27, error rate : 21.29% -> 74.4% error rate at functional needs repair (78.3% acc. on val. set-)\n",
    "#tree : 350, split : 32, error rate : 21.35% -> 73.5% error rate at functional needs repair (78.4% acc. on val. set-)\n"
   ]
  },
  {
   "cell_type": "markdown",
   "metadata": {},
   "source": [
    "## For now : best parameters are at 450 trees and 18 random features per tree (wth funders)\n",
    "### results -> 78.5% accuracy on validation set BUT still 77% of error rate for the 'functional needs repair' class\n",
    "## Model Performances (OOB) :"
   ]
  },
  {
   "cell_type": "code",
   "execution_count": null,
   "metadata": {},
   "outputs": [],
   "source": [
    "load(\"4-Models/random_forest.RData\")\n",
    "classifierRF # training outcome\n",
    "varImpPlot(classifierRF, n.var=min(25, nrow(classifierRF$importance))) # plot mean decrease accuracy per variables\n",
    "# --> high mean decrease accuracy = variable having a high impact on accuracy\n",
    "imp<-data.frame(classifierRF$importance)\n",
    "imp<-imp[order(imp$MeanDecreaseAccuracy),]\n",
    "imp"
   ]
  },
  {
   "cell_type": "markdown",
   "metadata": {},
   "source": [
    "### The variables having the highest (positive) impact on model performances are : *quantity*, *construction_year*, *population* and *permit*"
   ]
  },
  {
   "cell_type": "markdown",
   "metadata": {},
   "source": [
    "## Confusion Matrix on Validation Set :"
   ]
  },
  {
   "cell_type": "code",
   "execution_count": null,
   "metadata": {},
   "outputs": [],
   "source": [
    "library(ROCR)\n",
    "pred <- predict(classifierRF,validation_set) # Model prediction on validation set\n",
    "dim(validation_set)\n",
    "table(observed=validation_set$id,predicted=pred) # CONFUSION MATRIX ON VALIDATION SET"
   ]
  },
  {
   "cell_type": "code",
   "execution_count": null,
   "metadata": {},
   "outputs": [],
   "source": []
  }
 ],
 "metadata": {
  "kernelspec": {
   "display_name": "R",
   "language": "R",
   "name": "ir"
  },
  "language_info": {
   "codemirror_mode": "r",
   "file_extension": ".r",
   "mimetype": "text/x-r-source",
   "name": "R",
   "pygments_lexer": "r",
   "version": "4.0.3"
  }
 },
 "nbformat": 4,
 "nbformat_minor": 4
}

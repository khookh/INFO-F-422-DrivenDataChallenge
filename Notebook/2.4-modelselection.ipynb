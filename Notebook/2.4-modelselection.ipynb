{
 "cells": [
  {
   "cell_type": "markdown",
   "metadata": {},
   "source": [
    "# INFO-F-422 -  Statistical Foundations of Machine Learning \n",
    "\n",
    "### Couchard Darious - __[Darius.Couchard@ulb.be](mailto:Darius.Couchard@ulb.be) - Student ID 425366__\n",
    "### Donne Stefano - __[Stefano.Donne@ulb.be](mailto:Stefano.Donne@ulb.be) - Student ID 408801__\n",
    "### Parent Paul - __[Paul.Parent@ulb.be](mailto:Paul.Parent@ulb.be) - Student ID 495257__\n"
   ]
  },
  {
   "cell_type": "markdown",
   "metadata": {},
   "source": [
    "## -This section aims to assess and compare the performances of the models implemented in the sections 2.1, 2.2 and 2.3"
   ]
  },
  {
   "cell_type": "code",
   "execution_count": 2,
   "metadata": {},
   "outputs": [],
   "source": [
    "library(randomForest)\n",
    "library(caret)\n",
    "library(e1071)\n",
    "validation_set <- read.csv(\"../Data/PreProcess/processed_verification_data_split.csv\") # load validation set\n",
    "column_to_drop<-c(\"X.1\",\"X\")\n",
    "# Dropped \"X.1\",\"X\" because they just represent the row numbers\n",
    "validation_set<-validation_set[,!(names(validation_set) %in% column_to_drop)] # drop the desired columns on validation set"
   ]
  },
  {
   "cell_type": "markdown",
   "metadata": {},
   "source": [
    "### Random Forest"
   ]
  },
  {
   "cell_type": "code",
   "execution_count": 5,
   "metadata": {},
   "outputs": [
    {
     "data": {
      "text/plain": [
       "                         Reference\n",
       "Prediction                functional functional needs repair non functional\n",
       "  functional                    5784                     549           1152\n",
       "  functional needs repair        125                     224             43\n",
       "  non functional                 614                     144           3475"
      ]
     },
     "metadata": {},
     "output_type": "display_data"
    },
    {
     "data": {
      "text/html": [
       "<strong>Accuracy:</strong> 0.783071841453344"
      ],
      "text/latex": [
       "\\textbf{Accuracy:} 0.783071841453344"
      ],
      "text/markdown": [
       "**Accuracy:** 0.783071841453344"
      ],
      "text/plain": [
       " Accuracy \n",
       "0.7830718 "
      ]
     },
     "metadata": {},
     "output_type": "display_data"
    },
    {
     "data": {
      "text/html": [
       "<strong>Kappa:</strong> 0.590565986911355"
      ],
      "text/latex": [
       "\\textbf{Kappa:} 0.590565986911355"
      ],
      "text/markdown": [
       "**Kappa:** 0.590565986911355"
      ],
      "text/plain": [
       "   Kappa \n",
       "0.590566 "
      ]
     },
     "metadata": {},
     "output_type": "display_data"
    }
   ],
   "source": [
    "load(\"4-Models/random_forest.RData\") # load Random Forest trained model -> name : classifierRF\n",
    "\n",
    "pred <- predict(classifierRF,validation_set, type = \"class\") # Random Forest model prediction on validation set\n",
    "\n",
    "\n",
    "cmRF <- confusionMatrix(data=pred, reference = factor(validation_set$id)) # Random Forest Confusion Matrix on validation set\n",
    "\n",
    "\n",
    "kpRF <- cmRF$overall[\"Kappa\"] # Cohen's Kappa coefficient, allows to indicate the level of agreement between prediction and expected\n",
    "                          # Allows to take into account the proportion of false negative https://thenewstack.io/cohens-kappa-what-it-is-when-to-use-it-and-how-to-avoid-its-pitfalls/\n",
    "acRF <- cmRF$overall[\"Accuracy\"] # Accuracy (CM diagonal)\n",
    "\n",
    "classRF <- cmRF$byClass # Interesting metrics to characterize each class predictions\n",
    "\n",
    "sensRF <- classRF[,'Sensitivity'] # Sensitivity = (True Positive)/(True Positive + False Negative) per class (= Recall here)\n",
    "\n",
    "cmRF$table # Confusion Matrix displayed \n",
    "#classRF\n",
    "acRF\n",
    "kpRF\n"
   ]
  },
  {
   "cell_type": "markdown",
   "metadata": {},
   "source": [
    "### SVM"
   ]
  },
  {
   "cell_type": "code",
   "execution_count": 4,
   "metadata": {},
   "outputs": [
    {
     "data": {
      "text/plain": [
       "                         Reference\n",
       "Prediction                functional functional needs repair non functional\n",
       "  functional                    5560                     709           2191\n",
       "  functional needs repair         29                      29             24\n",
       "  non functional                 934                     179           2455"
      ]
     },
     "metadata": {},
     "output_type": "display_data"
    },
    {
     "data": {
      "text/html": [
       "<strong>Accuracy:</strong> 0.664244426094137"
      ],
      "text/latex": [
       "\\textbf{Accuracy:} 0.664244426094137"
      ],
      "text/markdown": [
       "**Accuracy:** 0.664244426094137"
      ],
      "text/plain": [
       " Accuracy \n",
       "0.6642444 "
      ]
     },
     "metadata": {},
     "output_type": "display_data"
    },
    {
     "data": {
      "text/html": [
       "<strong>Kappa:</strong> 0.341102446379934"
      ],
      "text/latex": [
       "\\textbf{Kappa:} 0.341102446379934"
      ],
      "text/markdown": [
       "**Kappa:** 0.341102446379934"
      ],
      "text/plain": [
       "    Kappa \n",
       "0.3411024 "
      ]
     },
     "metadata": {},
     "output_type": "display_data"
    }
   ],
   "source": [
    "load(\"4-Models/svm_poly_classifier.RData\") # loads SVM classifier -> name: svm_model_poly\n",
    "\n",
    "pred <- predict(svm_model_poly, validation_set, probability=TRUE) # SVM prediction on validation set\n",
    "\n",
    "cmSVM <- confusionMatrix(data=pred, reference=factor(validation_set$id[-1]))\n",
    "\n",
    "kpSVM <- cmSVM$overall[\"Kappa\"] \n",
    "acSVM <- cmSVM$overall[\"Accuracy\"]\n",
    "sensSVM <- cmSVM$byClass[,'Sensitivity']\n",
    "cmSVM$table\n",
    "acSVM\n",
    "kpSVM"
   ]
  },
  {
   "cell_type": "markdown",
   "metadata": {},
   "source": [
    "Around 66% of accuracy for the SVM classification. There are issues with the \"functional needs repair\" class."
   ]
  },
  {
   "cell_type": "markdown",
   "metadata": {},
   "source": [
    "### Neural Network"
   ]
  },
  {
   "cell_type": "code",
   "execution_count": 6,
   "metadata": {},
   "outputs": [
    {
     "data": {
      "text/plain": [
       "                         \n",
       "pred_nn11                 functional functional needs repair non functional\n",
       "  functional                    5781                     655           1422\n",
       "  functional needs repair         81                      79             32\n",
       "  non functional                 661                     183           3216"
      ]
     },
     "metadata": {},
     "output_type": "display_data"
    },
    {
     "data": {
      "text/html": [
       "<strong>Accuracy:</strong> 0.749463253509496"
      ],
      "text/latex": [
       "\\textbf{Accuracy:} 0.749463253509496"
      ],
      "text/markdown": [
       "**Accuracy:** 0.749463253509496"
      ],
      "text/plain": [
       " Accuracy \n",
       "0.7494633 "
      ]
     },
     "metadata": {},
     "output_type": "display_data"
    },
    {
     "data": {
      "text/html": [
       "<strong>Kappa:</strong> 0.518192309585675"
      ],
      "text/latex": [
       "\\textbf{Kappa:} 0.518192309585675"
      ],
      "text/markdown": [
       "**Kappa:** 0.518192309585675"
      ],
      "text/plain": [
       "    Kappa \n",
       "0.5181923 "
      ]
     },
     "metadata": {},
     "output_type": "display_data"
    }
   ],
   "source": [
    "load(\"4-Models/nn_model_classifier.RData\") # load Neural network trained model -> name : nn_model_classifier\n",
    "\n",
    "pred_nn11 <- predict(nn11, validation_set, type = \"class\")\n",
    "\n",
    "cmNN <- confusionMatrix(table(pred_nn11, validation_set$id))\n",
    "\n",
    "kpNN <- cmNN$overall[\"Kappa\"] \n",
    "acNN <- cmNN$overall[\"Accuracy\"]\n",
    "sensNN <- cmNN$byClass[,'Sensitivity']\n",
    "cmNN$table\n",
    "acNN\n",
    "kpNN"
   ]
  },
  {
   "cell_type": "markdown",
   "metadata": {},
   "source": [
    "## -Models comparison :\n",
    "#### The following plots are a good way to synthetize the predictions made on the evaluation set for each model.\n",
    "#### The Accuracy is the principal metric to assess the models performances.\n",
    "#### But the Cohen's Kappa coefficient and the Sensitivity are also interesting to have a more in-depth analysis of the predictions with a consideration for false-positive and false-negative occurences."
   ]
  },
  {
   "cell_type": "code",
   "execution_count": 7,
   "metadata": {},
   "outputs": [
    {
     "data": {
      "image/png": "[encoded data removed]",
      "text/plain": [
       "Plot with title \"Models Accuracy\""
      ]
     },
     "metadata": {
      "image/png": {
       "height": 420,
       "width": 420
      }
     },
     "output_type": "display_data"
    },
    {
     "data": {
      "image/png": "[encoded data removed]",
      "text/plain": [
       "Plot with title \"Models Kappa Coef.\""
      ]
     },
     "metadata": {
      "image/png": {
       "height": 420,
       "width": 420
      }
     },
     "output_type": "display_data"
    },
    {
     "data": {
      "image/png": "[encoded data removed]",
      "text/plain": [
       "Plot with title \"Models Sensitivity by Class\""
      ]
     },
     "metadata": {
      "image/png": {
       "height": 420,
       "width": 420
      }
     },
     "output_type": "display_data"
    }
   ],
   "source": [
    "acTAB <-  matrix(c(acRF,acSVM,acNN),ncol=3,byrow=TRUE)\n",
    "colnames(acTAB)<-c(\"Random Forest\",\"SVM\",\"Neural Net.\")\n",
    "barplot(as.table(acTAB),main=\"Models Accuracy\",col=c(\"darkblue\"))\n",
    "\n",
    "kpTAB <-  matrix(c(kpRF,kpSVM,kpNN),ncol=3,byrow=TRUE)\n",
    "colnames(kpTAB)<-c(\"Random Forest\",\"SVM\",\"Neural Net.\")\n",
    "barplot(as.table(kpTAB),main=\"Models Kappa Coef.\",col=c(\"darkblue\"))\n",
    "\n",
    "sensTAB <-  matrix(c(sensRF,sensSVM,sensNN),ncol=3,byrow=TRUE)\n",
    "rownames(sensTAB)<-c(\"Random Forest\",\"SVM\",\"Neural Net.\")\n",
    "colnames(sensTAB)<-c(\"functional\",\"functional needs repair\",\"non functional\")\n",
    "\n",
    "barplot(as.table(t(sensTAB)),main=\"Models Sensitivity by Class\",beside=TRUE,col=c(\"green\",\"orange\",\"red\"),legend = colnames(sensTAB))\n"
   ]
  },
  {
   "cell_type": "markdown",
   "metadata": {},
   "source": [
    "### In this case the Random Forest implementation has shown to be better in each metric, allowing us to conclude that this model is performing better on the validation set.\n",
    "### It is also important to note that each model struggle with the *function needs repair* class, there's a lot of false negative prediction in this class (shown by low Sensitivy levels) but also many false positive."
   ]
  }
 ],
 "metadata": {
  "kernelspec": {
   "display_name": "R",
   "language": "R",
   "name": "ir"
  },
  "language_info": {
   "codemirror_mode": "r",
   "file_extension": ".r",
   "mimetype": "text/x-r-source",
   "name": "R",
   "pygments_lexer": "r",
   "version": "4.0.5"
  }
 },
 "nbformat": 4,
 "nbformat_minor": 4
}

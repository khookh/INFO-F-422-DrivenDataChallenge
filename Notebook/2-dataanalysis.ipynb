{
 "cells": [
  {
   "cell_type": "markdown",
   "id": "soviet-algebra",
   "metadata": {},
   "source": [
    "# Data analysis\n",
    "\n",
    "## Analysis of each variable\n",
    "\n",
    "All the variables will be analysed one by one, as some of them aren't representative of the problem and can be ommited."
   ]
  },
  {
   "cell_type": "code",
   "execution_count": 1,
   "id": "advisory-cherry",
   "metadata": {},
   "outputs": [
    {
     "data": {
      "text/html": [
       "<style>\n",
       ".list-inline {list-style: none; margin:0; padding: 0}\n",
       ".list-inline>li {display: inline-block}\n",
       ".list-inline>li:not(:last-child)::after {content: \"\\00b7\"; padding: 0 .5ex}\n",
       "</style>\n",
       "<ol class=list-inline><li>59400</li><li>41</li></ol>\n"
      ],
      "text/latex": [
       "\\begin{enumerate*}\n",
       "\\item 59400\n",
       "\\item 41\n",
       "\\end{enumerate*}\n"
      ],
      "text/markdown": [
       "1. 59400\n",
       "2. 41\n",
       "\n",
       "\n"
      ],
      "text/plain": [
       "[1] 59400    41"
      ]
     },
     "metadata": {},
     "output_type": "display_data"
    },
    {
     "data": {
      "text/html": [
       "<style>\n",
       ".list-inline {list-style: none; margin:0; padding: 0}\n",
       ".list-inline>li {display: inline-block}\n",
       ".list-inline>li:not(:last-child)::after {content: \"\\00b7\"; padding: 0 .5ex}\n",
       "</style>\n",
       "<ol class=list-inline><li>'id'</li><li>'amount_tsh'</li><li>'date_recorded'</li><li>'funder'</li><li>'gps_height'</li><li>'installer'</li><li>'longitude'</li><li>'latitude'</li><li>'wpt_name'</li><li>'num_private'</li><li>'basin'</li><li>'subvillage'</li><li>'region'</li><li>'region_code'</li><li>'district_code'</li><li>'lga'</li><li>'ward'</li><li>'population'</li><li>'public_meeting'</li><li>'recorded_by'</li><li>'scheme_management'</li><li>'scheme_name'</li><li>'permit'</li><li>'construction_year'</li><li>'extraction_type'</li><li>'extraction_type_group'</li><li>'extraction_type_class'</li><li>'management'</li><li>'management_group'</li><li>'payment'</li><li>'payment_type'</li><li>'water_quality'</li><li>'quality_group'</li><li>'quantity'</li><li>'quantity_group'</li><li>'source'</li><li>'source_type'</li><li>'source_class'</li><li>'waterpoint_type'</li><li>'waterpoint_type_group'</li><li>'status_group'</li></ol>\n"
      ],
      "text/latex": [
       "\\begin{enumerate*}\n",
       "\\item 'id'\n",
       "\\item 'amount\\_tsh'\n",
       "\\item 'date\\_recorded'\n",
       "\\item 'funder'\n",
       "\\item 'gps\\_height'\n",
       "\\item 'installer'\n",
       "\\item 'longitude'\n",
       "\\item 'latitude'\n",
       "\\item 'wpt\\_name'\n",
       "\\item 'num\\_private'\n",
       "\\item 'basin'\n",
       "\\item 'subvillage'\n",
       "\\item 'region'\n",
       "\\item 'region\\_code'\n",
       "\\item 'district\\_code'\n",
       "\\item 'lga'\n",
       "\\item 'ward'\n",
       "\\item 'population'\n",
       "\\item 'public\\_meeting'\n",
       "\\item 'recorded\\_by'\n",
       "\\item 'scheme\\_management'\n",
       "\\item 'scheme\\_name'\n",
       "\\item 'permit'\n",
       "\\item 'construction\\_year'\n",
       "\\item 'extraction\\_type'\n",
       "\\item 'extraction\\_type\\_group'\n",
       "\\item 'extraction\\_type\\_class'\n",
       "\\item 'management'\n",
       "\\item 'management\\_group'\n",
       "\\item 'payment'\n",
       "\\item 'payment\\_type'\n",
       "\\item 'water\\_quality'\n",
       "\\item 'quality\\_group'\n",
       "\\item 'quantity'\n",
       "\\item 'quantity\\_group'\n",
       "\\item 'source'\n",
       "\\item 'source\\_type'\n",
       "\\item 'source\\_class'\n",
       "\\item 'waterpoint\\_type'\n",
       "\\item 'waterpoint\\_type\\_group'\n",
       "\\item 'status\\_group'\n",
       "\\end{enumerate*}\n"
      ],
      "text/markdown": [
       "1. 'id'\n",
       "2. 'amount_tsh'\n",
       "3. 'date_recorded'\n",
       "4. 'funder'\n",
       "5. 'gps_height'\n",
       "6. 'installer'\n",
       "7. 'longitude'\n",
       "8. 'latitude'\n",
       "9. 'wpt_name'\n",
       "10. 'num_private'\n",
       "11. 'basin'\n",
       "12. 'subvillage'\n",
       "13. 'region'\n",
       "14. 'region_code'\n",
       "15. 'district_code'\n",
       "16. 'lga'\n",
       "17. 'ward'\n",
       "18. 'population'\n",
       "19. 'public_meeting'\n",
       "20. 'recorded_by'\n",
       "21. 'scheme_management'\n",
       "22. 'scheme_name'\n",
       "23. 'permit'\n",
       "24. 'construction_year'\n",
       "25. 'extraction_type'\n",
       "26. 'extraction_type_group'\n",
       "27. 'extraction_type_class'\n",
       "28. 'management'\n",
       "29. 'management_group'\n",
       "30. 'payment'\n",
       "31. 'payment_type'\n",
       "32. 'water_quality'\n",
       "33. 'quality_group'\n",
       "34. 'quantity'\n",
       "35. 'quantity_group'\n",
       "36. 'source'\n",
       "37. 'source_type'\n",
       "38. 'source_class'\n",
       "39. 'waterpoint_type'\n",
       "40. 'waterpoint_type_group'\n",
       "41. 'status_group'\n",
       "\n",
       "\n"
      ],
      "text/plain": [
       " [1] \"id\"                    \"amount_tsh\"            \"date_recorded\"        \n",
       " [4] \"funder\"                \"gps_height\"            \"installer\"            \n",
       " [7] \"longitude\"             \"latitude\"              \"wpt_name\"             \n",
       "[10] \"num_private\"           \"basin\"                 \"subvillage\"           \n",
       "[13] \"region\"                \"region_code\"           \"district_code\"        \n",
       "[16] \"lga\"                   \"ward\"                  \"population\"           \n",
       "[19] \"public_meeting\"        \"recorded_by\"           \"scheme_management\"    \n",
       "[22] \"scheme_name\"           \"permit\"                \"construction_year\"    \n",
       "[25] \"extraction_type\"       \"extraction_type_group\" \"extraction_type_class\"\n",
       "[28] \"management\"            \"management_group\"      \"payment\"              \n",
       "[31] \"payment_type\"          \"water_quality\"         \"quality_group\"        \n",
       "[34] \"quantity\"              \"quantity_group\"        \"source\"               \n",
       "[37] \"source_type\"           \"source_class\"          \"waterpoint_type\"      \n",
       "[40] \"waterpoint_type_group\" \"status_group\"         "
      ]
     },
     "metadata": {},
     "output_type": "display_data"
    }
   ],
   "source": [
    "training_set<-read.csv(\"../Data/TrainingSet/4910797b-ee55-40a7-8668-10efd5c1b960.csv\",header=TRUE) # loads the training set csv file (it's magic)\n",
    "training_labels<-read.csv(\"../Data/TrainingLabel/0bf8bc6e-30d0-4c50-956a-603fc693d966.csv\", header=TRUE) # Loads the corresponding labels\n",
    "training_set <- merge(training_set, training_labels)\n",
    "dim(training_set)\n",
    "names(training_set)"
   ]
  },
  {
   "cell_type": "markdown",
   "id": "stunning-david",
   "metadata": {},
   "source": [
    "## List of categories for a column and count their occurence"
   ]
  },
  {
   "cell_type": "code",
   "execution_count": 3,
   "id": "tracked-occurrence",
   "metadata": {},
   "outputs": [
    {
     "data": {
      "text/html": [
       "<table class=\"dataframe\">\n",
       "<caption>A data.frame: 13 × 2</caption>\n",
       "<thead>\n",
       "\t<tr><th scope=col>scheme_management</th><th scope=col>Freq</th></tr>\n",
       "\t<tr><th scope=col>&lt;fct&gt;</th><th scope=col>&lt;int&gt;</th></tr>\n",
       "</thead>\n",
       "<tbody>\n",
       "\t<tr><td>                </td><td> 3877</td></tr>\n",
       "\t<tr><td>Company         </td><td> 1061</td></tr>\n",
       "\t<tr><td>None            </td><td>    1</td></tr>\n",
       "\t<tr><td>Other           </td><td>  766</td></tr>\n",
       "\t<tr><td>Parastatal      </td><td> 1680</td></tr>\n",
       "\t<tr><td>Private operator</td><td> 1063</td></tr>\n",
       "\t<tr><td>SWC             </td><td>   97</td></tr>\n",
       "\t<tr><td>Trust           </td><td>   72</td></tr>\n",
       "\t<tr><td>VWC             </td><td>36793</td></tr>\n",
       "\t<tr><td>Water authority </td><td> 3153</td></tr>\n",
       "\t<tr><td>Water Board     </td><td> 2748</td></tr>\n",
       "\t<tr><td>WUA             </td><td> 2883</td></tr>\n",
       "\t<tr><td>WUG             </td><td> 5206</td></tr>\n",
       "</tbody>\n",
       "</table>\n"
      ],
      "text/latex": [
       "A data.frame: 13 × 2\n",
       "\\begin{tabular}{ll}\n",
       " scheme\\_management & Freq\\\\\n",
       " <fct> & <int>\\\\\n",
       "\\hline\n",
       "\t                  &  3877\\\\\n",
       "\t Company          &  1061\\\\\n",
       "\t None             &     1\\\\\n",
       "\t Other            &   766\\\\\n",
       "\t Parastatal       &  1680\\\\\n",
       "\t Private operator &  1063\\\\\n",
       "\t SWC              &    97\\\\\n",
       "\t Trust            &    72\\\\\n",
       "\t VWC              & 36793\\\\\n",
       "\t Water authority  &  3153\\\\\n",
       "\t Water Board      &  2748\\\\\n",
       "\t WUA              &  2883\\\\\n",
       "\t WUG              &  5206\\\\\n",
       "\\end{tabular}\n"
      ],
      "text/markdown": [
       "\n",
       "A data.frame: 13 × 2\n",
       "\n",
       "| scheme_management &lt;fct&gt; | Freq &lt;int&gt; |\n",
       "|---|---|\n",
       "| <!----> |  3877 |\n",
       "| Company          |  1061 |\n",
       "| None             |     1 |\n",
       "| Other            |   766 |\n",
       "| Parastatal       |  1680 |\n",
       "| Private operator |  1063 |\n",
       "| SWC              |    97 |\n",
       "| Trust            |    72 |\n",
       "| VWC              | 36793 |\n",
       "| Water authority  |  3153 |\n",
       "| Water Board      |  2748 |\n",
       "| WUA              |  2883 |\n",
       "| WUG              |  5206 |\n",
       "\n"
      ],
      "text/plain": [
       "   scheme_management Freq \n",
       "1                     3877\n",
       "2  Company            1061\n",
       "3  None                  1\n",
       "4  Other               766\n",
       "5  Parastatal         1680\n",
       "6  Private operator   1063\n",
       "7  SWC                  97\n",
       "8  Trust                72\n",
       "9  VWC               36793\n",
       "10 Water authority    3153\n",
       "11 Water Board        2748\n",
       "12 WUA                2883\n",
       "13 WUG                5206"
      ]
     },
     "metadata": {},
     "output_type": "display_data"
    }
   ],
   "source": [
    "count_categories <- function (data, column) {\n",
    "    temp = data.frame(data[\"id\"], data[column], data[\"status_group\"])\n",
    "    temp_names = as.data.frame(table(temp[column]))\n",
    "    names(temp_names)[1] <- column\n",
    "    return(temp_names)\n",
    "}\n",
    "\n",
    "count_categories(training_set, \"scheme_management\")"
   ]
  },
  {
   "cell_type": "markdown",
   "id": "conditional-bolivia",
   "metadata": {},
   "source": [
    "## Count of status_group (label) for each category"
   ]
  },
  {
   "cell_type": "code",
   "execution_count": 32,
   "id": "alert-record",
   "metadata": {},
   "outputs": [],
   "source": [
    "library(dplyr)\n",
    "\n",
    "count_status <- function(data, column) {\n",
    "    number_categories <- dim(unique(data[column]))[1]\n",
    "    res_matrix <- matrix(,4, number_categories)  # Create matrix with 3 rows (labels) and N cols (number of categories)\n",
    "        \n",
    "    count <- 1\n",
    "    for (category in unique(data[,column])) {\n",
    "        filtered <- filter(data, data[,column] == category)\n",
    "        temp_categories <- count_categories(filtered, \"status_group\")\n",
    "        for (i in 1:3) {\n",
    "            res_matrix[i, count] <- temp_categories$Freq[i]\n",
    "        }\n",
    "        res_matrix[4, count] <- res_matrix[1, count] / (res_matrix[1, count] + res_matrix[2, count] + res_matrix[3, count])\n",
    "        count <- count + 1\n",
    "    }\n",
    "    res_matrix[is.na(res_matrix)] <- 0\n",
    "    rownames(res_matrix) <- c(\"functional\", \"need repair\", \"non functional\", \"func %\")\n",
    "    colnames(res_matrix) <- unique(data[,column])\n",
    "    return (res_matrix)\n",
    "}"
   ]
  },
  {
   "cell_type": "markdown",
   "id": "silent-vegetation",
   "metadata": {},
   "source": [
    "## Scheme management variable"
   ]
  },
  {
   "cell_type": "code",
   "execution_count": 33,
   "id": "modular-presence",
   "metadata": {},
   "outputs": [
    {
     "data": {
      "text/html": [
       "<table class=\"dataframe\">\n",
       "<caption>A matrix: 4 × 13 of type dbl</caption>\n",
       "<thead>\n",
       "\t<tr><th></th><th scope=col>VWC</th><th scope=col></th><th scope=col>Water Board</th><th scope=col>Private operator</th><th scope=col>WUA</th><th scope=col>Water authority</th><th scope=col>WUG</th><th scope=col>Other</th><th scope=col>Company</th><th scope=col>Parastatal</th><th scope=col>SWC</th><th scope=col>Trust</th><th scope=col>None</th></tr>\n",
       "</thead>\n",
       "<tbody>\n",
       "\t<tr><th scope=row>functional</th><td>1.9e+04</td><td>1873.00</td><td>2053.00</td><td>729.00</td><td>1995.00</td><td>1618.00</td><td>3006.00</td><td>458.0</td><td>534.0</td><td>966.00</td><td>20.00</td><td>46.00</td><td>1</td></tr>\n",
       "\t<tr><th scope=row>need repair</th><td>2.3e+03</td><td> 223.00</td><td> 111.00</td><td> 23.00</td><td> 239.00</td><td> 448.00</td><td> 672.00</td><td> 22.0</td><td> 37.0</td><td>202.00</td><td> 1.00</td><td> 5.00</td><td>0</td></tr>\n",
       "\t<tr><th scope=row>non functional</th><td>1.5e+04</td><td>1781.00</td><td> 584.00</td><td>311.00</td><td> 649.00</td><td>1087.00</td><td>1528.00</td><td>286.0</td><td>490.0</td><td>512.00</td><td>76.00</td><td>21.00</td><td>0</td></tr>\n",
       "\t<tr><th scope=row>func %</th><td>5.2e-01</td><td>   0.48</td><td>   0.75</td><td>  0.69</td><td>   0.69</td><td>   0.51</td><td>   0.58</td><td>  0.6</td><td>  0.5</td><td>  0.57</td><td> 0.21</td><td> 0.64</td><td>0</td></tr>\n",
       "</tbody>\n",
       "</table>\n"
      ],
      "text/latex": [
       "A matrix: 4 × 13 of type dbl\n",
       "\\begin{tabular}{r|lllllllllllll}\n",
       "  & VWC &  & Water Board & Private operator & WUA & Water authority & WUG & Other & Company & Parastatal & SWC & Trust & None\\\\\n",
       "\\hline\n",
       "\tfunctional & 1.9e+04 & 1873.00 & 2053.00 & 729.00 & 1995.00 & 1618.00 & 3006.00 & 458.0 & 534.0 & 966.00 & 20.00 & 46.00 & 1\\\\\n",
       "\tneed repair & 2.3e+03 &  223.00 &  111.00 &  23.00 &  239.00 &  448.00 &  672.00 &  22.0 &  37.0 & 202.00 &  1.00 &  5.00 & 0\\\\\n",
       "\tnon functional & 1.5e+04 & 1781.00 &  584.00 & 311.00 &  649.00 & 1087.00 & 1528.00 & 286.0 & 490.0 & 512.00 & 76.00 & 21.00 & 0\\\\\n",
       "\tfunc \\% & 5.2e-01 &    0.48 &    0.75 &   0.69 &    0.69 &    0.51 &    0.58 &   0.6 &   0.5 &   0.57 &  0.21 &  0.64 & 0\\\\\n",
       "\\end{tabular}\n"
      ],
      "text/markdown": [
       "\n",
       "A matrix: 4 × 13 of type dbl\n",
       "\n",
       "| <!--/--> | VWC | <!----> | Water Board | Private operator | WUA | Water authority | WUG | Other | Company | Parastatal | SWC | Trust | None |\n",
       "|---|---|---|---|---|---|---|---|---|---|---|---|---|---|\n",
       "| functional | 1.9e+04 | 1873.00 | 2053.00 | 729.00 | 1995.00 | 1618.00 | 3006.00 | 458.0 | 534.0 | 966.00 | 20.00 | 46.00 | 1 |\n",
       "| need repair | 2.3e+03 |  223.00 |  111.00 |  23.00 |  239.00 |  448.00 |  672.00 |  22.0 |  37.0 | 202.00 |  1.00 |  5.00 | 0 |\n",
       "| non functional | 1.5e+04 | 1781.00 |  584.00 | 311.00 |  649.00 | 1087.00 | 1528.00 | 286.0 | 490.0 | 512.00 | 76.00 | 21.00 | 0 |\n",
       "| func % | 5.2e-01 |    0.48 |    0.75 |   0.69 |    0.69 |    0.51 |    0.58 |   0.6 |   0.5 |   0.57 |  0.21 |  0.64 | 0 |\n",
       "\n"
      ],
      "text/plain": [
       "               VWC             Water Board Private operator WUA    \n",
       "functional     1.9e+04 1873.00 2053.00     729.00           1995.00\n",
       "need repair    2.3e+03  223.00  111.00      23.00            239.00\n",
       "non functional 1.5e+04 1781.00  584.00     311.00            649.00\n",
       "func %         5.2e-01    0.48    0.75       0.69              0.69\n",
       "               Water authority WUG     Other Company Parastatal SWC   Trust\n",
       "functional     1618.00         3006.00 458.0 534.0   966.00     20.00 46.00\n",
       "need repair     448.00          672.00  22.0  37.0   202.00      1.00  5.00\n",
       "non functional 1087.00         1528.00 286.0 490.0   512.00     76.00 21.00\n",
       "func %            0.51            0.58   0.6   0.5     0.57      0.21  0.64\n",
       "               None\n",
       "functional     1   \n",
       "need repair    0   \n",
       "non functional 0   \n",
       "func %         0   "
      ]
     },
     "metadata": {},
     "output_type": "display_data"
    }
   ],
   "source": [
    "# only print 2 digits\n",
    "options(digits=2)\n",
    "\n",
    "count_status(training_set, \"scheme_management\")"
   ]
  },
  {
   "cell_type": "markdown",
   "id": "guided-antenna",
   "metadata": {},
   "source": [
    "Scheme management is rather uncorrellated with the status group."
   ]
  },
  {
   "cell_type": "code",
   "execution_count": 34,
   "id": "brave-beverage",
   "metadata": {},
   "outputs": [
    {
     "data": {
      "text/html": [
       "<table class=\"dataframe\">\n",
       "<caption>A matrix: 4 × 2697 of type dbl</caption>\n",
       "<thead>\n",
       "\t<tr><th></th><th scope=col></th><th scope=col>Mgun</th><th scope=col>Losaa-Kia water supply</th><th scope=col>Lwih</th><th scope=col>Ipal</th><th scope=col>Mapinduzi</th><th scope=col>Mkalamo water supply</th><th scope=col>Mradi wa maji wa kilagano</th><th scope=col>Mlimani pipe line</th><th scope=col>Msin</th><th scope=col>⋯</th><th scope=col>TM Lawate  water supply</th><th scope=col>Nyashimo</th><th scope=col>Villagers</th><th scope=col>Charles Mushi  Branch line</th><th scope=col>Tina</th><th scope=col>Maga</th><th scope=col>BRA</th><th scope=col>Nampemba</th><th scope=col>Mradi wa maji wa kibilizi</th><th scope=col>Kima</th></tr>\n",
       "</thead>\n",
       "<tbody>\n",
       "\t<tr><th scope=row>functional</th><td>1.4e+04</td><td>5</td><td>145</td><td>7</td><td>1</td><td>9</td><td> 4</td><td>23.00</td><td>16</td><td>5</td><td>⋯</td><td>1</td><td>1</td><td>1</td><td>1</td><td>1</td><td>1</td><td>1</td><td>1</td><td>1</td><td>1</td></tr>\n",
       "\t<tr><th scope=row>need repair</th><td>2.0e+03</td><td>3</td><td>  7</td><td>0</td><td>9</td><td>0</td><td>18</td><td> 2.00</td><td> 9</td><td>3</td><td>⋯</td><td>0</td><td>0</td><td>0</td><td>0</td><td>0</td><td>0</td><td>0</td><td>0</td><td>0</td><td>0</td></tr>\n",
       "\t<tr><th scope=row>non functional</th><td>1.2e+04</td><td>0</td><td>  0</td><td>0</td><td>0</td><td>0</td><td> 0</td><td>10.00</td><td> 0</td><td>0</td><td>⋯</td><td>0</td><td>0</td><td>0</td><td>0</td><td>0</td><td>0</td><td>0</td><td>0</td><td>0</td><td>0</td></tr>\n",
       "\t<tr><th scope=row>func %</th><td>5.1e-01</td><td>0</td><td>  0</td><td>0</td><td>0</td><td>0</td><td> 0</td><td> 0.66</td><td> 0</td><td>0</td><td>⋯</td><td>0</td><td>0</td><td>0</td><td>0</td><td>0</td><td>0</td><td>0</td><td>0</td><td>0</td><td>0</td></tr>\n",
       "</tbody>\n",
       "</table>\n"
      ],
      "text/latex": [
       "A matrix: 4 × 2697 of type dbl\n",
       "\\begin{tabular}{r|lllllllllllllllllllll}\n",
       "  &  & Mgun & Losaa-Kia water supply & Lwih & Ipal & Mapinduzi & Mkalamo water supply & Mradi wa maji wa kilagano & Mlimani pipe line & Msin & ⋯ & TM Lawate  water supply & Nyashimo & Villagers & Charles Mushi  Branch line & Tina & Maga & BRA & Nampemba & Mradi wa maji wa kibilizi & Kima\\\\\n",
       "\\hline\n",
       "\tfunctional & 1.4e+04 & 5 & 145 & 7 & 1 & 9 &  4 & 23.00 & 16 & 5 & ⋯ & 1 & 1 & 1 & 1 & 1 & 1 & 1 & 1 & 1 & 1\\\\\n",
       "\tneed repair & 2.0e+03 & 3 &   7 & 0 & 9 & 0 & 18 &  2.00 &  9 & 3 & ⋯ & 0 & 0 & 0 & 0 & 0 & 0 & 0 & 0 & 0 & 0\\\\\n",
       "\tnon functional & 1.2e+04 & 0 &   0 & 0 & 0 & 0 &  0 & 10.00 &  0 & 0 & ⋯ & 0 & 0 & 0 & 0 & 0 & 0 & 0 & 0 & 0 & 0\\\\\n",
       "\tfunc \\% & 5.1e-01 & 0 &   0 & 0 & 0 & 0 &  0 &  0.66 &  0 & 0 & ⋯ & 0 & 0 & 0 & 0 & 0 & 0 & 0 & 0 & 0 & 0\\\\\n",
       "\\end{tabular}\n"
      ],
      "text/markdown": [
       "\n",
       "A matrix: 4 × 2697 of type dbl\n",
       "\n",
       "| <!--/--> | <!----> | Mgun | Losaa-Kia water supply | Lwih | Ipal | Mapinduzi | Mkalamo water supply | Mradi wa maji wa kilagano | Mlimani pipe line | Msin | ⋯ | TM Lawate  water supply | Nyashimo | Villagers | Charles Mushi  Branch line | Tina | Maga | BRA | Nampemba | Mradi wa maji wa kibilizi | Kima |\n",
       "|---|---|---|---|---|---|---|---|---|---|---|---|---|---|---|---|---|---|---|---|---|---|\n",
       "| functional | 1.4e+04 | 5 | 145 | 7 | 1 | 9 |  4 | 23.00 | 16 | 5 | ⋯ | 1 | 1 | 1 | 1 | 1 | 1 | 1 | 1 | 1 | 1 |\n",
       "| need repair | 2.0e+03 | 3 |   7 | 0 | 9 | 0 | 18 |  2.00 |  9 | 3 | ⋯ | 0 | 0 | 0 | 0 | 0 | 0 | 0 | 0 | 0 | 0 |\n",
       "| non functional | 1.2e+04 | 0 |   0 | 0 | 0 | 0 |  0 | 10.00 |  0 | 0 | ⋯ | 0 | 0 | 0 | 0 | 0 | 0 | 0 | 0 | 0 | 0 |\n",
       "| func % | 5.1e-01 | 0 |   0 | 0 | 0 | 0 |  0 |  0.66 |  0 | 0 | ⋯ | 0 | 0 | 0 | 0 | 0 | 0 | 0 | 0 | 0 | 0 |\n",
       "\n"
      ],
      "text/plain": [
       "                       Mgun Losaa-Kia water supply Lwih Ipal Mapinduzi\n",
       "functional     1.4e+04 5    145                    7    1    9        \n",
       "need repair    2.0e+03 3      7                    0    9    0        \n",
       "non functional 1.2e+04 0      0                    0    0    0        \n",
       "func %         5.1e-01 0      0                    0    0    0        \n",
       "               Mkalamo water supply Mradi wa maji wa kilagano Mlimani pipe line\n",
       "functional      4                   23.00                     16               \n",
       "need repair    18                    2.00                      9               \n",
       "non functional  0                   10.00                      0               \n",
       "func %          0                    0.66                      0               \n",
       "               Msin ⋯ TM Lawate  water supply Nyashimo Villagers\n",
       "functional     5    ⋯ 1                       1        1        \n",
       "need repair    3    ⋯ 0                       0        0        \n",
       "non functional 0    ⋯ 0                       0        0        \n",
       "func %         0    ⋯ 0                       0        0        \n",
       "               Charles Mushi  Branch line Tina Maga BRA Nampemba\n",
       "functional     1                          1    1    1   1       \n",
       "need repair    0                          0    0    0   0       \n",
       "non functional 0                          0    0    0   0       \n",
       "func %         0                          0    0    0   0       \n",
       "               Mradi wa maji wa kibilizi Kima\n",
       "functional     1                         1   \n",
       "need repair    0                         0   \n",
       "non functional 0                         0   \n",
       "func %         0                         0   "
      ]
     },
     "metadata": {},
     "output_type": "display_data"
    }
   ],
   "source": [
    "count_status(training_set, \"scheme_name\")"
   ]
  },
  {
   "cell_type": "markdown",
   "id": "accessory-gossip",
   "metadata": {},
   "source": [
    "Scheme name has too much NA values and different categories. This cannot be used by our model"
   ]
  },
  {
   "cell_type": "code",
   "execution_count": 35,
   "id": "posted-person",
   "metadata": {},
   "outputs": [
    {
     "data": {
      "text/html": [
       "<table class=\"dataframe\">\n",
       "<caption>A matrix: 4 × 3 of type dbl</caption>\n",
       "<thead>\n",
       "\t<tr><th></th><th scope=col>True</th><th scope=col>False</th><th scope=col></th></tr>\n",
       "</thead>\n",
       "<tbody>\n",
       "\t<tr><th scope=row>functional</th><td>2.2e+04</td><td>9045.00</td><td>1673.00</td></tr>\n",
       "\t<tr><th scope=row>need repair</th><td>2.7e+03</td><td>1320.00</td><td> 300.00</td></tr>\n",
       "\t<tr><th scope=row>non functional</th><td>1.5e+04</td><td>7127.00</td><td>1083.00</td></tr>\n",
       "\t<tr><th scope=row>func %</th><td>5.5e-01</td><td>   0.52</td><td>   0.55</td></tr>\n",
       "</tbody>\n",
       "</table>\n"
      ],
      "text/latex": [
       "A matrix: 4 × 3 of type dbl\n",
       "\\begin{tabular}{r|lll}\n",
       "  & True & False & \\\\\n",
       "\\hline\n",
       "\tfunctional & 2.2e+04 & 9045.00 & 1673.00\\\\\n",
       "\tneed repair & 2.7e+03 & 1320.00 &  300.00\\\\\n",
       "\tnon functional & 1.5e+04 & 7127.00 & 1083.00\\\\\n",
       "\tfunc \\% & 5.5e-01 &    0.52 &    0.55\\\\\n",
       "\\end{tabular}\n"
      ],
      "text/markdown": [
       "\n",
       "A matrix: 4 × 3 of type dbl\n",
       "\n",
       "| <!--/--> | True | False | <!----> |\n",
       "|---|---|---|---|\n",
       "| functional | 2.2e+04 | 9045.00 | 1673.00 |\n",
       "| need repair | 2.7e+03 | 1320.00 |  300.00 |\n",
       "| non functional | 1.5e+04 | 7127.00 | 1083.00 |\n",
       "| func % | 5.5e-01 |    0.52 |    0.55 |\n",
       "\n"
      ],
      "text/plain": [
       "               True    False          \n",
       "functional     2.2e+04 9045.00 1673.00\n",
       "need repair    2.7e+03 1320.00  300.00\n",
       "non functional 1.5e+04 7127.00 1083.00\n",
       "func %         5.5e-01    0.52    0.55"
      ]
     },
     "metadata": {},
     "output_type": "display_data"
    }
   ],
   "source": [
    "count_status(training_set, \"permit\")"
   ]
  },
  {
   "cell_type": "markdown",
   "id": "vital-marsh",
   "metadata": {},
   "source": [
    "Permit is lightly correllated with the status group. This measure need to be kept and encoded into an ont-hot encoded matrix. How do we treat N/A values?"
   ]
  },
  {
   "cell_type": "code",
   "execution_count": 36,
   "id": "hybrid-exposure",
   "metadata": {},
   "outputs": [
    {
     "data": {
      "text/html": [
       "<table class=\"dataframe\">\n",
       "<caption>A matrix: 4 × 55 of type dbl</caption>\n",
       "<thead>\n",
       "\t<tr><th></th><th scope=col>0</th><th scope=col>2008</th><th scope=col>1999</th><th scope=col>2007</th><th scope=col>2010</th><th scope=col>1984</th><th scope=col>2012</th><th scope=col>1981</th><th scope=col>2002</th><th scope=col>1977</th><th scope=col>⋯</th><th scope=col>1970</th><th scope=col>2013</th><th scope=col>1965</th><th scope=col>1968</th><th scope=col>1963</th><th scope=col>1971</th><th scope=col>1967</th><th scope=col>1961</th><th scope=col>1962</th><th scope=col>1966</th></tr>\n",
       "</thead>\n",
       "<tbody>\n",
       "\t<tr><th scope=row>functional</th><td>1.1e+04</td><td>1839.0</td><td>694.00</td><td>1081.00</td><td>2023.00</td><td>365.00</td><td>726.00</td><td> 85.00</td><td>692.00</td><td> 62.00</td><td>⋯</td><td> 99.00</td><td>102.00</td><td>11.00</td><td>22.00</td><td>31.00</td><td>82.00</td><td>31.00</td><td> 2.000</td><td> 7.00</td><td> 6</td></tr>\n",
       "\t<tr><th scope=row>need repair</th><td>1.8e+03</td><td> 127.0</td><td> 47.00</td><td> 116.00</td><td>  90.00</td><td> 66.00</td><td> 51.00</td><td> 11.00</td><td> 58.00</td><td> 10.00</td><td>⋯</td><td> 15.00</td><td>  1.00</td><td> 1.00</td><td> 4.00</td><td> 6.00</td><td> 6.00</td><td>17.00</td><td> 3.000</td><td> 1.00</td><td>11</td></tr>\n",
       "\t<tr><th scope=row>non functional</th><td>8.4e+03</td><td> 647.0</td><td>238.00</td><td> 390.00</td><td> 532.00</td><td>348.00</td><td>307.00</td><td>142.00</td><td>325.00</td><td>130.00</td><td>⋯</td><td>297.00</td><td> 73.00</td><td> 7.00</td><td>51.00</td><td>48.00</td><td>57.00</td><td>40.00</td><td>16.000</td><td>22.00</td><td> 0</td></tr>\n",
       "\t<tr><th scope=row>func %</th><td>5.1e-01</td><td>   0.7</td><td>  0.71</td><td>   0.68</td><td>   0.76</td><td>  0.47</td><td>  0.67</td><td>  0.36</td><td>  0.64</td><td>  0.31</td><td>⋯</td><td>  0.24</td><td>  0.58</td><td> 0.58</td><td> 0.29</td><td> 0.36</td><td> 0.57</td><td> 0.35</td><td> 0.095</td><td> 0.23</td><td> 0</td></tr>\n",
       "</tbody>\n",
       "</table>\n"
      ],
      "text/latex": [
       "A matrix: 4 × 55 of type dbl\n",
       "\\begin{tabular}{r|lllllllllllllllllllll}\n",
       "  & 0 & 2008 & 1999 & 2007 & 2010 & 1984 & 2012 & 1981 & 2002 & 1977 & ⋯ & 1970 & 2013 & 1965 & 1968 & 1963 & 1971 & 1967 & 1961 & 1962 & 1966\\\\\n",
       "\\hline\n",
       "\tfunctional & 1.1e+04 & 1839.0 & 694.00 & 1081.00 & 2023.00 & 365.00 & 726.00 &  85.00 & 692.00 &  62.00 & ⋯ &  99.00 & 102.00 & 11.00 & 22.00 & 31.00 & 82.00 & 31.00 &  2.000 &  7.00 &  6\\\\\n",
       "\tneed repair & 1.8e+03 &  127.0 &  47.00 &  116.00 &   90.00 &  66.00 &  51.00 &  11.00 &  58.00 &  10.00 & ⋯ &  15.00 &   1.00 &  1.00 &  4.00 &  6.00 &  6.00 & 17.00 &  3.000 &  1.00 & 11\\\\\n",
       "\tnon functional & 8.4e+03 &  647.0 & 238.00 &  390.00 &  532.00 & 348.00 & 307.00 & 142.00 & 325.00 & 130.00 & ⋯ & 297.00 &  73.00 &  7.00 & 51.00 & 48.00 & 57.00 & 40.00 & 16.000 & 22.00 &  0\\\\\n",
       "\tfunc \\% & 5.1e-01 &    0.7 &   0.71 &    0.68 &    0.76 &   0.47 &   0.67 &   0.36 &   0.64 &   0.31 & ⋯ &   0.24 &   0.58 &  0.58 &  0.29 &  0.36 &  0.57 &  0.35 &  0.095 &  0.23 &  0\\\\\n",
       "\\end{tabular}\n"
      ],
      "text/markdown": [
       "\n",
       "A matrix: 4 × 55 of type dbl\n",
       "\n",
       "| <!--/--> | 0 | 2008 | 1999 | 2007 | 2010 | 1984 | 2012 | 1981 | 2002 | 1977 | ⋯ | 1970 | 2013 | 1965 | 1968 | 1963 | 1971 | 1967 | 1961 | 1962 | 1966 |\n",
       "|---|---|---|---|---|---|---|---|---|---|---|---|---|---|---|---|---|---|---|---|---|---|\n",
       "| functional | 1.1e+04 | 1839.0 | 694.00 | 1081.00 | 2023.00 | 365.00 | 726.00 |  85.00 | 692.00 |  62.00 | ⋯ |  99.00 | 102.00 | 11.00 | 22.00 | 31.00 | 82.00 | 31.00 |  2.000 |  7.00 |  6 |\n",
       "| need repair | 1.8e+03 |  127.0 |  47.00 |  116.00 |   90.00 |  66.00 |  51.00 |  11.00 |  58.00 |  10.00 | ⋯ |  15.00 |   1.00 |  1.00 |  4.00 |  6.00 |  6.00 | 17.00 |  3.000 |  1.00 | 11 |\n",
       "| non functional | 8.4e+03 |  647.0 | 238.00 |  390.00 |  532.00 | 348.00 | 307.00 | 142.00 | 325.00 | 130.00 | ⋯ | 297.00 |  73.00 |  7.00 | 51.00 | 48.00 | 57.00 | 40.00 | 16.000 | 22.00 |  0 |\n",
       "| func % | 5.1e-01 |    0.7 |   0.71 |    0.68 |    0.76 |   0.47 |   0.67 |   0.36 |   0.64 |   0.31 | ⋯ |   0.24 |   0.58 |  0.58 |  0.29 |  0.36 |  0.57 |  0.35 |  0.095 |  0.23 |  0 |\n",
       "\n"
      ],
      "text/plain": [
       "               0       2008   1999   2007    2010    1984   2012   1981  \n",
       "functional     1.1e+04 1839.0 694.00 1081.00 2023.00 365.00 726.00  85.00\n",
       "need repair    1.8e+03  127.0  47.00  116.00   90.00  66.00  51.00  11.00\n",
       "non functional 8.4e+03  647.0 238.00  390.00  532.00 348.00 307.00 142.00\n",
       "func %         5.1e-01    0.7   0.71    0.68    0.76   0.47   0.67   0.36\n",
       "               2002   1977   ⋯ 1970   2013   1965  1968  1963  1971  1967 \n",
       "functional     692.00  62.00 ⋯  99.00 102.00 11.00 22.00 31.00 82.00 31.00\n",
       "need repair     58.00  10.00 ⋯  15.00   1.00  1.00  4.00  6.00  6.00 17.00\n",
       "non functional 325.00 130.00 ⋯ 297.00  73.00  7.00 51.00 48.00 57.00 40.00\n",
       "func %           0.64   0.31 ⋯   0.24   0.58  0.58  0.29  0.36  0.57  0.35\n",
       "               1961   1962  1966\n",
       "functional      2.000  7.00  6  \n",
       "need repair     3.000  1.00 11  \n",
       "non functional 16.000 22.00  0  \n",
       "func %          0.095  0.23  0  "
      ]
     },
     "metadata": {},
     "output_type": "display_data"
    }
   ],
   "source": [
    "count_status(training_set, \"construction_year\")"
   ]
  },
  {
   "cell_type": "markdown",
   "id": "other-surveillance",
   "metadata": {},
   "source": [
    "Construction year is an important measure, need to be kept and encoded as an integer (by the pump age). Many NA values exists and should be dealt with."
   ]
  },
  {
   "cell_type": "code",
   "execution_count": 41,
   "id": "catholic-mining",
   "metadata": {},
   "outputs": [
    {
     "data": {
      "text/html": [
       "<table class=\"dataframe\">\n",
       "<caption>A matrix: 4 × 18 of type dbl</caption>\n",
       "<thead>\n",
       "\t<tr><th></th><th scope=col>afridev</th><th scope=col>other - rope pump</th><th scope=col>mono</th><th scope=col>gravity</th><th scope=col>nira/tanira</th><th scope=col>submersible</th><th scope=col>other</th><th scope=col>swn 80</th><th scope=col>windmill</th><th scope=col>india mark ii</th><th scope=col>ksb</th><th scope=col>cemo</th><th scope=col>india mark iii</th><th scope=col>other - swn 81</th><th scope=col>climax</th><th scope=col>other - play pump</th><th scope=col>walimi</th><th scope=col>other - mkulima/shinyanga</th></tr>\n",
       "</thead>\n",
       "<tbody>\n",
       "\t<tr><th scope=row>functional</th><td>1200.00</td><td>293.00</td><td>1082.00</td><td>16048.0</td><td>5421.00</td><td>2626.00</td><td>1029.00</td><td>2090.00</td><td>50.00</td><td>1448.0</td><td>703.0</td><td>45.0</td><td>44.00</td><td>120.00</td><td> 8</td><td>29.00</td><td>23.00</td><td>2</td></tr>\n",
       "\t<tr><th scope=row>need repair</th><td>  42.00</td><td> 17.00</td><td> 129.00</td><td> 2701.0</td><td> 641.00</td><td> 227.00</td><td> 206.00</td><td> 212.00</td><td> 7.00</td><td>  79.0</td><td> 26.0</td><td> 9.0</td><td> 1.00</td><td>  7.00</td><td>24</td><td> 1.00</td><td>12.00</td><td>0</td></tr>\n",
       "\t<tr><th scope=row>non functional</th><td> 528.00</td><td>141.00</td><td>1654.00</td><td> 8031.0</td><td>2092.00</td><td>1911.00</td><td>5195.00</td><td>1368.00</td><td>60.00</td><td> 873.0</td><td>686.0</td><td>36.0</td><td>53.00</td><td>102.00</td><td> 0</td><td>55.00</td><td>13.00</td><td>0</td></tr>\n",
       "\t<tr><th scope=row>func %</th><td>   0.68</td><td>  0.65</td><td>   0.38</td><td>    0.6</td><td>   0.66</td><td>   0.55</td><td>   0.16</td><td>   0.57</td><td> 0.43</td><td>   0.6</td><td>  0.5</td><td> 0.5</td><td> 0.45</td><td>  0.52</td><td> 0</td><td> 0.34</td><td> 0.48</td><td>0</td></tr>\n",
       "</tbody>\n",
       "</table>\n"
      ],
      "text/latex": [
       "A matrix: 4 × 18 of type dbl\n",
       "\\begin{tabular}{r|llllllllllllllllll}\n",
       "  & afridev & other - rope pump & mono & gravity & nira/tanira & submersible & other & swn 80 & windmill & india mark ii & ksb & cemo & india mark iii & other - swn 81 & climax & other - play pump & walimi & other - mkulima/shinyanga\\\\\n",
       "\\hline\n",
       "\tfunctional & 1200.00 & 293.00 & 1082.00 & 16048.0 & 5421.00 & 2626.00 & 1029.00 & 2090.00 & 50.00 & 1448.0 & 703.0 & 45.0 & 44.00 & 120.00 &  8 & 29.00 & 23.00 & 2\\\\\n",
       "\tneed repair &   42.00 &  17.00 &  129.00 &  2701.0 &  641.00 &  227.00 &  206.00 &  212.00 &  7.00 &   79.0 &  26.0 &  9.0 &  1.00 &   7.00 & 24 &  1.00 & 12.00 & 0\\\\\n",
       "\tnon functional &  528.00 & 141.00 & 1654.00 &  8031.0 & 2092.00 & 1911.00 & 5195.00 & 1368.00 & 60.00 &  873.0 & 686.0 & 36.0 & 53.00 & 102.00 &  0 & 55.00 & 13.00 & 0\\\\\n",
       "\tfunc \\% &    0.68 &   0.65 &    0.38 &     0.6 &    0.66 &    0.55 &    0.16 &    0.57 &  0.43 &    0.6 &   0.5 &  0.5 &  0.45 &   0.52 &  0 &  0.34 &  0.48 & 0\\\\\n",
       "\\end{tabular}\n"
      ],
      "text/markdown": [
       "\n",
       "A matrix: 4 × 18 of type dbl\n",
       "\n",
       "| <!--/--> | afridev | other - rope pump | mono | gravity | nira/tanira | submersible | other | swn 80 | windmill | india mark ii | ksb | cemo | india mark iii | other - swn 81 | climax | other - play pump | walimi | other - mkulima/shinyanga |\n",
       "|---|---|---|---|---|---|---|---|---|---|---|---|---|---|---|---|---|---|---|\n",
       "| functional | 1200.00 | 293.00 | 1082.00 | 16048.0 | 5421.00 | 2626.00 | 1029.00 | 2090.00 | 50.00 | 1448.0 | 703.0 | 45.0 | 44.00 | 120.00 |  8 | 29.00 | 23.00 | 2 |\n",
       "| need repair |   42.00 |  17.00 |  129.00 |  2701.0 |  641.00 |  227.00 |  206.00 |  212.00 |  7.00 |   79.0 |  26.0 |  9.0 |  1.00 |   7.00 | 24 |  1.00 | 12.00 | 0 |\n",
       "| non functional |  528.00 | 141.00 | 1654.00 |  8031.0 | 2092.00 | 1911.00 | 5195.00 | 1368.00 | 60.00 |  873.0 | 686.0 | 36.0 | 53.00 | 102.00 |  0 | 55.00 | 13.00 | 0 |\n",
       "| func % |    0.68 |   0.65 |    0.38 |     0.6 |    0.66 |    0.55 |    0.16 |    0.57 |  0.43 |    0.6 |   0.5 |  0.5 |  0.45 |   0.52 |  0 |  0.34 |  0.48 | 0 |\n",
       "\n"
      ],
      "text/plain": [
       "               afridev other - rope pump mono    gravity nira/tanira\n",
       "functional     1200.00 293.00            1082.00 16048.0 5421.00    \n",
       "need repair      42.00  17.00             129.00  2701.0  641.00    \n",
       "non functional  528.00 141.00            1654.00  8031.0 2092.00    \n",
       "func %            0.68   0.65               0.38     0.6    0.66    \n",
       "               submersible other   swn 80  windmill india mark ii ksb   cemo\n",
       "functional     2626.00     1029.00 2090.00 50.00    1448.0        703.0 45.0\n",
       "need repair     227.00      206.00  212.00  7.00      79.0         26.0  9.0\n",
       "non functional 1911.00     5195.00 1368.00 60.00     873.0        686.0 36.0\n",
       "func %            0.55        0.16    0.57  0.43       0.6          0.5  0.5\n",
       "               india mark iii other - swn 81 climax other - play pump walimi\n",
       "functional     44.00          120.00          8     29.00             23.00 \n",
       "need repair     1.00            7.00         24      1.00             12.00 \n",
       "non functional 53.00          102.00          0     55.00             13.00 \n",
       "func %          0.45            0.52          0      0.34              0.48 \n",
       "               other - mkulima/shinyanga\n",
       "functional     2                        \n",
       "need repair    0                        \n",
       "non functional 0                        \n",
       "func %         0                        "
      ]
     },
     "metadata": {},
     "output_type": "display_data"
    }
   ],
   "source": [
    "count_status(training_set, \"extraction_type\")"
   ]
  },
  {
   "cell_type": "markdown",
   "id": "found-halifax",
   "metadata": {},
   "source": [
    " Extraction type also looks like an importan measure, as it influences the operating mode of the pump. Some classes have better results than others. This should also be encoded into a one-hot matrix (but has many dimensions)"
   ]
  },
  {
   "cell_type": "code",
   "execution_count": 42,
   "id": "novel-printer",
   "metadata": {},
   "outputs": [
    {
     "data": {
      "text/html": [
       "<table class=\"dataframe\">\n",
       "<caption>A matrix: 4 × 13 of type dbl</caption>\n",
       "<thead>\n",
       "\t<tr><th></th><th scope=col>afridev</th><th scope=col>rope pump</th><th scope=col>mono</th><th scope=col>gravity</th><th scope=col>nira/tanira</th><th scope=col>submersible</th><th scope=col>other</th><th scope=col>swn 80</th><th scope=col>wind-powered</th><th scope=col>india mark ii</th><th scope=col>other motorpump</th><th scope=col>india mark iii</th><th scope=col>other handpump</th></tr>\n",
       "</thead>\n",
       "<tbody>\n",
       "\t<tr><th scope=row>functional</th><td>1200.00</td><td>293.00</td><td>1082.00</td><td>16048.0</td><td>5421.00</td><td>3329.00</td><td>1029.00</td><td>2090.00</td><td>50.00</td><td>1448.0</td><td>53.00</td><td>44.00</td><td>172.00</td></tr>\n",
       "\t<tr><th scope=row>need repair</th><td>  42.00</td><td> 17.00</td><td> 129.00</td><td> 2701.0</td><td> 641.00</td><td> 253.00</td><td> 206.00</td><td> 212.00</td><td> 7.00</td><td>  79.0</td><td> 9.00</td><td> 1.00</td><td> 20.00</td></tr>\n",
       "\t<tr><th scope=row>non functional</th><td> 528.00</td><td>141.00</td><td>1654.00</td><td> 8031.0</td><td>2092.00</td><td>2597.00</td><td>5195.00</td><td>1368.00</td><td>60.00</td><td> 873.0</td><td>60.00</td><td>53.00</td><td>172.00</td></tr>\n",
       "\t<tr><th scope=row>func %</th><td>   0.68</td><td>  0.65</td><td>   0.38</td><td>    0.6</td><td>   0.66</td><td>   0.54</td><td>   0.16</td><td>   0.57</td><td> 0.43</td><td>   0.6</td><td> 0.43</td><td> 0.45</td><td>  0.47</td></tr>\n",
       "</tbody>\n",
       "</table>\n"
      ],
      "text/latex": [
       "A matrix: 4 × 13 of type dbl\n",
       "\\begin{tabular}{r|lllllllllllll}\n",
       "  & afridev & rope pump & mono & gravity & nira/tanira & submersible & other & swn 80 & wind-powered & india mark ii & other motorpump & india mark iii & other handpump\\\\\n",
       "\\hline\n",
       "\tfunctional & 1200.00 & 293.00 & 1082.00 & 16048.0 & 5421.00 & 3329.00 & 1029.00 & 2090.00 & 50.00 & 1448.0 & 53.00 & 44.00 & 172.00\\\\\n",
       "\tneed repair &   42.00 &  17.00 &  129.00 &  2701.0 &  641.00 &  253.00 &  206.00 &  212.00 &  7.00 &   79.0 &  9.00 &  1.00 &  20.00\\\\\n",
       "\tnon functional &  528.00 & 141.00 & 1654.00 &  8031.0 & 2092.00 & 2597.00 & 5195.00 & 1368.00 & 60.00 &  873.0 & 60.00 & 53.00 & 172.00\\\\\n",
       "\tfunc \\% &    0.68 &   0.65 &    0.38 &     0.6 &    0.66 &    0.54 &    0.16 &    0.57 &  0.43 &    0.6 &  0.43 &  0.45 &   0.47\\\\\n",
       "\\end{tabular}\n"
      ],
      "text/markdown": [
       "\n",
       "A matrix: 4 × 13 of type dbl\n",
       "\n",
       "| <!--/--> | afridev | rope pump | mono | gravity | nira/tanira | submersible | other | swn 80 | wind-powered | india mark ii | other motorpump | india mark iii | other handpump |\n",
       "|---|---|---|---|---|---|---|---|---|---|---|---|---|---|\n",
       "| functional | 1200.00 | 293.00 | 1082.00 | 16048.0 | 5421.00 | 3329.00 | 1029.00 | 2090.00 | 50.00 | 1448.0 | 53.00 | 44.00 | 172.00 |\n",
       "| need repair |   42.00 |  17.00 |  129.00 |  2701.0 |  641.00 |  253.00 |  206.00 |  212.00 |  7.00 |   79.0 |  9.00 |  1.00 |  20.00 |\n",
       "| non functional |  528.00 | 141.00 | 1654.00 |  8031.0 | 2092.00 | 2597.00 | 5195.00 | 1368.00 | 60.00 |  873.0 | 60.00 | 53.00 | 172.00 |\n",
       "| func % |    0.68 |   0.65 |    0.38 |     0.6 |    0.66 |    0.54 |    0.16 |    0.57 |  0.43 |    0.6 |  0.43 |  0.45 |   0.47 |\n",
       "\n"
      ],
      "text/plain": [
       "               afridev rope pump mono    gravity nira/tanira submersible\n",
       "functional     1200.00 293.00    1082.00 16048.0 5421.00     3329.00    \n",
       "need repair      42.00  17.00     129.00  2701.0  641.00      253.00    \n",
       "non functional  528.00 141.00    1654.00  8031.0 2092.00     2597.00    \n",
       "func %            0.68   0.65       0.38     0.6    0.66        0.54    \n",
       "               other   swn 80  wind-powered india mark ii other motorpump\n",
       "functional     1029.00 2090.00 50.00        1448.0        53.00          \n",
       "need repair     206.00  212.00  7.00          79.0         9.00          \n",
       "non functional 5195.00 1368.00 60.00         873.0        60.00          \n",
       "func %            0.16    0.57  0.43           0.6         0.43          \n",
       "               india mark iii other handpump\n",
       "functional     44.00          172.00        \n",
       "need repair     1.00           20.00        \n",
       "non functional 53.00          172.00        \n",
       "func %          0.45            0.47        "
      ]
     },
     "metadata": {},
     "output_type": "display_data"
    }
   ],
   "source": [
    "count_status(training_set, \"extraction_type_group\")"
   ]
  },
  {
   "cell_type": "markdown",
   "id": "rocky-machinery",
   "metadata": {},
   "source": [
    "Perhaps it is better to use the group than the extraction type, as it has less categories but still shows differences between the categories."
   ]
  },
  {
   "cell_type": "code",
   "execution_count": 43,
   "id": "genetic-eagle",
   "metadata": {},
   "outputs": [
    {
     "data": {
      "text/html": [
       "<table class=\"dataframe\">\n",
       "<caption>A matrix: 4 × 7 of type dbl</caption>\n",
       "<thead>\n",
       "\t<tr><th></th><th scope=col>handpump</th><th scope=col>rope pump</th><th scope=col>motorpump</th><th scope=col>gravity</th><th scope=col>submersible</th><th scope=col>other</th><th scope=col>wind-powered</th></tr>\n",
       "</thead>\n",
       "<tbody>\n",
       "\t<tr><th scope=row>functional</th><td>1.0e+04</td><td>293.00</td><td>1135.00</td><td>16048.0</td><td>3329.00</td><td>1029.00</td><td>50.00</td></tr>\n",
       "\t<tr><th scope=row>need repair</th><td>1.0e+03</td><td> 17.00</td><td> 138.00</td><td> 2701.0</td><td> 253.00</td><td> 206.00</td><td> 7.00</td></tr>\n",
       "\t<tr><th scope=row>non functional</th><td>5.1e+03</td><td>141.00</td><td>1714.00</td><td> 8031.0</td><td>2597.00</td><td>5195.00</td><td>60.00</td></tr>\n",
       "\t<tr><th scope=row>func %</th><td>6.3e-01</td><td>  0.65</td><td>   0.38</td><td>    0.6</td><td>   0.54</td><td>   0.16</td><td> 0.43</td></tr>\n",
       "</tbody>\n",
       "</table>\n"
      ],
      "text/latex": [
       "A matrix: 4 × 7 of type dbl\n",
       "\\begin{tabular}{r|lllllll}\n",
       "  & handpump & rope pump & motorpump & gravity & submersible & other & wind-powered\\\\\n",
       "\\hline\n",
       "\tfunctional & 1.0e+04 & 293.00 & 1135.00 & 16048.0 & 3329.00 & 1029.00 & 50.00\\\\\n",
       "\tneed repair & 1.0e+03 &  17.00 &  138.00 &  2701.0 &  253.00 &  206.00 &  7.00\\\\\n",
       "\tnon functional & 5.1e+03 & 141.00 & 1714.00 &  8031.0 & 2597.00 & 5195.00 & 60.00\\\\\n",
       "\tfunc \\% & 6.3e-01 &   0.65 &    0.38 &     0.6 &    0.54 &    0.16 &  0.43\\\\\n",
       "\\end{tabular}\n"
      ],
      "text/markdown": [
       "\n",
       "A matrix: 4 × 7 of type dbl\n",
       "\n",
       "| <!--/--> | handpump | rope pump | motorpump | gravity | submersible | other | wind-powered |\n",
       "|---|---|---|---|---|---|---|---|\n",
       "| functional | 1.0e+04 | 293.00 | 1135.00 | 16048.0 | 3329.00 | 1029.00 | 50.00 |\n",
       "| need repair | 1.0e+03 |  17.00 |  138.00 |  2701.0 |  253.00 |  206.00 |  7.00 |\n",
       "| non functional | 5.1e+03 | 141.00 | 1714.00 |  8031.0 | 2597.00 | 5195.00 | 60.00 |\n",
       "| func % | 6.3e-01 |   0.65 |    0.38 |     0.6 |    0.54 |    0.16 |  0.43 |\n",
       "\n"
      ],
      "text/plain": [
       "               handpump rope pump motorpump gravity submersible other  \n",
       "functional     1.0e+04  293.00    1135.00   16048.0 3329.00     1029.00\n",
       "need repair    1.0e+03   17.00     138.00    2701.0  253.00      206.00\n",
       "non functional 5.1e+03  141.00    1714.00    8031.0 2597.00     5195.00\n",
       "func %         6.3e-01    0.65       0.38       0.6    0.54        0.16\n",
       "               wind-powered\n",
       "functional     50.00       \n",
       "need repair     7.00       \n",
       "non functional 60.00       \n",
       "func %          0.43       "
      ]
     },
     "metadata": {},
     "output_type": "display_data"
    }
   ],
   "source": [
    "count_status(training_set, \"extraction_type_class\")"
   ]
  },
  {
   "cell_type": "markdown",
   "id": "destroyed-detection",
   "metadata": {},
   "source": [
    "Using a type class also has again less categories than the group and shows differences between the categorieds.\n",
    "\n",
    "Ultimately only one of those three categories should be used."
   ]
  },
  {
   "cell_type": "code",
   "execution_count": 44,
   "id": "photographic-devil",
   "metadata": {},
   "outputs": [
    {
     "data": {
      "text/html": [
       "<table class=\"dataframe\">\n",
       "<caption>A matrix: 4 × 12 of type dbl</caption>\n",
       "<thead>\n",
       "\t<tr><th></th><th scope=col>vwc</th><th scope=col>water board</th><th scope=col>private operator</th><th scope=col>wua</th><th scope=col>wug</th><th scope=col>company</th><th scope=col>water authority</th><th scope=col>other</th><th scope=col>unknown</th><th scope=col>parastatal</th><th scope=col>trust</th><th scope=col>other - school</th></tr>\n",
       "</thead>\n",
       "<tbody>\n",
       "\t<tr><th scope=row>functional</th><td>20425.0</td><td>2170.00</td><td>1476.00</td><td>1751.00</td><td>3906.0</td><td>267.00</td><td>446.00</td><td>505.0</td><td>224.0</td><td>1020.00</td><td>46.00</td><td>23.00</td></tr>\n",
       "\t<tr><th scope=row>need repair</th><td> 2791.0</td><td> 265.00</td><td>  44.00</td><td> 205.00</td><td> 645.0</td><td> 15.00</td><td> 52.00</td><td> 55.0</td><td> 27.0</td><td> 211.00</td><td> 6.00</td><td> 1.00</td></tr>\n",
       "\t<tr><th scope=row>non functional</th><td>17291.0</td><td> 498.00</td><td> 451.00</td><td> 579.00</td><td>1964.0</td><td>403.00</td><td>406.00</td><td>284.0</td><td>310.0</td><td> 537.00</td><td>26.00</td><td>75.00</td></tr>\n",
       "\t<tr><th scope=row>func %</th><td>    0.5</td><td>   0.74</td><td>   0.75</td><td>   0.69</td><td>   0.6</td><td>  0.39</td><td>  0.49</td><td>  0.6</td><td>  0.4</td><td>   0.58</td><td> 0.59</td><td> 0.23</td></tr>\n",
       "</tbody>\n",
       "</table>\n"
      ],
      "text/latex": [
       "A matrix: 4 × 12 of type dbl\n",
       "\\begin{tabular}{r|llllllllllll}\n",
       "  & vwc & water board & private operator & wua & wug & company & water authority & other & unknown & parastatal & trust & other - school\\\\\n",
       "\\hline\n",
       "\tfunctional & 20425.0 & 2170.00 & 1476.00 & 1751.00 & 3906.0 & 267.00 & 446.00 & 505.0 & 224.0 & 1020.00 & 46.00 & 23.00\\\\\n",
       "\tneed repair &  2791.0 &  265.00 &   44.00 &  205.00 &  645.0 &  15.00 &  52.00 &  55.0 &  27.0 &  211.00 &  6.00 &  1.00\\\\\n",
       "\tnon functional & 17291.0 &  498.00 &  451.00 &  579.00 & 1964.0 & 403.00 & 406.00 & 284.0 & 310.0 &  537.00 & 26.00 & 75.00\\\\\n",
       "\tfunc \\% &     0.5 &    0.74 &    0.75 &    0.69 &    0.6 &   0.39 &   0.49 &   0.6 &   0.4 &    0.58 &  0.59 &  0.23\\\\\n",
       "\\end{tabular}\n"
      ],
      "text/markdown": [
       "\n",
       "A matrix: 4 × 12 of type dbl\n",
       "\n",
       "| <!--/--> | vwc | water board | private operator | wua | wug | company | water authority | other | unknown | parastatal | trust | other - school |\n",
       "|---|---|---|---|---|---|---|---|---|---|---|---|---|\n",
       "| functional | 20425.0 | 2170.00 | 1476.00 | 1751.00 | 3906.0 | 267.00 | 446.00 | 505.0 | 224.0 | 1020.00 | 46.00 | 23.00 |\n",
       "| need repair |  2791.0 |  265.00 |   44.00 |  205.00 |  645.0 |  15.00 |  52.00 |  55.0 |  27.0 |  211.00 |  6.00 |  1.00 |\n",
       "| non functional | 17291.0 |  498.00 |  451.00 |  579.00 | 1964.0 | 403.00 | 406.00 | 284.0 | 310.0 |  537.00 | 26.00 | 75.00 |\n",
       "| func % |     0.5 |    0.74 |    0.75 |    0.69 |    0.6 |   0.39 |   0.49 |   0.6 |   0.4 |    0.58 |  0.59 |  0.23 |\n",
       "\n"
      ],
      "text/plain": [
       "               vwc     water board private operator wua     wug    company\n",
       "functional     20425.0 2170.00     1476.00          1751.00 3906.0 267.00 \n",
       "need repair     2791.0  265.00       44.00           205.00  645.0  15.00 \n",
       "non functional 17291.0  498.00      451.00           579.00 1964.0 403.00 \n",
       "func %             0.5    0.74        0.75             0.69    0.6   0.39 \n",
       "               water authority other unknown parastatal trust other - school\n",
       "functional     446.00          505.0 224.0   1020.00    46.00 23.00         \n",
       "need repair     52.00           55.0  27.0    211.00     6.00  1.00         \n",
       "non functional 406.00          284.0 310.0    537.00    26.00 75.00         \n",
       "func %           0.49            0.6   0.4      0.58     0.59  0.23         "
      ]
     },
     "metadata": {},
     "output_type": "display_data"
    }
   ],
   "source": [
    "count_status(training_set, \"management\")"
   ]
  },
  {
   "cell_type": "markdown",
   "id": "funny-prefix",
   "metadata": {},
   "source": [
    "Management is also an important class, maybe management group is better?"
   ]
  },
  {
   "cell_type": "code",
   "execution_count": 46,
   "id": "photographic-castle",
   "metadata": {},
   "outputs": [
    {
     "data": {
      "text/html": [
       "<table class=\"dataframe\">\n",
       "<caption>A matrix: 4 × 5 of type dbl</caption>\n",
       "<thead>\n",
       "\t<tr><th></th><th scope=col>user-group</th><th scope=col>commercial</th><th scope=col>other</th><th scope=col>unknown</th><th scope=col>parastatal</th></tr>\n",
       "</thead>\n",
       "<tbody>\n",
       "\t<tr><th scope=row>functional</th><td>2.8e+04</td><td>2235.00</td><td>528.00</td><td>224.0</td><td>1020.00</td></tr>\n",
       "\t<tr><th scope=row>need repair</th><td>3.9e+03</td><td> 117.00</td><td> 56.00</td><td> 27.0</td><td> 211.00</td></tr>\n",
       "\t<tr><th scope=row>non functional</th><td>2.0e+04</td><td>1286.00</td><td>359.00</td><td>310.0</td><td> 537.00</td></tr>\n",
       "\t<tr><th scope=row>func %</th><td>5.4e-01</td><td>   0.61</td><td>  0.56</td><td>  0.4</td><td>   0.58</td></tr>\n",
       "</tbody>\n",
       "</table>\n"
      ],
      "text/latex": [
       "A matrix: 4 × 5 of type dbl\n",
       "\\begin{tabular}{r|lllll}\n",
       "  & user-group & commercial & other & unknown & parastatal\\\\\n",
       "\\hline\n",
       "\tfunctional & 2.8e+04 & 2235.00 & 528.00 & 224.0 & 1020.00\\\\\n",
       "\tneed repair & 3.9e+03 &  117.00 &  56.00 &  27.0 &  211.00\\\\\n",
       "\tnon functional & 2.0e+04 & 1286.00 & 359.00 & 310.0 &  537.00\\\\\n",
       "\tfunc \\% & 5.4e-01 &    0.61 &   0.56 &   0.4 &    0.58\\\\\n",
       "\\end{tabular}\n"
      ],
      "text/markdown": [
       "\n",
       "A matrix: 4 × 5 of type dbl\n",
       "\n",
       "| <!--/--> | user-group | commercial | other | unknown | parastatal |\n",
       "|---|---|---|---|---|---|\n",
       "| functional | 2.8e+04 | 2235.00 | 528.00 | 224.0 | 1020.00 |\n",
       "| need repair | 3.9e+03 |  117.00 |  56.00 |  27.0 |  211.00 |\n",
       "| non functional | 2.0e+04 | 1286.00 | 359.00 | 310.0 |  537.00 |\n",
       "| func % | 5.4e-01 |    0.61 |   0.56 |   0.4 |    0.58 |\n",
       "\n"
      ],
      "text/plain": [
       "               user-group commercial other  unknown parastatal\n",
       "functional     2.8e+04    2235.00    528.00 224.0   1020.00   \n",
       "need repair    3.9e+03     117.00     56.00  27.0    211.00   \n",
       "non functional 2.0e+04    1286.00    359.00 310.0    537.00   \n",
       "func %         5.4e-01       0.61      0.56   0.4      0.58   "
      ]
     },
     "metadata": {},
     "output_type": "display_data"
    }
   ],
   "source": [
    "count_status(training_set, \"management_group\")"
   ]
  },
  {
   "cell_type": "markdown",
   "id": "average-probe",
   "metadata": {},
   "source": [
    "Management group is less corellated than management"
   ]
  },
  {
   "cell_type": "code",
   "execution_count": 47,
   "id": "advisory-education",
   "metadata": {},
   "outputs": [
    {
     "data": {
      "text/html": [
       "<table class=\"dataframe\">\n",
       "<caption>A matrix: 4 × 7 of type dbl</caption>\n",
       "<thead>\n",
       "\t<tr><th></th><th scope=col>unknown</th><th scope=col>never pay</th><th scope=col>pay per bucket</th><th scope=col>pay when scheme fails</th><th scope=col>pay monthly</th><th scope=col>pay annually</th><th scope=col>other</th></tr>\n",
       "</thead>\n",
       "<tbody>\n",
       "\t<tr><th scope=row>functional</th><td>3528.00</td><td>1.1e+04</td><td>6090.00</td><td>2429.00</td><td>5482.00</td><td>2740.00</td><td>611.00</td></tr>\n",
       "\t<tr><th scope=row>need repair</th><td> 432.00</td><td>1.9e+03</td><td> 409.00</td><td> 277.00</td><td> 927.00</td><td> 247.00</td><td>118.00</td></tr>\n",
       "\t<tr><th scope=row>non functional</th><td>4197.00</td><td>1.2e+04</td><td>2486.00</td><td>1208.00</td><td>1891.00</td><td> 655.00</td><td>325.00</td></tr>\n",
       "\t<tr><th scope=row>func %</th><td>   0.43</td><td>4.5e-01</td><td>   0.68</td><td>   0.62</td><td>   0.66</td><td>   0.75</td><td>  0.58</td></tr>\n",
       "</tbody>\n",
       "</table>\n"
      ],
      "text/latex": [
       "A matrix: 4 × 7 of type dbl\n",
       "\\begin{tabular}{r|lllllll}\n",
       "  & unknown & never pay & pay per bucket & pay when scheme fails & pay monthly & pay annually & other\\\\\n",
       "\\hline\n",
       "\tfunctional & 3528.00 & 1.1e+04 & 6090.00 & 2429.00 & 5482.00 & 2740.00 & 611.00\\\\\n",
       "\tneed repair &  432.00 & 1.9e+03 &  409.00 &  277.00 &  927.00 &  247.00 & 118.00\\\\\n",
       "\tnon functional & 4197.00 & 1.2e+04 & 2486.00 & 1208.00 & 1891.00 &  655.00 & 325.00\\\\\n",
       "\tfunc \\% &    0.43 & 4.5e-01 &    0.68 &    0.62 &    0.66 &    0.75 &   0.58\\\\\n",
       "\\end{tabular}\n"
      ],
      "text/markdown": [
       "\n",
       "A matrix: 4 × 7 of type dbl\n",
       "\n",
       "| <!--/--> | unknown | never pay | pay per bucket | pay when scheme fails | pay monthly | pay annually | other |\n",
       "|---|---|---|---|---|---|---|---|\n",
       "| functional | 3528.00 | 1.1e+04 | 6090.00 | 2429.00 | 5482.00 | 2740.00 | 611.00 |\n",
       "| need repair |  432.00 | 1.9e+03 |  409.00 |  277.00 |  927.00 |  247.00 | 118.00 |\n",
       "| non functional | 4197.00 | 1.2e+04 | 2486.00 | 1208.00 | 1891.00 |  655.00 | 325.00 |\n",
       "| func % |    0.43 | 4.5e-01 |    0.68 |    0.62 |    0.66 |    0.75 |   0.58 |\n",
       "\n"
      ],
      "text/plain": [
       "               unknown never pay pay per bucket pay when scheme fails\n",
       "functional     3528.00 1.1e+04   6090.00        2429.00              \n",
       "need repair     432.00 1.9e+03    409.00         277.00              \n",
       "non functional 4197.00 1.2e+04   2486.00        1208.00              \n",
       "func %            0.43 4.5e-01      0.68           0.62              \n",
       "               pay monthly pay annually other \n",
       "functional     5482.00     2740.00      611.00\n",
       "need repair     927.00      247.00      118.00\n",
       "non functional 1891.00      655.00      325.00\n",
       "func %            0.66        0.75        0.58"
      ]
     },
     "metadata": {},
     "output_type": "display_data"
    }
   ],
   "source": [
    "count_status(training_set, \"payment\")"
   ]
  },
  {
   "cell_type": "markdown",
   "id": "paperback-boxing",
   "metadata": {},
   "source": [
    "Payment looks like an important value, (can maybe be encoded into an integer?)"
   ]
  },
  {
   "cell_type": "code",
   "execution_count": 48,
   "id": "spiritual-browse",
   "metadata": {},
   "outputs": [
    {
     "data": {
      "text/html": [
       "<table class=\"dataframe\">\n",
       "<caption>A matrix: 4 × 7 of type dbl</caption>\n",
       "<thead>\n",
       "\t<tr><th></th><th scope=col>unknown</th><th scope=col>never pay</th><th scope=col>per bucket</th><th scope=col>on failure</th><th scope=col>monthly</th><th scope=col>annually</th><th scope=col>other</th></tr>\n",
       "</thead>\n",
       "<tbody>\n",
       "\t<tr><th scope=row>functional</th><td>3528.00</td><td>1.1e+04</td><td>6090.00</td><td>2429.00</td><td>5482.00</td><td>2740.00</td><td>611.00</td></tr>\n",
       "\t<tr><th scope=row>need repair</th><td> 432.00</td><td>1.9e+03</td><td> 409.00</td><td> 277.00</td><td> 927.00</td><td> 247.00</td><td>118.00</td></tr>\n",
       "\t<tr><th scope=row>non functional</th><td>4197.00</td><td>1.2e+04</td><td>2486.00</td><td>1208.00</td><td>1891.00</td><td> 655.00</td><td>325.00</td></tr>\n",
       "\t<tr><th scope=row>func %</th><td>   0.43</td><td>4.5e-01</td><td>   0.68</td><td>   0.62</td><td>   0.66</td><td>   0.75</td><td>  0.58</td></tr>\n",
       "</tbody>\n",
       "</table>\n"
      ],
      "text/latex": [
       "A matrix: 4 × 7 of type dbl\n",
       "\\begin{tabular}{r|lllllll}\n",
       "  & unknown & never pay & per bucket & on failure & monthly & annually & other\\\\\n",
       "\\hline\n",
       "\tfunctional & 3528.00 & 1.1e+04 & 6090.00 & 2429.00 & 5482.00 & 2740.00 & 611.00\\\\\n",
       "\tneed repair &  432.00 & 1.9e+03 &  409.00 &  277.00 &  927.00 &  247.00 & 118.00\\\\\n",
       "\tnon functional & 4197.00 & 1.2e+04 & 2486.00 & 1208.00 & 1891.00 &  655.00 & 325.00\\\\\n",
       "\tfunc \\% &    0.43 & 4.5e-01 &    0.68 &    0.62 &    0.66 &    0.75 &   0.58\\\\\n",
       "\\end{tabular}\n"
      ],
      "text/markdown": [
       "\n",
       "A matrix: 4 × 7 of type dbl\n",
       "\n",
       "| <!--/--> | unknown | never pay | per bucket | on failure | monthly | annually | other |\n",
       "|---|---|---|---|---|---|---|---|\n",
       "| functional | 3528.00 | 1.1e+04 | 6090.00 | 2429.00 | 5482.00 | 2740.00 | 611.00 |\n",
       "| need repair |  432.00 | 1.9e+03 |  409.00 |  277.00 |  927.00 |  247.00 | 118.00 |\n",
       "| non functional | 4197.00 | 1.2e+04 | 2486.00 | 1208.00 | 1891.00 |  655.00 | 325.00 |\n",
       "| func % |    0.43 | 4.5e-01 |    0.68 |    0.62 |    0.66 |    0.75 |   0.58 |\n",
       "\n"
      ],
      "text/plain": [
       "               unknown never pay per bucket on failure monthly annually other \n",
       "functional     3528.00 1.1e+04   6090.00    2429.00    5482.00 2740.00  611.00\n",
       "need repair     432.00 1.9e+03    409.00     277.00     927.00  247.00  118.00\n",
       "non functional 4197.00 1.2e+04   2486.00    1208.00    1891.00  655.00  325.00\n",
       "func %            0.43 4.5e-01      0.68       0.62       0.66    0.75    0.58"
      ]
     },
     "metadata": {},
     "output_type": "display_data"
    }
   ],
   "source": [
    "count_status(training_set, \"payment_type\")"
   ]
  },
  {
   "cell_type": "markdown",
   "id": "capital-latitude",
   "metadata": {},
   "source": [
    "Duplicate column from payment, can be discarded"
   ]
  },
  {
   "cell_type": "code",
   "execution_count": 49,
   "id": "protected-moldova",
   "metadata": {},
   "outputs": [
    {
     "data": {
      "text/html": [
       "<table class=\"dataframe\">\n",
       "<caption>A matrix: 4 × 8 of type dbl</caption>\n",
       "<thead>\n",
       "\t<tr><th></th><th scope=col>milky</th><th scope=col>soft</th><th scope=col>salty</th><th scope=col>salty abandoned</th><th scope=col>coloured</th><th scope=col>unknown</th><th scope=col>fluoride</th><th scope=col>fluoride abandoned</th></tr>\n",
       "</thead>\n",
       "<tbody>\n",
       "\t<tr><th scope=row>functional</th><td>438.00</td><td>2.9e+04</td><td>2220.00</td><td>174.00</td><td>246.0</td><td> 264.00</td><td>151.00</td><td> 6</td></tr>\n",
       "\t<tr><th scope=row>need repair</th><td> 14.00</td><td>3.9e+03</td><td> 225.00</td><td> 72.00</td><td> 54.0</td><td>  35.00</td><td> 13.00</td><td>11</td></tr>\n",
       "\t<tr><th scope=row>non functional</th><td>352.00</td><td>1.8e+04</td><td>2411.00</td><td> 93.00</td><td>190.0</td><td>1577.00</td><td> 36.00</td><td> 0</td></tr>\n",
       "\t<tr><th scope=row>func %</th><td>  0.54</td><td>5.7e-01</td><td>   0.46</td><td>  0.51</td><td>  0.5</td><td>   0.14</td><td>  0.76</td><td> 0</td></tr>\n",
       "</tbody>\n",
       "</table>\n"
      ],
      "text/latex": [
       "A matrix: 4 × 8 of type dbl\n",
       "\\begin{tabular}{r|llllllll}\n",
       "  & milky & soft & salty & salty abandoned & coloured & unknown & fluoride & fluoride abandoned\\\\\n",
       "\\hline\n",
       "\tfunctional & 438.00 & 2.9e+04 & 2220.00 & 174.00 & 246.0 &  264.00 & 151.00 &  6\\\\\n",
       "\tneed repair &  14.00 & 3.9e+03 &  225.00 &  72.00 &  54.0 &   35.00 &  13.00 & 11\\\\\n",
       "\tnon functional & 352.00 & 1.8e+04 & 2411.00 &  93.00 & 190.0 & 1577.00 &  36.00 &  0\\\\\n",
       "\tfunc \\% &   0.54 & 5.7e-01 &    0.46 &   0.51 &   0.5 &    0.14 &   0.76 &  0\\\\\n",
       "\\end{tabular}\n"
      ],
      "text/markdown": [
       "\n",
       "A matrix: 4 × 8 of type dbl\n",
       "\n",
       "| <!--/--> | milky | soft | salty | salty abandoned | coloured | unknown | fluoride | fluoride abandoned |\n",
       "|---|---|---|---|---|---|---|---|---|\n",
       "| functional | 438.00 | 2.9e+04 | 2220.00 | 174.00 | 246.0 |  264.00 | 151.00 |  6 |\n",
       "| need repair |  14.00 | 3.9e+03 |  225.00 |  72.00 |  54.0 |   35.00 |  13.00 | 11 |\n",
       "| non functional | 352.00 | 1.8e+04 | 2411.00 |  93.00 | 190.0 | 1577.00 |  36.00 |  0 |\n",
       "| func % |   0.54 | 5.7e-01 |    0.46 |   0.51 |   0.5 |    0.14 |   0.76 |  0 |\n",
       "\n"
      ],
      "text/plain": [
       "               milky  soft    salty   salty abandoned coloured unknown fluoride\n",
       "functional     438.00 2.9e+04 2220.00 174.00          246.0     264.00 151.00  \n",
       "need repair     14.00 3.9e+03  225.00  72.00           54.0      35.00  13.00  \n",
       "non functional 352.00 1.8e+04 2411.00  93.00          190.0    1577.00  36.00  \n",
       "func %           0.54 5.7e-01    0.46   0.51            0.5       0.14   0.76  \n",
       "               fluoride abandoned\n",
       "functional      6                \n",
       "need repair    11                \n",
       "non functional  0                \n",
       "func %          0                "
      ]
     },
     "metadata": {},
     "output_type": "display_data"
    }
   ],
   "source": [
    "count_status(training_set, \"water_quality\")"
   ]
  },
  {
   "cell_type": "markdown",
   "id": "political-criterion",
   "metadata": {},
   "source": [
    "Might be an interesting data but must be processed (maybe encoded into an integer again?)"
   ]
  },
  {
   "cell_type": "code",
   "execution_count": 50,
   "id": "sought-hayes",
   "metadata": {},
   "outputs": [
    {
     "data": {
      "text/html": [
       "<table class=\"dataframe\">\n",
       "<caption>A matrix: 4 × 6 of type dbl</caption>\n",
       "<thead>\n",
       "\t<tr><th></th><th scope=col>milky</th><th scope=col>good</th><th scope=col>salty</th><th scope=col>colored</th><th scope=col>unknown</th><th scope=col>fluoride</th></tr>\n",
       "</thead>\n",
       "<tbody>\n",
       "\t<tr><th scope=row>functional</th><td>438.00</td><td>2.9e+04</td><td>2394.00</td><td>246.0</td><td> 264.00</td><td>157.00</td></tr>\n",
       "\t<tr><th scope=row>need repair</th><td> 14.00</td><td>3.9e+03</td><td> 297.00</td><td> 54.0</td><td>  35.00</td><td> 13.00</td></tr>\n",
       "\t<tr><th scope=row>non functional</th><td>352.00</td><td>1.8e+04</td><td>2504.00</td><td>190.0</td><td>1577.00</td><td> 47.00</td></tr>\n",
       "\t<tr><th scope=row>func %</th><td>  0.54</td><td>5.7e-01</td><td>   0.46</td><td>  0.5</td><td>   0.14</td><td>  0.72</td></tr>\n",
       "</tbody>\n",
       "</table>\n"
      ],
      "text/latex": [
       "A matrix: 4 × 6 of type dbl\n",
       "\\begin{tabular}{r|llllll}\n",
       "  & milky & good & salty & colored & unknown & fluoride\\\\\n",
       "\\hline\n",
       "\tfunctional & 438.00 & 2.9e+04 & 2394.00 & 246.0 &  264.00 & 157.00\\\\\n",
       "\tneed repair &  14.00 & 3.9e+03 &  297.00 &  54.0 &   35.00 &  13.00\\\\\n",
       "\tnon functional & 352.00 & 1.8e+04 & 2504.00 & 190.0 & 1577.00 &  47.00\\\\\n",
       "\tfunc \\% &   0.54 & 5.7e-01 &    0.46 &   0.5 &    0.14 &   0.72\\\\\n",
       "\\end{tabular}\n"
      ],
      "text/markdown": [
       "\n",
       "A matrix: 4 × 6 of type dbl\n",
       "\n",
       "| <!--/--> | milky | good | salty | colored | unknown | fluoride |\n",
       "|---|---|---|---|---|---|---|\n",
       "| functional | 438.00 | 2.9e+04 | 2394.00 | 246.0 |  264.00 | 157.00 |\n",
       "| need repair |  14.00 | 3.9e+03 |  297.00 |  54.0 |   35.00 |  13.00 |\n",
       "| non functional | 352.00 | 1.8e+04 | 2504.00 | 190.0 | 1577.00 |  47.00 |\n",
       "| func % |   0.54 | 5.7e-01 |    0.46 |   0.5 |    0.14 |   0.72 |\n",
       "\n"
      ],
      "text/plain": [
       "               milky  good    salty   colored unknown fluoride\n",
       "functional     438.00 2.9e+04 2394.00 246.0    264.00 157.00  \n",
       "need repair     14.00 3.9e+03  297.00  54.0     35.00  13.00  \n",
       "non functional 352.00 1.8e+04 2504.00 190.0   1577.00  47.00  \n",
       "func %           0.54 5.7e-01    0.46   0.5      0.14   0.72  "
      ]
     },
     "metadata": {},
     "output_type": "display_data"
    }
   ],
   "source": [
    "count_status(training_set, \"quality_group\")"
   ]
  },
  {
   "cell_type": "markdown",
   "id": "strange-tenant",
   "metadata": {},
   "source": [
    "Better than water_quality, should be used an encoded as integer."
   ]
  },
  {
   "cell_type": "code",
   "execution_count": 51,
   "id": "funky-ribbon",
   "metadata": {},
   "outputs": [
    {
     "data": {
      "text/html": [
       "<table class=\"dataframe\">\n",
       "<caption>A matrix: 4 × 5 of type dbl</caption>\n",
       "<thead>\n",
       "\t<tr><th></th><th scope=col>enough</th><th scope=col>insufficient</th><th scope=col>dry</th><th scope=col>seasonal</th><th scope=col>unknown</th></tr>\n",
       "</thead>\n",
       "<tbody>\n",
       "\t<tr><th scope=row>functional</th><td>2.2e+04</td><td>7916.00</td><td>1.6e+02</td><td>2325.00</td><td>213.00</td></tr>\n",
       "\t<tr><th scope=row>need repair</th><td>2.4e+03</td><td>1450.00</td><td>3.7e+01</td><td> 416.00</td><td> 14.00</td></tr>\n",
       "\t<tr><th scope=row>non functional</th><td>9.1e+03</td><td>5763.00</td><td>6.1e+03</td><td>1309.00</td><td>562.00</td></tr>\n",
       "\t<tr><th scope=row>func %</th><td>6.5e-01</td><td>   0.52</td><td>2.5e-02</td><td>   0.57</td><td>  0.27</td></tr>\n",
       "</tbody>\n",
       "</table>\n"
      ],
      "text/latex": [
       "A matrix: 4 × 5 of type dbl\n",
       "\\begin{tabular}{r|lllll}\n",
       "  & enough & insufficient & dry & seasonal & unknown\\\\\n",
       "\\hline\n",
       "\tfunctional & 2.2e+04 & 7916.00 & 1.6e+02 & 2325.00 & 213.00\\\\\n",
       "\tneed repair & 2.4e+03 & 1450.00 & 3.7e+01 &  416.00 &  14.00\\\\\n",
       "\tnon functional & 9.1e+03 & 5763.00 & 6.1e+03 & 1309.00 & 562.00\\\\\n",
       "\tfunc \\% & 6.5e-01 &    0.52 & 2.5e-02 &    0.57 &   0.27\\\\\n",
       "\\end{tabular}\n"
      ],
      "text/markdown": [
       "\n",
       "A matrix: 4 × 5 of type dbl\n",
       "\n",
       "| <!--/--> | enough | insufficient | dry | seasonal | unknown |\n",
       "|---|---|---|---|---|---|\n",
       "| functional | 2.2e+04 | 7916.00 | 1.6e+02 | 2325.00 | 213.00 |\n",
       "| need repair | 2.4e+03 | 1450.00 | 3.7e+01 |  416.00 |  14.00 |\n",
       "| non functional | 9.1e+03 | 5763.00 | 6.1e+03 | 1309.00 | 562.00 |\n",
       "| func % | 6.5e-01 |    0.52 | 2.5e-02 |    0.57 |   0.27 |\n",
       "\n"
      ],
      "text/plain": [
       "               enough  insufficient dry     seasonal unknown\n",
       "functional     2.2e+04 7916.00      1.6e+02 2325.00  213.00 \n",
       "need repair    2.4e+03 1450.00      3.7e+01  416.00   14.00 \n",
       "non functional 9.1e+03 5763.00      6.1e+03 1309.00  562.00 \n",
       "func %         6.5e-01    0.52      2.5e-02    0.57    0.27 "
      ]
     },
     "metadata": {},
     "output_type": "display_data"
    }
   ],
   "source": [
    "count_status(training_set, \"quantity\")"
   ]
  },
  {
   "cell_type": "markdown",
   "id": "equivalent-writing",
   "metadata": {},
   "source": [
    "Important, should be kept."
   ]
  },
  {
   "cell_type": "code",
   "execution_count": 53,
   "id": "becoming-valley",
   "metadata": {},
   "outputs": [
    {
     "data": {
      "text/html": [
       "<table class=\"dataframe\">\n",
       "<caption>A matrix: 4 × 5 of type dbl</caption>\n",
       "<thead>\n",
       "\t<tr><th></th><th scope=col>enough</th><th scope=col>insufficient</th><th scope=col>dry</th><th scope=col>seasonal</th><th scope=col>unknown</th></tr>\n",
       "</thead>\n",
       "<tbody>\n",
       "\t<tr><th scope=row>functional</th><td>2.2e+04</td><td>7916.00</td><td>1.6e+02</td><td>2325.00</td><td>213.00</td></tr>\n",
       "\t<tr><th scope=row>need repair</th><td>2.4e+03</td><td>1450.00</td><td>3.7e+01</td><td> 416.00</td><td> 14.00</td></tr>\n",
       "\t<tr><th scope=row>non functional</th><td>9.1e+03</td><td>5763.00</td><td>6.1e+03</td><td>1309.00</td><td>562.00</td></tr>\n",
       "\t<tr><th scope=row>func %</th><td>6.5e-01</td><td>   0.52</td><td>2.5e-02</td><td>   0.57</td><td>  0.27</td></tr>\n",
       "</tbody>\n",
       "</table>\n"
      ],
      "text/latex": [
       "A matrix: 4 × 5 of type dbl\n",
       "\\begin{tabular}{r|lllll}\n",
       "  & enough & insufficient & dry & seasonal & unknown\\\\\n",
       "\\hline\n",
       "\tfunctional & 2.2e+04 & 7916.00 & 1.6e+02 & 2325.00 & 213.00\\\\\n",
       "\tneed repair & 2.4e+03 & 1450.00 & 3.7e+01 &  416.00 &  14.00\\\\\n",
       "\tnon functional & 9.1e+03 & 5763.00 & 6.1e+03 & 1309.00 & 562.00\\\\\n",
       "\tfunc \\% & 6.5e-01 &    0.52 & 2.5e-02 &    0.57 &   0.27\\\\\n",
       "\\end{tabular}\n"
      ],
      "text/markdown": [
       "\n",
       "A matrix: 4 × 5 of type dbl\n",
       "\n",
       "| <!--/--> | enough | insufficient | dry | seasonal | unknown |\n",
       "|---|---|---|---|---|---|\n",
       "| functional | 2.2e+04 | 7916.00 | 1.6e+02 | 2325.00 | 213.00 |\n",
       "| need repair | 2.4e+03 | 1450.00 | 3.7e+01 |  416.00 |  14.00 |\n",
       "| non functional | 9.1e+03 | 5763.00 | 6.1e+03 | 1309.00 | 562.00 |\n",
       "| func % | 6.5e-01 |    0.52 | 2.5e-02 |    0.57 |   0.27 |\n",
       "\n"
      ],
      "text/plain": [
       "               enough  insufficient dry     seasonal unknown\n",
       "functional     2.2e+04 7916.00      1.6e+02 2325.00  213.00 \n",
       "need repair    2.4e+03 1450.00      3.7e+01  416.00   14.00 \n",
       "non functional 9.1e+03 5763.00      6.1e+03 1309.00  562.00 \n",
       "func %         6.5e-01    0.52      2.5e-02    0.57    0.27 "
      ]
     },
     "metadata": {},
     "output_type": "display_data"
    }
   ],
   "source": [
    "count_status(training_set, \"quantity_group\")"
   ]
  },
  {
   "cell_type": "markdown",
   "id": "tender-letters",
   "metadata": {},
   "source": [
    "duplicate, can be dropped"
   ]
  },
  {
   "cell_type": "code",
   "execution_count": 56,
   "id": "rapid-extreme",
   "metadata": {},
   "outputs": [
    {
     "data": {
      "text/html": [
       "<table class=\"dataframe\">\n",
       "<caption>A matrix: 4 × 10 of type dbl</caption>\n",
       "<thead>\n",
       "\t<tr><th></th><th scope=col>shallow well</th><th scope=col>machine dbh</th><th scope=col>spring</th><th scope=col>rainwater harvesting</th><th scope=col>river</th><th scope=col>lake</th><th scope=col>other</th><th scope=col>dam</th><th scope=col>hand dtw</th><th scope=col>unknown</th></tr>\n",
       "</thead>\n",
       "<tbody>\n",
       "\t<tr><th scope=row>functional</th><td>8324.00</td><td>5422.00</td><td>1.1e+04</td><td>1386.0</td><td>5465.00</td><td>162.00</td><td>126.00</td><td>253.00</td><td>497.00</td><td>32.00</td></tr>\n",
       "\t<tr><th scope=row>need repair</th><td> 957.00</td><td> 491.00</td><td>1.3e+03</td><td> 314.0</td><td>1221.00</td><td> 12.00</td><td>  1.00</td><td> 24.00</td><td> 17.00</td><td> 4.00</td></tr>\n",
       "\t<tr><th scope=row>non functional</th><td>7543.00</td><td>5162.00</td><td>5.2e+03</td><td> 595.0</td><td>2926.00</td><td>591.00</td><td> 85.00</td><td>379.00</td><td>360.00</td><td>30.00</td></tr>\n",
       "\t<tr><th scope=row>func %</th><td>   0.49</td><td>   0.49</td><td>6.2e-01</td><td>   0.6</td><td>   0.57</td><td>  0.21</td><td>  0.59</td><td>  0.39</td><td>  0.57</td><td> 0.48</td></tr>\n",
       "</tbody>\n",
       "</table>\n"
      ],
      "text/latex": [
       "A matrix: 4 × 10 of type dbl\n",
       "\\begin{tabular}{r|llllllllll}\n",
       "  & shallow well & machine dbh & spring & rainwater harvesting & river & lake & other & dam & hand dtw & unknown\\\\\n",
       "\\hline\n",
       "\tfunctional & 8324.00 & 5422.00 & 1.1e+04 & 1386.0 & 5465.00 & 162.00 & 126.00 & 253.00 & 497.00 & 32.00\\\\\n",
       "\tneed repair &  957.00 &  491.00 & 1.3e+03 &  314.0 & 1221.00 &  12.00 &   1.00 &  24.00 &  17.00 &  4.00\\\\\n",
       "\tnon functional & 7543.00 & 5162.00 & 5.2e+03 &  595.0 & 2926.00 & 591.00 &  85.00 & 379.00 & 360.00 & 30.00\\\\\n",
       "\tfunc \\% &    0.49 &    0.49 & 6.2e-01 &    0.6 &    0.57 &   0.21 &   0.59 &   0.39 &   0.57 &  0.48\\\\\n",
       "\\end{tabular}\n"
      ],
      "text/markdown": [
       "\n",
       "A matrix: 4 × 10 of type dbl\n",
       "\n",
       "| <!--/--> | shallow well | machine dbh | spring | rainwater harvesting | river | lake | other | dam | hand dtw | unknown |\n",
       "|---|---|---|---|---|---|---|---|---|---|---|\n",
       "| functional | 8324.00 | 5422.00 | 1.1e+04 | 1386.0 | 5465.00 | 162.00 | 126.00 | 253.00 | 497.00 | 32.00 |\n",
       "| need repair |  957.00 |  491.00 | 1.3e+03 |  314.0 | 1221.00 |  12.00 |   1.00 |  24.00 |  17.00 |  4.00 |\n",
       "| non functional | 7543.00 | 5162.00 | 5.2e+03 |  595.0 | 2926.00 | 591.00 |  85.00 | 379.00 | 360.00 | 30.00 |\n",
       "| func % |    0.49 |    0.49 | 6.2e-01 |    0.6 |    0.57 |   0.21 |   0.59 |   0.39 |   0.57 |  0.48 |\n",
       "\n"
      ],
      "text/plain": [
       "               shallow well machine dbh spring  rainwater harvesting river  \n",
       "functional     8324.00      5422.00     1.1e+04 1386.0               5465.00\n",
       "need repair     957.00       491.00     1.3e+03  314.0               1221.00\n",
       "non functional 7543.00      5162.00     5.2e+03  595.0               2926.00\n",
       "func %            0.49         0.49     6.2e-01    0.6                  0.57\n",
       "               lake   other  dam    hand dtw unknown\n",
       "functional     162.00 126.00 253.00 497.00   32.00  \n",
       "need repair     12.00   1.00  24.00  17.00    4.00  \n",
       "non functional 591.00  85.00 379.00 360.00   30.00  \n",
       "func %           0.21   0.59   0.39   0.57    0.48  "
      ]
     },
     "metadata": {},
     "output_type": "display_data"
    }
   ],
   "source": [
    "count_status(training_set, \"source\")"
   ]
  },
  {
   "cell_type": "code",
   "execution_count": 57,
   "id": "provincial-contrast",
   "metadata": {},
   "outputs": [
    {
     "ename": "ERROR",
     "evalue": "Error in parse(text = x, srcfile = src): <text>:1:10: ',' inattendu(e)\n1: Important,\n             ^\n",
     "output_type": "error",
     "traceback": [
      "Error in parse(text = x, srcfile = src): <text>:1:10: ',' inattendu(e)\n1: Important,\n             ^\nTraceback:\n"
     ]
    }
   ],
   "source": [
    "Important, should be kept"
   ]
  },
  {
   "cell_type": "code",
   "execution_count": 58,
   "id": "exciting-people",
   "metadata": {},
   "outputs": [
    {
     "data": {
      "text/html": [
       "<table class=\"dataframe\">\n",
       "<caption>A matrix: 4 × 7 of type dbl</caption>\n",
       "<thead>\n",
       "\t<tr><th></th><th scope=col>shallow well</th><th scope=col>borehole</th><th scope=col>spring</th><th scope=col>rainwater harvesting</th><th scope=col>river/lake</th><th scope=col>other</th><th scope=col>dam</th></tr>\n",
       "</thead>\n",
       "<tbody>\n",
       "\t<tr><th scope=row>functional</th><td>8324.00</td><td>5919.0</td><td>1.1e+04</td><td>1386.0</td><td>5627.00</td><td>158.00</td><td>253.00</td></tr>\n",
       "\t<tr><th scope=row>need repair</th><td> 957.00</td><td> 508.0</td><td>1.3e+03</td><td> 314.0</td><td>1233.00</td><td>  5.00</td><td> 24.00</td></tr>\n",
       "\t<tr><th scope=row>non functional</th><td>7543.00</td><td>5522.0</td><td>5.2e+03</td><td> 595.0</td><td>3517.00</td><td>115.00</td><td>379.00</td></tr>\n",
       "\t<tr><th scope=row>func %</th><td>   0.49</td><td>   0.5</td><td>6.2e-01</td><td>   0.6</td><td>   0.54</td><td>  0.57</td><td>  0.39</td></tr>\n",
       "</tbody>\n",
       "</table>\n"
      ],
      "text/latex": [
       "A matrix: 4 × 7 of type dbl\n",
       "\\begin{tabular}{r|lllllll}\n",
       "  & shallow well & borehole & spring & rainwater harvesting & river/lake & other & dam\\\\\n",
       "\\hline\n",
       "\tfunctional & 8324.00 & 5919.0 & 1.1e+04 & 1386.0 & 5627.00 & 158.00 & 253.00\\\\\n",
       "\tneed repair &  957.00 &  508.0 & 1.3e+03 &  314.0 & 1233.00 &   5.00 &  24.00\\\\\n",
       "\tnon functional & 7543.00 & 5522.0 & 5.2e+03 &  595.0 & 3517.00 & 115.00 & 379.00\\\\\n",
       "\tfunc \\% &    0.49 &    0.5 & 6.2e-01 &    0.6 &    0.54 &   0.57 &   0.39\\\\\n",
       "\\end{tabular}\n"
      ],
      "text/markdown": [
       "\n",
       "A matrix: 4 × 7 of type dbl\n",
       "\n",
       "| <!--/--> | shallow well | borehole | spring | rainwater harvesting | river/lake | other | dam |\n",
       "|---|---|---|---|---|---|---|---|\n",
       "| functional | 8324.00 | 5919.0 | 1.1e+04 | 1386.0 | 5627.00 | 158.00 | 253.00 |\n",
       "| need repair |  957.00 |  508.0 | 1.3e+03 |  314.0 | 1233.00 |   5.00 |  24.00 |\n",
       "| non functional | 7543.00 | 5522.0 | 5.2e+03 |  595.0 | 3517.00 | 115.00 | 379.00 |\n",
       "| func % |    0.49 |    0.5 | 6.2e-01 |    0.6 |    0.54 |   0.57 |   0.39 |\n",
       "\n"
      ],
      "text/plain": [
       "               shallow well borehole spring  rainwater harvesting river/lake\n",
       "functional     8324.00      5919.0   1.1e+04 1386.0               5627.00   \n",
       "need repair     957.00       508.0   1.3e+03  314.0               1233.00   \n",
       "non functional 7543.00      5522.0   5.2e+03  595.0               3517.00   \n",
       "func %            0.49         0.5   6.2e-01    0.6                  0.54   \n",
       "               other  dam   \n",
       "functional     158.00 253.00\n",
       "need repair      5.00  24.00\n",
       "non functional 115.00 379.00\n",
       "func %           0.57   0.39"
      ]
     },
     "metadata": {},
     "output_type": "display_data"
    }
   ],
   "source": [
    "count_status(training_set, \"source_type\")"
   ]
  },
  {
   "cell_type": "markdown",
   "id": "exact-spokesman",
   "metadata": {},
   "source": [
    "Perhaps better than previous."
   ]
  },
  {
   "cell_type": "code",
   "execution_count": 59,
   "id": "gentle-shelf",
   "metadata": {},
   "outputs": [
    {
     "data": {
      "text/html": [
       "<table class=\"dataframe\">\n",
       "<caption>A matrix: 4 × 3 of type dbl</caption>\n",
       "<thead>\n",
       "\t<tr><th></th><th scope=col>groundwater</th><th scope=col>surface</th><th scope=col>unknown</th></tr>\n",
       "</thead>\n",
       "<tbody>\n",
       "\t<tr><th scope=row>functional</th><td>2.5e+04</td><td>7266.00</td><td>158.00</td></tr>\n",
       "\t<tr><th scope=row>need repair</th><td>2.7e+03</td><td>1571.00</td><td>  5.00</td></tr>\n",
       "\t<tr><th scope=row>non functional</th><td>1.8e+04</td><td>4491.00</td><td>115.00</td></tr>\n",
       "\t<tr><th scope=row>func %</th><td>5.4e-01</td><td>   0.55</td><td>  0.57</td></tr>\n",
       "</tbody>\n",
       "</table>\n"
      ],
      "text/latex": [
       "A matrix: 4 × 3 of type dbl\n",
       "\\begin{tabular}{r|lll}\n",
       "  & groundwater & surface & unknown\\\\\n",
       "\\hline\n",
       "\tfunctional & 2.5e+04 & 7266.00 & 158.00\\\\\n",
       "\tneed repair & 2.7e+03 & 1571.00 &   5.00\\\\\n",
       "\tnon functional & 1.8e+04 & 4491.00 & 115.00\\\\\n",
       "\tfunc \\% & 5.4e-01 &    0.55 &   0.57\\\\\n",
       "\\end{tabular}\n"
      ],
      "text/markdown": [
       "\n",
       "A matrix: 4 × 3 of type dbl\n",
       "\n",
       "| <!--/--> | groundwater | surface | unknown |\n",
       "|---|---|---|---|\n",
       "| functional | 2.5e+04 | 7266.00 | 158.00 |\n",
       "| need repair | 2.7e+03 | 1571.00 |   5.00 |\n",
       "| non functional | 1.8e+04 | 4491.00 | 115.00 |\n",
       "| func % | 5.4e-01 |    0.55 |   0.57 |\n",
       "\n"
      ],
      "text/plain": [
       "               groundwater surface unknown\n",
       "functional     2.5e+04     7266.00 158.00 \n",
       "need repair    2.7e+03     1571.00   5.00 \n",
       "non functional 1.8e+04     4491.00 115.00 \n",
       "func %         5.4e-01        0.55   0.57 "
      ]
     },
     "metadata": {},
     "output_type": "display_data"
    }
   ],
   "source": [
    "count_status(training_set, \"source_class\")"
   ]
  },
  {
   "cell_type": "markdown",
   "id": "emotional-utilization",
   "metadata": {},
   "source": [
    "Not much correlation, should be dropped."
   ]
  },
  {
   "cell_type": "code",
   "execution_count": 60,
   "id": "understanding-teacher",
   "metadata": {},
   "outputs": [
    {
     "data": {
      "text/html": [
       "<table class=\"dataframe\">\n",
       "<caption>A matrix: 4 × 7 of type dbl</caption>\n",
       "<thead>\n",
       "\t<tr><th></th><th scope=col>hand pump</th><th scope=col>communal standpipe multiple</th><th scope=col>communal standpipe</th><th scope=col>other</th><th scope=col>improved spring</th><th scope=col>cattle trough</th><th scope=col>dam</th></tr>\n",
       "</thead>\n",
       "<tbody>\n",
       "\t<tr><th scope=row>functional</th><td>1.1e+04</td><td>2235.00</td><td>1.8e+04</td><td> 840.00</td><td>563.00</td><td>84.00</td><td>6</td></tr>\n",
       "\t<tr><th scope=row>need repair</th><td>1.0e+03</td><td> 648.00</td><td>2.3e+03</td><td> 293.00</td><td> 85.00</td><td> 2.00</td><td>1</td></tr>\n",
       "\t<tr><th scope=row>non functional</th><td>5.7e+03</td><td>3220.00</td><td>8.5e+03</td><td>5247.00</td><td>136.00</td><td>30.00</td><td>0</td></tr>\n",
       "\t<tr><th scope=row>func %</th><td>6.2e-01</td><td>   0.37</td><td>6.2e-01</td><td>   0.13</td><td>  0.72</td><td> 0.72</td><td>0</td></tr>\n",
       "</tbody>\n",
       "</table>\n"
      ],
      "text/latex": [
       "A matrix: 4 × 7 of type dbl\n",
       "\\begin{tabular}{r|lllllll}\n",
       "  & hand pump & communal standpipe multiple & communal standpipe & other & improved spring & cattle trough & dam\\\\\n",
       "\\hline\n",
       "\tfunctional & 1.1e+04 & 2235.00 & 1.8e+04 &  840.00 & 563.00 & 84.00 & 6\\\\\n",
       "\tneed repair & 1.0e+03 &  648.00 & 2.3e+03 &  293.00 &  85.00 &  2.00 & 1\\\\\n",
       "\tnon functional & 5.7e+03 & 3220.00 & 8.5e+03 & 5247.00 & 136.00 & 30.00 & 0\\\\\n",
       "\tfunc \\% & 6.2e-01 &    0.37 & 6.2e-01 &    0.13 &   0.72 &  0.72 & 0\\\\\n",
       "\\end{tabular}\n"
      ],
      "text/markdown": [
       "\n",
       "A matrix: 4 × 7 of type dbl\n",
       "\n",
       "| <!--/--> | hand pump | communal standpipe multiple | communal standpipe | other | improved spring | cattle trough | dam |\n",
       "|---|---|---|---|---|---|---|---|\n",
       "| functional | 1.1e+04 | 2235.00 | 1.8e+04 |  840.00 | 563.00 | 84.00 | 6 |\n",
       "| need repair | 1.0e+03 |  648.00 | 2.3e+03 |  293.00 |  85.00 |  2.00 | 1 |\n",
       "| non functional | 5.7e+03 | 3220.00 | 8.5e+03 | 5247.00 | 136.00 | 30.00 | 0 |\n",
       "| func % | 6.2e-01 |    0.37 | 6.2e-01 |    0.13 |   0.72 |  0.72 | 0 |\n",
       "\n"
      ],
      "text/plain": [
       "               hand pump communal standpipe multiple communal standpipe other  \n",
       "functional     1.1e+04   2235.00                     1.8e+04             840.00\n",
       "need repair    1.0e+03    648.00                     2.3e+03             293.00\n",
       "non functional 5.7e+03   3220.00                     8.5e+03            5247.00\n",
       "func %         6.2e-01      0.37                     6.2e-01               0.13\n",
       "               improved spring cattle trough dam\n",
       "functional     563.00          84.00         6  \n",
       "need repair     85.00           2.00         1  \n",
       "non functional 136.00          30.00         0  \n",
       "func %           0.72           0.72         0  "
      ]
     },
     "metadata": {},
     "output_type": "display_data"
    }
   ],
   "source": [
    "count_status(training_set, \"waterpoint_type\")"
   ]
  },
  {
   "cell_type": "markdown",
   "id": "composed-associate",
   "metadata": {},
   "source": [
    "High correlation, should be kept"
   ]
  },
  {
   "cell_type": "code",
   "execution_count": 61,
   "id": "static-conducting",
   "metadata": {},
   "outputs": [
    {
     "data": {
      "text/html": [
       "<table class=\"dataframe\">\n",
       "<caption>A matrix: 4 × 6 of type dbl</caption>\n",
       "<thead>\n",
       "\t<tr><th></th><th scope=col>hand pump</th><th scope=col>communal standpipe</th><th scope=col>other</th><th scope=col>improved spring</th><th scope=col>cattle trough</th><th scope=col>dam</th></tr>\n",
       "</thead>\n",
       "<tbody>\n",
       "\t<tr><th scope=row>functional</th><td>1.1e+04</td><td>2.0e+04</td><td> 840.00</td><td>563.00</td><td>84.00</td><td>6</td></tr>\n",
       "\t<tr><th scope=row>need repair</th><td>1.0e+03</td><td>2.9e+03</td><td> 293.00</td><td> 85.00</td><td> 2.00</td><td>1</td></tr>\n",
       "\t<tr><th scope=row>non functional</th><td>5.7e+03</td><td>1.2e+04</td><td>5247.00</td><td>136.00</td><td>30.00</td><td>0</td></tr>\n",
       "\t<tr><th scope=row>func %</th><td>6.2e-01</td><td>5.8e-01</td><td>   0.13</td><td>  0.72</td><td> 0.72</td><td>0</td></tr>\n",
       "</tbody>\n",
       "</table>\n"
      ],
      "text/latex": [
       "A matrix: 4 × 6 of type dbl\n",
       "\\begin{tabular}{r|llllll}\n",
       "  & hand pump & communal standpipe & other & improved spring & cattle trough & dam\\\\\n",
       "\\hline\n",
       "\tfunctional & 1.1e+04 & 2.0e+04 &  840.00 & 563.00 & 84.00 & 6\\\\\n",
       "\tneed repair & 1.0e+03 & 2.9e+03 &  293.00 &  85.00 &  2.00 & 1\\\\\n",
       "\tnon functional & 5.7e+03 & 1.2e+04 & 5247.00 & 136.00 & 30.00 & 0\\\\\n",
       "\tfunc \\% & 6.2e-01 & 5.8e-01 &    0.13 &   0.72 &  0.72 & 0\\\\\n",
       "\\end{tabular}\n"
      ],
      "text/markdown": [
       "\n",
       "A matrix: 4 × 6 of type dbl\n",
       "\n",
       "| <!--/--> | hand pump | communal standpipe | other | improved spring | cattle trough | dam |\n",
       "|---|---|---|---|---|---|---|\n",
       "| functional | 1.1e+04 | 2.0e+04 |  840.00 | 563.00 | 84.00 | 6 |\n",
       "| need repair | 1.0e+03 | 2.9e+03 |  293.00 |  85.00 |  2.00 | 1 |\n",
       "| non functional | 5.7e+03 | 1.2e+04 | 5247.00 | 136.00 | 30.00 | 0 |\n",
       "| func % | 6.2e-01 | 5.8e-01 |    0.13 |   0.72 |  0.72 | 0 |\n",
       "\n"
      ],
      "text/plain": [
       "               hand pump communal standpipe other   improved spring\n",
       "functional     1.1e+04   2.0e+04             840.00 563.00         \n",
       "need repair    1.0e+03   2.9e+03             293.00  85.00         \n",
       "non functional 5.7e+03   1.2e+04            5247.00 136.00         \n",
       "func %         6.2e-01   5.8e-01               0.13   0.72         \n",
       "               cattle trough dam\n",
       "functional     84.00         6  \n",
       "need repair     2.00         1  \n",
       "non functional 30.00         0  \n",
       "func %          0.72         0  "
      ]
     },
     "metadata": {},
     "output_type": "display_data"
    }
   ],
   "source": [
    "count_status(training_set, \"waterpoint_type_group\")"
   ]
  },
  {
   "cell_type": "markdown",
   "id": "joint-medicare",
   "metadata": {},
   "source": [
    "Again a more compact still interesting feature"
   ]
  },
  {
   "cell_type": "markdown",
   "id": "insured-communication",
   "metadata": {},
   "source": [
    "# To summerize the different features\n",
    "* Scheme management is uncorrelated\n",
    "* Scheme name have too much unique names and NA values, not interesting\n",
    "* Permit is important (impact on reparation) and should be one-hot encoded\n",
    "* Construction year looks important and should be changed to age\n",
    "* Extraction type, extraction type group and extraction type class are important, one of them three should be kept\n",
    "* Management and management group are imporant, one of both should be kept\n",
    "* payment is important, maybe can be encoded as integer\n",
    "* payment type is DUPLICATE\n",
    "* water quality and quantity are also important, one of both should be kept, maybe can be encoded as integer\n",
    "* water quantity is important, one should be kept, maybe encoded as integer\n",
    "* water quantity group is DUPLICATE.\n",
    "* source and source type, one should be kept. One hot encoded\n",
    "* source class is reather uncorellated. Should be dropped\n",
    "* waterpoint type and waterpoint type are importnat, one should be kept."
   ]
  },
  {
   "cell_type": "code",
   "execution_count": null,
   "id": "improving-object",
   "metadata": {},
   "outputs": [],
   "source": []
  }
 ],
 "metadata": {
  "kernelspec": {
   "display_name": "R",
   "language": "R",
   "name": "ir"
  },
  "language_info": {
   "codemirror_mode": "r",
   "file_extension": ".r",
   "mimetype": "text/x-r-source",
   "name": "R",
   "pygments_lexer": "r",
   "version": "4.0.3"
  }
 },
 "nbformat": 4,
 "nbformat_minor": 5
}

{
 "cells": [
  {
   "cell_type": "markdown",
   "metadata": {},
   "source": [
    "# INFO-F-422 -  Statistical Foundations of Machine Learning \n",
    "\n",
    "### Couchard Darius - Parent Paul - Donne Stefano\n",
    "\n",
    "## Pump it Up: Data Mining the Water Table\n",
    "####  April 29, 2021\n"
   ]
  },
  {
   "cell_type": "markdown",
   "metadata": {},
   "source": [
    "# 1) Data Pre-Processing\n",
    "\n",
    "\n"
   ]
  },
  {
   "cell_type": "code",
   "execution_count": 1,
   "metadata": {
    "pycharm": {
     "name": "#%%\n"
    }
   },
   "outputs": [
    {
     "data": {
      "text/html": [
       "<style>\n",
       ".list-inline {list-style: none; margin:0; padding: 0}\n",
       ".list-inline>li {display: inline-block}\n",
       ".list-inline>li:not(:last-child)::after {content: \"\\00b7\"; padding: 0 .5ex}\n",
       "</style>\n",
       "<ol class=list-inline><li>59400</li><li>40</li></ol>\n"
      ],
      "text/latex": [
       "\\begin{enumerate*}\n",
       "\\item 59400\n",
       "\\item 40\n",
       "\\end{enumerate*}\n"
      ],
      "text/markdown": [
       "1. 59400\n",
       "2. 40\n",
       "\n",
       "\n"
      ],
      "text/plain": [
       "[1] 59400    40"
      ]
     },
     "metadata": {},
     "output_type": "display_data"
    },
    {
     "data": {
      "text/html": [
       "<style>\n",
       ".list-inline {list-style: none; margin:0; padding: 0}\n",
       ".list-inline>li {display: inline-block}\n",
       ".list-inline>li:not(:last-child)::after {content: \"\\00b7\"; padding: 0 .5ex}\n",
       "</style>\n",
       "<ol class=list-inline><li>'id'</li><li>'amount_tsh'</li><li>'date_recorded'</li><li>'funder'</li><li>'gps_height'</li><li>'installer'</li><li>'longitude'</li><li>'latitude'</li><li>'wpt_name'</li><li>'num_private'</li><li>'basin'</li><li>'subvillage'</li><li>'region'</li><li>'region_code'</li><li>'district_code'</li><li>'lga'</li><li>'ward'</li><li>'population'</li><li>'public_meeting'</li><li>'recorded_by'</li><li>'scheme_management'</li><li>'scheme_name'</li><li>'permit'</li><li>'construction_year'</li><li>'extraction_type'</li><li>'extraction_type_group'</li><li>'extraction_type_class'</li><li>'management'</li><li>'management_group'</li><li>'payment'</li><li>'payment_type'</li><li>'water_quality'</li><li>'quality_group'</li><li>'quantity'</li><li>'quantity_group'</li><li>'source'</li><li>'source_type'</li><li>'source_class'</li><li>'waterpoint_type'</li><li>'waterpoint_type_group'</li></ol>\n"
      ],
      "text/latex": [
       "\\begin{enumerate*}\n",
       "\\item 'id'\n",
       "\\item 'amount\\_tsh'\n",
       "\\item 'date\\_recorded'\n",
       "\\item 'funder'\n",
       "\\item 'gps\\_height'\n",
       "\\item 'installer'\n",
       "\\item 'longitude'\n",
       "\\item 'latitude'\n",
       "\\item 'wpt\\_name'\n",
       "\\item 'num\\_private'\n",
       "\\item 'basin'\n",
       "\\item 'subvillage'\n",
       "\\item 'region'\n",
       "\\item 'region\\_code'\n",
       "\\item 'district\\_code'\n",
       "\\item 'lga'\n",
       "\\item 'ward'\n",
       "\\item 'population'\n",
       "\\item 'public\\_meeting'\n",
       "\\item 'recorded\\_by'\n",
       "\\item 'scheme\\_management'\n",
       "\\item 'scheme\\_name'\n",
       "\\item 'permit'\n",
       "\\item 'construction\\_year'\n",
       "\\item 'extraction\\_type'\n",
       "\\item 'extraction\\_type\\_group'\n",
       "\\item 'extraction\\_type\\_class'\n",
       "\\item 'management'\n",
       "\\item 'management\\_group'\n",
       "\\item 'payment'\n",
       "\\item 'payment\\_type'\n",
       "\\item 'water\\_quality'\n",
       "\\item 'quality\\_group'\n",
       "\\item 'quantity'\n",
       "\\item 'quantity\\_group'\n",
       "\\item 'source'\n",
       "\\item 'source\\_type'\n",
       "\\item 'source\\_class'\n",
       "\\item 'waterpoint\\_type'\n",
       "\\item 'waterpoint\\_type\\_group'\n",
       "\\end{enumerate*}\n"
      ],
      "text/markdown": [
       "1. 'id'\n",
       "2. 'amount_tsh'\n",
       "3. 'date_recorded'\n",
       "4. 'funder'\n",
       "5. 'gps_height'\n",
       "6. 'installer'\n",
       "7. 'longitude'\n",
       "8. 'latitude'\n",
       "9. 'wpt_name'\n",
       "10. 'num_private'\n",
       "11. 'basin'\n",
       "12. 'subvillage'\n",
       "13. 'region'\n",
       "14. 'region_code'\n",
       "15. 'district_code'\n",
       "16. 'lga'\n",
       "17. 'ward'\n",
       "18. 'population'\n",
       "19. 'public_meeting'\n",
       "20. 'recorded_by'\n",
       "21. 'scheme_management'\n",
       "22. 'scheme_name'\n",
       "23. 'permit'\n",
       "24. 'construction_year'\n",
       "25. 'extraction_type'\n",
       "26. 'extraction_type_group'\n",
       "27. 'extraction_type_class'\n",
       "28. 'management'\n",
       "29. 'management_group'\n",
       "30. 'payment'\n",
       "31. 'payment_type'\n",
       "32. 'water_quality'\n",
       "33. 'quality_group'\n",
       "34. 'quantity'\n",
       "35. 'quantity_group'\n",
       "36. 'source'\n",
       "37. 'source_type'\n",
       "38. 'source_class'\n",
       "39. 'waterpoint_type'\n",
       "40. 'waterpoint_type_group'\n",
       "\n",
       "\n"
      ],
      "text/plain": [
       " [1] \"id\"                    \"amount_tsh\"            \"date_recorded\"        \n",
       " [4] \"funder\"                \"gps_height\"            \"installer\"            \n",
       " [7] \"longitude\"             \"latitude\"              \"wpt_name\"             \n",
       "[10] \"num_private\"           \"basin\"                 \"subvillage\"           \n",
       "[13] \"region\"                \"region_code\"           \"district_code\"        \n",
       "[16] \"lga\"                   \"ward\"                  \"population\"           \n",
       "[19] \"public_meeting\"        \"recorded_by\"           \"scheme_management\"    \n",
       "[22] \"scheme_name\"           \"permit\"                \"construction_year\"    \n",
       "[25] \"extraction_type\"       \"extraction_type_group\" \"extraction_type_class\"\n",
       "[28] \"management\"            \"management_group\"      \"payment\"              \n",
       "[31] \"payment_type\"          \"water_quality\"         \"quality_group\"        \n",
       "[34] \"quantity\"              \"quantity_group\"        \"source\"               \n",
       "[37] \"source_type\"           \"source_class\"          \"waterpoint_type\"      \n",
       "[40] \"waterpoint_type_group\""
      ]
     },
     "metadata": {},
     "output_type": "display_data"
    }
   ],
   "source": [
    "training_set<-read.csv(\"../Data/TrainingSet/4910797b-ee55-40a7-8668-10efd5c1b960.csv\",header=TRUE) # loads the training set csv file (it's magic)\n",
    "dim(training_set) # dimension of the set \n",
    "names(training_set) # names of the variables\n",
    "\n",
    "traninin_labels<-read.csv(\"../Data/TrainingLabel/0bf8bc6e-30d0-4c50-956a-603fc693d966.csv\", header=TRUE) # Loads the corresponding labels\n"
   ]
  },
  {
   "cell_type": "markdown",
   "metadata": {},
   "source": [
    "## Analysis of each variable\n",
    "All the variables will be analysed one by one, as some of them aren't representative of the problem and can be ommited."
   ]
  },
  {
   "cell_type": "code",
   "execution_count": 8,
   "metadata": {},
   "outputs": [
    {
     "data": {
      "text/html": [
       "<table class=\"dataframe\">\n",
       "<caption>A data.frame: 13 × 2</caption>\n",
       "<thead>\n",
       "\t<tr><th scope=col>Scheme Management</th><th scope=col>Freq</th></tr>\n",
       "\t<tr><th scope=col>&lt;fct&gt;</th><th scope=col>&lt;int&gt;</th></tr>\n",
       "</thead>\n",
       "<tbody>\n",
       "\t<tr><td>                </td><td> 3877</td></tr>\n",
       "\t<tr><td>Company         </td><td> 1061</td></tr>\n",
       "\t<tr><td>None            </td><td>    1</td></tr>\n",
       "\t<tr><td>Other           </td><td>  766</td></tr>\n",
       "\t<tr><td>Parastatal      </td><td> 1680</td></tr>\n",
       "\t<tr><td>Private operator</td><td> 1063</td></tr>\n",
       "\t<tr><td>SWC             </td><td>   97</td></tr>\n",
       "\t<tr><td>Trust           </td><td>   72</td></tr>\n",
       "\t<tr><td>VWC             </td><td>36793</td></tr>\n",
       "\t<tr><td>Water authority </td><td> 3153</td></tr>\n",
       "\t<tr><td>Water Board     </td><td> 2748</td></tr>\n",
       "\t<tr><td>WUA             </td><td> 2883</td></tr>\n",
       "\t<tr><td>WUG             </td><td> 5206</td></tr>\n",
       "</tbody>\n",
       "</table>\n"
      ],
      "text/latex": [
       "A data.frame: 13 × 2\n",
       "\\begin{tabular}{ll}\n",
       " Scheme Management & Freq\\\\\n",
       " <fct> & <int>\\\\\n",
       "\\hline\n",
       "\t                  &  3877\\\\\n",
       "\t Company          &  1061\\\\\n",
       "\t None             &     1\\\\\n",
       "\t Other            &   766\\\\\n",
       "\t Parastatal       &  1680\\\\\n",
       "\t Private operator &  1063\\\\\n",
       "\t SWC              &    97\\\\\n",
       "\t Trust            &    72\\\\\n",
       "\t VWC              & 36793\\\\\n",
       "\t Water authority  &  3153\\\\\n",
       "\t Water Board      &  2748\\\\\n",
       "\t WUA              &  2883\\\\\n",
       "\t WUG              &  5206\\\\\n",
       "\\end{tabular}\n"
      ],
      "text/markdown": [
       "\n",
       "A data.frame: 13 × 2\n",
       "\n",
       "| Scheme Management &lt;fct&gt; | Freq &lt;int&gt; |\n",
       "|---|---|\n",
       "| <!----> |  3877 |\n",
       "| Company          |  1061 |\n",
       "| None             |     1 |\n",
       "| Other            |   766 |\n",
       "| Parastatal       |  1680 |\n",
       "| Private operator |  1063 |\n",
       "| SWC              |    97 |\n",
       "| Trust            |    72 |\n",
       "| VWC              | 36793 |\n",
       "| Water authority  |  3153 |\n",
       "| Water Board      |  2748 |\n",
       "| WUA              |  2883 |\n",
       "| WUG              |  5206 |\n",
       "\n"
      ],
      "text/plain": [
       "   Scheme Management Freq \n",
       "1                     3877\n",
       "2  Company            1061\n",
       "3  None                  1\n",
       "4  Other               766\n",
       "5  Parastatal         1680\n",
       "6  Private operator   1063\n",
       "7  SWC                  97\n",
       "8  Trust                72\n",
       "9  VWC               36793\n",
       "10 Water authority    3153\n",
       "11 Water Board        2748\n",
       "12 WUA                2883\n",
       "13 WUG                5206"
      ]
     },
     "metadata": {},
     "output_type": "display_data"
    }
   ],
   "source": [
    "sm = table(training_set[\"scheme_management\"])\n",
    "sm = as.data.frame(sm)\n",
    "names(sm)[1] <- \"Scheme Management\"\n",
    "sm"
   ]
  },
  {
   "cell_type": "code",
   "execution_count": null,
   "metadata": {},
   "outputs": [],
   "source": []
  },
  {
   "cell_type": "markdown",
   "metadata": {},
   "source": [
    "## How to enhance the data set :\n",
    "First, it's needed to remove empty values in the table: each NaN or empty cell has to be removed or replaced, it is decided for now to map Nan <- 0.\n",
    "\n",
    "Then, modifications have to be made depending on the nature of the data :\n",
    "* If a column (variable) consists in continous numerical values : standardization is applied such has obtaining a new column with a mean value of 0 and a standard deviation of 1 (**gps_height**)\n",
    "* If a column is made of ordinal categorical variable (hierarchy between categories) : map each string to a numerical value (**water_quality**)\n",
    "* In case of nominal categorical variable : apply one hot encoding -> create new column (with binary values) for each category (**source_type**)\n",
    "<br/>\n",
    "\n",
    "But some other cases have to be assesed :\n",
    "* the name of the water point (**wpt_name**) isn't relevant to use as it is, as every water point has a unique or no name -> so either drop this column or map it as 1 : has name , 0 : no name\n",
    "* the **funder** or **installer** variable cannot be addressed with one hot encoding as there is 1900 different funders, many of them having only 1 installation. So two solutions exists : drop the column (loss of information) or create new categories for funders (eg: number of installation per funder -> 1 , 1-10, 10+)\n",
    "* ...\n",
    "* todo : address variable redundancy (eg: **source** vs **source_type**)\n",
    "\n",
    "## Methods are implement to apply these changes :"
   ]
  },
  {
   "cell_type": "code",
   "execution_count": null,
   "metadata": {},
   "outputs": [],
   "source": [
    "# METHOD TO REASSIGN EMPTY VALUES\n",
    "NaN_handler <- function(column_name) { # input : column_name (name of the variable)\n",
    "    training_set[training_set[,column_name] == \"\", ] <- 0 # select row where column element is empty string \"\" and assign to 0\n",
    "    training_set[is.na(training_set[,column_name])] <- 0 # select row where column element is NaN and assign to 0\n",
    "    return(training_set)\n",
    "}\n",
    "training_set<-NaN_handler(\"funder\") # TEST"
   ]
  },
  {
   "cell_type": "code",
   "execution_count": null,
   "metadata": {},
   "outputs": [],
   "source": [
    "# STANDARDIZATION METHOD FOR VARIABLES WITH CONTINUOUS NUMERICAL VALUES\n",
    "Standardization <- function(column_name){ # input : column_name (name of the variable)\n",
    "    mean_col = mean(training_set[,column_name], na.rm = TRUE) # mean of the variable\n",
    "    sd_col = sd(training_set[,column_name], na.rm = TRUE) # standard deviation of the variable\n",
    "    training_set[,column_name]<-(training_set[,column_name]-mean_col)/sd_col # apply the transformation\n",
    "    # now for the whole column : mean = 0 and sd = 1\n",
    "    return(training_set)\n",
    "}\n",
    "training_set<-NaN_handler(\"gps_height\") # TEST \n",
    "training_set<-Standardization(\"gps_height\") # TEST\n",
    "# also, amount_tsh, longitude, latitude, ..."
   ]
  },
  {
   "cell_type": "code",
   "execution_count": null,
   "metadata": {},
   "outputs": [],
   "source": [
    "require(tidyr)\n",
    "require(dplyr)\n",
    "# HANDLING OF NOMINAL CATEGORICAL VARIABLES\n",
    "# before using : change notebook IOPub data rate limit with Jupyter  notebook --NotebookApp.iopub_data_rate_limit=jupyter notebook --NotebookApp.iopub_data_rate_limit=1.0e10\n",
    "Nom_cat_handle <- function(column_name){\n",
    "    training_set %>% mutate(value = 1)  %>% spread(column_name, value,  fill = 0 )\n",
    "    return(training_set)\n",
    "}\n",
    "training_set<-Nom_cat_handle(\"source_type\") # TEST\n",
    "\n",
    "# THERE IS 1897 different funders ! many funding only 1 installation : it's needed to categorize them, no one hot encoding"
   ]
  },
  {
   "cell_type": "code",
   "execution_count": null,
   "metadata": {},
   "outputs": [],
   "source": [
    "library(\"writexl\")\n",
    "funder_occurency<-as.data.frame(table(training_set[,\"funder\"])) # data_frame containing the number of occurences of each funder\n",
    "funder_occurency<-arrange(funder_occurency,Freq) # sorted in ascending frequency order\n",
    "write_xlsx(funder_occurency,\"../Data/PreProcess/funder_occ.csv\") # stores occurences for later test_set pre-processing\n",
    "funder_occurency[as.integer(nrow(funder_occurency)/3),2] # thresh 1 \n",
    "funder_occurency[as.integer(2*nrow(funder_occurency)/3),2] # thresh 2\n",
    "# the two thresholds split the data frame in 3 equal parts : (the number of 3 is arbitrary)\n",
    "# - funders having opened 1 water pump\n",
    "# - funders having opened 2 or 3 water pumps\n",
    "# - funders having opened more than 3 water pumps\n",
    "# The funder column can now be transformed, where every funder is now assigned to an ordinal categorical variable (1,2 or 3)\n",
    "# 0 is already assigned by default the the rows without funder names\n",
    "\n",
    "for(row in 1: nrow(training_set)){\n",
    "    val = funder_occurency[which(funder_occurency[,1] == training_set[row,\"funder\"]),2]\n",
    "    if(val>3){\n",
    "        training_set[row,\"funder\"]<-3\n",
    "    }\n",
    "    else if (val>1){\n",
    "        training_set[row,\"funder\"]<-2\n",
    "    }\n",
    "    else if (val >0){\n",
    "        training_set[row,\"funder\"]<-1\n",
    "    }\n",
    "    else{\n",
    "        training_set[row,\"funder\"]<-0\n",
    "    }\n",
    "    # reassign each funder value to its new category\n",
    "}\n",
    "\n",
    "# this process can be done for other very large nominal categorical variables"
   ]
  },
  {
   "cell_type": "code",
   "execution_count": null,
   "metadata": {},
   "outputs": [],
   "source": [
    "# TEST : remap wpt_name with 0: no name, 1: has name\n",
    "training_set[training_set[,\"wpt_name\"] == \"none\", ] <- 0\n",
    "training_set[training_set[,\"wpt_name\"] != 0, ] <- 1"
   ]
  },
  {
   "cell_type": "code",
   "execution_count": null,
   "metadata": {
    "scrolled": true
   },
   "outputs": [],
   "source": [
    "# TEST\n",
    "training_set<-training_set[,!(names(training_set) %in% \"wpt_name\")] # drop the desired column"
   ]
  },
  {
   "cell_type": "code",
   "execution_count": null,
   "metadata": {},
   "outputs": [],
   "source": []
  }
 ],
 "metadata": {
  "kernelspec": {
   "display_name": "R",
   "language": "R",
   "name": "ir"
  },
  "language_info": {
   "codemirror_mode": "r",
   "file_extension": ".r",
   "mimetype": "text/x-r-source",
   "name": "R",
   "pygments_lexer": "r",
   "version": "4.0.3"
  },
  "latex_envs": {
   "LaTeX_envs_menu_present": true,
   "autoclose": false,
   "autocomplete": true,
   "bibliofile": "biblio.bib",
   "cite_by": "apalike",
   "current_citInitial": 1,
   "eqLabelWithNumbers": true,
   "eqNumInitial": 1,
   "hotkeys": {
    "equation": "Ctrl-E",
    "itemize": "Ctrl-I"
   },
   "labels_anchors": false,
   "latex_user_defs": false,
   "report_style_numbering": false,
   "user_envs_cfg": false
  },
  "pycharm": {
   "stem_cell": {
    "cell_type": "raw",
    "metadata": {
     "collapsed": false
    },
    "source": []
   }
  },
  "toc": {
   "base_numbering": 1,
   "nav_menu": {},
   "number_sections": true,
   "sideBar": true,
   "skip_h1_title": false,
   "title_cell": "Table of Contents",
   "title_sidebar": "Contents",
   "toc_cell": false,
   "toc_position": {},
   "toc_section_display": true,
   "toc_window_display": false
  },
  "varInspector": {
   "cols": {
    "lenName": 16,
    "lenType": 16,
    "lenVar": 40
   },
   "kernels_config": {
    "python": {
     "delete_cmd_postfix": "",
     "delete_cmd_prefix": "del ",
     "library": "var_list.py",
     "varRefreshCmd": "print(var_dic_list())"
    },
    "r": {
     "delete_cmd_postfix": ") ",
     "delete_cmd_prefix": "rm(",
     "library": "var_list.r",
     "varRefreshCmd": "cat(var_dic_list()) "
    }
   },
   "types_to_exclude": [
    "module",
    "function",
    "builtin_function_or_method",
    "instance",
    "_Feature"
   ],
   "window_display": false
  }
 },
 "nbformat": 4,
 "nbformat_minor": 1
}

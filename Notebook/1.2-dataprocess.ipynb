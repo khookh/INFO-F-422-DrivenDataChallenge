{
 "cells": [
  {
   "cell_type": "markdown",
   "metadata": {},
   "source": [
    "# INFO-F-422 -  Statistical Foundations of Machine Learning \n",
    "\n",
    "### Couchard Darious - __[Darius.Couchard@ulb.be](mailto:Darius.Couchard@ulb.be) - Student ID 425366__\n",
    "### Donne Stefano - __[Stefano.Donne@ulb.be](mailto:Stefano.Donne@ulb.be) - Student ID 408801__\n",
    "### Parent Paul - __[Paul.Parent@ulb.be](mailto:Paul.Parent@ulb.be) - Student ID 495257__\n",
    "\n",
    "\n",
    "## Pump it Up: Data Mining the Water Table\n",
    "####  April 29, 2021\n"
   ]
  },
  {
   "cell_type": "markdown",
   "metadata": {},
   "source": [
    "# 2) Data Pre-Processing\n",
    "\n",
    "\n"
   ]
  },
  {
   "cell_type": "code",
   "execution_count": 1,
   "metadata": {
    "pycharm": {
     "name": "#%%\n"
    }
   },
   "outputs": [
    {
     "name": "stderr",
     "output_type": "stream",
     "text": [
      "Loading required package: tidyr\n",
      "\n",
      "Loading required package: plyr\n",
      "\n",
      "Loading required package: dplyr\n",
      "\n",
      "\n",
      "Attaching package: 'dplyr'\n",
      "\n",
      "\n",
      "The following objects are masked from 'package:plyr':\n",
      "\n",
      "    arrange, count, desc, failwith, id, mutate, rename, summarise,\n",
      "    summarize\n",
      "\n",
      "\n",
      "The following objects are masked from 'package:stats':\n",
      "\n",
      "    filter, lag\n",
      "\n",
      "\n",
      "The following objects are masked from 'package:base':\n",
      "\n",
      "    intersect, setdiff, setequal, union\n",
      "\n",
      "\n",
      "\n",
      "Attaching package: 'mltools'\n",
      "\n",
      "\n",
      "The following object is masked from 'package:tidyr':\n",
      "\n",
      "    replace_na\n",
      "\n",
      "\n",
      "\n",
      "Attaching package: 'data.table'\n",
      "\n",
      "\n",
      "The following objects are masked from 'package:dplyr':\n",
      "\n",
      "    between, first, last\n",
      "\n",
      "\n"
     ]
    },
    {
     "data": {
      "text/html": [
       "<style>\n",
       ".list-inline {list-style: none; margin:0; padding: 0}\n",
       ".list-inline>li {display: inline-block}\n",
       ".list-inline>li:not(:last-child)::after {content: \"\\00b7\"; padding: 0 .5ex}\n",
       "</style>\n",
       "<ol class=list-inline><li>59400</li><li>40</li></ol>\n"
      ],
      "text/latex": [
       "\\begin{enumerate*}\n",
       "\\item 59400\n",
       "\\item 40\n",
       "\\end{enumerate*}\n"
      ],
      "text/markdown": [
       "1. 59400\n",
       "2. 40\n",
       "\n",
       "\n"
      ],
      "text/plain": [
       "[1] 59400    40"
      ]
     },
     "metadata": {},
     "output_type": "display_data"
    },
    {
     "data": {
      "text/html": [
       "<style>\n",
       ".list-inline {list-style: none; margin:0; padding: 0}\n",
       ".list-inline>li {display: inline-block}\n",
       ".list-inline>li:not(:last-child)::after {content: \"\\00b7\"; padding: 0 .5ex}\n",
       "</style>\n",
       "<ol class=list-inline><li>'id'</li><li>'amount_tsh'</li><li>'date_recorded'</li><li>'funder'</li><li>'gps_height'</li><li>'installer'</li><li>'longitude'</li><li>'latitude'</li><li>'wpt_name'</li><li>'num_private'</li><li>'basin'</li><li>'subvillage'</li><li>'region'</li><li>'region_code'</li><li>'district_code'</li><li>'lga'</li><li>'ward'</li><li>'population'</li><li>'public_meeting'</li><li>'recorded_by'</li><li>'scheme_management'</li><li>'scheme_name'</li><li>'permit'</li><li>'construction_year'</li><li>'extraction_type'</li><li>'extraction_type_group'</li><li>'extraction_type_class'</li><li>'management'</li><li>'management_group'</li><li>'payment'</li><li>'payment_type'</li><li>'water_quality'</li><li>'quality_group'</li><li>'quantity'</li><li>'quantity_group'</li><li>'source'</li><li>'source_type'</li><li>'source_class'</li><li>'waterpoint_type'</li><li>'waterpoint_type_group'</li></ol>\n"
      ],
      "text/latex": [
       "\\begin{enumerate*}\n",
       "\\item 'id'\n",
       "\\item 'amount\\_tsh'\n",
       "\\item 'date\\_recorded'\n",
       "\\item 'funder'\n",
       "\\item 'gps\\_height'\n",
       "\\item 'installer'\n",
       "\\item 'longitude'\n",
       "\\item 'latitude'\n",
       "\\item 'wpt\\_name'\n",
       "\\item 'num\\_private'\n",
       "\\item 'basin'\n",
       "\\item 'subvillage'\n",
       "\\item 'region'\n",
       "\\item 'region\\_code'\n",
       "\\item 'district\\_code'\n",
       "\\item 'lga'\n",
       "\\item 'ward'\n",
       "\\item 'population'\n",
       "\\item 'public\\_meeting'\n",
       "\\item 'recorded\\_by'\n",
       "\\item 'scheme\\_management'\n",
       "\\item 'scheme\\_name'\n",
       "\\item 'permit'\n",
       "\\item 'construction\\_year'\n",
       "\\item 'extraction\\_type'\n",
       "\\item 'extraction\\_type\\_group'\n",
       "\\item 'extraction\\_type\\_class'\n",
       "\\item 'management'\n",
       "\\item 'management\\_group'\n",
       "\\item 'payment'\n",
       "\\item 'payment\\_type'\n",
       "\\item 'water\\_quality'\n",
       "\\item 'quality\\_group'\n",
       "\\item 'quantity'\n",
       "\\item 'quantity\\_group'\n",
       "\\item 'source'\n",
       "\\item 'source\\_type'\n",
       "\\item 'source\\_class'\n",
       "\\item 'waterpoint\\_type'\n",
       "\\item 'waterpoint\\_type\\_group'\n",
       "\\end{enumerate*}\n"
      ],
      "text/markdown": [
       "1. 'id'\n",
       "2. 'amount_tsh'\n",
       "3. 'date_recorded'\n",
       "4. 'funder'\n",
       "5. 'gps_height'\n",
       "6. 'installer'\n",
       "7. 'longitude'\n",
       "8. 'latitude'\n",
       "9. 'wpt_name'\n",
       "10. 'num_private'\n",
       "11. 'basin'\n",
       "12. 'subvillage'\n",
       "13. 'region'\n",
       "14. 'region_code'\n",
       "15. 'district_code'\n",
       "16. 'lga'\n",
       "17. 'ward'\n",
       "18. 'population'\n",
       "19. 'public_meeting'\n",
       "20. 'recorded_by'\n",
       "21. 'scheme_management'\n",
       "22. 'scheme_name'\n",
       "23. 'permit'\n",
       "24. 'construction_year'\n",
       "25. 'extraction_type'\n",
       "26. 'extraction_type_group'\n",
       "27. 'extraction_type_class'\n",
       "28. 'management'\n",
       "29. 'management_group'\n",
       "30. 'payment'\n",
       "31. 'payment_type'\n",
       "32. 'water_quality'\n",
       "33. 'quality_group'\n",
       "34. 'quantity'\n",
       "35. 'quantity_group'\n",
       "36. 'source'\n",
       "37. 'source_type'\n",
       "38. 'source_class'\n",
       "39. 'waterpoint_type'\n",
       "40. 'waterpoint_type_group'\n",
       "\n",
       "\n"
      ],
      "text/plain": [
       " [1] \"id\"                    \"amount_tsh\"            \"date_recorded\"        \n",
       " [4] \"funder\"                \"gps_height\"            \"installer\"            \n",
       " [7] \"longitude\"             \"latitude\"              \"wpt_name\"             \n",
       "[10] \"num_private\"           \"basin\"                 \"subvillage\"           \n",
       "[13] \"region\"                \"region_code\"           \"district_code\"        \n",
       "[16] \"lga\"                   \"ward\"                  \"population\"           \n",
       "[19] \"public_meeting\"        \"recorded_by\"           \"scheme_management\"    \n",
       "[22] \"scheme_name\"           \"permit\"                \"construction_year\"    \n",
       "[25] \"extraction_type\"       \"extraction_type_group\" \"extraction_type_class\"\n",
       "[28] \"management\"            \"management_group\"      \"payment\"              \n",
       "[31] \"payment_type\"          \"water_quality\"         \"quality_group\"        \n",
       "[34] \"quantity\"              \"quantity_group\"        \"source\"               \n",
       "[37] \"source_type\"           \"source_class\"          \"waterpoint_type\"      \n",
       "[40] \"waterpoint_type_group\""
      ]
     },
     "metadata": {},
     "output_type": "display_data"
    }
   ],
   "source": [
    "require(tidyr)\n",
    "require(plyr)\n",
    "require(dplyr)\n",
    "library(mltools)\n",
    "library(data.table)\n",
    "\n",
    "training_set<-read.csv(\"../Data/TrainingSet/4910797b-ee55-40a7-8668-10efd5c1b960.csv\",header=TRUE) # loads the training set csv file (it's magic)\n",
    "dim(training_set) # dimension of the set \n",
    "names(training_set) # names of the variables\n",
    "\n",
    "training_labels<-read.csv(\"../Data/TrainingLabel/0bf8bc6e-30d0-4c50-956a-603fc693d966.csv\", header=TRUE) # Loads the corresponding labels\n",
    "\n",
    "### TEST SET ###\n",
    "\n",
    "test_set<-read.csv(\"../Data/TestSet/702ddfc5-68cd-4d1d-a0de-f5f566f76d91.csv\", header=TRUE) "
   ]
  },
  {
   "cell_type": "markdown",
   "metadata": {},
   "source": [
    "## How to enhance the data set :\n",
    "\n",
    "After having analyzed the data set and assessed each variable relevance, it's needed to standardize the datas.\n",
    "\n",
    "First, it's needed to remove empty values in the table (Imputation): each NaN or empty cell has to be removed or replaced, different solution exists : \n",
    "* Mapping NaN<-0 for nominal categorical variables\n",
    "* Replace missing value by mean of column for numerical variables\n",
    "\n",
    "Then, modifications have to be made depending on the nature of the data :\n",
    "* If a column (variable) consists in continous numerical values : standardization is applied such has obtaining a new column with a mean value of 0 and a standard deviation of 1 (**longitude**)\n",
    "* If a column is made of ordinal categorical variable (hierarchy between categories) : map each string to a numerical value (**water_quality**)\n",
    "* In case of nominal categorical variable : apply one hot encoding -> create new column (with binary values) for each category (**source_type**)\n",
    "<br/>\n",
    "\n",
    "\n",
    "## Methods are implemented to apply these changes :"
   ]
  },
  {
   "cell_type": "code",
   "execution_count": 2,
   "metadata": {},
   "outputs": [],
   "source": [
    "# METHOD TO REASSIGN EMPTY VALUES\n",
    "NaN_handler_categorical <- function(column_name,set) { # input : column_name (name of the variable)\n",
    "    set[set[,column_name] == \"\",column_name ] <- 0 # select row where column element is empty string \"\" and assign to 0\n",
    "    set[is.na(set[,column_name]),column_name] <- 0 # select row where column element is NaN and assign to 0\n",
    "    return(set)\n",
    "}\n",
    "\n",
    "\n",
    "# METHOD TO REASSIGN EMPTY VALUES\n",
    "NaN_handler_num<- function(column_name,set) { # input : column_name (name of the variable)\n",
    "    mean_col <- mean(training_set[,column_name], na.rm = TRUE)\n",
    "    set[is.na(set[,column_name]),column_name] <- mean_col\n",
    "    return(set)\n",
    "}\n"
   ]
  },
  {
   "cell_type": "code",
   "execution_count": 3,
   "metadata": {},
   "outputs": [],
   "source": [
    "# STANDARDIZATION METHOD FOR VARIABLES WITH CONTINUOUS NUMERICAL VALUES\n",
    "Standardization <- function(column_name,set){ # input : column_name (name of the variable)\n",
    "    mean_col <- mean(training_set[,column_name], na.rm = TRUE) # mean of the variable\n",
    "    sd_col <- sd(training_set[,column_name], na.rm = TRUE) # standard deviation of the variable\n",
    "    set[,column_name]<-(set[,column_name]-mean_col)/sd_col # apply the transformation\n",
    "    # now for the whole column : mean = 0 and sd = 1\n",
    "    return(set)\n",
    "}"
   ]
  },
  {
   "cell_type": "code",
   "execution_count": 4,
   "metadata": {},
   "outputs": [],
   "source": [
    "# HANDLING OF NOMINAL CATEGORICAL VARIABLES (ONE HOT ENCODING)\n",
    "# before using : change notebook IOPub data rate limit with Jupyter  notebook --NotebookApp.iopub_data_rate_limit=jupyter notebook --NotebookApp.iopub_data_rate_limit=1.0e10\n",
    "Nom_cat_handle <- function(column_name,set){\n",
    "    set <- set %>% mutate(value = 1)  %>% spread(column_name, value,  fill = 0 )\n",
    "    return(set)\n",
    "}\n"
   ]
  },
  {
   "cell_type": "markdown",
   "metadata": {},
   "source": [
    "## Drop unused variables"
   ]
  },
  {
   "cell_type": "code",
   "execution_count": 5,
   "metadata": {},
   "outputs": [],
   "source": [
    "# COLUMNS TO DROP \n",
    "column_to_drop<-c(\"wpt_name\",\"amount_tsh\",\"date_recorded\",\"gps_height\",\"num_private\",\"public_meeting\",\"recorded_by\",\n",
    "                 \"scheme_name\",\"quantity_group\",\"source_class\",\"subvillage\",\"waterpoint_type\", \"region\", \"district_code\",\n",
    "                 \"extraction_type\",\"extraction_type_group\",\"water_quality\",\"source\", \"payment_type\", \"management\",\n",
    "                 \"latitude\", \"longitude\",\"installer\",\"lga\",\"ward\")\n",
    "\n",
    "# TODO : adds others columns to drop\n",
    "training_set<-training_set[,!(names(training_set) %in% column_to_drop)] # drop the desired column\n",
    "\n",
    "\n",
    "\n",
    "\n",
    "### TEST SET ###\n",
    "test_set<-test_set[,!(names(test_set) %in% column_to_drop)] # drop the desired column"
   ]
  },
  {
   "cell_type": "markdown",
   "metadata": {},
   "source": [
    "## Basin variable"
   ]
  },
  {
   "cell_type": "code",
   "execution_count": 6,
   "metadata": {},
   "outputs": [],
   "source": [
    "# MANAGE SIMPLE NOMINAL CATEGORICAL VARIABLE\n",
    "#TODO : apply one-hot encoding to other needed variables\n",
    "training_set<-Nom_cat_handle(\"basin\",training_set) # apply one-hot-encoding to the basin related column\n",
    "\n",
    "\n",
    "\n",
    "\n",
    "### TEST SET ###\n",
    "test_set<-Nom_cat_handle(\"basin\",test_set) # apply one-hot-encoding to the basin related column"
   ]
  },
  {
   "cell_type": "markdown",
   "metadata": {},
   "source": [
    "## Population variable"
   ]
  },
  {
   "cell_type": "code",
   "execution_count": 7,
   "metadata": {},
   "outputs": [],
   "source": [
    "# MANAGE POPULATION VARIABLE\n",
    "# NaN have to be replaced by mean of region population\n",
    "# column 1 = region code, column 2 = population mean in this region\n",
    "region_code_frame <- data.frame(\"region\" = unique(training_set$region_code),\"mean_pop\" = NA)\n",
    "for(row in 1: nrow(region_code_frame) ){ \n",
    "    sel <-training_set[which(training_set[,\"region_code\"]==region_code_frame[row,1],),\"population\"] # select pop row with corresponding region\n",
    "    region_code_frame[row,\"mean_pop\"]<-mean(sel[sel!=0],na.rm = TRUE)\n",
    "}\n",
    "\n",
    "# TODO : some region population mean are NaN , find a solution (same problem with region and district_code variables)\n",
    "# temporairement on remplace les NaN par le mean des autres valeurs dans region_code_frame\n",
    "region_code_frame[which(is.na(region_code_frame[,2])),2]<-mean(region_code_frame[,2],na.rm=TRUE)\n",
    "\n",
    "\n",
    "\n",
    "\n",
    "### TEST SET ###\n",
    "for(elem in which(test_set[,\"population\"]==0)){\n",
    "    test_set[elem,\"population\"]<-region_code_frame[test_set[elem,\"region_code\"],2] # replace NaN by their mean region value\n",
    "}\n",
    "\n",
    "test_set<-Standardization(\"population\",test_set)\n",
    "### TEST SET ###\n",
    "\n",
    "# replace NaN value of population by mean region values\n",
    "index<-which(training_set[,\"population\"]==0)\n",
    "for(elem in index){\n",
    "    training_set[elem,\"population\"]<-region_code_frame[training_set[elem,\"region_code\"],2] # replace NaN by their mean region value\n",
    "}\n",
    "\n",
    "# Now Standardize Population Variable \n",
    "training_set<-Standardization(\"population\",training_set)\n",
    "\n",
    "\n",
    "\n",
    "\n",
    "\n",
    "\n"
   ]
  },
  {
   "cell_type": "markdown",
   "metadata": {},
   "source": [
    "## Permit variable"
   ]
  },
  {
   "cell_type": "code",
   "execution_count": 8,
   "metadata": {},
   "outputs": [],
   "source": [
    "# MANAGE ORDINAL CATEGORICAL VARIABLE\n",
    "\n",
    "# variable PERMIT\n",
    "# remap True : 1 , False : 0, Missing \"\" : NA\n",
    "training_set$permit <- mapvalues(training_set$permit, \n",
    "          from=c(\"True\",\"False\",\"\"), \n",
    "          to=c(1,0,NA))\n",
    "training_set <- transform(training_set, permit = as.numeric(permit)) # transform column data type (char to int)\n",
    "\n",
    "\n",
    "### TEST SET ###\n",
    "test_set$permit <- mapvalues(test_set$permit, \n",
    "          from=c(\"True\",\"False\",\"\"), \n",
    "          to=c(1,0,NA))\n",
    "test_set <- transform(test_set, permit = as.numeric(permit)) # transform column data type (char to int)\n",
    "# replace missing value by mean of column\n",
    "test_set<-NaN_handler_num(\"permit\",test_set)\n",
    "# Standardize Variable\n",
    "test_set<-Standardization(\"permit\",test_set)\n",
    "### TEST SET ###\n",
    "\n",
    "# replace missing value by mean of column\n",
    "training_set<-NaN_handler_num(\"permit\",training_set)\n",
    "# Standardize Variable\n",
    "training_set<-Standardization(\"permit\",training_set)\n",
    "\n",
    "\n"
   ]
  },
  {
   "cell_type": "markdown",
   "metadata": {},
   "source": [
    "## Scheme management variable"
   ]
  },
  {
   "cell_type": "code",
   "execution_count": 9,
   "metadata": {},
   "outputs": [
    {
     "name": "stderr",
     "output_type": "stream",
     "text": [
      "Warning message:\n",
      "\"The `x` argument of `as_tibble.matrix()` must have unique column names if `.name_repair` is omitted as of tibble 2.0.0.\n",
      "Using compatibility `.name_repair`.\n",
      "\u001b[90mThis warning is displayed once every 8 hours.\u001b[39m\n",
      "\u001b[90mCall `lifecycle::last_warnings()` to see where this warning was generated.\u001b[39m\"\n"
     ]
    }
   ],
   "source": [
    "# One hot encoding\n",
    "training_set <- Nom_cat_handle(\"scheme_management\",training_set)\n",
    "\n",
    "\n",
    "\n",
    "### TEST SET ###\n",
    "test_set <- Nom_cat_handle(\"scheme_management\",test_set)\n",
    "### TEST SET ###"
   ]
  },
  {
   "cell_type": "markdown",
   "metadata": {},
   "source": [
    "## Construction year variable"
   ]
  },
  {
   "cell_type": "code",
   "execution_count": 10,
   "metadata": {},
   "outputs": [],
   "source": [
    "# Replace the construction's year by age\n",
    "max_year <- max(training_set$construction_year)\n",
    "# Replace 0 values by NaN\n",
    "training_set$construction_year <- mapvalues(training_set$construction_year, from=0, to=NaN)\n",
    "# Changes construction year by age\n",
    "training_set$construction_year <- max_year - training_set$construction_year\n",
    "# Computes mean age\n",
    "mean_age <- mean(na.omit(training_set$construction_year))\n",
    "# Replace NaN by the mean age\n",
    "training_set$construction_year <- mapvalues(training_set$construction_year, from=NaN, to=mean_age)\n",
    "\n",
    "### TEST SET ###\n",
    "# Replace 0 values by NaN\n",
    "test_set$construction_year <- mapvalues(test_set$construction_year, from=0, to=NaN)\n",
    "# Changes construction year by age\n",
    "test_set$construction_year <- max_year - test_set$construction_year\n",
    "# Replace NaN by the mean age\n",
    "test_set$construction_year <- mapvalues(test_set$construction_year, from=NaN, to=mean_age)\n",
    "# Standardize mean age values\n",
    "test_set<- Standardization(\"construction_year\",test_set)\n",
    "# Rename column to age\n",
    "names(test_set[\"construction_year\"]) <- \"age\"\n",
    "### TEST SET ###\n",
    "\n",
    "\n",
    "# Standardize mean age values\n",
    "training_set<- Standardization(\"construction_year\",training_set)\n",
    "\n",
    "# Rename column to age\n",
    "names(training_set[\"construction_year\"]) <- \"age\""
   ]
  },
  {
   "cell_type": "markdown",
   "metadata": {},
   "source": [
    "## Extraction type class variable"
   ]
  },
  {
   "cell_type": "code",
   "execution_count": 11,
   "metadata": {},
   "outputs": [],
   "source": [
    "# One hot encoding\n",
    "training_set <- Nom_cat_handle(\"extraction_type_class\",training_set)\n",
    "\n",
    "### TEST SET ###\n",
    "test_set <- Nom_cat_handle(\"extraction_type_class\",test_set)\n",
    "### TEST SET ###"
   ]
  },
  {
   "cell_type": "markdown",
   "metadata": {},
   "source": [
    "## Management group variable"
   ]
  },
  {
   "cell_type": "code",
   "execution_count": 12,
   "metadata": {},
   "outputs": [],
   "source": [
    "# One hot encode\n",
    "training_set <- Nom_cat_handle(\"management_group\",training_set)\n",
    "\n",
    "### TEST SET ###\n",
    "test_set <- Nom_cat_handle(\"management_group\",test_set)\n",
    "### TEST SET ###"
   ]
  },
  {
   "cell_type": "markdown",
   "metadata": {},
   "source": [
    "## Payment variable"
   ]
  },
  {
   "cell_type": "code",
   "execution_count": 13,
   "metadata": {},
   "outputs": [],
   "source": [
    "# One hot encode\n",
    "training_set <- Nom_cat_handle(\"payment\",training_set)\n",
    "\n",
    "### TEST SET ###\n",
    "test_set <- Nom_cat_handle(\"payment\",test_set)\n",
    "### TEST SET ###"
   ]
  },
  {
   "cell_type": "markdown",
   "metadata": {},
   "source": [
    "## Water quality group variable"
   ]
  },
  {
   "cell_type": "code",
   "execution_count": 14,
   "metadata": {},
   "outputs": [],
   "source": [
    "# Integer encoding\n",
    "training_set$quality_group <- mapvalues(training_set$quality_group,\n",
    "                                       from=c(\"milky\", \"good\", \"salty\", \"colored\", \"unknown\", \"fluoride\"),\n",
    "                                        to=c(2,3,0,1,NA,4))\n",
    "\n",
    "training_set$quality_group = as.integer(training_set$quality_group)\n",
    "\n",
    "quality_mean <- mean(na.omit(training_set$quality_group))\n",
    "\n",
    "training_set$quality_group <- mapvalues(training_set$quality_group,\n",
    "                                       from=NA,\n",
    "                                       to=quality_mean)\n",
    "\n",
    "\n",
    "### TEST SET ###\n",
    "test_set$quality_group <- mapvalues(test_set$quality_group,\n",
    "                                       from=c(\"milky\", \"good\", \"salty\", \"colored\", \"unknown\", \"fluoride\"),\n",
    "                                        to=c(2,3,0,1,NA,4))\n",
    "test_set$quality_group = as.integer(test_set$quality_group)\n",
    "test_set$quality_group <- mapvalues(test_set$quality_group,\n",
    "                                       from=NA,\n",
    "                                       to=quality_mean)\n",
    "test_set <- Standardization(\"quality_group\",test_set)\n",
    "### TEST SET ###\n",
    "\n",
    "training_set <- Standardization(\"quality_group\",training_set)\n"
   ]
  },
  {
   "cell_type": "markdown",
   "metadata": {},
   "source": [
    "## Water quantity variable"
   ]
  },
  {
   "cell_type": "code",
   "execution_count": 15,
   "metadata": {},
   "outputs": [
    {
     "name": "stderr",
     "output_type": "stream",
     "text": [
      "The following `from` values were not present in `x`: NA\n",
      "\n"
     ]
    }
   ],
   "source": [
    "# Integer encoding\n",
    "training_set$quantity <- mapvalues(training_set$quantity,\n",
    "                                    from=c(\"enough\", \"insufficient\", \"dry\", \"seasonal\", \"unknown\"),\n",
    "                                    to=c(3, 1, 0, 2, NA))\n",
    "training_set$quantity = as.integer(training_set$quantity)\n",
    "\n",
    "# compute mean\n",
    "quantity_mean <- mean(na.omit(training_set$quantity))\n",
    "\n",
    "# replace NaN by mean\n",
    "training_set$quantity <- mapvalues(training_set$quantity,\n",
    "                                    from=NA,\n",
    "                                    to=quantity_mean)\n",
    "\n",
    "\n",
    "### TEST SET ###\n",
    "test_set$quantity  <- mapvalues(test_set$quantity,\n",
    "                                    from=c(\"enough\", \"insufficient\", \"dry\", \"seasonal\", \"unknown\"),\n",
    "                                    to=c(3, 1, 0, 2, NA))\n",
    "test_set$quantity  = as.integer(test_set$quantity )\n",
    "training_set$quantity <- mapvalues(training_set$quantity,\n",
    "                                    from=NA,\n",
    "                                    to=quantity_mean)\n",
    "test_set <- Standardization(\"quantity\",test_set)\n",
    "### TEST SET ###\n",
    "\n",
    "\n",
    "# Standardize data\n",
    "training_set <- Standardization(\"quantity\",training_set)"
   ]
  },
  {
   "cell_type": "markdown",
   "metadata": {},
   "source": [
    "## Source type variable"
   ]
  },
  {
   "cell_type": "code",
   "execution_count": 16,
   "metadata": {},
   "outputs": [],
   "source": [
    "# One hot encode\n",
    "training_set <- Nom_cat_handle(\"source_type\",training_set)\n",
    "\n",
    "### TEST SET ###\n",
    "test_set <- Nom_cat_handle(\"source_type\",test_set)\n",
    "### TEST SET ###"
   ]
  },
  {
   "cell_type": "markdown",
   "metadata": {},
   "source": [
    "## Water point type variable"
   ]
  },
  {
   "cell_type": "code",
   "execution_count": 17,
   "metadata": {},
   "outputs": [],
   "source": [
    "# One hot encode\n",
    "training_set <- Nom_cat_handle(\"waterpoint_type_group\",training_set)\n",
    "\n",
    "### TEST SET ###\n",
    "test_set <- Nom_cat_handle(\"waterpoint_type_group\",test_set)\n",
    "### TEST SET ###"
   ]
  },
  {
   "cell_type": "markdown",
   "metadata": {},
   "source": [
    "## Funder variable"
   ]
  },
  {
   "cell_type": "code",
   "execution_count": 18,
   "metadata": {},
   "outputs": [
    {
     "name": "stdout",
     "output_type": "stream",
     "text": [
      "[1] \"nn\"\n"
     ]
    }
   ],
   "source": [
    "#Replace missing values and 0 by \"others\"\n",
    "training_set$funder <- sub(\"^$\", \"other_funder\", training_set$funder)\n",
    "training_set$funder <- sub(\"0\", \"other_funder\", training_set$funder)\n",
    "\n",
    "funder_occurency<-as.data.frame(table(training_set[,\"funder\"])) # data_frame containing the number of occurences of each funder\n",
    "funder_occurency<-arrange(funder_occurency,Freq) # sorted in ascending frequency order\n",
    "write.csv(funder_occurency,\"../Data/PreProcess/funder_occ.csv\") # stores occurences for later test_set pre-processing\n",
    "thresh1<-funder_occurency[as.integer(nrow(funder_occurency)*9/10),2] # thresh 1 \n",
    "\n",
    "# the two thresholds split the data frame in 2 equal parts (arbitrary) : \n",
    "# - funders having opened at most 32 water pump\n",
    "# - funders having opened more than 32 water pumps\n",
    "# The funder column can now be transformed, where every funder is now assigned to a categorical variable (big, small)\n",
    "\n",
    "for(row in 1: nrow(training_set)){\n",
    "    val = funder_occurency[which(funder_occurency[,1] == training_set[row,\"funder\"]),2]\n",
    "    if(training_set[row,\"funder\"]!=\"other_funder\"){\n",
    "        if(val>thresh1){\n",
    "            training_set[row,\"funder\"]<-\"big\"\n",
    "        }\n",
    "        else{\n",
    "            training_set[row,\"funder\"]<-\"small\"\n",
    "        }\n",
    "    }\n",
    "    # reassign each funder value to its new category\n",
    "}\n",
    "\n",
    "# One hot encode\n",
    "training_set <- Nom_cat_handle(\"funder\",training_set)\n",
    "\n",
    "\n",
    "\n",
    "### TEST SET ### \n",
    "#Replace missing values and 0 by \"others\"\n",
    "test_set$funder <- sub(\"^$\", \"other_funder\", test_set$funder)\n",
    "test_set$funder <- sub(\"0\", \"other_funder\", test_set$funder)\n",
    "for(row in 1: nrow(test_set)){\n",
    "    index <- which(funder_occurency[,1] == test_set[row,\"funder\"])\n",
    "    if( is.integer(index) && length(index) == 0L){ ## funder that wasn't in the first data_set\n",
    "        count<-length(which(test_set[,\"funder\"]==test_set[row,\"funder\"]))\n",
    "        if(count>thresh1){\n",
    "            test_set[row,\"funder\"]<-\"big\" \n",
    "        }\n",
    "        else{\n",
    "            test_set[row,\"funder\"]<-\"small\"\n",
    "        }\n",
    "    }\n",
    "    else if(test_set[row,\"funder\"]!=\"other_funder\"){\n",
    "        val = funder_occurency[index,2] + length(which(test_set[,\"funder\"]==test_set[row,\"funder\"]))\n",
    "        if(val>thresh1){\n",
    "            test_set[row,\"funder\"]<-\"big\"\n",
    "        }\n",
    "        else{\n",
    "            test_set[row,\"funder\"]<-\"small\"\n",
    "        }\n",
    "    }\n",
    "    # reassign each funder value to its new category\n",
    "}\n",
    "# One hot encode\n",
    "test_set <- Nom_cat_handle(\"funder\",test_set)\n",
    "print(\"nn\")\n",
    "### TEST SET ###"
   ]
  },
  {
   "cell_type": "markdown",
   "metadata": {},
   "source": [
    "## Installer variable"
   ]
  },
  {
   "cell_type": "code",
   "execution_count": 19,
   "metadata": {},
   "outputs": [],
   "source": [
    "# Replace missing values and 0 by \"others\"\n",
    "#training_set$installer <- sub(\"^$\", \"others\", training_set$installer)\n",
    "#training_set$installer <- sub(\"0\", \"others\", training_set$installer)\n",
    "\n",
    "# One hot encode\n",
    "#training_set <- Nom_cat_handle(\"installer\")"
   ]
  },
  {
   "cell_type": "markdown",
   "metadata": {},
   "source": [
    "## Ward variable"
   ]
  },
  {
   "cell_type": "code",
   "execution_count": 20,
   "metadata": {},
   "outputs": [],
   "source": [
    "# One hot encode\n",
    "#training_set <- Nom_cat_handle(\"ward\")"
   ]
  },
  {
   "cell_type": "markdown",
   "metadata": {},
   "source": [
    "## Region code variable"
   ]
  },
  {
   "cell_type": "code",
   "execution_count": 21,
   "metadata": {},
   "outputs": [],
   "source": [
    "# One hot encode\n",
    "training_set <- Nom_cat_handle(\"region_code\",training_set)\n",
    "\n",
    "### TEST SET ###\n",
    "test_set <- Nom_cat_handle(\"region_code\",test_set)\n",
    "### TEST SET ###"
   ]
  },
  {
   "cell_type": "code",
   "execution_count": 22,
   "metadata": {},
   "outputs": [
    {
     "data": {
      "text/html": [
       "<style>\n",
       ".list-inline {list-style: none; margin:0; padding: 0}\n",
       ".list-inline>li {display: inline-block}\n",
       ".list-inline>li:not(:last-child)::after {content: \"\\00b7\"; padding: 0 .5ex}\n",
       "</style>\n",
       "<ol class=list-inline><li>59400</li><li>84</li></ol>\n"
      ],
      "text/latex": [
       "\\begin{enumerate*}\n",
       "\\item 59400\n",
       "\\item 84\n",
       "\\end{enumerate*}\n"
      ],
      "text/markdown": [
       "1. 59400\n",
       "2. 84\n",
       "\n",
       "\n"
      ],
      "text/plain": [
       "[1] 59400    84"
      ]
     },
     "metadata": {},
     "output_type": "display_data"
    },
    {
     "data": {
      "text/html": [
       "<style>\n",
       ".list-inline {list-style: none; margin:0; padding: 0}\n",
       ".list-inline>li {display: inline-block}\n",
       ".list-inline>li:not(:last-child)::after {content: \"\\00b7\"; padding: 0 .5ex}\n",
       "</style>\n",
       "<ol class=list-inline><li>14850</li><li>82</li></ol>\n"
      ],
      "text/latex": [
       "\\begin{enumerate*}\n",
       "\\item 14850\n",
       "\\item 82\n",
       "\\end{enumerate*}\n"
      ],
      "text/markdown": [
       "1. 14850\n",
       "2. 82\n",
       "\n",
       "\n"
      ],
      "text/plain": [
       "[1] 14850    82"
      ]
     },
     "metadata": {},
     "output_type": "display_data"
    },
    {
     "name": "stdout",
     "output_type": "stream",
     "text": [
      "[1] \"None\"\n",
      "[1] \"40\"\n"
     ]
    },
    {
     "data": {
      "text/html": [
       "<style>\n",
       ".list-inline {list-style: none; margin:0; padding: 0}\n",
       ".list-inline>li {display: inline-block}\n",
       ".list-inline>li:not(:last-child)::after {content: \"\\00b7\"; padding: 0 .5ex}\n",
       "</style>\n",
       "<ol class=list-inline><li>59400</li><li>84</li></ol>\n"
      ],
      "text/latex": [
       "\\begin{enumerate*}\n",
       "\\item 59400\n",
       "\\item 84\n",
       "\\end{enumerate*}\n"
      ],
      "text/markdown": [
       "1. 59400\n",
       "2. 84\n",
       "\n",
       "\n"
      ],
      "text/plain": [
       "[1] 59400    84"
      ]
     },
     "metadata": {},
     "output_type": "display_data"
    },
    {
     "data": {
      "text/html": [
       "<style>\n",
       ".list-inline {list-style: none; margin:0; padding: 0}\n",
       ".list-inline>li {display: inline-block}\n",
       ".list-inline>li:not(:last-child)::after {content: \"\\00b7\"; padding: 0 .5ex}\n",
       "</style>\n",
       "<ol class=list-inline><li>14850</li><li>84</li></ol>\n"
      ],
      "text/latex": [
       "\\begin{enumerate*}\n",
       "\\item 14850\n",
       "\\item 84\n",
       "\\end{enumerate*}\n"
      ],
      "text/markdown": [
       "1. 14850\n",
       "2. 84\n",
       "\n",
       "\n"
      ],
      "text/plain": [
       "[1] 14850    84"
      ]
     },
     "metadata": {},
     "output_type": "display_data"
    }
   ],
   "source": [
    "dim(training_set)\n",
    "dim(test_set)\n",
    "for(elem in names(training_set)){ ## ADDS MISSING COLUMNS TO TEST SET (BECAUSE SOME LABELS THAT AREN'T PRESENT THUS HAVEN'T BEEN ONE-HOT ENCODED)\n",
    "    if(!(elem %in% names(test_set))){\n",
    "        print(elem)\n",
    "        test_set[,elem] <- 0 # adds column full of 0 with the missing name\n",
    "    }\n",
    "}\n",
    "dim(training_set)\n",
    "dim(test_set)\n"
   ]
  },
  {
   "cell_type": "markdown",
   "metadata": {},
   "source": [
    "## Write preprocessed data"
   ]
  },
  {
   "cell_type": "code",
   "execution_count": 23,
   "metadata": {},
   "outputs": [],
   "source": [
    "# Write the pre-processed data into a new XLS file\n",
    "training_set[,\"id\"]<-training_labels[training_labels$id==training_set[,\"id\"],2] # done for practicality purposes with random forest library, comment for other methods if needed \n",
    "write.csv(training_set,\"../Data/PreProcess/processed_training_data.csv\") \n",
    "write.csv(test_set,\"../Data/PreProcess/test_data.csv\") "
   ]
  }
 ],
 "metadata": {
  "kernelspec": {
   "display_name": "R",
   "language": "R",
   "name": "ir"
  },
  "language_info": {
   "codemirror_mode": "r",
   "file_extension": ".r",
   "mimetype": "text/x-r-source",
   "name": "R",
   "pygments_lexer": "r",
   "version": "4.0.5"
  },
  "latex_envs": {
   "LaTeX_envs_menu_present": true,
   "autoclose": false,
   "autocomplete": true,
   "bibliofile": "biblio.bib",
   "cite_by": "apalike",
   "current_citInitial": 1,
   "eqLabelWithNumbers": true,
   "eqNumInitial": 1,
   "hotkeys": {
    "equation": "Ctrl-E",
    "itemize": "Ctrl-I"
   },
   "labels_anchors": false,
   "latex_user_defs": false,
   "report_style_numbering": false,
   "user_envs_cfg": false
  },
  "pycharm": {
   "stem_cell": {
    "cell_type": "raw",
    "metadata": {
     "collapsed": false
    },
    "source": []
   }
  },
  "toc": {
   "base_numbering": 1,
   "nav_menu": {},
   "number_sections": true,
   "sideBar": true,
   "skip_h1_title": false,
   "title_cell": "Table of Contents",
   "title_sidebar": "Contents",
   "toc_cell": false,
   "toc_position": {},
   "toc_section_display": true,
   "toc_window_display": false
  },
  "varInspector": {
   "cols": {
    "lenName": 16,
    "lenType": 16,
    "lenVar": 40
   },
   "kernels_config": {
    "python": {
     "delete_cmd_postfix": "",
     "delete_cmd_prefix": "del ",
     "library": "var_list.py",
     "varRefreshCmd": "print(var_dic_list())"
    },
    "r": {
     "delete_cmd_postfix": ") ",
     "delete_cmd_prefix": "rm(",
     "library": "var_list.r",
     "varRefreshCmd": "cat(var_dic_list()) "
    }
   },
   "types_to_exclude": [
    "module",
    "function",
    "builtin_function_or_method",
    "instance",
    "_Feature"
   ],
   "window_display": false
  }
 },
 "nbformat": 4,
 "nbformat_minor": 1
}

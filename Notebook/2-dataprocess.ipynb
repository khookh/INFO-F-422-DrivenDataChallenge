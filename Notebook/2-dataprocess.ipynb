{
 "cells": [
  {
   "cell_type": "markdown",
   "metadata": {},
   "source": [
    "# INFO-F-422 -  Statistical Foundations of Machine Learning \n",
    "\n",
    "### Couchard Darius - Parent Paul - Donne Stefano\n",
    "\n",
    "## Pump it Up: Data Mining the Water Table\n",
    "####  April 29, 2021\n"
   ]
  },
  {
   "cell_type": "markdown",
   "metadata": {},
   "source": [
    "# 2) Data Pre-Processing\n",
    "\n",
    "\n"
   ]
  },
  {
   "cell_type": "code",
   "execution_count": 2,
   "metadata": {
    "pycharm": {
     "name": "#%%\n"
    }
   },
   "outputs": [
    {
     "data": {
      "text/html": [
       "<style>\n",
       ".list-inline {list-style: none; margin:0; padding: 0}\n",
       ".list-inline>li {display: inline-block}\n",
       ".list-inline>li:not(:last-child)::after {content: \"\\00b7\"; padding: 0 .5ex}\n",
       "</style>\n",
       "<ol class=list-inline><li>59400</li><li>40</li></ol>\n"
      ],
      "text/latex": [
       "\\begin{enumerate*}\n",
       "\\item 59400\n",
       "\\item 40\n",
       "\\end{enumerate*}\n"
      ],
      "text/markdown": [
       "1. 59400\n",
       "2. 40\n",
       "\n",
       "\n"
      ],
      "text/plain": [
       "[1] 59400    40"
      ]
     },
     "metadata": {},
     "output_type": "display_data"
    },
    {
     "data": {
      "text/html": [
       "<style>\n",
       ".list-inline {list-style: none; margin:0; padding: 0}\n",
       ".list-inline>li {display: inline-block}\n",
       ".list-inline>li:not(:last-child)::after {content: \"\\00b7\"; padding: 0 .5ex}\n",
       "</style>\n",
       "<ol class=list-inline><li>'id'</li><li>'amount_tsh'</li><li>'date_recorded'</li><li>'funder'</li><li>'gps_height'</li><li>'installer'</li><li>'longitude'</li><li>'latitude'</li><li>'wpt_name'</li><li>'num_private'</li><li>'basin'</li><li>'subvillage'</li><li>'region'</li><li>'region_code'</li><li>'district_code'</li><li>'lga'</li><li>'ward'</li><li>'population'</li><li>'public_meeting'</li><li>'recorded_by'</li><li>'scheme_management'</li><li>'scheme_name'</li><li>'permit'</li><li>'construction_year'</li><li>'extraction_type'</li><li>'extraction_type_group'</li><li>'extraction_type_class'</li><li>'management'</li><li>'management_group'</li><li>'payment'</li><li>'payment_type'</li><li>'water_quality'</li><li>'quality_group'</li><li>'quantity'</li><li>'quantity_group'</li><li>'source'</li><li>'source_type'</li><li>'source_class'</li><li>'waterpoint_type'</li><li>'waterpoint_type_group'</li></ol>\n"
      ],
      "text/latex": [
       "\\begin{enumerate*}\n",
       "\\item 'id'\n",
       "\\item 'amount\\_tsh'\n",
       "\\item 'date\\_recorded'\n",
       "\\item 'funder'\n",
       "\\item 'gps\\_height'\n",
       "\\item 'installer'\n",
       "\\item 'longitude'\n",
       "\\item 'latitude'\n",
       "\\item 'wpt\\_name'\n",
       "\\item 'num\\_private'\n",
       "\\item 'basin'\n",
       "\\item 'subvillage'\n",
       "\\item 'region'\n",
       "\\item 'region\\_code'\n",
       "\\item 'district\\_code'\n",
       "\\item 'lga'\n",
       "\\item 'ward'\n",
       "\\item 'population'\n",
       "\\item 'public\\_meeting'\n",
       "\\item 'recorded\\_by'\n",
       "\\item 'scheme\\_management'\n",
       "\\item 'scheme\\_name'\n",
       "\\item 'permit'\n",
       "\\item 'construction\\_year'\n",
       "\\item 'extraction\\_type'\n",
       "\\item 'extraction\\_type\\_group'\n",
       "\\item 'extraction\\_type\\_class'\n",
       "\\item 'management'\n",
       "\\item 'management\\_group'\n",
       "\\item 'payment'\n",
       "\\item 'payment\\_type'\n",
       "\\item 'water\\_quality'\n",
       "\\item 'quality\\_group'\n",
       "\\item 'quantity'\n",
       "\\item 'quantity\\_group'\n",
       "\\item 'source'\n",
       "\\item 'source\\_type'\n",
       "\\item 'source\\_class'\n",
       "\\item 'waterpoint\\_type'\n",
       "\\item 'waterpoint\\_type\\_group'\n",
       "\\end{enumerate*}\n"
      ],
      "text/markdown": [
       "1. 'id'\n",
       "2. 'amount_tsh'\n",
       "3. 'date_recorded'\n",
       "4. 'funder'\n",
       "5. 'gps_height'\n",
       "6. 'installer'\n",
       "7. 'longitude'\n",
       "8. 'latitude'\n",
       "9. 'wpt_name'\n",
       "10. 'num_private'\n",
       "11. 'basin'\n",
       "12. 'subvillage'\n",
       "13. 'region'\n",
       "14. 'region_code'\n",
       "15. 'district_code'\n",
       "16. 'lga'\n",
       "17. 'ward'\n",
       "18. 'population'\n",
       "19. 'public_meeting'\n",
       "20. 'recorded_by'\n",
       "21. 'scheme_management'\n",
       "22. 'scheme_name'\n",
       "23. 'permit'\n",
       "24. 'construction_year'\n",
       "25. 'extraction_type'\n",
       "26. 'extraction_type_group'\n",
       "27. 'extraction_type_class'\n",
       "28. 'management'\n",
       "29. 'management_group'\n",
       "30. 'payment'\n",
       "31. 'payment_type'\n",
       "32. 'water_quality'\n",
       "33. 'quality_group'\n",
       "34. 'quantity'\n",
       "35. 'quantity_group'\n",
       "36. 'source'\n",
       "37. 'source_type'\n",
       "38. 'source_class'\n",
       "39. 'waterpoint_type'\n",
       "40. 'waterpoint_type_group'\n",
       "\n",
       "\n"
      ],
      "text/plain": [
       " [1] \"id\"                    \"amount_tsh\"            \"date_recorded\"        \n",
       " [4] \"funder\"                \"gps_height\"            \"installer\"            \n",
       " [7] \"longitude\"             \"latitude\"              \"wpt_name\"             \n",
       "[10] \"num_private\"           \"basin\"                 \"subvillage\"           \n",
       "[13] \"region\"                \"region_code\"           \"district_code\"        \n",
       "[16] \"lga\"                   \"ward\"                  \"population\"           \n",
       "[19] \"public_meeting\"        \"recorded_by\"           \"scheme_management\"    \n",
       "[22] \"scheme_name\"           \"permit\"                \"construction_year\"    \n",
       "[25] \"extraction_type\"       \"extraction_type_group\" \"extraction_type_class\"\n",
       "[28] \"management\"            \"management_group\"      \"payment\"              \n",
       "[31] \"payment_type\"          \"water_quality\"         \"quality_group\"        \n",
       "[34] \"quantity\"              \"quantity_group\"        \"source\"               \n",
       "[37] \"source_type\"           \"source_class\"          \"waterpoint_type\"      \n",
       "[40] \"waterpoint_type_group\""
      ]
     },
     "metadata": {},
     "output_type": "display_data"
    }
   ],
   "source": [
    "require(tidyr)\n",
    "require(dplyr)\n",
    "require(plyr)\n",
    "training_set<-read.csv(\"../Data/TrainingSet/4910797b-ee55-40a7-8668-10efd5c1b960.csv\",header=TRUE) # loads the training set csv file (it's magic)\n",
    "dim(training_set) # dimension of the set \n",
    "names(training_set) # names of the variables\n",
    "\n",
    "traninin_labels<-read.csv(\"../Data/TrainingLabel/0bf8bc6e-30d0-4c50-956a-603fc693d966.csv\", header=TRUE) # Loads the corresponding labels\n"
   ]
  },
  {
   "cell_type": "markdown",
   "metadata": {},
   "source": [
    "## How to enhance the data set :\n",
    "\n",
    "After having analyzed the data set and assessed each variable relevance, it's needed to standardize the datas.\n",
    "\n",
    "First, it's needed to remove empty values in the table (Imputation): each NaN or empty cell has to be removed or replaced, different solution exists : \n",
    "* Mapping NaN<-0 for nominal categorical variables\n",
    "* Replace missing value by mean of column for numerical variables\n",
    "\n",
    "Then, modifications have to be made depending on the nature of the data :\n",
    "* If a column (variable) consists in continous numerical values : standardization is applied such has obtaining a new column with a mean value of 0 and a standard deviation of 1 (**longitude**)\n",
    "* If a column is made of ordinal categorical variable (hierarchy between categories) : map each string to a numerical value (**water_quality**)\n",
    "* In case of nominal categorical variable : apply one hot encoding -> create new column (with binary values) for each category (**source_type**)\n",
    "<br/>\n",
    "\n",
    "\n",
    "## Methods are implemented to apply these changes :"
   ]
  },
  {
   "cell_type": "code",
   "execution_count": 3,
   "metadata": {},
   "outputs": [],
   "source": [
    "# METHOD TO REASSIGN EMPTY VALUES\n",
    "NaN_handler_categorical <- function(column_name) { # input : column_name (name of the variable)\n",
    "    training_set[training_set[,column_name] == \"\",column_name ] <- 0 # select row where column element is empty string \"\" and assign to 0\n",
    "    training_set[is.na(training_set[,column_name]),column_name] <- 0 # select row where column element is NaN and assign to 0\n",
    "    return(training_set)\n",
    "}\n",
    "\n",
    "\n",
    "# METHOD TO REASSIGN EMPTY VALUES\n",
    "NaN_handler_num<- function(column_name) { # input : column_name (name of the variable)\n",
    "    mean_col <- mean(training_set[,column_name], na.rm = TRUE)\n",
    "    training_set[is.na(training_set[,column_name]),column_name] <- mean_col\n",
    "    return(training_set)\n",
    "}\n",
    "\n"
   ]
  },
  {
   "cell_type": "code",
   "execution_count": 4,
   "metadata": {},
   "outputs": [],
   "source": [
    "# STANDARDIZATION METHOD FOR VARIABLES WITH CONTINUOUS NUMERICAL VALUES\n",
    "Standardization <- function(column_name){ # input : column_name (name of the variable)\n",
    "    mean_col <- mean(training_set[,column_name], na.rm = TRUE) # mean of the variable\n",
    "    sd_col <- sd(training_set[,column_name], na.rm = TRUE) # standard deviation of the variable\n",
    "    training_set[,column_name]<-(training_set[,column_name]-mean_col)/sd_col # apply the transformation\n",
    "    # now for the whole column : mean = 0 and sd = 1\n",
    "    return(training_set)\n",
    "}"
   ]
  },
  {
   "cell_type": "code",
   "execution_count": 5,
   "metadata": {},
   "outputs": [],
   "source": [
    "# HANDLING OF NOMINAL CATEGORICAL VARIABLES\n",
    "# before using : change notebook IOPub data rate limit with Jupyter  notebook --NotebookApp.iopub_data_rate_limit=jupyter notebook --NotebookApp.iopub_data_rate_limit=1.0e10\n",
    "Nom_cat_handle <- function(column_name){\n",
    "    training_set <- training_set %>% mutate(value = 1)  %>% spread(column_name, value,  fill = 0 )\n",
    "    return(training_set)\n",
    "}\n"
   ]
  },
  {
   "cell_type": "markdown",
   "metadata": {},
   "source": [
    "## Process the data-set :"
   ]
  },
  {
   "cell_type": "code",
   "execution_count": 6,
   "metadata": {},
   "outputs": [],
   "source": [
    "# COLUMNS TO DROP \n",
    "column_to_drop<-c(\"wpt_name\",\"amount_tsh\",\"date_recorded\",\"gps_height\",\"num_private\",\"public_meeting\",\"recorded_by\",\n",
    "                 \"scheme_name\",\"scheme_management\",\"payment\",\"quantity_group\",\"source_class\",\"subvillage\",\"waterpoint_type\",\n",
    "                 \"extraction_type\",\"extraction_type_group\",\"water_quality\",\"source\")\n",
    "#TODO : adds others columns to drop\n",
    "training_set<-training_set[,!(names(training_set) %in% column_to_drop)] # drop the desired column"
   ]
  },
  {
   "cell_type": "code",
   "execution_count": 7,
   "metadata": {},
   "outputs": [],
   "source": [
    "# MANAGE SIMPLE NOMINAL CATEGORICAL VARIABLE\n",
    "#TODO : apply one-hot encoding to other needed variables\n",
    "training_set<-Nom_cat_handle(\"basin\") # apply one-hot-encoding to the basin related column\n",
    "training_set<-Nom_cat_handle(\"payment_type\")\n",
    "training_set<-Nom_cat_handle(\"quality_group\")\n",
    "training_set<-Nom_cat_handle(\"quantity\")\n",
    "training_set<-Nom_cat_handle(\"waterpoint_type_group\")\n",
    "training_set<-Nom_cat_handle(\"extraction_type_class\")\n",
    "training_set<-Nom_cat_handle(\"source_type\")\n",
    "# ..."
   ]
  },
  {
   "cell_type": "code",
   "execution_count": 8,
   "metadata": {},
   "outputs": [],
   "source": [
    "# MANAGE ORDINAL CATEGORICAL VARIABLE\n",
    "\n",
    "# variable PERMIT\n",
    "# remap True : 1 , False : 0, Missing \"\" : NA\n",
    "training_set$permit <- mapvalues(training_set$permit, \n",
    "          from=c(\"True\",\"False\",\"\"), \n",
    "          to=c(1,0,NA))\n",
    "training_set <- transform(training_set, permit = as.numeric(permit)) # transform column data type (char to int)\n",
    "# replace missing value by mean of column\n",
    "training_set<-NaN_handler_num(\"permit\")\n",
    "# Standardize Variable\n",
    "training_set<-Standardization(\"permit\")\n",
    "\n"
   ]
  },
  {
   "cell_type": "code",
   "execution_count": 9,
   "metadata": {},
   "outputs": [],
   "source": [
    "# MANAGE POPULATION VARIABLE\n",
    "# NaN have to be replaced by mean of region population\n",
    "# column 1 = region code, column 2 = population mean in this region\n",
    "region_code_frame <- data.frame(\"region\" = unique(training_set$region_code),\"mean_pop\" = NA)\n",
    "for(row in 1: nrow(region_code_frame) ){ \n",
    "    sel <-training_set[which(training_set[,\"region_code\"]==region_code_frame[row,1],),\"population\"] # select pop row with corresponding region\n",
    "    region_code_frame[row,\"mean_pop\"]<-mean(sel[sel!=0],na.rm = TRUE)\n",
    "}\n",
    "\n",
    "# TODO : some region population mean are NaN , find a solution (same problem with region and district_code variables)\n",
    "# temporairement on remplace les NaN par le mean des autres valeurs dans region_code_frame\n",
    "region_code_frame[which(is.na(region_code_frame[,2])),2]<-mean(region_code_frame[,2],na.rm=TRUE)\n",
    "\n",
    "# replace NaN value of population by mean region values\n",
    "index<-which(training_set[,\"population\"]==0)\n",
    "for(elem in index){\n",
    "    training_set[elem,\"population\"]<-region_code_frame[training_set[elem,\"region_code\"],2] # replace NaN by their mean region value\n",
    "}\n",
    "\n",
    "# Now Standardize Population Variable \n",
    "training_set<-Standardization(\"population\")\n",
    "\n",
    "#TODO: Manage other tricky variables"
   ]
  },
  {
   "cell_type": "code",
   "execution_count": 10,
   "metadata": {},
   "outputs": [
    {
     "data": {
      "text/html": [
       "<style>\n",
       ".list-inline {list-style: none; margin:0; padding: 0}\n",
       ".list-inline>li {display: inline-block}\n",
       ".list-inline>li:not(:last-child)::after {content: \"\\00b7\"; padding: 0 .5ex}\n",
       "</style>\n",
       "<ol class=list-inline><li>59400</li><li>56</li></ol>\n"
      ],
      "text/latex": [
       "\\begin{enumerate*}\n",
       "\\item 59400\n",
       "\\item 56\n",
       "\\end{enumerate*}\n"
      ],
      "text/markdown": [
       "1. 59400\n",
       "2. 56\n",
       "\n",
       "\n"
      ],
      "text/plain": [
       "[1] 59400    56"
      ]
     },
     "metadata": {},
     "output_type": "display_data"
    },
    {
     "data": {
      "text/html": [
       "<style>\n",
       ".list-inline {list-style: none; margin:0; padding: 0}\n",
       ".list-inline>li {display: inline-block}\n",
       ".list-inline>li:not(:last-child)::after {content: \"\\00b7\"; padding: 0 .5ex}\n",
       "</style>\n",
       "<ol class=list-inline><li>'id'</li><li>'funder'</li><li>'installer'</li><li>'longitude'</li><li>'latitude'</li><li>'region'</li><li>'region_code'</li><li>'district_code'</li><li>'lga'</li><li>'ward'</li><li>'population'</li><li>'permit'</li><li>'construction_year'</li><li>'management'</li><li>'management_group'</li><li>'Internal'</li><li>'Lake.Nyasa'</li><li>'Lake.Rukwa'</li><li>'Lake.Tanganyika'</li><li>'Lake.Victoria'</li><li>'Pangani'</li><li>'Rufiji'</li><li>'Ruvuma...Southern.Coast'</li><li>'Wami...Ruvu'</li><li>'annually'</li><li>'monthly'</li><li>'never.pay'</li><li>'on.failure'</li><li>'per.bucket'</li><li>'colored'</li><li>'fluoride'</li><li>'good'</li><li>'milky'</li><li>'salty'</li><li>'dry'</li><li>'enough'</li><li>'insufficient'</li><li>'seasonal'</li><li>'unknown'</li><li>'cattle.trough'</li><li>'communal.standpipe'</li><li>'hand.pump'</li><li>'improved.spring'</li><li>'gravity'</li><li>'handpump'</li><li>'motorpump'</li><li>'rope.pump'</li><li>'submersible'</li><li>'wind.powered'</li><li>'borehole'</li><li>'dam'</li><li>'other'</li><li>'rainwater.harvesting'</li><li>'river.lake'</li><li>'shallow.well'</li><li>'spring'</li></ol>\n"
      ],
      "text/latex": [
       "\\begin{enumerate*}\n",
       "\\item 'id'\n",
       "\\item 'funder'\n",
       "\\item 'installer'\n",
       "\\item 'longitude'\n",
       "\\item 'latitude'\n",
       "\\item 'region'\n",
       "\\item 'region\\_code'\n",
       "\\item 'district\\_code'\n",
       "\\item 'lga'\n",
       "\\item 'ward'\n",
       "\\item 'population'\n",
       "\\item 'permit'\n",
       "\\item 'construction\\_year'\n",
       "\\item 'management'\n",
       "\\item 'management\\_group'\n",
       "\\item 'Internal'\n",
       "\\item 'Lake.Nyasa'\n",
       "\\item 'Lake.Rukwa'\n",
       "\\item 'Lake.Tanganyika'\n",
       "\\item 'Lake.Victoria'\n",
       "\\item 'Pangani'\n",
       "\\item 'Rufiji'\n",
       "\\item 'Ruvuma...Southern.Coast'\n",
       "\\item 'Wami...Ruvu'\n",
       "\\item 'annually'\n",
       "\\item 'monthly'\n",
       "\\item 'never.pay'\n",
       "\\item 'on.failure'\n",
       "\\item 'per.bucket'\n",
       "\\item 'colored'\n",
       "\\item 'fluoride'\n",
       "\\item 'good'\n",
       "\\item 'milky'\n",
       "\\item 'salty'\n",
       "\\item 'dry'\n",
       "\\item 'enough'\n",
       "\\item 'insufficient'\n",
       "\\item 'seasonal'\n",
       "\\item 'unknown'\n",
       "\\item 'cattle.trough'\n",
       "\\item 'communal.standpipe'\n",
       "\\item 'hand.pump'\n",
       "\\item 'improved.spring'\n",
       "\\item 'gravity'\n",
       "\\item 'handpump'\n",
       "\\item 'motorpump'\n",
       "\\item 'rope.pump'\n",
       "\\item 'submersible'\n",
       "\\item 'wind.powered'\n",
       "\\item 'borehole'\n",
       "\\item 'dam'\n",
       "\\item 'other'\n",
       "\\item 'rainwater.harvesting'\n",
       "\\item 'river.lake'\n",
       "\\item 'shallow.well'\n",
       "\\item 'spring'\n",
       "\\end{enumerate*}\n"
      ],
      "text/markdown": [
       "1. 'id'\n",
       "2. 'funder'\n",
       "3. 'installer'\n",
       "4. 'longitude'\n",
       "5. 'latitude'\n",
       "6. 'region'\n",
       "7. 'region_code'\n",
       "8. 'district_code'\n",
       "9. 'lga'\n",
       "10. 'ward'\n",
       "11. 'population'\n",
       "12. 'permit'\n",
       "13. 'construction_year'\n",
       "14. 'management'\n",
       "15. 'management_group'\n",
       "16. 'Internal'\n",
       "17. 'Lake.Nyasa'\n",
       "18. 'Lake.Rukwa'\n",
       "19. 'Lake.Tanganyika'\n",
       "20. 'Lake.Victoria'\n",
       "21. 'Pangani'\n",
       "22. 'Rufiji'\n",
       "23. 'Ruvuma...Southern.Coast'\n",
       "24. 'Wami...Ruvu'\n",
       "25. 'annually'\n",
       "26. 'monthly'\n",
       "27. 'never.pay'\n",
       "28. 'on.failure'\n",
       "29. 'per.bucket'\n",
       "30. 'colored'\n",
       "31. 'fluoride'\n",
       "32. 'good'\n",
       "33. 'milky'\n",
       "34. 'salty'\n",
       "35. 'dry'\n",
       "36. 'enough'\n",
       "37. 'insufficient'\n",
       "38. 'seasonal'\n",
       "39. 'unknown'\n",
       "40. 'cattle.trough'\n",
       "41. 'communal.standpipe'\n",
       "42. 'hand.pump'\n",
       "43. 'improved.spring'\n",
       "44. 'gravity'\n",
       "45. 'handpump'\n",
       "46. 'motorpump'\n",
       "47. 'rope.pump'\n",
       "48. 'submersible'\n",
       "49. 'wind.powered'\n",
       "50. 'borehole'\n",
       "51. 'dam'\n",
       "52. 'other'\n",
       "53. 'rainwater.harvesting'\n",
       "54. 'river.lake'\n",
       "55. 'shallow.well'\n",
       "56. 'spring'\n",
       "\n",
       "\n"
      ],
      "text/plain": [
       " [1] \"id\"                      \"funder\"                 \n",
       " [3] \"installer\"               \"longitude\"              \n",
       " [5] \"latitude\"                \"region\"                 \n",
       " [7] \"region_code\"             \"district_code\"          \n",
       " [9] \"lga\"                     \"ward\"                   \n",
       "[11] \"population\"              \"permit\"                 \n",
       "[13] \"construction_year\"       \"management\"             \n",
       "[15] \"management_group\"        \"Internal\"               \n",
       "[17] \"Lake.Nyasa\"              \"Lake.Rukwa\"             \n",
       "[19] \"Lake.Tanganyika\"         \"Lake.Victoria\"          \n",
       "[21] \"Pangani\"                 \"Rufiji\"                 \n",
       "[23] \"Ruvuma...Southern.Coast\" \"Wami...Ruvu\"            \n",
       "[25] \"annually\"                \"monthly\"                \n",
       "[27] \"never.pay\"               \"on.failure\"             \n",
       "[29] \"per.bucket\"              \"colored\"                \n",
       "[31] \"fluoride\"                \"good\"                   \n",
       "[33] \"milky\"                   \"salty\"                  \n",
       "[35] \"dry\"                     \"enough\"                 \n",
       "[37] \"insufficient\"            \"seasonal\"               \n",
       "[39] \"unknown\"                 \"cattle.trough\"          \n",
       "[41] \"communal.standpipe\"      \"hand.pump\"              \n",
       "[43] \"improved.spring\"         \"gravity\"                \n",
       "[45] \"handpump\"                \"motorpump\"              \n",
       "[47] \"rope.pump\"               \"submersible\"            \n",
       "[49] \"wind.powered\"            \"borehole\"               \n",
       "[51] \"dam\"                     \"other\"                  \n",
       "[53] \"rainwater.harvesting\"    \"river.lake\"             \n",
       "[55] \"shallow.well\"            \"spring\"                 "
      ]
     },
     "metadata": {},
     "output_type": "display_data"
    }
   ],
   "source": [
    "# Write the pre-processed data into a new XLS file\n",
    "library(\"writexl\")\n",
    "write_xlsx(training_set,\"../Data/PreProcess/processed_training_data.csv\") "
   ]
  }
 ],
 "metadata": {
  "kernelspec": {
   "display_name": "R",
   "language": "R",
   "name": "ir"
  },
  "language_info": {
   "codemirror_mode": "r",
   "file_extension": ".r",
   "mimetype": "text/x-r-source",
   "name": "R",
   "pygments_lexer": "r",
   "version": "4.0.5"
  },
  "latex_envs": {
   "LaTeX_envs_menu_present": true,
   "autoclose": false,
   "autocomplete": true,
   "bibliofile": "biblio.bib",
   "cite_by": "apalike",
   "current_citInitial": 1,
   "eqLabelWithNumbers": true,
   "eqNumInitial": 1,
   "hotkeys": {
    "equation": "Ctrl-E",
    "itemize": "Ctrl-I"
   },
   "labels_anchors": false,
   "latex_user_defs": false,
   "report_style_numbering": false,
   "user_envs_cfg": false
  },
  "pycharm": {
   "stem_cell": {
    "cell_type": "raw",
    "metadata": {
     "collapsed": false
    },
    "source": []
   }
  },
  "toc": {
   "base_numbering": 1,
   "nav_menu": {},
   "number_sections": true,
   "sideBar": true,
   "skip_h1_title": false,
   "title_cell": "Table of Contents",
   "title_sidebar": "Contents",
   "toc_cell": false,
   "toc_position": {},
   "toc_section_display": true,
   "toc_window_display": false
  },
  "varInspector": {
   "cols": {
    "lenName": 16,
    "lenType": 16,
    "lenVar": 40
   },
   "kernels_config": {
    "python": {
     "delete_cmd_postfix": "",
     "delete_cmd_prefix": "del ",
     "library": "var_list.py",
     "varRefreshCmd": "print(var_dic_list())"
    },
    "r": {
     "delete_cmd_postfix": ") ",
     "delete_cmd_prefix": "rm(",
     "library": "var_list.r",
     "varRefreshCmd": "cat(var_dic_list()) "
    }
   },
   "types_to_exclude": [
    "module",
    "function",
    "builtin_function_or_method",
    "instance",
    "_Feature"
   ],
   "window_display": false
  }
 },
 "nbformat": 4,
 "nbformat_minor": 1
}

{
 "cells": [
  {
   "cell_type": "markdown",
   "metadata": {},
   "source": [
    "# INFO-F-422 -  Statistical Foundations of Machine Learning \n",
    "\n",
    "### Couchard Darious - __[Darius.Couchard@ulb.be](mailto:Darius.Couchard@ulb.be) - Student ID 425366__\n",
    "### Donne Stefano - __[Stefano.Donne@ulb.be](mailto:Stefano.Donne@ulb.be) - Student ID 408801__\n",
    "### Parent Paul - __[Paul.Parent@ulb.be](mailto:Paul.Parent@ulb.be) - Student ID 495257__\n"
   ]
  },
  {
   "cell_type": "markdown",
   "metadata": {},
   "source": [
    "## This section aims to assess and compare the performances of the models implemented in the sections 4.1, 4.2 and 4.3"
   ]
  },
  {
   "cell_type": "code",
   "execution_count": 3,
   "metadata": {},
   "outputs": [],
   "source": [
    "library(randomForest)\n",
    "library(caret)\n",
    "library(e1071)\n",
    "validation_set <- read.csv(\"../Data/PreProcess/processed_verification_data_split.csv\") # load validation set\n",
    "column_to_drop<-c(\"X.1\",\"X\")\n",
    "# Dropped \"X.1\",\"X\" because they just represent the row numbers\n",
    "validation_set<-validation_set[,!(names(validation_set) %in% column_to_drop)] # drop the desired columns on validation set"
   ]
  },
  {
   "cell_type": "markdown",
   "metadata": {},
   "source": [
    "### Random Forest"
   ]
  },
  {
   "cell_type": "code",
   "execution_count": 4,
   "metadata": {},
   "outputs": [
    {
     "data": {
      "text/plain": [
       "                         Reference\n",
       "Prediction                functional functional needs repair non functional\n",
       "  functional                    5783                     541           1147\n",
       "  functional needs repair        136                     231             42\n",
       "  non functional                 604                     145           3481"
      ]
     },
     "metadata": {},
     "output_type": "display_data"
    },
    {
     "data": {
      "text/html": [
       "<strong>Accuracy:</strong> 0.784062758051197"
      ],
      "text/latex": [
       "\\textbf{Accuracy:} 0.784062758051197"
      ],
      "text/markdown": [
       "**Accuracy:** 0.784062758051197"
      ],
      "text/plain": [
       " Accuracy \n",
       "0.7840628 "
      ]
     },
     "metadata": {},
     "output_type": "display_data"
    },
    {
     "data": {
      "text/html": [
       "<strong>Kappa:</strong> 0.592906451496211"
      ],
      "text/latex": [
       "\\textbf{Kappa:} 0.592906451496211"
      ],
      "text/markdown": [
       "**Kappa:** 0.592906451496211"
      ],
      "text/plain": [
       "    Kappa \n",
       "0.5929065 "
      ]
     },
     "metadata": {},
     "output_type": "display_data"
    }
   ],
   "source": [
    "load(\"4-Models/random_forest.RData\") # load Random Forest trained model -> name : classifierRF\n",
    "\n",
    "pred <- predict(classifierRF,validation_set) # Random Forest model prediction on validation set\n",
    "\n",
    "\n",
    "cmRF <- confusionMatrix(data=pred, reference = factor(validation_set$id)) # Random Forest Confusion Matrix on validation set\n",
    "\n",
    "\n",
    "kpRF <- cmRF$overall[\"Kappa\"] # Cohen's Kappa coefficient, allows to indicate the level of agreement between prediction and expected\n",
    "                          # Allows to take into account the proportion of false negative https://thenewstack.io/cohens-kappa-what-it-is-when-to-use-it-and-how-to-avoid-its-pitfalls/\n",
    "acRF <- cmRF$overall[\"Accuracy\"] # Accuracy (CM diagonal)\n",
    "\n",
    "classRF <- cmRF$byClass # Interesting metrics to characterize each class predictions\n",
    "\n",
    "sensRF <- classRF[,'Sensitivity'] # Sensitivity = (True Positive)/(True Positive + False Negative) per class (= Recall here)\n",
    "\n",
    "cmRF$table # Confusion Matrix displayed \n",
    "#classRF\n",
    "acRF\n",
    "kpRF\n"
   ]
  },
  {
   "cell_type": "markdown",
   "metadata": {},
   "source": [
    "### SVM"
   ]
  },
  {
   "cell_type": "code",
   "execution_count": 5,
   "metadata": {},
   "outputs": [
    {
     "data": {
      "text/plain": [
       "                         Reference\n",
       "Prediction                functional functional needs repair non functional\n",
       "  functional                    5560                     709           2191\n",
       "  functional needs repair         29                      29             24\n",
       "  non functional                 934                     179           2455"
      ]
     },
     "metadata": {},
     "output_type": "display_data"
    },
    {
     "data": {
      "text/html": [
       "<strong>Accuracy:</strong> 0.664244426094137"
      ],
      "text/latex": [
       "\\textbf{Accuracy:} 0.664244426094137"
      ],
      "text/markdown": [
       "**Accuracy:** 0.664244426094137"
      ],
      "text/plain": [
       " Accuracy \n",
       "0.6642444 "
      ]
     },
     "metadata": {},
     "output_type": "display_data"
    },
    {
     "data": {
      "text/html": [
       "<strong>Kappa:</strong> 0.341102446379934"
      ],
      "text/latex": [
       "\\textbf{Kappa:} 0.341102446379934"
      ],
      "text/markdown": [
       "**Kappa:** 0.341102446379934"
      ],
      "text/plain": [
       "    Kappa \n",
       "0.3411024 "
      ]
     },
     "metadata": {},
     "output_type": "display_data"
    }
   ],
   "source": [
    "load(\"4-Models/svm_poly_classifier.RData\") # loads SVM classifier -> name: svm_model_poly\n",
    "\n",
    "pred <- predict(svm_model_poly, validation_set, probability=TRUE) # SVM prediction on validation set\n",
    "\n",
    "cmSVM <- confusionMatrix(data=pred, reference=factor(validation_set$id[-1]))\n",
    "\n",
    "kpSVM <- cmSVM$overall[\"Kappa\"] \n",
    "acSVM <- cmSVM$overall[\"Accuracy\"]\n",
    "sensSVM <- cmSVM$byClass[,'Sensitivity']\n",
    "cmSVM$table\n",
    "acSVM\n",
    "kpSVM"
   ]
  },
  {
   "cell_type": "markdown",
   "metadata": {},
   "source": [
    "Around 66% of accuracy for the SVM classification. There are issues with the \"functional needs repair\" class."
   ]
  },
  {
   "cell_type": "markdown",
   "metadata": {},
   "source": [
    "### Neural Network"
   ]
  },
  {
   "cell_type": "code",
   "execution_count": 6,
   "metadata": {},
   "outputs": [],
   "source": [
    "###\n",
    "# TA PARTIE ICI PAUL\n",
    "#\n",
    "###\n",
    "kpNN <- 0 # temp\n",
    "acNN <- 0 # temp\n",
    "sensNN <- sensRF # temp"
   ]
  },
  {
   "cell_type": "markdown",
   "metadata": {},
   "source": [
    "## Models comparison :"
   ]
  },
  {
   "cell_type": "code",
   "execution_count": 7,
   "metadata": {},
   "outputs": [
    {
     "data": {
      "image/png": "[encoded data removed]",
      "text/plain": [
       "Plot with title \"Models Accuracy\""
      ]
     },
     "metadata": {
      "image/png": {
       "height": 420,
       "width": 420
      }
     },
     "output_type": "display_data"
    },
    {
     "data": {
      "image/png": "[encoded data removed]",
      "text/plain": [
       "Plot with title \"Models Kappa Coef.\""
      ]
     },
     "metadata": {
      "image/png": {
       "height": 420,
       "width": 420
      }
     },
     "output_type": "display_data"
    },
    {
     "data": {
      "image/png": "[encoded data removed]",
      "text/plain": [
       "Plot with title \"Models Sensitivity by Class\""
      ]
     },
     "metadata": {
      "image/png": {
       "height": 420,
       "width": 420
      }
     },
     "output_type": "display_data"
    }
   ],
   "source": [
    "acTAB <-  matrix(c(acRF,acSVM,acNN),ncol=3,byrow=TRUE)\n",
    "colnames(acTAB)<-c(\"Random Forest\",\"SVM\",\"Neural Net.\")\n",
    "barplot(as.table(acTAB),main=\"Models Accuracy\",col=c(\"darkblue\"))\n",
    "\n",
    "kpTAB <-  matrix(c(kpRF,kpSVM,kpNN),ncol=3,byrow=TRUE)\n",
    "colnames(kpTAB)<-c(\"Random Forest\",\"SVM\",\"Neural Net.\")\n",
    "barplot(as.table(kpTAB),main=\"Models Kappa Coef.\",col=c(\"darkblue\"))\n",
    "\n",
    "sensTAB <-  matrix(c(sensRF,sensSVM,sensNN),ncol=3,byrow=TRUE)\n",
    "rownames(sensTAB)<-c(\"Random Forest\",\"SVM\",\"Neural Net.\")\n",
    "colnames(sensTAB)<-c(\"functional\",\"functional needs repair\",\"non functional\")\n",
    "\n",
    "barplot(as.table(t(sensTAB)),main=\"Models Sensitivity by Class\",beside=TRUE,col=c(\"green\",\"orange\",\"red\"),legend = colnames(sensTAB))\n"
   ]
  },
  {
   "cell_type": "markdown",
   "metadata": {},
   "source": [
    "### 'conclusion of plots here' \n",
    "...."
   ]
  },
  {
   "cell_type": "markdown",
   "metadata": {},
   "source": [
    "## Support Vector Machine performance and cross-validation"
   ]
  },
  {
   "cell_type": "markdown",
   "metadata": {},
   "source": [
    "### Cross-validation on training set"
   ]
  },
  {
   "cell_type": "code",
   "execution_count": 8,
   "metadata": {},
   "outputs": [],
   "source": [
    "training_set <- read.csv(\"../Data/PreProcess/processed_training_data_split.csv\")\n",
    "column_to_drop<-c(\"X.1\",\"X\")\n",
    "training_set<-training_set[,!(names(training_set) %in% column_to_drop)] # drop the desired columns\n",
    "training_set$id <- factor(training_set$id)"
   ]
  },
  {
   "cell_type": "code",
   "execution_count": null,
   "metadata": {},
   "outputs": [],
   "source": [
    "# Best parameters obtained so far\n",
    "tuned <- tune.svm(id~., data = training_set, kernel=\"polynomial\", cost=10, scale=FALSE, probability=TRUE, tunecontrol=tune.control(cross=10))\n",
    "summary(tuned)"
   ]
  }
 ],
 "metadata": {
  "kernelspec": {
   "display_name": "R",
   "language": "R",
   "name": "ir"
  },
  "language_info": {
   "codemirror_mode": "r",
   "file_extension": ".r",
   "mimetype": "text/x-r-source",
   "name": "R",
   "pygments_lexer": "r",
   "version": "4.0.5"
  }
 },
 "nbformat": 4,
 "nbformat_minor": 4
}

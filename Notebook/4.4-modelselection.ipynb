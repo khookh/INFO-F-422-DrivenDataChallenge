{
 "cells": [
  {
   "cell_type": "markdown",
   "metadata": {},
   "source": [
    "## This section aims to assess and compare the performances of the models implemented in the sections 4.1, 4.2 and 4.3"
   ]
  },
  {
   "cell_type": "code",
   "execution_count": 18,
   "metadata": {},
   "outputs": [],
   "source": [
    "library(randomForest)\n",
    "library(caret)\n",
    "library(e1071)\n",
    "validation_set <- read.csv(\"../Data/PreProcess/processed_verification_data_split.csv\") # load validation set\n",
    "column_to_drop<-c(\"X.1\",\"X\")\n",
    "# Dropped \"X.1\",\"X\" because they just represent the row numbers\n",
    "validation_set<-validation_set[,!(names(validation_set) %in% column_to_drop)] # drop the desired columns on validation set"
   ]
  },
  {
   "cell_type": "code",
   "execution_count": 42,
   "metadata": {},
   "outputs": [
    {
     "data": {
      "text/plain": [
       "                         Reference\n",
       "Prediction                functional functional needs repair non functional\n",
       "  functional                    5797                     552           1169\n",
       "  functional needs repair        123                     219             35\n",
       "  non functional                 603                     146           3466"
      ]
     },
     "metadata": {},
     "output_type": "display_data"
    }
   ],
   "source": [
    "load(\"4-Models/random_forest.RData\") # load Random Forest trained model -> name : classifierRF\n",
    "pred <- predict(classifierRF,validation_set) # Random Forest model prediction on validation set\n",
    "\n",
    "#table(observed=validation_set$id,predicted=pred) # Random Forest Confusion Matrix on validation set\n",
    "cmRF <- confusionMatrix(data=pred, reference = factor(validation_set$id)) # Random Forest Confusion Matrix on validation set\n",
    "\n",
    "\n",
    "kpRF <- cmRF$overall[\"Kappa\"] # Cohen's Kappa coefficient, allows to indicate the level of agreement between prediction and expected\n",
    "                          # Allows to take into account the proportion of false negative https://thenewstack.io/cohens-kappa-what-it-is-when-to-use-it-and-how-to-avoid-its-pitfalls/\n",
    "acRF <- cmRF$overall[\"Accuracy\"] # Accuracy (CM diagonal)\n",
    "\n",
    "cmRF$table # Confusion Matrix displayed "
   ]
  },
  {
   "cell_type": "code",
   "execution_count": null,
   "metadata": {},
   "outputs": [],
   "source": []
  }
 ],
 "metadata": {
  "kernelspec": {
   "display_name": "R",
   "language": "R",
   "name": "ir"
  },
  "language_info": {
   "codemirror_mode": "r",
   "file_extension": ".r",
   "mimetype": "text/x-r-source",
   "name": "R",
   "pygments_lexer": "r",
   "version": "4.0.5"
  }
 },
 "nbformat": 4,
 "nbformat_minor": 4
}

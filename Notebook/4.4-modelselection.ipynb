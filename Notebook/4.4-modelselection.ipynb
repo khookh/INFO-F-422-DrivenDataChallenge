{
 "cells": [
  {
   "cell_type": "markdown",
   "metadata": {},
   "source": [
    "# INFO-F-422 -  Statistical Foundations of Machine Learning \n",
    "\n",
    "### Couchard Darious - __[Darius.Couchard@ulb.be](mailto:Darius.Couchard@ulb.be) - Student ID 425366__\n",
    "### Donne Stefano - __[Stefano.Donne@ulb.be](mailto:Stefano.Donne@ulb.be) - Student ID 408801__\n",
    "### Parent Paul - __[Paul.Parent@ulb.be](mailto:Paul.Parent@ulb.be) - Student ID 495257__\n"
   ]
  },
  {
   "cell_type": "markdown",
   "metadata": {},
   "source": [
    "## This section aims to assess and compare the performances of the models implemented in the sections 4.1, 4.2 and 4.3"
   ]
  },
  {
   "cell_type": "code",
   "execution_count": 18,
   "metadata": {},
   "outputs": [],
   "source": [
    "library(randomForest)\n",
    "library(caret)\n",
    "library(e1071)\n",
    "validation_set <- read.csv(\"../Data/PreProcess/processed_verification_data_split.csv\") # load validation set\n",
    "column_to_drop<-c(\"X.1\",\"X\")\n",
    "# Dropped \"X.1\",\"X\" because they just represent the row numbers\n",
    "validation_set<-validation_set[,!(names(validation_set) %in% column_to_drop)] # drop the desired columns on validation set"
   ]
  },
  {
   "cell_type": "markdown",
   "metadata": {},
   "source": [
    "### Random Forest"
   ]
  },
  {
   "cell_type": "code",
   "execution_count": 106,
   "metadata": {},
   "outputs": [
    {
     "data": {
      "text/plain": [
       "                         Reference\n",
       "Prediction                functional functional needs repair non functional\n",
       "  functional                    5787                     537           1157\n",
       "  functional needs repair        129                     231             43\n",
       "  non functional                 607                     149           3470"
      ]
     },
     "metadata": {},
     "output_type": "display_data"
    },
    {
     "data": {
      "text/html": [
       "<table class=\"dataframe\">\n",
       "<caption>A matrix: 3 × 11 of type dbl</caption>\n",
       "<thead>\n",
       "\t<tr><th></th><th scope=col>Sensitivity</th><th scope=col>Specificity</th><th scope=col>Pos Pred Value</th><th scope=col>Neg Pred Value</th><th scope=col>Precision</th><th scope=col>Recall</th><th scope=col>F1</th><th scope=col>Prevalence</th><th scope=col>Detection Rate</th><th scope=col>Detection Prevalence</th><th scope=col>Balanced Accuracy</th></tr>\n",
       "</thead>\n",
       "<tbody>\n",
       "\t<tr><th scope=row>Class: functional</th><td>0.8871685</td><td>0.6967961</td><td>0.7735597</td><td>0.8410024</td><td>0.7735597</td><td>0.8871685</td><td>0.8264781</td><td>0.53864575</td><td>0.47786953</td><td>0.61775392</td><td>0.7919823</td></tr>\n",
       "\t<tr><th scope=row>Class: functional needs repair</th><td>0.2519084</td><td>0.9846333</td><td>0.5732010</td><td>0.9414026</td><td>0.5732010</td><td>0.2519084</td><td>0.3500000</td><td>0.07572254</td><td>0.01907514</td><td>0.03327828</td><td>0.6182708</td></tr>\n",
       "\t<tr><th scope=row>Class: non functional</th><td>0.7430407</td><td>0.8983871</td><td>0.8211074</td><td>0.8477930</td><td>0.8211074</td><td>0.7430407</td><td>0.7801259</td><td>0.38563171</td><td>0.28654005</td><td>0.34896780</td><td>0.8207139</td></tr>\n",
       "</tbody>\n",
       "</table>\n"
      ],
      "text/latex": [
       "A matrix: 3 × 11 of type dbl\n",
       "\\begin{tabular}{r|lllllllllll}\n",
       "  & Sensitivity & Specificity & Pos Pred Value & Neg Pred Value & Precision & Recall & F1 & Prevalence & Detection Rate & Detection Prevalence & Balanced Accuracy\\\\\n",
       "\\hline\n",
       "\tClass: functional & 0.8871685 & 0.6967961 & 0.7735597 & 0.8410024 & 0.7735597 & 0.8871685 & 0.8264781 & 0.53864575 & 0.47786953 & 0.61775392 & 0.7919823\\\\\n",
       "\tClass: functional needs repair & 0.2519084 & 0.9846333 & 0.5732010 & 0.9414026 & 0.5732010 & 0.2519084 & 0.3500000 & 0.07572254 & 0.01907514 & 0.03327828 & 0.6182708\\\\\n",
       "\tClass: non functional & 0.7430407 & 0.8983871 & 0.8211074 & 0.8477930 & 0.8211074 & 0.7430407 & 0.7801259 & 0.38563171 & 0.28654005 & 0.34896780 & 0.8207139\\\\\n",
       "\\end{tabular}\n"
      ],
      "text/markdown": [
       "\n",
       "A matrix: 3 × 11 of type dbl\n",
       "\n",
       "| <!--/--> | Sensitivity | Specificity | Pos Pred Value | Neg Pred Value | Precision | Recall | F1 | Prevalence | Detection Rate | Detection Prevalence | Balanced Accuracy |\n",
       "|---|---|---|---|---|---|---|---|---|---|---|---|\n",
       "| Class: functional | 0.8871685 | 0.6967961 | 0.7735597 | 0.8410024 | 0.7735597 | 0.8871685 | 0.8264781 | 0.53864575 | 0.47786953 | 0.61775392 | 0.7919823 |\n",
       "| Class: functional needs repair | 0.2519084 | 0.9846333 | 0.5732010 | 0.9414026 | 0.5732010 | 0.2519084 | 0.3500000 | 0.07572254 | 0.01907514 | 0.03327828 | 0.6182708 |\n",
       "| Class: non functional | 0.7430407 | 0.8983871 | 0.8211074 | 0.8477930 | 0.8211074 | 0.7430407 | 0.7801259 | 0.38563171 | 0.28654005 | 0.34896780 | 0.8207139 |\n",
       "\n"
      ],
      "text/plain": [
       "                               Sensitivity Specificity Pos Pred Value\n",
       "Class: functional              0.8871685   0.6967961   0.7735597     \n",
       "Class: functional needs repair 0.2519084   0.9846333   0.5732010     \n",
       "Class: non functional          0.7430407   0.8983871   0.8211074     \n",
       "                               Neg Pred Value Precision Recall    F1       \n",
       "Class: functional              0.8410024      0.7735597 0.8871685 0.8264781\n",
       "Class: functional needs repair 0.9414026      0.5732010 0.2519084 0.3500000\n",
       "Class: non functional          0.8477930      0.8211074 0.7430407 0.7801259\n",
       "                               Prevalence Detection Rate Detection Prevalence\n",
       "Class: functional              0.53864575 0.47786953     0.61775392          \n",
       "Class: functional needs repair 0.07572254 0.01907514     0.03327828          \n",
       "Class: non functional          0.38563171 0.28654005     0.34896780          \n",
       "                               Balanced Accuracy\n",
       "Class: functional              0.7919823        \n",
       "Class: functional needs repair 0.6182708        \n",
       "Class: non functional          0.8207139        "
      ]
     },
     "metadata": {},
     "output_type": "display_data"
    },
    {
     "data": {
      "text/html": [
       "<strong>Kappa:</strong> 0.591601213583798"
      ],
      "text/latex": [
       "\\textbf{Kappa:} 0.591601213583798"
      ],
      "text/markdown": [
       "**Kappa:** 0.591601213583798"
      ],
      "text/plain": [
       "    Kappa \n",
       "0.5916012 "
      ]
     },
     "metadata": {},
     "output_type": "display_data"
    },
    {
     "data": {
      "text/html": [
       "<strong>Accuracy:</strong> 0.783484723369116"
      ],
      "text/latex": [
       "\\textbf{Accuracy:} 0.783484723369116"
      ],
      "text/markdown": [
       "**Accuracy:** 0.783484723369116"
      ],
      "text/plain": [
       " Accuracy \n",
       "0.7834847 "
      ]
     },
     "metadata": {},
     "output_type": "display_data"
    }
   ],
   "source": [
    "load(\"4-Models/random_forest.RData\") # load Random Forest trained model -> name : classifierRF\n",
    "pred <- predict(classifierRF,validation_set) # Random Forest model prediction on validation set\n",
    "\n",
    "\n",
    "cmRF <- confusionMatrix(data=pred, reference = factor(validation_set$id)) # Random Forest Confusion Matrix on validation set\n",
    "\n",
    "\n",
    "kpRF <- cmRF$overall[\"Kappa\"] # Cohen's Kappa coefficient, allows to indicate the level of agreement between prediction and expected\n",
    "                          # Allows to take into account the proportion of false negative https://thenewstack.io/cohens-kappa-what-it-is-when-to-use-it-and-how-to-avoid-its-pitfalls/\n",
    "acRF <- cmRF$overall[\"Accuracy\"] # Accuracy (CM diagonal)\n",
    "\n",
    "classRF <- cmRF$byClass # Interesting metrics to characterize each class predictions\n",
    "\n",
    "sensRF <- classRF[,'Sensitivity'] # Sensitivity = (True Positive)/(True Positive + False Negative) per class (= Recall here)\n",
    "\n",
    "cmRF$table # Confusion Matrix displayed \n",
    "classRF\n",
    "kpRF\n",
    "acRF"
   ]
  },
  {
   "cell_type": "code",
   "execution_count": 82,
   "metadata": {},
   "outputs": [],
   "source": [
    "## DO THAT FOR EACH MODEL"
   ]
  },
  {
   "cell_type": "markdown",
   "metadata": {},
   "source": [
    "### SVM"
   ]
  },
  {
   "cell_type": "code",
   "execution_count": 83,
   "metadata": {},
   "outputs": [],
   "source": [
    "kpSVM <- 0 # temp\n",
    "acSVM <- 0 # temp\n",
    "sensSVM <- sensRF # temp"
   ]
  },
  {
   "cell_type": "markdown",
   "metadata": {},
   "source": [
    "### Neural Network"
   ]
  },
  {
   "cell_type": "code",
   "execution_count": 84,
   "metadata": {},
   "outputs": [],
   "source": [
    "kpNN <- 0 # temp\n",
    "acNN <- 0 # temp\n",
    "sensNN <- sensRF # temp"
   ]
  },
  {
   "cell_type": "markdown",
   "metadata": {},
   "source": [
    "## Models comparison :"
   ]
  },
  {
   "cell_type": "code",
   "execution_count": 105,
   "metadata": {},
   "outputs": [
    {
     "data": {
      "image/png": "[encoded data removed]",
      "text/plain": [
       "Plot with title \"Models Accuracy\""
      ]
     },
     "metadata": {
      "image/png": {
       "height": 420,
       "width": 420
      }
     },
     "output_type": "display_data"
    },
    {
     "data": {
      "image/png": "[encoded data removed]",
      "text/plain": [
       "Plot with title \"Models Kappa Coef.\""
      ]
     },
     "metadata": {
      "image/png": {
       "height": 420,
       "width": 420
      }
     },
     "output_type": "display_data"
    },
    {
     "data": {
      "image/png": "[encoded data removed]",
      "text/plain": [
       "Plot with title \"Models Sensitivity by Class\""
      ]
     },
     "metadata": {
      "image/png": {
       "height": 420,
       "width": 420
      }
     },
     "output_type": "display_data"
    }
   ],
   "source": [
    "acTAB <-  matrix(c(acRF,acSVM,acNN),ncol=3,byrow=TRUE)\n",
    "colnames(acTAB)<-c(\"Random Forest\",\"SVM\",\"Neural Net.\")\n",
    "barplot(as.table(acTAB),main=\"Models Accuracy\",col=c(\"darkblue\"))\n",
    "\n",
    "kpTAB <-  matrix(c(kpRF,kpSVM,kpNN),ncol=3,byrow=TRUE)\n",
    "colnames(kpTAB)<-c(\"Random Forest\",\"SVM\",\"Neural Net.\")\n",
    "barplot(as.table(kpTAB),main=\"Models Kappa Coef.\",col=c(\"darkblue\"))\n",
    "\n",
    "sensTAB <-  matrix(c(sensRF,sensSVM,sensNN),ncol=3,byrow=TRUE)\n",
    "rownames(sensTAB)<-c(\"Random Forest\",\"SVM\",\"Neural Net.\")\n",
    "colnames(sensTAB)<-c(\"functional\",\"functional needs repair\",\"non functional\")\n",
    "\n",
    "barplot(as.table(t(sensTAB)),main=\"Models Sensitivity by Class\",beside=TRUE,col=c(\"green\",\"orange\",\"red\"),legend = colnames(sensTAB))\n"
   ]
  },
  {
   "cell_type": "code",
   "execution_count": null,
   "metadata": {},
   "outputs": [],
   "source": []
  }
 ],
 "metadata": {
  "kernelspec": {
   "display_name": "R",
   "language": "R",
   "name": "ir"
  },
  "language_info": {
   "codemirror_mode": "r",
   "file_extension": ".r",
   "mimetype": "text/x-r-source",
   "name": "R",
   "pygments_lexer": "r",
   "version": "4.0.5"
  }
 },
 "nbformat": 4,
 "nbformat_minor": 4
}

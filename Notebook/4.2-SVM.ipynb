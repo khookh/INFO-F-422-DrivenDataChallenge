{
 "cells": [
  {
   "cell_type": "markdown",
   "id": "finite-shaft",
   "metadata": {},
   "source": [
    "## Support Vector Machine (SVM) Classifier\n",
    "\n",
    "Consists of creating an hyperplane that divides the instances in space.\n",
    "\n",
    "This method is effective with highly dimentional problems."
   ]
  },
  {
   "cell_type": "code",
   "execution_count": 3,
   "id": "listed-projection",
   "metadata": {},
   "outputs": [],
   "source": [
    "library(e1071)\n",
    "training_set <- read.csv(\"../Data/PreProcess/processed_training_data_split.csv\")\n",
    "validation_set <- read.csv(\"../Data/PreProcess/processed_verification_data_split.csv\")"
   ]
  },
  {
   "cell_type": "code",
   "execution_count": 4,
   "id": "daily-abuse",
   "metadata": {},
   "outputs": [],
   "source": [
    "column_to_drop<-c(\"X.1\",\"X\")\n",
    "training_set<-training_set[,!(names(training_set) %in% column_to_drop)] # drop the desired columns\n",
    "validation_set<-validation_set[,!(names(validation_set) %in% column_to_drop)] # drop the desired columns"
   ]
  },
  {
   "cell_type": "code",
   "execution_count": 5,
   "id": "hourly-found",
   "metadata": {},
   "outputs": [
    {
     "data": {
      "text/html": [
       "<table class=\"dataframe\">\n",
       "<caption>A data.frame: 47289 × 81</caption>\n",
       "<thead>\n",
       "\t<tr><th scope=col>id</th><th scope=col>population</th><th scope=col>permit</th><th scope=col>construction_year</th><th scope=col>quality_group</th><th scope=col>quantity</th><th scope=col>Internal</th><th scope=col>Lake.Nyasa</th><th scope=col>Lake.Rukwa</th><th scope=col>Lake.Tanganyika</th><th scope=col>⋯</th><th scope=col>X18</th><th scope=col>X19</th><th scope=col>X20</th><th scope=col>X21</th><th scope=col>X24</th><th scope=col>X40</th><th scope=col>X60</th><th scope=col>X80</th><th scope=col>X90</th><th scope=col>X99</th></tr>\n",
       "\t<tr><th scope=col>&lt;fct&gt;</th><th scope=col>&lt;dbl&gt;</th><th scope=col>&lt;dbl&gt;</th><th scope=col>&lt;dbl&gt;</th><th scope=col>&lt;dbl&gt;</th><th scope=col>&lt;dbl&gt;</th><th scope=col>&lt;int&gt;</th><th scope=col>&lt;int&gt;</th><th scope=col>&lt;int&gt;</th><th scope=col>&lt;int&gt;</th><th scope=col>⋯</th><th scope=col>&lt;int&gt;</th><th scope=col>&lt;int&gt;</th><th scope=col>&lt;int&gt;</th><th scope=col>&lt;int&gt;</th><th scope=col>&lt;int&gt;</th><th scope=col>&lt;int&gt;</th><th scope=col>&lt;int&gt;</th><th scope=col>&lt;int&gt;</th><th scope=col>&lt;int&gt;</th><th scope=col>&lt;int&gt;</th></tr>\n",
       "</thead>\n",
       "<tbody>\n",
       "\t<tr><td>functional             </td><td>-0.07262067</td><td> 0.6889358</td><td>-1.2105682</td><td> 0.3440186</td><td> 0.81768317</td><td>0</td><td>0</td><td>0</td><td>0</td><td>⋯</td><td>0</td><td>0</td><td>0</td><td>1</td><td>0</td><td>0</td><td>0</td><td>0</td><td>0</td><td>0</td></tr>\n",
       "\t<tr><td>functional             </td><td>-0.08339009</td><td> 0.6889358</td><td> 0.0000000</td><td> 0.3440186</td><td>-0.08578228</td><td>0</td><td>0</td><td>0</td><td>0</td><td>⋯</td><td>1</td><td>0</td><td>0</td><td>0</td><td>0</td><td>0</td><td>0</td><td>0</td><td>0</td><td>0</td></tr>\n",
       "\t<tr><td>functional             </td><td>-0.61825111</td><td> 0.6889358</td><td>-1.2105682</td><td>-3.1172670</td><td> 0.81768317</td><td>0</td><td>0</td><td>0</td><td>0</td><td>⋯</td><td>0</td><td>0</td><td>0</td><td>0</td><td>0</td><td>0</td><td>0</td><td>0</td><td>0</td><td>0</td></tr>\n",
       "\t<tr><td>non functional         </td><td>-0.07624876</td><td> 0.6889358</td><td> 0.0000000</td><td> 0.3440186</td><td> 0.81768317</td><td>1</td><td>0</td><td>0</td><td>0</td><td>⋯</td><td>0</td><td>0</td><td>0</td><td>0</td><td>0</td><td>0</td><td>0</td><td>0</td><td>0</td><td>0</td></tr>\n",
       "\t<tr><td>non functional         </td><td>-0.07624876</td><td> 0.6889358</td><td> 0.0000000</td><td>-0.8097433</td><td> 0.81768317</td><td>0</td><td>0</td><td>0</td><td>1</td><td>⋯</td><td>0</td><td>0</td><td>0</td><td>0</td><td>0</td><td>0</td><td>0</td><td>0</td><td>0</td><td>0</td></tr>\n",
       "\t<tr><td>non functional         </td><td> 0.48793255</td><td> 0.6889358</td><td> 0.0000000</td><td>-3.1172670</td><td>-0.08578228</td><td>0</td><td>0</td><td>0</td><td>1</td><td>⋯</td><td>0</td><td>0</td><td>0</td><td>0</td><td>0</td><td>0</td><td>0</td><td>0</td><td>0</td><td>0</td></tr>\n",
       "\t<tr><td>functional             </td><td>-0.08339009</td><td> 0.6889358</td><td> 0.0000000</td><td> 0.3440186</td><td> 0.81768317</td><td>0</td><td>0</td><td>0</td><td>0</td><td>⋯</td><td>1</td><td>0</td><td>0</td><td>0</td><td>0</td><td>0</td><td>0</td><td>0</td><td>0</td><td>0</td></tr>\n",
       "\t<tr><td>functional             </td><td> 0.13555158</td><td>-1.5302158</td><td>-1.4092612</td><td>-3.1172670</td><td> 0.81768317</td><td>0</td><td>0</td><td>0</td><td>0</td><td>⋯</td><td>0</td><td>0</td><td>0</td><td>0</td><td>0</td><td>0</td><td>1</td><td>0</td><td>0</td><td>0</td></tr>\n",
       "\t<tr><td>functional             </td><td>-0.07262067</td><td>-1.5302158</td><td> 0.9750546</td><td> 0.3440186</td><td>-0.98924773</td><td>0</td><td>1</td><td>0</td><td>0</td><td>⋯</td><td>0</td><td>0</td><td>0</td><td>0</td><td>0</td><td>0</td><td>0</td><td>0</td><td>0</td><td>0</td></tr>\n",
       "\t<tr><td>functional             </td><td>-0.61825111</td><td> 0.6889358</td><td>-1.2105682</td><td> 0.3440186</td><td> 0.81768317</td><td>0</td><td>0</td><td>0</td><td>0</td><td>⋯</td><td>0</td><td>0</td><td>0</td><td>0</td><td>0</td><td>0</td><td>0</td><td>0</td><td>0</td><td>0</td></tr>\n",
       "\t<tr><td>functional             </td><td>-0.07624876</td><td> 0.6889358</td><td> 0.0000000</td><td> 0.3440186</td><td> 0.81768317</td><td>1</td><td>0</td><td>0</td><td>0</td><td>⋯</td><td>0</td><td>0</td><td>0</td><td>0</td><td>0</td><td>0</td><td>0</td><td>0</td><td>0</td><td>0</td></tr>\n",
       "\t<tr><td>non functional         </td><td>-0.51087805</td><td> 0.6889358</td><td> 1.8691730</td><td> 0.3440186</td><td>-1.89271317</td><td>0</td><td>0</td><td>0</td><td>0</td><td>⋯</td><td>0</td><td>0</td><td>0</td><td>0</td><td>0</td><td>0</td><td>0</td><td>0</td><td>0</td><td>0</td></tr>\n",
       "\t<tr><td>functional needs repair</td><td> 1.57084450</td><td> 0.6889358</td><td>-0.2171033</td><td>-0.8097433</td><td>-0.98924773</td><td>0</td><td>0</td><td>0</td><td>0</td><td>⋯</td><td>0</td><td>1</td><td>0</td><td>0</td><td>0</td><td>0</td><td>0</td><td>0</td><td>0</td><td>0</td></tr>\n",
       "\t<tr><td>functional             </td><td>-0.61825111</td><td> 0.6889358</td><td> 0.4783221</td><td> 0.3440186</td><td> 0.81768317</td><td>0</td><td>1</td><td>0</td><td>0</td><td>⋯</td><td>0</td><td>0</td><td>0</td><td>0</td><td>0</td><td>0</td><td>0</td><td>0</td><td>0</td><td>0</td></tr>\n",
       "\t<tr><td>functional             </td><td>-0.07624876</td><td>-1.5302158</td><td> 0.0000000</td><td> 0.0000000</td><td> 0.00000000</td><td>0</td><td>0</td><td>0</td><td>0</td><td>⋯</td><td>0</td><td>0</td><td>0</td><td>0</td><td>0</td><td>0</td><td>0</td><td>0</td><td>0</td><td>0</td></tr>\n",
       "\t<tr><td>functional             </td><td>-0.27860164</td><td> 0.6889358</td><td>-1.2105682</td><td> 0.3440186</td><td> 0.81768317</td><td>0</td><td>0</td><td>0</td><td>1</td><td>⋯</td><td>0</td><td>0</td><td>0</td><td>0</td><td>0</td><td>0</td><td>0</td><td>0</td><td>0</td><td>0</td></tr>\n",
       "\t<tr><td>functional needs repair</td><td>-0.31366223</td><td> 0.6889358</td><td> 2.2665590</td><td> 0.3440186</td><td> 0.81768317</td><td>0</td><td>0</td><td>0</td><td>0</td><td>⋯</td><td>0</td><td>0</td><td>0</td><td>0</td><td>0</td><td>0</td><td>0</td><td>0</td><td>0</td><td>0</td></tr>\n",
       "\t<tr><td>functional             </td><td>-0.05070781</td><td>-1.5302158</td><td>-1.4092612</td><td> 0.3440186</td><td> 0.81768317</td><td>0</td><td>0</td><td>0</td><td>0</td><td>⋯</td><td>0</td><td>0</td><td>0</td><td>0</td><td>0</td><td>0</td><td>0</td><td>1</td><td>0</td><td>0</td></tr>\n",
       "\t<tr><td>non functional         </td><td>-0.61825111</td><td> 0.6889358</td><td>-0.3164498</td><td> 0.3440186</td><td>-0.98924773</td><td>0</td><td>0</td><td>0</td><td>0</td><td>⋯</td><td>0</td><td>0</td><td>0</td><td>0</td><td>0</td><td>0</td><td>0</td><td>0</td><td>0</td><td>0</td></tr>\n",
       "\t<tr><td>functional             </td><td>-0.35555295</td><td> 0.6889358</td><td> 0.0000000</td><td> 0.3440186</td><td>-0.98924773</td><td>0</td><td>0</td><td>0</td><td>0</td><td>⋯</td><td>0</td><td>0</td><td>0</td><td>0</td><td>0</td><td>0</td><td>0</td><td>0</td><td>0</td><td>0</td></tr>\n",
       "\t<tr><td>functional needs repair</td><td>-0.22601076</td><td> 0.6889358</td><td> 2.4652519</td><td> 0.3440186</td><td>-0.98924773</td><td>0</td><td>0</td><td>0</td><td>0</td><td>⋯</td><td>0</td><td>0</td><td>0</td><td>0</td><td>0</td><td>0</td><td>0</td><td>0</td><td>0</td><td>0</td></tr>\n",
       "\t<tr><td>functional             </td><td>-0.46705232</td><td>-1.5302158</td><td> 0.4783221</td><td> 0.3440186</td><td>-0.08578228</td><td>0</td><td>1</td><td>0</td><td>0</td><td>⋯</td><td>0</td><td>0</td><td>0</td><td>0</td><td>0</td><td>0</td><td>0</td><td>0</td><td>0</td><td>0</td></tr>\n",
       "\t<tr><td>functional             </td><td>-0.40131371</td><td>-1.5302158</td><td> 0.0000000</td><td>-3.1172670</td><td> 0.81768317</td><td>0</td><td>0</td><td>0</td><td>0</td><td>⋯</td><td>0</td><td>0</td><td>0</td><td>0</td><td>0</td><td>0</td><td>1</td><td>0</td><td>0</td><td>0</td></tr>\n",
       "\t<tr><td>non functional         </td><td> 0.20251462</td><td> 0.6889358</td><td> 0.0000000</td><td> 0.3440186</td><td>-1.89271317</td><td>0</td><td>1</td><td>0</td><td>0</td><td>⋯</td><td>0</td><td>0</td><td>0</td><td>0</td><td>0</td><td>0</td><td>0</td><td>0</td><td>0</td><td>0</td></tr>\n",
       "\t<tr><td>functional             </td><td>-0.35555295</td><td>-1.5302158</td><td> 0.0000000</td><td> 0.3440186</td><td> 0.81768317</td><td>1</td><td>0</td><td>0</td><td>0</td><td>⋯</td><td>0</td><td>0</td><td>0</td><td>0</td><td>0</td><td>0</td><td>0</td><td>0</td><td>0</td><td>0</td></tr>\n",
       "\t<tr><td>non functional         </td><td>-0.11644641</td><td>-1.5302158</td><td>-0.5151428</td><td> 0.3440186</td><td>-0.08578228</td><td>0</td><td>0</td><td>0</td><td>1</td><td>⋯</td><td>0</td><td>0</td><td>0</td><td>0</td><td>0</td><td>0</td><td>0</td><td>0</td><td>0</td><td>0</td></tr>\n",
       "\t<tr><td>functional             </td><td>-0.51087805</td><td> 0.6889358</td><td>-1.1112217</td><td> 0.3440186</td><td> 0.81768317</td><td>0</td><td>0</td><td>0</td><td>0</td><td>⋯</td><td>0</td><td>0</td><td>0</td><td>0</td><td>0</td><td>0</td><td>0</td><td>0</td><td>0</td><td>0</td></tr>\n",
       "\t<tr><td>functional             </td><td>-0.38871844</td><td>-1.5302158</td><td> 1.0744011</td><td> 0.3440186</td><td> 0.81768317</td><td>0</td><td>1</td><td>0</td><td>0</td><td>⋯</td><td>0</td><td>0</td><td>0</td><td>0</td><td>0</td><td>0</td><td>0</td><td>0</td><td>0</td><td>0</td></tr>\n",
       "\t<tr><td>functional             </td><td>-0.07262067</td><td> 0.6889358</td><td>-1.4092612</td><td> 0.3440186</td><td> 0.81768317</td><td>0</td><td>0</td><td>0</td><td>0</td><td>⋯</td><td>0</td><td>0</td><td>0</td><td>0</td><td>0</td><td>0</td><td>0</td><td>0</td><td>0</td><td>0</td></tr>\n",
       "\t<tr><td>functional needs repair</td><td>-0.40131371</td><td> 0.6889358</td><td>-0.3164498</td><td> 0.3440186</td><td>-0.98924773</td><td>0</td><td>0</td><td>0</td><td>0</td><td>⋯</td><td>0</td><td>0</td><td>0</td><td>0</td><td>0</td><td>0</td><td>0</td><td>0</td><td>0</td><td>0</td></tr>\n",
       "\t<tr><td>⋮</td><td>⋮</td><td>⋮</td><td>⋮</td><td>⋮</td><td>⋮</td><td>⋮</td><td>⋮</td><td>⋮</td><td>⋮</td><td>⋱</td><td>⋮</td><td>⋮</td><td>⋮</td><td>⋮</td><td>⋮</td><td>⋮</td><td>⋮</td><td>⋮</td><td>⋮</td><td>⋮</td></tr>\n",
       "\t<tr><td>functional    </td><td>-0.48896519</td><td>-1.5302158</td><td>-1.0118752</td><td> 0.3440186</td><td>-0.9892477</td><td>0</td><td>1</td><td>0</td><td>0</td><td>⋯</td><td>0</td><td>0</td><td>0</td><td>0</td><td>0</td><td>0</td><td>0</td><td>0</td><td>0</td><td>0</td></tr>\n",
       "\t<tr><td>functional    </td><td>-0.35748797</td><td> 0.6889358</td><td>-1.4092612</td><td> 0.3440186</td><td> 0.8176832</td><td>1</td><td>0</td><td>0</td><td>0</td><td>⋯</td><td>0</td><td>0</td><td>0</td><td>0</td><td>0</td><td>0</td><td>0</td><td>0</td><td>0</td><td>0</td></tr>\n",
       "\t<tr><td>functional    </td><td>-0.08339009</td><td> 0.6889358</td><td> 0.0000000</td><td> 0.3440186</td><td> 0.8176832</td><td>0</td><td>0</td><td>0</td><td>0</td><td>⋯</td><td>1</td><td>0</td><td>0</td><td>0</td><td>0</td><td>0</td><td>0</td><td>0</td><td>0</td><td>0</td></tr>\n",
       "\t<tr><td>functional    </td><td>-0.18218502</td><td> 0.0000000</td><td>-0.3164498</td><td> 0.3440186</td><td>-0.9892477</td><td>1</td><td>0</td><td>0</td><td>0</td><td>⋯</td><td>0</td><td>0</td><td>0</td><td>0</td><td>0</td><td>0</td><td>0</td><td>0</td><td>0</td><td>0</td></tr>\n",
       "\t<tr><td>functional    </td><td>-0.38871844</td><td>-1.5302158</td><td> 2.0678660</td><td> 0.3440186</td><td> 0.8176832</td><td>0</td><td>1</td><td>0</td><td>0</td><td>⋯</td><td>0</td><td>0</td><td>0</td><td>0</td><td>0</td><td>0</td><td>0</td><td>0</td><td>0</td><td>0</td></tr>\n",
       "\t<tr><td>functional    </td><td>-0.35555295</td><td> 0.6889358</td><td> 0.0000000</td><td> 0.3440186</td><td> 0.8176832</td><td>0</td><td>0</td><td>0</td><td>0</td><td>⋯</td><td>0</td><td>0</td><td>0</td><td>0</td><td>0</td><td>0</td><td>0</td><td>0</td><td>0</td><td>0</td></tr>\n",
       "\t<tr><td>functional    </td><td> 0.20251462</td><td>-1.5302158</td><td> 0.0000000</td><td> 0.3440186</td><td> 0.8176832</td><td>0</td><td>1</td><td>0</td><td>0</td><td>⋯</td><td>0</td><td>0</td><td>0</td><td>0</td><td>0</td><td>0</td><td>0</td><td>0</td><td>0</td><td>0</td></tr>\n",
       "\t<tr><td>functional    </td><td>-0.61825111</td><td>-1.5302158</td><td> 0.0000000</td><td> 0.0000000</td><td> 0.0000000</td><td>0</td><td>0</td><td>0</td><td>1</td><td>⋯</td><td>0</td><td>0</td><td>0</td><td>0</td><td>0</td><td>0</td><td>0</td><td>0</td><td>0</td><td>0</td></tr>\n",
       "\t<tr><td>non functional</td><td>-0.07624876</td><td>-1.5302158</td><td> 0.0000000</td><td> 0.3440186</td><td> 0.8176832</td><td>0</td><td>0</td><td>0</td><td>0</td><td>⋯</td><td>0</td><td>0</td><td>0</td><td>0</td><td>0</td><td>0</td><td>0</td><td>0</td><td>0</td><td>0</td></tr>\n",
       "\t<tr><td>non functional</td><td> 0.48793255</td><td> 0.6889358</td><td> 0.0000000</td><td>-3.1172670</td><td>-0.9892477</td><td>0</td><td>0</td><td>0</td><td>1</td><td>⋯</td><td>0</td><td>0</td><td>0</td><td>0</td><td>0</td><td>0</td><td>0</td><td>0</td><td>0</td><td>0</td></tr>\n",
       "\t<tr><td>functional    </td><td>-0.41007886</td><td> 0.6889358</td><td> 0.8757081</td><td> 0.3440186</td><td> 0.8176832</td><td>0</td><td>0</td><td>1</td><td>0</td><td>⋯</td><td>0</td><td>0</td><td>0</td><td>0</td><td>0</td><td>0</td><td>0</td><td>0</td><td>0</td><td>0</td></tr>\n",
       "\t<tr><td>functional    </td><td>-0.07624876</td><td>-1.5302158</td><td> 0.0000000</td><td> 0.3440186</td><td> 0.8176832</td><td>0</td><td>0</td><td>0</td><td>0</td><td>⋯</td><td>0</td><td>0</td><td>0</td><td>0</td><td>0</td><td>0</td><td>0</td><td>0</td><td>0</td><td>0</td></tr>\n",
       "\t<tr><td>functional    </td><td> 0.71405132</td><td> 0.6889358</td><td>-0.8131823</td><td> 0.3440186</td><td> 0.8176832</td><td>0</td><td>0</td><td>0</td><td>0</td><td>⋯</td><td>0</td><td>0</td><td>0</td><td>0</td><td>0</td><td>0</td><td>0</td><td>0</td><td>0</td><td>0</td></tr>\n",
       "\t<tr><td>non functional</td><td> 0.48793255</td><td>-1.5302158</td><td> 0.0000000</td><td> 0.3440186</td><td>-0.9892477</td><td>1</td><td>0</td><td>0</td><td>0</td><td>⋯</td><td>0</td><td>0</td><td>0</td><td>0</td><td>0</td><td>0</td><td>0</td><td>0</td><td>0</td><td>0</td></tr>\n",
       "\t<tr><td>functional    </td><td>-0.54155607</td><td> 0.6889358</td><td>-1.1112217</td><td> 0.3440186</td><td> 0.8176832</td><td>0</td><td>0</td><td>0</td><td>0</td><td>⋯</td><td>0</td><td>0</td><td>0</td><td>0</td><td>0</td><td>0</td><td>0</td><td>0</td><td>0</td><td>0</td></tr>\n",
       "\t<tr><td>functional    </td><td>-0.08339009</td><td> 0.6889358</td><td> 0.0000000</td><td> 0.3440186</td><td> 0.8176832</td><td>0</td><td>0</td><td>0</td><td>0</td><td>⋯</td><td>1</td><td>0</td><td>0</td><td>0</td><td>0</td><td>0</td><td>0</td><td>0</td><td>0</td><td>0</td></tr>\n",
       "\t<tr><td>non functional</td><td>-0.51087805</td><td>-1.5302158</td><td>-0.2171033</td><td> 0.3440186</td><td>-1.8927132</td><td>0</td><td>1</td><td>0</td><td>0</td><td>⋯</td><td>0</td><td>0</td><td>0</td><td>0</td><td>0</td><td>0</td><td>0</td><td>0</td><td>0</td><td>0</td></tr>\n",
       "\t<tr><td>non functional</td><td> 0.16842088</td><td> 0.6889358</td><td> 0.4783221</td><td> 0.3440186</td><td>-0.9892477</td><td>0</td><td>0</td><td>0</td><td>0</td><td>⋯</td><td>0</td><td>0</td><td>0</td><td>0</td><td>0</td><td>0</td><td>0</td><td>0</td><td>0</td><td>0</td></tr>\n",
       "\t<tr><td>non functional</td><td>-0.61825111</td><td> 0.6889358</td><td>-1.1112217</td><td> 0.3440186</td><td> 0.8176832</td><td>0</td><td>0</td><td>0</td><td>0</td><td>⋯</td><td>0</td><td>0</td><td>0</td><td>0</td><td>0</td><td>0</td><td>0</td><td>0</td><td>0</td><td>0</td></tr>\n",
       "\t<tr><td>functional    </td><td> 1.13258712</td><td> 0.6889358</td><td>-1.1112217</td><td> 0.3440186</td><td> 0.8176832</td><td>0</td><td>0</td><td>0</td><td>0</td><td>⋯</td><td>0</td><td>0</td><td>0</td><td>0</td><td>0</td><td>0</td><td>0</td><td>1</td><td>0</td><td>0</td></tr>\n",
       "\t<tr><td>functional    </td><td> 1.57084450</td><td>-1.5302158</td><td>-1.2105682</td><td> 0.3440186</td><td> 0.8176832</td><td>0</td><td>0</td><td>1</td><td>0</td><td>⋯</td><td>0</td><td>0</td><td>0</td><td>0</td><td>0</td><td>0</td><td>0</td><td>0</td><td>0</td><td>0</td></tr>\n",
       "\t<tr><td>functional    </td><td> 0.47520105</td><td> 0.6889358</td><td> 0.1802826</td><td> 0.3440186</td><td>-0.9892477</td><td>0</td><td>0</td><td>0</td><td>1</td><td>⋯</td><td>0</td><td>0</td><td>0</td><td>0</td><td>0</td><td>0</td><td>0</td><td>0</td><td>0</td><td>0</td></tr>\n",
       "\t<tr><td>functional    </td><td> 2.66648795</td><td>-1.5302158</td><td>-1.2105682</td><td> 0.3440186</td><td> 0.8176832</td><td>0</td><td>0</td><td>0</td><td>1</td><td>⋯</td><td>0</td><td>0</td><td>0</td><td>0</td><td>0</td><td>0</td><td>0</td><td>0</td><td>0</td><td>0</td></tr>\n",
       "\t<tr><td>functional    </td><td>-0.29174936</td><td>-1.5302158</td><td> 0.5776686</td><td> 0.3440186</td><td>-0.9892477</td><td>0</td><td>0</td><td>0</td><td>1</td><td>⋯</td><td>0</td><td>0</td><td>0</td><td>0</td><td>0</td><td>0</td><td>0</td><td>0</td><td>0</td><td>0</td></tr>\n",
       "\t<tr><td>non functional</td><td>-0.16027215</td><td> 0.6889358</td><td> 2.9619844</td><td> 0.3440186</td><td> 0.8176832</td><td>0</td><td>0</td><td>0</td><td>0</td><td>⋯</td><td>0</td><td>0</td><td>0</td><td>0</td><td>0</td><td>0</td><td>0</td><td>0</td><td>0</td><td>0</td></tr>\n",
       "\t<tr><td>non functional</td><td> 0.20251462</td><td> 0.6889358</td><td> 0.0000000</td><td> 0.3440186</td><td> 0.8176832</td><td>0</td><td>0</td><td>1</td><td>0</td><td>⋯</td><td>0</td><td>0</td><td>0</td><td>0</td><td>0</td><td>0</td><td>0</td><td>0</td><td>0</td><td>0</td></tr>\n",
       "\t<tr><td>functional    </td><td> 0.48793255</td><td>-1.5302158</td><td> 0.0000000</td><td> 0.3440186</td><td>-0.9892477</td><td>1</td><td>0</td><td>0</td><td>0</td><td>⋯</td><td>0</td><td>0</td><td>0</td><td>0</td><td>0</td><td>0</td><td>0</td><td>0</td><td>0</td><td>0</td></tr>\n",
       "\t<tr><td>functional    </td><td>-0.34653154</td><td> 0.6889358</td><td>-0.2171033</td><td> 0.3440186</td><td> 0.8176832</td><td>0</td><td>0</td><td>0</td><td>0</td><td>⋯</td><td>0</td><td>0</td><td>0</td><td>0</td><td>0</td><td>0</td><td>0</td><td>0</td><td>0</td><td>0</td></tr>\n",
       "\t<tr><td>functional    </td><td> 0.20251462</td><td>-1.5302158</td><td> 0.0000000</td><td> 1.4977804</td><td> 0.8176832</td><td>0</td><td>0</td><td>0</td><td>0</td><td>⋯</td><td>0</td><td>0</td><td>0</td><td>0</td><td>0</td><td>0</td><td>0</td><td>0</td><td>0</td><td>0</td></tr>\n",
       "\t<tr><td>functional    </td><td>-0.35555295</td><td> 0.6889358</td><td> 0.0000000</td><td> 0.3440186</td><td>-0.9892477</td><td>0</td><td>0</td><td>0</td><td>0</td><td>⋯</td><td>0</td><td>0</td><td>0</td><td>0</td><td>0</td><td>0</td><td>0</td><td>0</td><td>0</td><td>0</td></tr>\n",
       "</tbody>\n",
       "</table>\n"
      ],
      "text/latex": [
       "A data.frame: 47289 × 81\n",
       "\\begin{tabular}{lllllllllllllllllllll}\n",
       " id & population & permit & construction\\_year & quality\\_group & quantity & Internal & Lake.Nyasa & Lake.Rukwa & Lake.Tanganyika & ⋯ & X18 & X19 & X20 & X21 & X24 & X40 & X60 & X80 & X90 & X99\\\\\n",
       " <fct> & <dbl> & <dbl> & <dbl> & <dbl> & <dbl> & <int> & <int> & <int> & <int> & ⋯ & <int> & <int> & <int> & <int> & <int> & <int> & <int> & <int> & <int> & <int>\\\\\n",
       "\\hline\n",
       "\t functional              & -0.07262067 &  0.6889358 & -1.2105682 &  0.3440186 &  0.81768317 & 0 & 0 & 0 & 0 & ⋯ & 0 & 0 & 0 & 1 & 0 & 0 & 0 & 0 & 0 & 0\\\\\n",
       "\t functional              & -0.08339009 &  0.6889358 &  0.0000000 &  0.3440186 & -0.08578228 & 0 & 0 & 0 & 0 & ⋯ & 1 & 0 & 0 & 0 & 0 & 0 & 0 & 0 & 0 & 0\\\\\n",
       "\t functional              & -0.61825111 &  0.6889358 & -1.2105682 & -3.1172670 &  0.81768317 & 0 & 0 & 0 & 0 & ⋯ & 0 & 0 & 0 & 0 & 0 & 0 & 0 & 0 & 0 & 0\\\\\n",
       "\t non functional          & -0.07624876 &  0.6889358 &  0.0000000 &  0.3440186 &  0.81768317 & 1 & 0 & 0 & 0 & ⋯ & 0 & 0 & 0 & 0 & 0 & 0 & 0 & 0 & 0 & 0\\\\\n",
       "\t non functional          & -0.07624876 &  0.6889358 &  0.0000000 & -0.8097433 &  0.81768317 & 0 & 0 & 0 & 1 & ⋯ & 0 & 0 & 0 & 0 & 0 & 0 & 0 & 0 & 0 & 0\\\\\n",
       "\t non functional          &  0.48793255 &  0.6889358 &  0.0000000 & -3.1172670 & -0.08578228 & 0 & 0 & 0 & 1 & ⋯ & 0 & 0 & 0 & 0 & 0 & 0 & 0 & 0 & 0 & 0\\\\\n",
       "\t functional              & -0.08339009 &  0.6889358 &  0.0000000 &  0.3440186 &  0.81768317 & 0 & 0 & 0 & 0 & ⋯ & 1 & 0 & 0 & 0 & 0 & 0 & 0 & 0 & 0 & 0\\\\\n",
       "\t functional              &  0.13555158 & -1.5302158 & -1.4092612 & -3.1172670 &  0.81768317 & 0 & 0 & 0 & 0 & ⋯ & 0 & 0 & 0 & 0 & 0 & 0 & 1 & 0 & 0 & 0\\\\\n",
       "\t functional              & -0.07262067 & -1.5302158 &  0.9750546 &  0.3440186 & -0.98924773 & 0 & 1 & 0 & 0 & ⋯ & 0 & 0 & 0 & 0 & 0 & 0 & 0 & 0 & 0 & 0\\\\\n",
       "\t functional              & -0.61825111 &  0.6889358 & -1.2105682 &  0.3440186 &  0.81768317 & 0 & 0 & 0 & 0 & ⋯ & 0 & 0 & 0 & 0 & 0 & 0 & 0 & 0 & 0 & 0\\\\\n",
       "\t functional              & -0.07624876 &  0.6889358 &  0.0000000 &  0.3440186 &  0.81768317 & 1 & 0 & 0 & 0 & ⋯ & 0 & 0 & 0 & 0 & 0 & 0 & 0 & 0 & 0 & 0\\\\\n",
       "\t non functional          & -0.51087805 &  0.6889358 &  1.8691730 &  0.3440186 & -1.89271317 & 0 & 0 & 0 & 0 & ⋯ & 0 & 0 & 0 & 0 & 0 & 0 & 0 & 0 & 0 & 0\\\\\n",
       "\t functional needs repair &  1.57084450 &  0.6889358 & -0.2171033 & -0.8097433 & -0.98924773 & 0 & 0 & 0 & 0 & ⋯ & 0 & 1 & 0 & 0 & 0 & 0 & 0 & 0 & 0 & 0\\\\\n",
       "\t functional              & -0.61825111 &  0.6889358 &  0.4783221 &  0.3440186 &  0.81768317 & 0 & 1 & 0 & 0 & ⋯ & 0 & 0 & 0 & 0 & 0 & 0 & 0 & 0 & 0 & 0\\\\\n",
       "\t functional              & -0.07624876 & -1.5302158 &  0.0000000 &  0.0000000 &  0.00000000 & 0 & 0 & 0 & 0 & ⋯ & 0 & 0 & 0 & 0 & 0 & 0 & 0 & 0 & 0 & 0\\\\\n",
       "\t functional              & -0.27860164 &  0.6889358 & -1.2105682 &  0.3440186 &  0.81768317 & 0 & 0 & 0 & 1 & ⋯ & 0 & 0 & 0 & 0 & 0 & 0 & 0 & 0 & 0 & 0\\\\\n",
       "\t functional needs repair & -0.31366223 &  0.6889358 &  2.2665590 &  0.3440186 &  0.81768317 & 0 & 0 & 0 & 0 & ⋯ & 0 & 0 & 0 & 0 & 0 & 0 & 0 & 0 & 0 & 0\\\\\n",
       "\t functional              & -0.05070781 & -1.5302158 & -1.4092612 &  0.3440186 &  0.81768317 & 0 & 0 & 0 & 0 & ⋯ & 0 & 0 & 0 & 0 & 0 & 0 & 0 & 1 & 0 & 0\\\\\n",
       "\t non functional          & -0.61825111 &  0.6889358 & -0.3164498 &  0.3440186 & -0.98924773 & 0 & 0 & 0 & 0 & ⋯ & 0 & 0 & 0 & 0 & 0 & 0 & 0 & 0 & 0 & 0\\\\\n",
       "\t functional              & -0.35555295 &  0.6889358 &  0.0000000 &  0.3440186 & -0.98924773 & 0 & 0 & 0 & 0 & ⋯ & 0 & 0 & 0 & 0 & 0 & 0 & 0 & 0 & 0 & 0\\\\\n",
       "\t functional needs repair & -0.22601076 &  0.6889358 &  2.4652519 &  0.3440186 & -0.98924773 & 0 & 0 & 0 & 0 & ⋯ & 0 & 0 & 0 & 0 & 0 & 0 & 0 & 0 & 0 & 0\\\\\n",
       "\t functional              & -0.46705232 & -1.5302158 &  0.4783221 &  0.3440186 & -0.08578228 & 0 & 1 & 0 & 0 & ⋯ & 0 & 0 & 0 & 0 & 0 & 0 & 0 & 0 & 0 & 0\\\\\n",
       "\t functional              & -0.40131371 & -1.5302158 &  0.0000000 & -3.1172670 &  0.81768317 & 0 & 0 & 0 & 0 & ⋯ & 0 & 0 & 0 & 0 & 0 & 0 & 1 & 0 & 0 & 0\\\\\n",
       "\t non functional          &  0.20251462 &  0.6889358 &  0.0000000 &  0.3440186 & -1.89271317 & 0 & 1 & 0 & 0 & ⋯ & 0 & 0 & 0 & 0 & 0 & 0 & 0 & 0 & 0 & 0\\\\\n",
       "\t functional              & -0.35555295 & -1.5302158 &  0.0000000 &  0.3440186 &  0.81768317 & 1 & 0 & 0 & 0 & ⋯ & 0 & 0 & 0 & 0 & 0 & 0 & 0 & 0 & 0 & 0\\\\\n",
       "\t non functional          & -0.11644641 & -1.5302158 & -0.5151428 &  0.3440186 & -0.08578228 & 0 & 0 & 0 & 1 & ⋯ & 0 & 0 & 0 & 0 & 0 & 0 & 0 & 0 & 0 & 0\\\\\n",
       "\t functional              & -0.51087805 &  0.6889358 & -1.1112217 &  0.3440186 &  0.81768317 & 0 & 0 & 0 & 0 & ⋯ & 0 & 0 & 0 & 0 & 0 & 0 & 0 & 0 & 0 & 0\\\\\n",
       "\t functional              & -0.38871844 & -1.5302158 &  1.0744011 &  0.3440186 &  0.81768317 & 0 & 1 & 0 & 0 & ⋯ & 0 & 0 & 0 & 0 & 0 & 0 & 0 & 0 & 0 & 0\\\\\n",
       "\t functional              & -0.07262067 &  0.6889358 & -1.4092612 &  0.3440186 &  0.81768317 & 0 & 0 & 0 & 0 & ⋯ & 0 & 0 & 0 & 0 & 0 & 0 & 0 & 0 & 0 & 0\\\\\n",
       "\t functional needs repair & -0.40131371 &  0.6889358 & -0.3164498 &  0.3440186 & -0.98924773 & 0 & 0 & 0 & 0 & ⋯ & 0 & 0 & 0 & 0 & 0 & 0 & 0 & 0 & 0 & 0\\\\\n",
       "\t ⋮ & ⋮ & ⋮ & ⋮ & ⋮ & ⋮ & ⋮ & ⋮ & ⋮ & ⋮ & ⋱ & ⋮ & ⋮ & ⋮ & ⋮ & ⋮ & ⋮ & ⋮ & ⋮ & ⋮ & ⋮\\\\\n",
       "\t functional     & -0.48896519 & -1.5302158 & -1.0118752 &  0.3440186 & -0.9892477 & 0 & 1 & 0 & 0 & ⋯ & 0 & 0 & 0 & 0 & 0 & 0 & 0 & 0 & 0 & 0\\\\\n",
       "\t functional     & -0.35748797 &  0.6889358 & -1.4092612 &  0.3440186 &  0.8176832 & 1 & 0 & 0 & 0 & ⋯ & 0 & 0 & 0 & 0 & 0 & 0 & 0 & 0 & 0 & 0\\\\\n",
       "\t functional     & -0.08339009 &  0.6889358 &  0.0000000 &  0.3440186 &  0.8176832 & 0 & 0 & 0 & 0 & ⋯ & 1 & 0 & 0 & 0 & 0 & 0 & 0 & 0 & 0 & 0\\\\\n",
       "\t functional     & -0.18218502 &  0.0000000 & -0.3164498 &  0.3440186 & -0.9892477 & 1 & 0 & 0 & 0 & ⋯ & 0 & 0 & 0 & 0 & 0 & 0 & 0 & 0 & 0 & 0\\\\\n",
       "\t functional     & -0.38871844 & -1.5302158 &  2.0678660 &  0.3440186 &  0.8176832 & 0 & 1 & 0 & 0 & ⋯ & 0 & 0 & 0 & 0 & 0 & 0 & 0 & 0 & 0 & 0\\\\\n",
       "\t functional     & -0.35555295 &  0.6889358 &  0.0000000 &  0.3440186 &  0.8176832 & 0 & 0 & 0 & 0 & ⋯ & 0 & 0 & 0 & 0 & 0 & 0 & 0 & 0 & 0 & 0\\\\\n",
       "\t functional     &  0.20251462 & -1.5302158 &  0.0000000 &  0.3440186 &  0.8176832 & 0 & 1 & 0 & 0 & ⋯ & 0 & 0 & 0 & 0 & 0 & 0 & 0 & 0 & 0 & 0\\\\\n",
       "\t functional     & -0.61825111 & -1.5302158 &  0.0000000 &  0.0000000 &  0.0000000 & 0 & 0 & 0 & 1 & ⋯ & 0 & 0 & 0 & 0 & 0 & 0 & 0 & 0 & 0 & 0\\\\\n",
       "\t non functional & -0.07624876 & -1.5302158 &  0.0000000 &  0.3440186 &  0.8176832 & 0 & 0 & 0 & 0 & ⋯ & 0 & 0 & 0 & 0 & 0 & 0 & 0 & 0 & 0 & 0\\\\\n",
       "\t non functional &  0.48793255 &  0.6889358 &  0.0000000 & -3.1172670 & -0.9892477 & 0 & 0 & 0 & 1 & ⋯ & 0 & 0 & 0 & 0 & 0 & 0 & 0 & 0 & 0 & 0\\\\\n",
       "\t functional     & -0.41007886 &  0.6889358 &  0.8757081 &  0.3440186 &  0.8176832 & 0 & 0 & 1 & 0 & ⋯ & 0 & 0 & 0 & 0 & 0 & 0 & 0 & 0 & 0 & 0\\\\\n",
       "\t functional     & -0.07624876 & -1.5302158 &  0.0000000 &  0.3440186 &  0.8176832 & 0 & 0 & 0 & 0 & ⋯ & 0 & 0 & 0 & 0 & 0 & 0 & 0 & 0 & 0 & 0\\\\\n",
       "\t functional     &  0.71405132 &  0.6889358 & -0.8131823 &  0.3440186 &  0.8176832 & 0 & 0 & 0 & 0 & ⋯ & 0 & 0 & 0 & 0 & 0 & 0 & 0 & 0 & 0 & 0\\\\\n",
       "\t non functional &  0.48793255 & -1.5302158 &  0.0000000 &  0.3440186 & -0.9892477 & 1 & 0 & 0 & 0 & ⋯ & 0 & 0 & 0 & 0 & 0 & 0 & 0 & 0 & 0 & 0\\\\\n",
       "\t functional     & -0.54155607 &  0.6889358 & -1.1112217 &  0.3440186 &  0.8176832 & 0 & 0 & 0 & 0 & ⋯ & 0 & 0 & 0 & 0 & 0 & 0 & 0 & 0 & 0 & 0\\\\\n",
       "\t functional     & -0.08339009 &  0.6889358 &  0.0000000 &  0.3440186 &  0.8176832 & 0 & 0 & 0 & 0 & ⋯ & 1 & 0 & 0 & 0 & 0 & 0 & 0 & 0 & 0 & 0\\\\\n",
       "\t non functional & -0.51087805 & -1.5302158 & -0.2171033 &  0.3440186 & -1.8927132 & 0 & 1 & 0 & 0 & ⋯ & 0 & 0 & 0 & 0 & 0 & 0 & 0 & 0 & 0 & 0\\\\\n",
       "\t non functional &  0.16842088 &  0.6889358 &  0.4783221 &  0.3440186 & -0.9892477 & 0 & 0 & 0 & 0 & ⋯ & 0 & 0 & 0 & 0 & 0 & 0 & 0 & 0 & 0 & 0\\\\\n",
       "\t non functional & -0.61825111 &  0.6889358 & -1.1112217 &  0.3440186 &  0.8176832 & 0 & 0 & 0 & 0 & ⋯ & 0 & 0 & 0 & 0 & 0 & 0 & 0 & 0 & 0 & 0\\\\\n",
       "\t functional     &  1.13258712 &  0.6889358 & -1.1112217 &  0.3440186 &  0.8176832 & 0 & 0 & 0 & 0 & ⋯ & 0 & 0 & 0 & 0 & 0 & 0 & 0 & 1 & 0 & 0\\\\\n",
       "\t functional     &  1.57084450 & -1.5302158 & -1.2105682 &  0.3440186 &  0.8176832 & 0 & 0 & 1 & 0 & ⋯ & 0 & 0 & 0 & 0 & 0 & 0 & 0 & 0 & 0 & 0\\\\\n",
       "\t functional     &  0.47520105 &  0.6889358 &  0.1802826 &  0.3440186 & -0.9892477 & 0 & 0 & 0 & 1 & ⋯ & 0 & 0 & 0 & 0 & 0 & 0 & 0 & 0 & 0 & 0\\\\\n",
       "\t functional     &  2.66648795 & -1.5302158 & -1.2105682 &  0.3440186 &  0.8176832 & 0 & 0 & 0 & 1 & ⋯ & 0 & 0 & 0 & 0 & 0 & 0 & 0 & 0 & 0 & 0\\\\\n",
       "\t functional     & -0.29174936 & -1.5302158 &  0.5776686 &  0.3440186 & -0.9892477 & 0 & 0 & 0 & 1 & ⋯ & 0 & 0 & 0 & 0 & 0 & 0 & 0 & 0 & 0 & 0\\\\\n",
       "\t non functional & -0.16027215 &  0.6889358 &  2.9619844 &  0.3440186 &  0.8176832 & 0 & 0 & 0 & 0 & ⋯ & 0 & 0 & 0 & 0 & 0 & 0 & 0 & 0 & 0 & 0\\\\\n",
       "\t non functional &  0.20251462 &  0.6889358 &  0.0000000 &  0.3440186 &  0.8176832 & 0 & 0 & 1 & 0 & ⋯ & 0 & 0 & 0 & 0 & 0 & 0 & 0 & 0 & 0 & 0\\\\\n",
       "\t functional     &  0.48793255 & -1.5302158 &  0.0000000 &  0.3440186 & -0.9892477 & 1 & 0 & 0 & 0 & ⋯ & 0 & 0 & 0 & 0 & 0 & 0 & 0 & 0 & 0 & 0\\\\\n",
       "\t functional     & -0.34653154 &  0.6889358 & -0.2171033 &  0.3440186 &  0.8176832 & 0 & 0 & 0 & 0 & ⋯ & 0 & 0 & 0 & 0 & 0 & 0 & 0 & 0 & 0 & 0\\\\\n",
       "\t functional     &  0.20251462 & -1.5302158 &  0.0000000 &  1.4977804 &  0.8176832 & 0 & 0 & 0 & 0 & ⋯ & 0 & 0 & 0 & 0 & 0 & 0 & 0 & 0 & 0 & 0\\\\\n",
       "\t functional     & -0.35555295 &  0.6889358 &  0.0000000 &  0.3440186 & -0.9892477 & 0 & 0 & 0 & 0 & ⋯ & 0 & 0 & 0 & 0 & 0 & 0 & 0 & 0 & 0 & 0\\\\\n",
       "\\end{tabular}\n"
      ],
      "text/markdown": [
       "\n",
       "A data.frame: 47289 × 81\n",
       "\n",
       "| id &lt;fct&gt; | population &lt;dbl&gt; | permit &lt;dbl&gt; | construction_year &lt;dbl&gt; | quality_group &lt;dbl&gt; | quantity &lt;dbl&gt; | Internal &lt;int&gt; | Lake.Nyasa &lt;int&gt; | Lake.Rukwa &lt;int&gt; | Lake.Tanganyika &lt;int&gt; | ⋯ ⋯ | X18 &lt;int&gt; | X19 &lt;int&gt; | X20 &lt;int&gt; | X21 &lt;int&gt; | X24 &lt;int&gt; | X40 &lt;int&gt; | X60 &lt;int&gt; | X80 &lt;int&gt; | X90 &lt;int&gt; | X99 &lt;int&gt; |\n",
       "|---|---|---|---|---|---|---|---|---|---|---|---|---|---|---|---|---|---|---|---|---|\n",
       "| functional              | -0.07262067 |  0.6889358 | -1.2105682 |  0.3440186 |  0.81768317 | 0 | 0 | 0 | 0 | ⋯ | 0 | 0 | 0 | 1 | 0 | 0 | 0 | 0 | 0 | 0 |\n",
       "| functional              | -0.08339009 |  0.6889358 |  0.0000000 |  0.3440186 | -0.08578228 | 0 | 0 | 0 | 0 | ⋯ | 1 | 0 | 0 | 0 | 0 | 0 | 0 | 0 | 0 | 0 |\n",
       "| functional              | -0.61825111 |  0.6889358 | -1.2105682 | -3.1172670 |  0.81768317 | 0 | 0 | 0 | 0 | ⋯ | 0 | 0 | 0 | 0 | 0 | 0 | 0 | 0 | 0 | 0 |\n",
       "| non functional          | -0.07624876 |  0.6889358 |  0.0000000 |  0.3440186 |  0.81768317 | 1 | 0 | 0 | 0 | ⋯ | 0 | 0 | 0 | 0 | 0 | 0 | 0 | 0 | 0 | 0 |\n",
       "| non functional          | -0.07624876 |  0.6889358 |  0.0000000 | -0.8097433 |  0.81768317 | 0 | 0 | 0 | 1 | ⋯ | 0 | 0 | 0 | 0 | 0 | 0 | 0 | 0 | 0 | 0 |\n",
       "| non functional          |  0.48793255 |  0.6889358 |  0.0000000 | -3.1172670 | -0.08578228 | 0 | 0 | 0 | 1 | ⋯ | 0 | 0 | 0 | 0 | 0 | 0 | 0 | 0 | 0 | 0 |\n",
       "| functional              | -0.08339009 |  0.6889358 |  0.0000000 |  0.3440186 |  0.81768317 | 0 | 0 | 0 | 0 | ⋯ | 1 | 0 | 0 | 0 | 0 | 0 | 0 | 0 | 0 | 0 |\n",
       "| functional              |  0.13555158 | -1.5302158 | -1.4092612 | -3.1172670 |  0.81768317 | 0 | 0 | 0 | 0 | ⋯ | 0 | 0 | 0 | 0 | 0 | 0 | 1 | 0 | 0 | 0 |\n",
       "| functional              | -0.07262067 | -1.5302158 |  0.9750546 |  0.3440186 | -0.98924773 | 0 | 1 | 0 | 0 | ⋯ | 0 | 0 | 0 | 0 | 0 | 0 | 0 | 0 | 0 | 0 |\n",
       "| functional              | -0.61825111 |  0.6889358 | -1.2105682 |  0.3440186 |  0.81768317 | 0 | 0 | 0 | 0 | ⋯ | 0 | 0 | 0 | 0 | 0 | 0 | 0 | 0 | 0 | 0 |\n",
       "| functional              | -0.07624876 |  0.6889358 |  0.0000000 |  0.3440186 |  0.81768317 | 1 | 0 | 0 | 0 | ⋯ | 0 | 0 | 0 | 0 | 0 | 0 | 0 | 0 | 0 | 0 |\n",
       "| non functional          | -0.51087805 |  0.6889358 |  1.8691730 |  0.3440186 | -1.89271317 | 0 | 0 | 0 | 0 | ⋯ | 0 | 0 | 0 | 0 | 0 | 0 | 0 | 0 | 0 | 0 |\n",
       "| functional needs repair |  1.57084450 |  0.6889358 | -0.2171033 | -0.8097433 | -0.98924773 | 0 | 0 | 0 | 0 | ⋯ | 0 | 1 | 0 | 0 | 0 | 0 | 0 | 0 | 0 | 0 |\n",
       "| functional              | -0.61825111 |  0.6889358 |  0.4783221 |  0.3440186 |  0.81768317 | 0 | 1 | 0 | 0 | ⋯ | 0 | 0 | 0 | 0 | 0 | 0 | 0 | 0 | 0 | 0 |\n",
       "| functional              | -0.07624876 | -1.5302158 |  0.0000000 |  0.0000000 |  0.00000000 | 0 | 0 | 0 | 0 | ⋯ | 0 | 0 | 0 | 0 | 0 | 0 | 0 | 0 | 0 | 0 |\n",
       "| functional              | -0.27860164 |  0.6889358 | -1.2105682 |  0.3440186 |  0.81768317 | 0 | 0 | 0 | 1 | ⋯ | 0 | 0 | 0 | 0 | 0 | 0 | 0 | 0 | 0 | 0 |\n",
       "| functional needs repair | -0.31366223 |  0.6889358 |  2.2665590 |  0.3440186 |  0.81768317 | 0 | 0 | 0 | 0 | ⋯ | 0 | 0 | 0 | 0 | 0 | 0 | 0 | 0 | 0 | 0 |\n",
       "| functional              | -0.05070781 | -1.5302158 | -1.4092612 |  0.3440186 |  0.81768317 | 0 | 0 | 0 | 0 | ⋯ | 0 | 0 | 0 | 0 | 0 | 0 | 0 | 1 | 0 | 0 |\n",
       "| non functional          | -0.61825111 |  0.6889358 | -0.3164498 |  0.3440186 | -0.98924773 | 0 | 0 | 0 | 0 | ⋯ | 0 | 0 | 0 | 0 | 0 | 0 | 0 | 0 | 0 | 0 |\n",
       "| functional              | -0.35555295 |  0.6889358 |  0.0000000 |  0.3440186 | -0.98924773 | 0 | 0 | 0 | 0 | ⋯ | 0 | 0 | 0 | 0 | 0 | 0 | 0 | 0 | 0 | 0 |\n",
       "| functional needs repair | -0.22601076 |  0.6889358 |  2.4652519 |  0.3440186 | -0.98924773 | 0 | 0 | 0 | 0 | ⋯ | 0 | 0 | 0 | 0 | 0 | 0 | 0 | 0 | 0 | 0 |\n",
       "| functional              | -0.46705232 | -1.5302158 |  0.4783221 |  0.3440186 | -0.08578228 | 0 | 1 | 0 | 0 | ⋯ | 0 | 0 | 0 | 0 | 0 | 0 | 0 | 0 | 0 | 0 |\n",
       "| functional              | -0.40131371 | -1.5302158 |  0.0000000 | -3.1172670 |  0.81768317 | 0 | 0 | 0 | 0 | ⋯ | 0 | 0 | 0 | 0 | 0 | 0 | 1 | 0 | 0 | 0 |\n",
       "| non functional          |  0.20251462 |  0.6889358 |  0.0000000 |  0.3440186 | -1.89271317 | 0 | 1 | 0 | 0 | ⋯ | 0 | 0 | 0 | 0 | 0 | 0 | 0 | 0 | 0 | 0 |\n",
       "| functional              | -0.35555295 | -1.5302158 |  0.0000000 |  0.3440186 |  0.81768317 | 1 | 0 | 0 | 0 | ⋯ | 0 | 0 | 0 | 0 | 0 | 0 | 0 | 0 | 0 | 0 |\n",
       "| non functional          | -0.11644641 | -1.5302158 | -0.5151428 |  0.3440186 | -0.08578228 | 0 | 0 | 0 | 1 | ⋯ | 0 | 0 | 0 | 0 | 0 | 0 | 0 | 0 | 0 | 0 |\n",
       "| functional              | -0.51087805 |  0.6889358 | -1.1112217 |  0.3440186 |  0.81768317 | 0 | 0 | 0 | 0 | ⋯ | 0 | 0 | 0 | 0 | 0 | 0 | 0 | 0 | 0 | 0 |\n",
       "| functional              | -0.38871844 | -1.5302158 |  1.0744011 |  0.3440186 |  0.81768317 | 0 | 1 | 0 | 0 | ⋯ | 0 | 0 | 0 | 0 | 0 | 0 | 0 | 0 | 0 | 0 |\n",
       "| functional              | -0.07262067 |  0.6889358 | -1.4092612 |  0.3440186 |  0.81768317 | 0 | 0 | 0 | 0 | ⋯ | 0 | 0 | 0 | 0 | 0 | 0 | 0 | 0 | 0 | 0 |\n",
       "| functional needs repair | -0.40131371 |  0.6889358 | -0.3164498 |  0.3440186 | -0.98924773 | 0 | 0 | 0 | 0 | ⋯ | 0 | 0 | 0 | 0 | 0 | 0 | 0 | 0 | 0 | 0 |\n",
       "| ⋮ | ⋮ | ⋮ | ⋮ | ⋮ | ⋮ | ⋮ | ⋮ | ⋮ | ⋮ | ⋱ | ⋮ | ⋮ | ⋮ | ⋮ | ⋮ | ⋮ | ⋮ | ⋮ | ⋮ | ⋮ |\n",
       "| functional     | -0.48896519 | -1.5302158 | -1.0118752 |  0.3440186 | -0.9892477 | 0 | 1 | 0 | 0 | ⋯ | 0 | 0 | 0 | 0 | 0 | 0 | 0 | 0 | 0 | 0 |\n",
       "| functional     | -0.35748797 |  0.6889358 | -1.4092612 |  0.3440186 |  0.8176832 | 1 | 0 | 0 | 0 | ⋯ | 0 | 0 | 0 | 0 | 0 | 0 | 0 | 0 | 0 | 0 |\n",
       "| functional     | -0.08339009 |  0.6889358 |  0.0000000 |  0.3440186 |  0.8176832 | 0 | 0 | 0 | 0 | ⋯ | 1 | 0 | 0 | 0 | 0 | 0 | 0 | 0 | 0 | 0 |\n",
       "| functional     | -0.18218502 |  0.0000000 | -0.3164498 |  0.3440186 | -0.9892477 | 1 | 0 | 0 | 0 | ⋯ | 0 | 0 | 0 | 0 | 0 | 0 | 0 | 0 | 0 | 0 |\n",
       "| functional     | -0.38871844 | -1.5302158 |  2.0678660 |  0.3440186 |  0.8176832 | 0 | 1 | 0 | 0 | ⋯ | 0 | 0 | 0 | 0 | 0 | 0 | 0 | 0 | 0 | 0 |\n",
       "| functional     | -0.35555295 |  0.6889358 |  0.0000000 |  0.3440186 |  0.8176832 | 0 | 0 | 0 | 0 | ⋯ | 0 | 0 | 0 | 0 | 0 | 0 | 0 | 0 | 0 | 0 |\n",
       "| functional     |  0.20251462 | -1.5302158 |  0.0000000 |  0.3440186 |  0.8176832 | 0 | 1 | 0 | 0 | ⋯ | 0 | 0 | 0 | 0 | 0 | 0 | 0 | 0 | 0 | 0 |\n",
       "| functional     | -0.61825111 | -1.5302158 |  0.0000000 |  0.0000000 |  0.0000000 | 0 | 0 | 0 | 1 | ⋯ | 0 | 0 | 0 | 0 | 0 | 0 | 0 | 0 | 0 | 0 |\n",
       "| non functional | -0.07624876 | -1.5302158 |  0.0000000 |  0.3440186 |  0.8176832 | 0 | 0 | 0 | 0 | ⋯ | 0 | 0 | 0 | 0 | 0 | 0 | 0 | 0 | 0 | 0 |\n",
       "| non functional |  0.48793255 |  0.6889358 |  0.0000000 | -3.1172670 | -0.9892477 | 0 | 0 | 0 | 1 | ⋯ | 0 | 0 | 0 | 0 | 0 | 0 | 0 | 0 | 0 | 0 |\n",
       "| functional     | -0.41007886 |  0.6889358 |  0.8757081 |  0.3440186 |  0.8176832 | 0 | 0 | 1 | 0 | ⋯ | 0 | 0 | 0 | 0 | 0 | 0 | 0 | 0 | 0 | 0 |\n",
       "| functional     | -0.07624876 | -1.5302158 |  0.0000000 |  0.3440186 |  0.8176832 | 0 | 0 | 0 | 0 | ⋯ | 0 | 0 | 0 | 0 | 0 | 0 | 0 | 0 | 0 | 0 |\n",
       "| functional     |  0.71405132 |  0.6889358 | -0.8131823 |  0.3440186 |  0.8176832 | 0 | 0 | 0 | 0 | ⋯ | 0 | 0 | 0 | 0 | 0 | 0 | 0 | 0 | 0 | 0 |\n",
       "| non functional |  0.48793255 | -1.5302158 |  0.0000000 |  0.3440186 | -0.9892477 | 1 | 0 | 0 | 0 | ⋯ | 0 | 0 | 0 | 0 | 0 | 0 | 0 | 0 | 0 | 0 |\n",
       "| functional     | -0.54155607 |  0.6889358 | -1.1112217 |  0.3440186 |  0.8176832 | 0 | 0 | 0 | 0 | ⋯ | 0 | 0 | 0 | 0 | 0 | 0 | 0 | 0 | 0 | 0 |\n",
       "| functional     | -0.08339009 |  0.6889358 |  0.0000000 |  0.3440186 |  0.8176832 | 0 | 0 | 0 | 0 | ⋯ | 1 | 0 | 0 | 0 | 0 | 0 | 0 | 0 | 0 | 0 |\n",
       "| non functional | -0.51087805 | -1.5302158 | -0.2171033 |  0.3440186 | -1.8927132 | 0 | 1 | 0 | 0 | ⋯ | 0 | 0 | 0 | 0 | 0 | 0 | 0 | 0 | 0 | 0 |\n",
       "| non functional |  0.16842088 |  0.6889358 |  0.4783221 |  0.3440186 | -0.9892477 | 0 | 0 | 0 | 0 | ⋯ | 0 | 0 | 0 | 0 | 0 | 0 | 0 | 0 | 0 | 0 |\n",
       "| non functional | -0.61825111 |  0.6889358 | -1.1112217 |  0.3440186 |  0.8176832 | 0 | 0 | 0 | 0 | ⋯ | 0 | 0 | 0 | 0 | 0 | 0 | 0 | 0 | 0 | 0 |\n",
       "| functional     |  1.13258712 |  0.6889358 | -1.1112217 |  0.3440186 |  0.8176832 | 0 | 0 | 0 | 0 | ⋯ | 0 | 0 | 0 | 0 | 0 | 0 | 0 | 1 | 0 | 0 |\n",
       "| functional     |  1.57084450 | -1.5302158 | -1.2105682 |  0.3440186 |  0.8176832 | 0 | 0 | 1 | 0 | ⋯ | 0 | 0 | 0 | 0 | 0 | 0 | 0 | 0 | 0 | 0 |\n",
       "| functional     |  0.47520105 |  0.6889358 |  0.1802826 |  0.3440186 | -0.9892477 | 0 | 0 | 0 | 1 | ⋯ | 0 | 0 | 0 | 0 | 0 | 0 | 0 | 0 | 0 | 0 |\n",
       "| functional     |  2.66648795 | -1.5302158 | -1.2105682 |  0.3440186 |  0.8176832 | 0 | 0 | 0 | 1 | ⋯ | 0 | 0 | 0 | 0 | 0 | 0 | 0 | 0 | 0 | 0 |\n",
       "| functional     | -0.29174936 | -1.5302158 |  0.5776686 |  0.3440186 | -0.9892477 | 0 | 0 | 0 | 1 | ⋯ | 0 | 0 | 0 | 0 | 0 | 0 | 0 | 0 | 0 | 0 |\n",
       "| non functional | -0.16027215 |  0.6889358 |  2.9619844 |  0.3440186 |  0.8176832 | 0 | 0 | 0 | 0 | ⋯ | 0 | 0 | 0 | 0 | 0 | 0 | 0 | 0 | 0 | 0 |\n",
       "| non functional |  0.20251462 |  0.6889358 |  0.0000000 |  0.3440186 |  0.8176832 | 0 | 0 | 1 | 0 | ⋯ | 0 | 0 | 0 | 0 | 0 | 0 | 0 | 0 | 0 | 0 |\n",
       "| functional     |  0.48793255 | -1.5302158 |  0.0000000 |  0.3440186 | -0.9892477 | 1 | 0 | 0 | 0 | ⋯ | 0 | 0 | 0 | 0 | 0 | 0 | 0 | 0 | 0 | 0 |\n",
       "| functional     | -0.34653154 |  0.6889358 | -0.2171033 |  0.3440186 |  0.8176832 | 0 | 0 | 0 | 0 | ⋯ | 0 | 0 | 0 | 0 | 0 | 0 | 0 | 0 | 0 | 0 |\n",
       "| functional     |  0.20251462 | -1.5302158 |  0.0000000 |  1.4977804 |  0.8176832 | 0 | 0 | 0 | 0 | ⋯ | 0 | 0 | 0 | 0 | 0 | 0 | 0 | 0 | 0 | 0 |\n",
       "| functional     | -0.35555295 |  0.6889358 |  0.0000000 |  0.3440186 | -0.9892477 | 0 | 0 | 0 | 0 | ⋯ | 0 | 0 | 0 | 0 | 0 | 0 | 0 | 0 | 0 | 0 |\n",
       "\n"
      ],
      "text/plain": [
       "      id                      population  permit     construction_year\n",
       "1     functional              -0.07262067  0.6889358 -1.2105682       \n",
       "2     functional              -0.08339009  0.6889358  0.0000000       \n",
       "3     functional              -0.61825111  0.6889358 -1.2105682       \n",
       "4     non functional          -0.07624876  0.6889358  0.0000000       \n",
       "5     non functional          -0.07624876  0.6889358  0.0000000       \n",
       "6     non functional           0.48793255  0.6889358  0.0000000       \n",
       "7     functional              -0.08339009  0.6889358  0.0000000       \n",
       "8     functional               0.13555158 -1.5302158 -1.4092612       \n",
       "9     functional              -0.07262067 -1.5302158  0.9750546       \n",
       "10    functional              -0.61825111  0.6889358 -1.2105682       \n",
       "11    functional              -0.07624876  0.6889358  0.0000000       \n",
       "12    non functional          -0.51087805  0.6889358  1.8691730       \n",
       "13    functional needs repair  1.57084450  0.6889358 -0.2171033       \n",
       "14    functional              -0.61825111  0.6889358  0.4783221       \n",
       "15    functional              -0.07624876 -1.5302158  0.0000000       \n",
       "16    functional              -0.27860164  0.6889358 -1.2105682       \n",
       "17    functional needs repair -0.31366223  0.6889358  2.2665590       \n",
       "18    functional              -0.05070781 -1.5302158 -1.4092612       \n",
       "19    non functional          -0.61825111  0.6889358 -0.3164498       \n",
       "20    functional              -0.35555295  0.6889358  0.0000000       \n",
       "21    functional needs repair -0.22601076  0.6889358  2.4652519       \n",
       "22    functional              -0.46705232 -1.5302158  0.4783221       \n",
       "23    functional              -0.40131371 -1.5302158  0.0000000       \n",
       "24    non functional           0.20251462  0.6889358  0.0000000       \n",
       "25    functional              -0.35555295 -1.5302158  0.0000000       \n",
       "26    non functional          -0.11644641 -1.5302158 -0.5151428       \n",
       "27    functional              -0.51087805  0.6889358 -1.1112217       \n",
       "28    functional              -0.38871844 -1.5302158  1.0744011       \n",
       "29    functional              -0.07262067  0.6889358 -1.4092612       \n",
       "30    functional needs repair -0.40131371  0.6889358 -0.3164498       \n",
       "⋮     ⋮                       ⋮           ⋮          ⋮                \n",
       "47260 functional              -0.48896519 -1.5302158 -1.0118752       \n",
       "47261 functional              -0.35748797  0.6889358 -1.4092612       \n",
       "47262 functional              -0.08339009  0.6889358  0.0000000       \n",
       "47263 functional              -0.18218502  0.0000000 -0.3164498       \n",
       "47264 functional              -0.38871844 -1.5302158  2.0678660       \n",
       "47265 functional              -0.35555295  0.6889358  0.0000000       \n",
       "47266 functional               0.20251462 -1.5302158  0.0000000       \n",
       "47267 functional              -0.61825111 -1.5302158  0.0000000       \n",
       "47268 non functional          -0.07624876 -1.5302158  0.0000000       \n",
       "47269 non functional           0.48793255  0.6889358  0.0000000       \n",
       "47270 functional              -0.41007886  0.6889358  0.8757081       \n",
       "47271 functional              -0.07624876 -1.5302158  0.0000000       \n",
       "47272 functional               0.71405132  0.6889358 -0.8131823       \n",
       "47273 non functional           0.48793255 -1.5302158  0.0000000       \n",
       "47274 functional              -0.54155607  0.6889358 -1.1112217       \n",
       "47275 functional              -0.08339009  0.6889358  0.0000000       \n",
       "47276 non functional          -0.51087805 -1.5302158 -0.2171033       \n",
       "47277 non functional           0.16842088  0.6889358  0.4783221       \n",
       "47278 non functional          -0.61825111  0.6889358 -1.1112217       \n",
       "47279 functional               1.13258712  0.6889358 -1.1112217       \n",
       "47280 functional               1.57084450 -1.5302158 -1.2105682       \n",
       "47281 functional               0.47520105  0.6889358  0.1802826       \n",
       "47282 functional               2.66648795 -1.5302158 -1.2105682       \n",
       "47283 functional              -0.29174936 -1.5302158  0.5776686       \n",
       "47284 non functional          -0.16027215  0.6889358  2.9619844       \n",
       "47285 non functional           0.20251462  0.6889358  0.0000000       \n",
       "47286 functional               0.48793255 -1.5302158  0.0000000       \n",
       "47287 functional              -0.34653154  0.6889358 -0.2171033       \n",
       "47288 functional               0.20251462 -1.5302158  0.0000000       \n",
       "47289 functional              -0.35555295  0.6889358  0.0000000       \n",
       "      quality_group quantity    Internal Lake.Nyasa Lake.Rukwa Lake.Tanganyika\n",
       "1      0.3440186     0.81768317 0        0          0          0              \n",
       "2      0.3440186    -0.08578228 0        0          0          0              \n",
       "3     -3.1172670     0.81768317 0        0          0          0              \n",
       "4      0.3440186     0.81768317 1        0          0          0              \n",
       "5     -0.8097433     0.81768317 0        0          0          1              \n",
       "6     -3.1172670    -0.08578228 0        0          0          1              \n",
       "7      0.3440186     0.81768317 0        0          0          0              \n",
       "8     -3.1172670     0.81768317 0        0          0          0              \n",
       "9      0.3440186    -0.98924773 0        1          0          0              \n",
       "10     0.3440186     0.81768317 0        0          0          0              \n",
       "11     0.3440186     0.81768317 1        0          0          0              \n",
       "12     0.3440186    -1.89271317 0        0          0          0              \n",
       "13    -0.8097433    -0.98924773 0        0          0          0              \n",
       "14     0.3440186     0.81768317 0        1          0          0              \n",
       "15     0.0000000     0.00000000 0        0          0          0              \n",
       "16     0.3440186     0.81768317 0        0          0          1              \n",
       "17     0.3440186     0.81768317 0        0          0          0              \n",
       "18     0.3440186     0.81768317 0        0          0          0              \n",
       "19     0.3440186    -0.98924773 0        0          0          0              \n",
       "20     0.3440186    -0.98924773 0        0          0          0              \n",
       "21     0.3440186    -0.98924773 0        0          0          0              \n",
       "22     0.3440186    -0.08578228 0        1          0          0              \n",
       "23    -3.1172670     0.81768317 0        0          0          0              \n",
       "24     0.3440186    -1.89271317 0        1          0          0              \n",
       "25     0.3440186     0.81768317 1        0          0          0              \n",
       "26     0.3440186    -0.08578228 0        0          0          1              \n",
       "27     0.3440186     0.81768317 0        0          0          0              \n",
       "28     0.3440186     0.81768317 0        1          0          0              \n",
       "29     0.3440186     0.81768317 0        0          0          0              \n",
       "30     0.3440186    -0.98924773 0        0          0          0              \n",
       "⋮     ⋮             ⋮           ⋮        ⋮          ⋮          ⋮              \n",
       "47260  0.3440186    -0.9892477  0        1          0          0              \n",
       "47261  0.3440186     0.8176832  1        0          0          0              \n",
       "47262  0.3440186     0.8176832  0        0          0          0              \n",
       "47263  0.3440186    -0.9892477  1        0          0          0              \n",
       "47264  0.3440186     0.8176832  0        1          0          0              \n",
       "47265  0.3440186     0.8176832  0        0          0          0              \n",
       "47266  0.3440186     0.8176832  0        1          0          0              \n",
       "47267  0.0000000     0.0000000  0        0          0          1              \n",
       "47268  0.3440186     0.8176832  0        0          0          0              \n",
       "47269 -3.1172670    -0.9892477  0        0          0          1              \n",
       "47270  0.3440186     0.8176832  0        0          1          0              \n",
       "47271  0.3440186     0.8176832  0        0          0          0              \n",
       "47272  0.3440186     0.8176832  0        0          0          0              \n",
       "47273  0.3440186    -0.9892477  1        0          0          0              \n",
       "47274  0.3440186     0.8176832  0        0          0          0              \n",
       "47275  0.3440186     0.8176832  0        0          0          0              \n",
       "47276  0.3440186    -1.8927132  0        1          0          0              \n",
       "47277  0.3440186    -0.9892477  0        0          0          0              \n",
       "47278  0.3440186     0.8176832  0        0          0          0              \n",
       "47279  0.3440186     0.8176832  0        0          0          0              \n",
       "47280  0.3440186     0.8176832  0        0          1          0              \n",
       "47281  0.3440186    -0.9892477  0        0          0          1              \n",
       "47282  0.3440186     0.8176832  0        0          0          1              \n",
       "47283  0.3440186    -0.9892477  0        0          0          1              \n",
       "47284  0.3440186     0.8176832  0        0          0          0              \n",
       "47285  0.3440186     0.8176832  0        0          1          0              \n",
       "47286  0.3440186    -0.9892477  1        0          0          0              \n",
       "47287  0.3440186     0.8176832  0        0          0          0              \n",
       "47288  1.4977804     0.8176832  0        0          0          0              \n",
       "47289  0.3440186    -0.9892477  0        0          0          0              \n",
       "      ⋯ X18 X19 X20 X21 X24 X40 X60 X80 X90 X99\n",
       "1     ⋯ 0   0   0   1   0   0   0   0   0   0  \n",
       "2     ⋯ 1   0   0   0   0   0   0   0   0   0  \n",
       "3     ⋯ 0   0   0   0   0   0   0   0   0   0  \n",
       "4     ⋯ 0   0   0   0   0   0   0   0   0   0  \n",
       "5     ⋯ 0   0   0   0   0   0   0   0   0   0  \n",
       "6     ⋯ 0   0   0   0   0   0   0   0   0   0  \n",
       "7     ⋯ 1   0   0   0   0   0   0   0   0   0  \n",
       "8     ⋯ 0   0   0   0   0   0   1   0   0   0  \n",
       "9     ⋯ 0   0   0   0   0   0   0   0   0   0  \n",
       "10    ⋯ 0   0   0   0   0   0   0   0   0   0  \n",
       "11    ⋯ 0   0   0   0   0   0   0   0   0   0  \n",
       "12    ⋯ 0   0   0   0   0   0   0   0   0   0  \n",
       "13    ⋯ 0   1   0   0   0   0   0   0   0   0  \n",
       "14    ⋯ 0   0   0   0   0   0   0   0   0   0  \n",
       "15    ⋯ 0   0   0   0   0   0   0   0   0   0  \n",
       "16    ⋯ 0   0   0   0   0   0   0   0   0   0  \n",
       "17    ⋯ 0   0   0   0   0   0   0   0   0   0  \n",
       "18    ⋯ 0   0   0   0   0   0   0   1   0   0  \n",
       "19    ⋯ 0   0   0   0   0   0   0   0   0   0  \n",
       "20    ⋯ 0   0   0   0   0   0   0   0   0   0  \n",
       "21    ⋯ 0   0   0   0   0   0   0   0   0   0  \n",
       "22    ⋯ 0   0   0   0   0   0   0   0   0   0  \n",
       "23    ⋯ 0   0   0   0   0   0   1   0   0   0  \n",
       "24    ⋯ 0   0   0   0   0   0   0   0   0   0  \n",
       "25    ⋯ 0   0   0   0   0   0   0   0   0   0  \n",
       "26    ⋯ 0   0   0   0   0   0   0   0   0   0  \n",
       "27    ⋯ 0   0   0   0   0   0   0   0   0   0  \n",
       "28    ⋯ 0   0   0   0   0   0   0   0   0   0  \n",
       "29    ⋯ 0   0   0   0   0   0   0   0   0   0  \n",
       "30    ⋯ 0   0   0   0   0   0   0   0   0   0  \n",
       "⋮     ⋱ ⋮   ⋮   ⋮   ⋮   ⋮   ⋮   ⋮   ⋮   ⋮   ⋮  \n",
       "47260 ⋯ 0   0   0   0   0   0   0   0   0   0  \n",
       "47261 ⋯ 0   0   0   0   0   0   0   0   0   0  \n",
       "47262 ⋯ 1   0   0   0   0   0   0   0   0   0  \n",
       "47263 ⋯ 0   0   0   0   0   0   0   0   0   0  \n",
       "47264 ⋯ 0   0   0   0   0   0   0   0   0   0  \n",
       "47265 ⋯ 0   0   0   0   0   0   0   0   0   0  \n",
       "47266 ⋯ 0   0   0   0   0   0   0   0   0   0  \n",
       "47267 ⋯ 0   0   0   0   0   0   0   0   0   0  \n",
       "47268 ⋯ 0   0   0   0   0   0   0   0   0   0  \n",
       "47269 ⋯ 0   0   0   0   0   0   0   0   0   0  \n",
       "47270 ⋯ 0   0   0   0   0   0   0   0   0   0  \n",
       "47271 ⋯ 0   0   0   0   0   0   0   0   0   0  \n",
       "47272 ⋯ 0   0   0   0   0   0   0   0   0   0  \n",
       "47273 ⋯ 0   0   0   0   0   0   0   0   0   0  \n",
       "47274 ⋯ 0   0   0   0   0   0   0   0   0   0  \n",
       "47275 ⋯ 1   0   0   0   0   0   0   0   0   0  \n",
       "47276 ⋯ 0   0   0   0   0   0   0   0   0   0  \n",
       "47277 ⋯ 0   0   0   0   0   0   0   0   0   0  \n",
       "47278 ⋯ 0   0   0   0   0   0   0   0   0   0  \n",
       "47279 ⋯ 0   0   0   0   0   0   0   1   0   0  \n",
       "47280 ⋯ 0   0   0   0   0   0   0   0   0   0  \n",
       "47281 ⋯ 0   0   0   0   0   0   0   0   0   0  \n",
       "47282 ⋯ 0   0   0   0   0   0   0   0   0   0  \n",
       "47283 ⋯ 0   0   0   0   0   0   0   0   0   0  \n",
       "47284 ⋯ 0   0   0   0   0   0   0   0   0   0  \n",
       "47285 ⋯ 0   0   0   0   0   0   0   0   0   0  \n",
       "47286 ⋯ 0   0   0   0   0   0   0   0   0   0  \n",
       "47287 ⋯ 0   0   0   0   0   0   0   0   0   0  \n",
       "47288 ⋯ 0   0   0   0   0   0   0   0   0   0  \n",
       "47289 ⋯ 0   0   0   0   0   0   0   0   0   0  "
      ]
     },
     "metadata": {},
     "output_type": "display_data"
    }
   ],
   "source": [
    "training_set$id <- factor(training_set$id)\n",
    "training_set"
   ]
  },
  {
   "cell_type": "markdown",
   "id": "static-documentation",
   "metadata": {},
   "source": [
    "## SVM Hyperparameters\n",
    "\n",
    "The svm classifier has multiples parameters such as:\n",
    "\n",
    "* Kernel type, linear, polynomial, radial_based, sigmoid. Changes the shape of the diving surface\n",
    "* Degree, needed if polynomial.\n",
    "* Gamma, affects the shape of the surface, needed if not linear\n",
    "* coef0, needed in polynomial and sigmoid\n",
    "* cost, cost of constraint violation\n",
    "\n",
    "The SVM classifier is trainined on the training set, accuracy is then measured with the validation set."
   ]
  },
  {
   "cell_type": "code",
   "execution_count": 15,
   "id": "solved-compound",
   "metadata": {},
   "outputs": [
    {
     "name": "stdout",
     "output_type": "stream",
     "text": [
      "\n",
      "Call:\n",
      "svm(formula = id ~ ., data = training_set, kernel = \"linear\", cost = 10, \n",
      "    scale = FALSE)\n",
      "\n",
      "\n",
      "Parameters:\n",
      "   SVM-Type:  C-classification \n",
      " SVM-Kernel:  linear \n",
      "       cost:  10 \n",
      "\n",
      "Number of Support Vectors:  30679\n",
      "\n"
     ]
    }
   ],
   "source": [
    "svm_model <- svm(id ~ ., data=training_set, kernel=\"linear\", cost=10, scale=FALSE)  # No need to scale as data is already processed\n",
    "print(svm_model)"
   ]
  },
  {
   "cell_type": "markdown",
   "id": "sized-lottery",
   "metadata": {},
   "source": [
    "## Training set accuracy"
   ]
  },
  {
   "cell_type": "code",
   "execution_count": 63,
   "id": "industrial-savage",
   "metadata": {},
   "outputs": [],
   "source": [
    "svm.predict <- predict(svm_model, training_set[1:100,])"
   ]
  },
  {
   "cell_type": "code",
   "execution_count": 66,
   "id": "fuzzy-michigan",
   "metadata": {},
   "outputs": [
    {
     "data": {
      "text/html": [
       "<dl>\n",
       "\t<dt>$diag</dt>\n",
       "\t\t<dd>0.62</dd>\n",
       "\t<dt>$kappa</dt>\n",
       "\t\t<dd>0.287589051368579</dd>\n",
       "\t<dt>$rand</dt>\n",
       "\t\t<dd>0.536363636363636</dd>\n",
       "\t<dt>$crand</dt>\n",
       "\t\t<dd>0.109878113967256</dd>\n",
       "</dl>\n"
      ],
      "text/latex": [
       "\\begin{description}\n",
       "\\item[\\$diag] 0.62\n",
       "\\item[\\$kappa] 0.287589051368579\n",
       "\\item[\\$rand] 0.536363636363636\n",
       "\\item[\\$crand] 0.109878113967256\n",
       "\\end{description}\n"
      ],
      "text/markdown": [
       "$diag\n",
       ":   0.62\n",
       "$kappa\n",
       ":   0.287589051368579\n",
       "$rand\n",
       ":   0.536363636363636\n",
       "$crand\n",
       ":   0.109878113967256\n",
       "\n",
       "\n"
      ],
      "text/plain": [
       "$diag\n",
       "[1] 0.62\n",
       "\n",
       "$kappa\n",
       "[1] 0.2875891\n",
       "\n",
       "$rand\n",
       "[1] 0.5363636\n",
       "\n",
       "$crand\n",
       "[1] 0.1098781\n"
      ]
     },
     "metadata": {},
     "output_type": "display_data"
    }
   ],
   "source": [
    "classAgreement(table(pred=svm.predict, true=training_set$id[1:100]))"
   ]
  },
  {
   "cell_type": "markdown",
   "id": "elder-sacramento",
   "metadata": {},
   "source": [
    "## Validation set accuracy"
   ]
  },
  {
   "cell_type": "code",
   "execution_count": 68,
   "id": "independent-tennessee",
   "metadata": {},
   "outputs": [],
   "source": [
    "svm.predict <- predict(svm_model, validation_set)"
   ]
  },
  {
   "cell_type": "code",
   "execution_count": 69,
   "id": "involved-girlfriend",
   "metadata": {},
   "outputs": [
    {
     "data": {
      "text/html": [
       "<dl>\n",
       "\t<dt>$diag</dt>\n",
       "\t\t<dd>0.632617671345995</dd>\n",
       "\t<dt>$kappa</dt>\n",
       "\t\t<dd>0.282398662703507</dd>\n",
       "\t<dt>$rand</dt>\n",
       "\t\t<dd>0.54928818530334</dd>\n",
       "\t<dt>$crand</dt>\n",
       "\t\t<dd>0.109886425334241</dd>\n",
       "</dl>\n"
      ],
      "text/latex": [
       "\\begin{description}\n",
       "\\item[\\$diag] 0.632617671345995\n",
       "\\item[\\$kappa] 0.282398662703507\n",
       "\\item[\\$rand] 0.54928818530334\n",
       "\\item[\\$crand] 0.109886425334241\n",
       "\\end{description}\n"
      ],
      "text/markdown": [
       "$diag\n",
       ":   0.632617671345995\n",
       "$kappa\n",
       ":   0.282398662703507\n",
       "$rand\n",
       ":   0.54928818530334\n",
       "$crand\n",
       ":   0.109886425334241\n",
       "\n",
       "\n"
      ],
      "text/plain": [
       "$diag\n",
       "[1] 0.6326177\n",
       "\n",
       "$kappa\n",
       "[1] 0.2823987\n",
       "\n",
       "$rand\n",
       "[1] 0.5492882\n",
       "\n",
       "$crand\n",
       "[1] 0.1098864\n"
      ]
     },
     "metadata": {},
     "output_type": "display_data"
    }
   ],
   "source": [
    "classAgreement(table(pred=svm.predict, true=validation_set$id[-1]))"
   ]
  },
  {
   "cell_type": "markdown",
   "id": "blind-inventory",
   "metadata": {},
   "source": [
    "## Testing with polynomial SVM"
   ]
  },
  {
   "cell_type": "code",
   "execution_count": 6,
   "id": "eleven-absence",
   "metadata": {},
   "outputs": [],
   "source": [
    "svm_model_poly <- svm(id ~ ., data=training_set, kernel=\"polynomial\", cost=20, scale=FALSE)"
   ]
  },
  {
   "cell_type": "code",
   "execution_count": 7,
   "id": "paperback-canon",
   "metadata": {},
   "outputs": [
    {
     "data": {
      "text/html": [
       "<dl>\n",
       "\t<dt>$diag</dt>\n",
       "\t\t<dd>0.72</dd>\n",
       "\t<dt>$kappa</dt>\n",
       "\t\t<dd>0.467421406616148</dd>\n",
       "\t<dt>$rand</dt>\n",
       "\t\t<dd>0.620721442885771</dd>\n",
       "\t<dt>$crand</dt>\n",
       "\t\t<dd>0.262314728752624</dd>\n",
       "</dl>\n"
      ],
      "text/latex": [
       "\\begin{description}\n",
       "\\item[\\$diag] 0.72\n",
       "\\item[\\$kappa] 0.467421406616148\n",
       "\\item[\\$rand] 0.620721442885771\n",
       "\\item[\\$crand] 0.262314728752624\n",
       "\\end{description}\n"
      ],
      "text/markdown": [
       "$diag\n",
       ":   0.72\n",
       "$kappa\n",
       ":   0.467421406616148\n",
       "$rand\n",
       ":   0.620721442885771\n",
       "$crand\n",
       ":   0.262314728752624\n",
       "\n",
       "\n"
      ],
      "text/plain": [
       "$diag\n",
       "[1] 0.72\n",
       "\n",
       "$kappa\n",
       "[1] 0.4674214\n",
       "\n",
       "$rand\n",
       "[1] 0.6207214\n",
       "\n",
       "$crand\n",
       "[1] 0.2623147\n"
      ]
     },
     "metadata": {},
     "output_type": "display_data"
    }
   ],
   "source": [
    "svm.predict <- predict(svm_model_poly, training_set[1:500,])\n",
    "classAgreement(table(pred=svm.predict, true=training_set$id[1:500]))"
   ]
  },
  {
   "cell_type": "code",
   "execution_count": 8,
   "id": "placed-relations",
   "metadata": {},
   "outputs": [
    {
     "data": {
      "text/html": [
       "<dl>\n",
       "\t<dt>$diag</dt>\n",
       "\t\t<dd>0.6644921552436</dd>\n",
       "\t<dt>$kappa</dt>\n",
       "\t\t<dd>0.33129026587172</dd>\n",
       "\t<dt>$rand</dt>\n",
       "\t\t<dd>0.561110526535088</dd>\n",
       "\t<dt>$crand</dt>\n",
       "\t\t<dd>0.143412831132453</dd>\n",
       "</dl>\n"
      ],
      "text/latex": [
       "\\begin{description}\n",
       "\\item[\\$diag] 0.6644921552436\n",
       "\\item[\\$kappa] 0.33129026587172\n",
       "\\item[\\$rand] 0.561110526535088\n",
       "\\item[\\$crand] 0.143412831132453\n",
       "\\end{description}\n"
      ],
      "text/markdown": [
       "$diag\n",
       ":   0.6644921552436\n",
       "$kappa\n",
       ":   0.33129026587172\n",
       "$rand\n",
       ":   0.561110526535088\n",
       "$crand\n",
       ":   0.143412831132453\n",
       "\n",
       "\n"
      ],
      "text/plain": [
       "$diag\n",
       "[1] 0.6644922\n",
       "\n",
       "$kappa\n",
       "[1] 0.3312903\n",
       "\n",
       "$rand\n",
       "[1] 0.5611105\n",
       "\n",
       "$crand\n",
       "[1] 0.1434128\n"
      ]
     },
     "metadata": {},
     "output_type": "display_data"
    }
   ],
   "source": [
    "svm.predict <- predict(svm_model_poly, validation_set)\n",
    "classAgreement(table(pred=svm.predict, true=validation_set$id[-1]))"
   ]
  },
  {
   "cell_type": "markdown",
   "id": "caring-colombia",
   "metadata": {},
   "source": [
    "Increasing cost increases the accuracy of both training and validation set, but also increases overfitting.\n",
    "* With cost=20, training_accuracy = 72% & validation_accuracy=0.66%"
   ]
  },
  {
   "cell_type": "markdown",
   "id": "dramatic-secondary",
   "metadata": {},
   "source": [
    "## Testing with radial basis SVM "
   ]
  },
  {
   "cell_type": "code",
   "execution_count": 11,
   "id": "welsh-boundary",
   "metadata": {},
   "outputs": [],
   "source": [
    "svm_model_poly <- svm(id ~ ., data=training_set, kernel=\"radial\", cost=10, scale=FALSE)"
   ]
  },
  {
   "cell_type": "code",
   "execution_count": 12,
   "id": "immune-chess",
   "metadata": {},
   "outputs": [
    {
     "data": {
      "text/html": [
       "<dl>\n",
       "\t<dt>$diag</dt>\n",
       "\t\t<dd>0.74</dd>\n",
       "\t<dt>$kappa</dt>\n",
       "\t\t<dd>0.5128896882494</dd>\n",
       "\t<dt>$rand</dt>\n",
       "\t\t<dd>0.648288577154309</dd>\n",
       "\t<dt>$crand</dt>\n",
       "\t\t<dd>0.307517270989499</dd>\n",
       "</dl>\n"
      ],
      "text/latex": [
       "\\begin{description}\n",
       "\\item[\\$diag] 0.74\n",
       "\\item[\\$kappa] 0.5128896882494\n",
       "\\item[\\$rand] 0.648288577154309\n",
       "\\item[\\$crand] 0.307517270989499\n",
       "\\end{description}\n"
      ],
      "text/markdown": [
       "$diag\n",
       ":   0.74\n",
       "$kappa\n",
       ":   0.5128896882494\n",
       "$rand\n",
       ":   0.648288577154309\n",
       "$crand\n",
       ":   0.307517270989499\n",
       "\n",
       "\n"
      ],
      "text/plain": [
       "$diag\n",
       "[1] 0.74\n",
       "\n",
       "$kappa\n",
       "[1] 0.5128897\n",
       "\n",
       "$rand\n",
       "[1] 0.6482886\n",
       "\n",
       "$crand\n",
       "[1] 0.3075173\n"
      ]
     },
     "metadata": {},
     "output_type": "display_data"
    }
   ],
   "source": [
    "svm.predict <- predict(svm_model_poly, training_set[1:500,])\n",
    "classAgreement(table(pred=svm.predict, true=training_set$id[1:500]))"
   ]
  },
  {
   "cell_type": "code",
   "execution_count": 13,
   "id": "talented-genome",
   "metadata": {},
   "outputs": [
    {
     "data": {
      "text/html": [
       "<dl>\n",
       "\t<dt>$diag</dt>\n",
       "\t\t<dd>0.667464905037159</dd>\n",
       "\t<dt>$kappa</dt>\n",
       "\t\t<dd>0.348404305069096</dd>\n",
       "\t<dt>$rand</dt>\n",
       "\t\t<dd>0.571295388113433</dd>\n",
       "\t<dt>$crand</dt>\n",
       "\t\t<dd>0.155721952021173</dd>\n",
       "</dl>\n"
      ],
      "text/latex": [
       "\\begin{description}\n",
       "\\item[\\$diag] 0.667464905037159\n",
       "\\item[\\$kappa] 0.348404305069096\n",
       "\\item[\\$rand] 0.571295388113433\n",
       "\\item[\\$crand] 0.155721952021173\n",
       "\\end{description}\n"
      ],
      "text/markdown": [
       "$diag\n",
       ":   0.667464905037159\n",
       "$kappa\n",
       ":   0.348404305069096\n",
       "$rand\n",
       ":   0.571295388113433\n",
       "$crand\n",
       ":   0.155721952021173\n",
       "\n",
       "\n"
      ],
      "text/plain": [
       "$diag\n",
       "[1] 0.6674649\n",
       "\n",
       "$kappa\n",
       "[1] 0.3484043\n",
       "\n",
       "$rand\n",
       "[1] 0.5712954\n",
       "\n",
       "$crand\n",
       "[1] 0.155722\n"
      ]
     },
     "metadata": {},
     "output_type": "display_data"
    }
   ],
   "source": [
    "svm.predict <- predict(svm_model_poly, validation_set)\n",
    "classAgreement(table(pred=svm.predict, true=validation_set$id[-1]))"
   ]
  },
  {
   "cell_type": "code",
   "execution_count": null,
   "id": "oriented-patch",
   "metadata": {},
   "outputs": [],
   "source": []
  }
 ],
 "metadata": {
  "kernelspec": {
   "display_name": "R",
   "language": "R",
   "name": "ir"
  },
  "language_info": {
   "codemirror_mode": "r",
   "file_extension": ".r",
   "mimetype": "text/x-r-source",
   "name": "R",
   "pygments_lexer": "r",
   "version": "4.0.3"
  }
 },
 "nbformat": 4,
 "nbformat_minor": 5
}

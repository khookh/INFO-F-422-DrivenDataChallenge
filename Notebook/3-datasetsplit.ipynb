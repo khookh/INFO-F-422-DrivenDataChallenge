{
 "cells": [
  {
   "cell_type": "markdown",
   "metadata": {},
   "source": [
    "# Dataset split\n",
    "\n",
    "The dataset will be split into a training set (around 75-80%) and a validation set (around 25-20%).\n",
    "\n",
    "Creating a validation dataset is a measuring tool against overfitting. Obtaining a good accuracy on the training set but a bad accuracy on the validation set is sign of overfitting.\n",
    "\n",
    "In order to correctly compare different models (Random Forest, SVM, etc...) or slightly different dataset (e.g. we drop some rows), we need our split to be deterministic for each row."
   ]
  },
  {
   "cell_type": "code",
   "execution_count": 1,
   "metadata": {},
   "outputs": [],
   "source": [
    "# https://github.com/ropensci/writexl\n",
    "library(nycflights13)\n",
    "# Read the preprocessed training data\n",
    "dataset <- read.csv(\"../Data/PreProcess/processed_training_data.csv\")"
   ]
  },
  {
   "cell_type": "code",
   "execution_count": 2,
   "metadata": {},
   "outputs": [
    {
     "data": {
      "text/html": [
       "<style>\n",
       ".list-inline {list-style: none; margin:0; padding: 0}\n",
       ".list-inline>li {display: inline-block}\n",
       ".list-inline>li:not(:last-child)::after {content: \"\\00b7\"; padding: 0 .5ex}\n",
       "</style>\n",
       "<ol class=list-inline><li>59400</li><li>89</li></ol>\n"
      ],
      "text/latex": [
       "\\begin{enumerate*}\n",
       "\\item 59400\n",
       "\\item 89\n",
       "\\end{enumerate*}\n"
      ],
      "text/markdown": [
       "1. 59400\n",
       "2. 89\n",
       "\n",
       "\n"
      ],
      "text/plain": [
       "[1] 59400    89"
      ]
     },
     "metadata": {},
     "output_type": "display_data"
    }
   ],
   "source": [
    "dim(dataset)"
   ]
  },
  {
   "cell_type": "code",
   "execution_count": 3,
   "metadata": {},
   "outputs": [
    {
     "data": {
      "text/html": [
       "59400"
      ],
      "text/latex": [
       "59400"
      ],
      "text/markdown": [
       "59400"
      ],
      "text/plain": [
       "[1] 59400"
      ]
     },
     "metadata": {},
     "output_type": "display_data"
    }
   ],
   "source": [
    "# Random seed\n",
    "set.seed(42) # The Answer to the Ultimate Question of Life, the Universe, and Everything is 42\n",
    "\n",
    "ind <- sample(2, nrow(dataset), replace=TRUE, prob=c(0.8, 0.2))\n",
    "training_dataset <- dataset[ind==1,]\n",
    "verification_dataset <- dataset[ind==2,]\n",
    "\n",
    "dim(training_dataset)[1] + dim(verification_dataset)[1]"
   ]
  },
  {
   "cell_type": "code",
   "execution_count": 4,
   "metadata": {},
   "outputs": [],
   "source": [
    "write.csv(training_dataset, \"../Data/PreProcess/processed_training_data_split.csv\")\n",
    "write.csv(verification_dataset, \"../Data/PreProcess/processed_verification_data_split.csv\")"
   ]
  }
 ],
 "metadata": {
  "kernelspec": {
   "display_name": "R",
   "language": "R",
   "name": "ir"
  },
  "language_info": {
   "codemirror_mode": "r",
   "file_extension": ".r",
   "mimetype": "text/x-r-source",
   "name": "R",
   "pygments_lexer": "r",
   "version": "4.0.5"
  }
 },
 "nbformat": 4,
 "nbformat_minor": 5
}

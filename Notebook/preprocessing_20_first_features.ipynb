{
 "cells": [
  {
   "cell_type": "markdown",
   "id": "4be40adf",
   "metadata": {},
   "source": [
    "## Pre-processing of 20 first features (Paul)\n",
    "\n",
    "**amount_tsh**: amount of water available to a waterpoint. No information whether 0 is missing value or because there is no water available. DROP FEATURE for instance.\n",
    "\n",
    "**date_recorded**: the date the row was recorded in the file. Irrelevant? DROP FEATURE for instance.\n",
    "\n",
    "**funder**: (4412 NA (3635 \"blanks\" + 777 \"0s\")) who funded wells. As Stefano said, 3 categories of funder. Maybe more? 1897 funders. 974 funded 1, 184 funded 2, 114 funded 3, 54 funded 4, 49 funded 5...\n",
    "\n",
    "**gps_height**: \"0\" values are probably NA (21960). Too much NA to take into account this feature? DROP OR NOT?\n",
    "\n",
    "**installer**: (4432 NA (3655 \"blanks\" + 777 \"0s\")) who installed wells. Same as funder?\n",
    "2146 installers. 1093 funded 1, 210 funded 2, 135 funded 3...\n",
    "\n",
    "**longitude-latitude**: (No NA) combine both features to map wells? Converting geolocation data into zones. Clustering \n",
    "algorithm like k-Nearest Neighbor algorithm to group your geo-location data (using a small number of potential \n",
    "clusters) and assign each cluster or a group a unique id. One-hot encoding?\n",
    "\n",
    "**wpt_name**: DROP FEATURE.\n",
    "\n",
    "**num_private**: 95% of NA. Could not find signification so DROP FEATURE.\n",
    "\n",
    "**basin**: (No NA) 9 lakes. One-hot encoding.\n",
    "\n",
    "**subvillage**: (3635 NA) 19287 different villages. Same as funder and installer. Solution? Divide into 3 categories?\n",
    "Impossible to assign a random category? DROP FEATURE?\n",
    "\n",
    "**region**: (No NA) 21 regions. One-hot encoding?\n",
    "\n",
    "**region_code**: (No NA). 28 region codes.\n",
    "CHOOSE BETWEEN REGION CODE, REGION or LONGITUDE LATITUDE.\n",
    "\n",
    "**lga**: (3635 NA) other geographical indication. 125 different lga. Divide into several categories as well?\n",
    "\n",
    "**ward**: (3635 NA) other geographical indication. 2091 different wards. Divide into several categories as well?\n",
    "CHOOSE BETWEEN LGA, SUBVILLAGE OR WARD. HOW TO REPLACE NA in these features?\n",
    "\n",
    "**population**: 22900 value of \"0\" (consider \"0\" as NA or no population?). Take mean of villages around or region (easier)?\n",
    "\n",
    "**public_meeting**: DROP FEATURE.\n",
    "\n",
    "**recorded_by**: DROP FEATURE."
   ]
  },
  {
   "cell_type": "markdown",
   "id": "d1d53720",
   "metadata": {},
   "source": [
    "**Features to DROP** (6): amount_tsh, date_recorded, wpt_name, num_private, public_meeting, recorded_by.\n",
    "\n",
    "Take **one** among these groups of features (depending of the level of abstraction that we want):\n",
    "\n",
    "- LONGITUDE/LATITUDE or REGION CODE or REGION\n",
    "- LGA or SUBVILLAGE or WARD"
   ]
  },
  {
   "cell_type": "markdown",
   "id": "240dc4cb",
   "metadata": {},
   "source": [
    "**TO DO with the 9 features left:**\n",
    "\n",
    "**Impute NA**\n",
    "\n",
    "MICE R package. \n",
    "\n",
    "https://www.r-bloggers.com/2016/06/handling-missing-data-with-mice-package-a-simple-approach/#:~:text=To%20impute%20the%20missing%20values,not%20have%20any%20predictive%20value.\n",
    "\n",
    "**Feature scaling**"
   ]
  },
  {
   "cell_type": "markdown",
   "id": "5abedb3d",
   "metadata": {},
   "source": [
    "## Code uses to analyze data for pre-processing"
   ]
  },
  {
   "cell_type": "code",
   "execution_count": 1,
   "id": "562e0af1",
   "metadata": {},
   "outputs": [
    {
     "ename": "ERROR",
     "evalue": "Error in eval(expr, envir, enclos): objet 'training_set' introuvable\n",
     "output_type": "error",
     "traceback": [
      "Error in eval(expr, envir, enclos): objet 'training_set' introuvable\nTraceback:\n"
     ]
    }
   ],
   "source": [
    "# Check if missing values\n",
    "sum(is.na(training_set$population))"
   ]
  },
  {
   "cell_type": "code",
   "execution_count": null,
   "id": "58f13981",
   "metadata": {},
   "outputs": [],
   "source": [
    "# Count number of levels of a vector\n",
    "nlevels(training_set$lga)"
   ]
  },
  {
   "cell_type": "code",
   "execution_count": null,
   "id": "54402973",
   "metadata": {},
   "outputs": [],
   "source": [
    "# Count occurrences of a specific level\n",
    "a <- table(training_set$population)\n",
    "a[names(a)==0]"
   ]
  },
  {
   "cell_type": "code",
   "execution_count": null,
   "id": "ad90d428",
   "metadata": {},
   "outputs": [],
   "source": [
    "# Count occurrences for each level in decreasing order\n",
    "occurrenc_by_lvl  <- training_set %>% count(population)\n",
    "occurrenc_by_lvl[order(occurenc_by_lvl$n, decreasing = TRUE),] "
   ]
  },
  {
   "cell_type": "code",
   "execution_count": null,
   "id": "8435de81",
   "metadata": {},
   "outputs": [],
   "source": [
    "# Count number of levels with same value for n in table occurrenc_by_lvl\n",
    "b <- table(occrurenc_by_lvl$n)\n",
    "b[names(b)==0]"
   ]
  }
 ],
 "metadata": {
  "kernelspec": {
   "display_name": "R",
   "language": "R",
   "name": "ir"
  },
  "language_info": {
   "codemirror_mode": "r",
   "file_extension": ".r",
   "mimetype": "text/x-r-source",
   "name": "R",
   "pygments_lexer": "r",
   "version": "4.0.3"
  }
 },
 "nbformat": 4,
 "nbformat_minor": 5
}
